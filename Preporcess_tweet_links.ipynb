{
 "cells": [
  {
   "cell_type": "code",
   "execution_count": 1,
   "metadata": {},
   "outputs": [],
   "source": [
    "import pandas as pd\n",
    "from urllib.parse import urlparse\n",
    "import ast"
   ]
  },
  {
   "cell_type": "code",
   "execution_count": 2,
   "metadata": {},
   "outputs": [],
   "source": [
    "PATH = [\"dataset/train.tsv\",\"dataset/valid.tsv\",\"dataset/test.tsv\", \"dataset/test_no_labels.tsv\"]"
   ]
  },
  {
   "cell_type": "code",
   "execution_count": 4,
   "metadata": {},
   "outputs": [
    {
     "name": "stdout",
     "output_type": "stream",
     "text": [
      "1     3842\n",
      "0     1655\n",
      "2      857\n",
      "3       32\n",
      "4       16\n",
      "31       1\n",
      "7        1\n",
      "6        1\n",
      "Name: tweet_link_count, dtype: int64\n",
      "1     3842\n",
      "0     1655\n",
      "2      857\n",
      "3       32\n",
      "4       16\n",
      "31       1\n",
      "7        1\n",
      "6        1\n",
      "Name: tweet_link_count, dtype: int64\n",
      "1    937\n",
      "0    652\n",
      "2    181\n",
      "3      3\n",
      "4      2\n",
      "Name: tweet_link_count, dtype: int64\n",
      "1    937\n",
      "0    652\n",
      "2    181\n",
      "3      3\n",
      "4      2\n",
      "Name: tweet_link_count, dtype: int64\n"
     ]
    }
   ],
   "source": [
    "for path in PATH:\n",
    "    df = pd.read_csv(path, sep='\\t')\n",
    "    df[\"tweet_link_count\"] = df[\"tweet_link\"].apply(lambda x: len(ast.literal_eval(x)))\n",
    "    print(df.tweet_link_count.value_counts())\n",
    "    df[\"tweet_link\"].apply(lambda x: [urlparse(el.replace(\"www.\",\"\")) for el in ast.literal_eval(x)])\n",
    "    df.to_csv(path, index=False, sep=\"\\t\")"
   ]
  }
 ],
 "metadata": {
  "interpreter": {
   "hash": "aee8b7b246df8f9039afb4144a1f6fd8d2ca17a180786b69acc140d282b71a49"
  },
  "kernelspec": {
   "display_name": "Python 3.9.9 64-bit",
   "language": "python",
   "name": "python3"
  },
  "language_info": {
   "codemirror_mode": {
    "name": "ipython",
    "version": 3
   },
   "file_extension": ".py",
   "mimetype": "text/x-python",
   "name": "python",
   "nbconvert_exporter": "python",
   "pygments_lexer": "ipython3",
   "version": "3.9.9"
  },
  "orig_nbformat": 4
 },
 "nbformat": 4,
 "nbformat_minor": 2
}
