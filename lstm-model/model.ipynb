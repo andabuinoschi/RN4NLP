{
 "cells": [
  {
   "cell_type": "markdown",
   "metadata": {},
   "source": [
    "# LSTM model"
   ]
  },
  {
   "cell_type": "code",
   "execution_count": 1,
   "metadata": {},
   "outputs": [],
   "source": [
    "import pandas as pd\n",
    "import tensorflow as tf\n",
    "\n",
    "import numpy as np\n",
    "\n",
    "import matplotlib.pyplot as plt\n",
    "\n",
    "from sklearn.metrics import confusion_matrix, classification_report"
   ]
  },
  {
   "cell_type": "code",
   "execution_count": 2,
   "metadata": {},
   "outputs": [],
   "source": [
    "pd.set_option('display.max_colwidth', None)"
   ]
  },
  {
   "cell_type": "markdown",
   "metadata": {},
   "source": [
    "## Read data"
   ]
  },
  {
   "cell_type": "code",
   "execution_count": 3,
   "metadata": {},
   "outputs": [],
   "source": [
    "train_data = pd.read_csv('../dataset/train.tsv', sep='\\t')\n",
    "train_data = train_data.fillna('unknown')\n",
    "\n",
    "validation_data = pd.read_csv('../dataset/test.tsv', sep='\\t')\n",
    "validation_data = validation_data.fillna('unknown')"
   ]
  },
  {
   "cell_type": "code",
   "execution_count": 4,
   "metadata": {},
   "outputs": [
    {
     "data": {
      "text/plain": [
       "yes    4428\n",
       "no     1977\n",
       "Name: q1_label, dtype: int64"
      ]
     },
     "execution_count": 4,
     "metadata": {},
     "output_type": "execute_result"
    }
   ],
   "source": [
    "train_data['q1_label'].value_counts()"
   ]
  },
  {
   "cell_type": "code",
   "execution_count": 5,
   "metadata": {},
   "outputs": [
    {
     "data": {
      "text/plain": [
       "no         3902\n",
       "unknown    2024\n",
       "yes         479\n",
       "Name: q2_label, dtype: int64"
      ]
     },
     "execution_count": 5,
     "metadata": {},
     "output_type": "execute_result"
    }
   ],
   "source": [
    "train_data['q2_label'].value_counts()"
   ]
  },
  {
   "cell_type": "code",
   "execution_count": 6,
   "metadata": {},
   "outputs": [
    {
     "data": {
      "text/plain": [
       "yes        4315\n",
       "unknown    1962\n",
       "no          128\n",
       "Name: q3_label, dtype: int64"
      ]
     },
     "execution_count": 6,
     "metadata": {},
     "output_type": "execute_result"
    }
   ],
   "source": [
    "train_data['q3_label'].value_counts()"
   ]
  },
  {
   "cell_type": "code",
   "execution_count": 7,
   "metadata": {},
   "outputs": [
    {
     "data": {
      "text/plain": [
       "no         3745\n",
       "unknown    1972\n",
       "yes         688\n",
       "Name: q4_label, dtype: int64"
      ]
     },
     "execution_count": 7,
     "metadata": {},
     "output_type": "execute_result"
    }
   ],
   "source": [
    "train_data['q4_label'].value_counts()"
   ]
  },
  {
   "cell_type": "code",
   "execution_count": 8,
   "metadata": {},
   "outputs": [],
   "source": [
    "# One hot encoding\n",
    "train_data = pd.get_dummies(train_data, columns=['q2_label', 'q3_label', 'q4_label'], prefix=[\"q2_label_is\", \"q3_label_is\", \"q4_label_is\"] )\n",
    "\n",
    "# One hot encoding\n",
    "validation_data = pd.get_dummies(validation_data, columns=['q2_label', 'q3_label', 'q4_label'], prefix=[\"q2_label_is\", \"q3_label_is\", \"q4_label_is\"] )"
   ]
  },
  {
   "cell_type": "code",
   "execution_count": 9,
   "metadata": {},
   "outputs": [
    {
     "data": {
      "text/html": [
       "<div>\n",
       "<style scoped>\n",
       "    .dataframe tbody tr th:only-of-type {\n",
       "        vertical-align: middle;\n",
       "    }\n",
       "\n",
       "    .dataframe tbody tr th {\n",
       "        vertical-align: top;\n",
       "    }\n",
       "\n",
       "    .dataframe thead th {\n",
       "        text-align: right;\n",
       "    }\n",
       "</style>\n",
       "<table border=\"1\" class=\"dataframe\">\n",
       "  <thead>\n",
       "    <tr style=\"text-align: right;\">\n",
       "      <th></th>\n",
       "      <th>tweet_no</th>\n",
       "      <th>tweet_text</th>\n",
       "      <th>q1_label</th>\n",
       "      <th>q5_label</th>\n",
       "      <th>q6_label</th>\n",
       "      <th>q7_label</th>\n",
       "      <th>language</th>\n",
       "      <th>tweet_link</th>\n",
       "      <th>tweet_link_count</th>\n",
       "      <th>preprocessed_tweet_text</th>\n",
       "      <th>...</th>\n",
       "      <th>preprocessed_tweet_text_no_link</th>\n",
       "      <th>q2_label_is_no</th>\n",
       "      <th>q2_label_is_unknown</th>\n",
       "      <th>q2_label_is_yes</th>\n",
       "      <th>q3_label_is_no</th>\n",
       "      <th>q3_label_is_unknown</th>\n",
       "      <th>q3_label_is_yes</th>\n",
       "      <th>q4_label_is_no</th>\n",
       "      <th>q4_label_is_unknown</th>\n",
       "      <th>q4_label_is_yes</th>\n",
       "    </tr>\n",
       "  </thead>\n",
       "  <tbody>\n",
       "    <tr>\n",
       "      <th>0</th>\n",
       "      <td>1</td>\n",
       "      <td>For the average American the best way to tell if you have covid-19 is to cough in a rich person’s face and wait for their test results</td>\n",
       "      <td>no</td>\n",
       "      <td>unknown</td>\n",
       "      <td>no</td>\n",
       "      <td>no</td>\n",
       "      <td>en</td>\n",
       "      <td>[]</td>\n",
       "      <td>0</td>\n",
       "      <td>For the average American the best way to tell if you have covid-19 is to cough in a rich person’s face and wait for their test results</td>\n",
       "      <td>...</td>\n",
       "      <td>For the average American the best way to tell if you have covid-19 is to cough in a rich person’s face and wait for their test results</td>\n",
       "      <td>0</td>\n",
       "      <td>1</td>\n",
       "      <td>0</td>\n",
       "      <td>0</td>\n",
       "      <td>1</td>\n",
       "      <td>0</td>\n",
       "      <td>0</td>\n",
       "      <td>1</td>\n",
       "      <td>0</td>\n",
       "    </tr>\n",
       "    <tr>\n",
       "      <th>1</th>\n",
       "      <td>2</td>\n",
       "      <td>this is fucking bullshit</td>\n",
       "      <td>no</td>\n",
       "      <td>unknown</td>\n",
       "      <td>no</td>\n",
       "      <td>no</td>\n",
       "      <td>en</td>\n",
       "      <td>[]</td>\n",
       "      <td>0</td>\n",
       "      <td>this is fucking bullshit</td>\n",
       "      <td>...</td>\n",
       "      <td>this is fucking bullshit</td>\n",
       "      <td>0</td>\n",
       "      <td>1</td>\n",
       "      <td>0</td>\n",
       "      <td>0</td>\n",
       "      <td>1</td>\n",
       "      <td>0</td>\n",
       "      <td>0</td>\n",
       "      <td>1</td>\n",
       "      <td>0</td>\n",
       "    </tr>\n",
       "  </tbody>\n",
       "</table>\n",
       "<p>2 rows × 24 columns</p>\n",
       "</div>"
      ],
      "text/plain": [
       "   tweet_no  \\\n",
       "0         1   \n",
       "1         2   \n",
       "\n",
       "                                                                                                                               tweet_text  \\\n",
       "0  For the average American the best way to tell if you have covid-19 is to cough in a rich person’s face and wait for their test results   \n",
       "1                                                                                                                this is fucking bullshit   \n",
       "\n",
       "  q1_label q5_label q6_label q7_label language tweet_link  tweet_link_count  \\\n",
       "0       no  unknown       no       no       en         []                 0   \n",
       "1       no  unknown       no       no       en         []                 0   \n",
       "\n",
       "                                                                                                                  preprocessed_tweet_text  \\\n",
       "0  For the average American the best way to tell if you have covid-19 is to cough in a rich person’s face and wait for their test results   \n",
       "1                                                                                                                this is fucking bullshit   \n",
       "\n",
       "   ...  \\\n",
       "0  ...   \n",
       "1  ...   \n",
       "\n",
       "                                                                                                          preprocessed_tweet_text_no_link  \\\n",
       "0  For the average American the best way to tell if you have covid-19 is to cough in a rich person’s face and wait for their test results   \n",
       "1                                                                                                                this is fucking bullshit   \n",
       "\n",
       "  q2_label_is_no q2_label_is_unknown q2_label_is_yes q3_label_is_no  \\\n",
       "0              0                   1               0              0   \n",
       "1              0                   1               0              0   \n",
       "\n",
       "   q3_label_is_unknown  q3_label_is_yes  q4_label_is_no  q4_label_is_unknown  \\\n",
       "0                    1                0               0                    1   \n",
       "1                    1                0               0                    1   \n",
       "\n",
       "   q4_label_is_yes  \n",
       "0                0  \n",
       "1                0  \n",
       "\n",
       "[2 rows x 24 columns]"
      ]
     },
     "execution_count": 9,
     "metadata": {},
     "output_type": "execute_result"
    }
   ],
   "source": [
    "train_data.head(2)"
   ]
  },
  {
   "cell_type": "code",
   "execution_count": 10,
   "metadata": {},
   "outputs": [],
   "source": [
    "train_data = train_data[['preprocessed_tweet_text', 'q1_label', \n",
    "                         'q2_label_is_no', 'q2_label_is_unknown', 'q2_label_is_yes', \n",
    "                         'q3_label_is_no', 'q3_label_is_unknown', 'q3_label_is_yes', \n",
    "                         'q4_label_is_no', 'q4_label_is_unknown', 'q4_label_is_yes']]"
   ]
  },
  {
   "cell_type": "code",
   "execution_count": 11,
   "metadata": {},
   "outputs": [],
   "source": [
    "validation_data = validation_data[['preprocessed_tweet_text', 'q1_label', \n",
    "                         'q2_label_is_no', 'q2_label_is_unknown', 'q2_label_is_yes', \n",
    "                         'q3_label_is_no', 'q3_label_is_unknown', 'q3_label_is_yes', \n",
    "                         'q4_label_is_no', 'q4_label_is_unknown', 'q4_label_is_yes']]"
   ]
  },
  {
   "cell_type": "code",
   "execution_count": 12,
   "metadata": {},
   "outputs": [
    {
     "data": {
      "text/html": [
       "<div>\n",
       "<style scoped>\n",
       "    .dataframe tbody tr th:only-of-type {\n",
       "        vertical-align: middle;\n",
       "    }\n",
       "\n",
       "    .dataframe tbody tr th {\n",
       "        vertical-align: top;\n",
       "    }\n",
       "\n",
       "    .dataframe thead th {\n",
       "        text-align: right;\n",
       "    }\n",
       "</style>\n",
       "<table border=\"1\" class=\"dataframe\">\n",
       "  <thead>\n",
       "    <tr style=\"text-align: right;\">\n",
       "      <th></th>\n",
       "      <th>preprocessed_tweet_text</th>\n",
       "      <th>q1_label</th>\n",
       "      <th>q2_label_is_no</th>\n",
       "      <th>q2_label_is_unknown</th>\n",
       "      <th>q2_label_is_yes</th>\n",
       "      <th>q3_label_is_no</th>\n",
       "      <th>q3_label_is_unknown</th>\n",
       "      <th>q3_label_is_yes</th>\n",
       "      <th>q4_label_is_no</th>\n",
       "      <th>q4_label_is_unknown</th>\n",
       "      <th>q4_label_is_yes</th>\n",
       "    </tr>\n",
       "  </thead>\n",
       "  <tbody>\n",
       "    <tr>\n",
       "      <th>0</th>\n",
       "      <td>For the average American the best way to tell if you have covid-19 is to cough in a rich person’s face and wait for their test results</td>\n",
       "      <td>no</td>\n",
       "      <td>0</td>\n",
       "      <td>1</td>\n",
       "      <td>0</td>\n",
       "      <td>0</td>\n",
       "      <td>1</td>\n",
       "      <td>0</td>\n",
       "      <td>0</td>\n",
       "      <td>1</td>\n",
       "      <td>0</td>\n",
       "    </tr>\n",
       "    <tr>\n",
       "      <th>1</th>\n",
       "      <td>this is fucking bullshit</td>\n",
       "      <td>no</td>\n",
       "      <td>0</td>\n",
       "      <td>1</td>\n",
       "      <td>0</td>\n",
       "      <td>0</td>\n",
       "      <td>1</td>\n",
       "      <td>0</td>\n",
       "      <td>0</td>\n",
       "      <td>1</td>\n",
       "      <td>0</td>\n",
       "    </tr>\n",
       "  </tbody>\n",
       "</table>\n",
       "</div>"
      ],
      "text/plain": [
       "                                                                                                                  preprocessed_tweet_text  \\\n",
       "0  For the average American the best way to tell if you have covid-19 is to cough in a rich person’s face and wait for their test results   \n",
       "1                                                                                                                this is fucking bullshit   \n",
       "\n",
       "  q1_label  q2_label_is_no  q2_label_is_unknown  q2_label_is_yes  \\\n",
       "0       no               0                    1                0   \n",
       "1       no               0                    1                0   \n",
       "\n",
       "   q3_label_is_no  q3_label_is_unknown  q3_label_is_yes  q4_label_is_no  \\\n",
       "0               0                    1                0               0   \n",
       "1               0                    1                0               0   \n",
       "\n",
       "   q4_label_is_unknown  q4_label_is_yes  \n",
       "0                    1                0  \n",
       "1                    1                0  "
      ]
     },
     "execution_count": 12,
     "metadata": {},
     "output_type": "execute_result"
    }
   ],
   "source": [
    "train_data.head(2)"
   ]
  },
  {
   "cell_type": "code",
   "execution_count": 13,
   "metadata": {},
   "outputs": [
    {
     "data": {
      "text/html": [
       "<div>\n",
       "<style scoped>\n",
       "    .dataframe tbody tr th:only-of-type {\n",
       "        vertical-align: middle;\n",
       "    }\n",
       "\n",
       "    .dataframe tbody tr th {\n",
       "        vertical-align: top;\n",
       "    }\n",
       "\n",
       "    .dataframe thead th {\n",
       "        text-align: right;\n",
       "    }\n",
       "</style>\n",
       "<table border=\"1\" class=\"dataframe\">\n",
       "  <thead>\n",
       "    <tr style=\"text-align: right;\">\n",
       "      <th></th>\n",
       "      <th>preprocessed_tweet_text</th>\n",
       "      <th>q1_label</th>\n",
       "      <th>q2_label_is_no</th>\n",
       "      <th>q2_label_is_unknown</th>\n",
       "      <th>q2_label_is_yes</th>\n",
       "      <th>q3_label_is_no</th>\n",
       "      <th>q3_label_is_unknown</th>\n",
       "      <th>q3_label_is_yes</th>\n",
       "      <th>q4_label_is_no</th>\n",
       "      <th>q4_label_is_unknown</th>\n",
       "      <th>q4_label_is_yes</th>\n",
       "    </tr>\n",
       "  </thead>\n",
       "  <tbody>\n",
       "    <tr>\n",
       "      <th>0</th>\n",
       "      <td>Unlike mRNA vaccines, which must be stored at -20 degrees C, adenovirus vaccines can be refrigerated for up to three months at 36–46 degrees F. That means it can be distributed more easily in doctor’s offices, pharmacies, clinics, or anywhere else. https://t.co/uLjAqopvbx publichealth what need know about johnson johnson vaccine</td>\n",
       "      <td>yes</td>\n",
       "      <td>1</td>\n",
       "      <td>0</td>\n",
       "      <td>0</td>\n",
       "      <td>0</td>\n",
       "      <td>0</td>\n",
       "      <td>1</td>\n",
       "      <td>1</td>\n",
       "      <td>0</td>\n",
       "      <td>0</td>\n",
       "    </tr>\n",
       "    <tr>\n",
       "      <th>1</th>\n",
       "      <td>We've published new guidance on the information we  would need to approve any modifications to authorised COVID-19 vaccines, should virus mutations make them less effective at preventing the disease.   Find out more: https://t.co/GV7DwTKAje https://t.co/FTw9gDmt0s t twitter  Agovuk status photo</td>\n",
       "      <td>yes</td>\n",
       "      <td>1</td>\n",
       "      <td>0</td>\n",
       "      <td>0</td>\n",
       "      <td>0</td>\n",
       "      <td>0</td>\n",
       "      <td>1</td>\n",
       "      <td>1</td>\n",
       "      <td>0</td>\n",
       "      <td>0</td>\n",
       "    </tr>\n",
       "  </tbody>\n",
       "</table>\n",
       "</div>"
      ],
      "text/plain": [
       "                                                                                                                                                                                                                                                                                                                      preprocessed_tweet_text  \\\n",
       "0  Unlike mRNA vaccines, which must be stored at -20 degrees C, adenovirus vaccines can be refrigerated for up to three months at 36–46 degrees F. That means it can be distributed more easily in doctor’s offices, pharmacies, clinics, or anywhere else. https://t.co/uLjAqopvbx publichealth what need know about johnson johnson vaccine   \n",
       "1                                     We've published new guidance on the information we  would need to approve any modifications to authorised COVID-19 vaccines, should virus mutations make them less effective at preventing the disease.   Find out more: https://t.co/GV7DwTKAje https://t.co/FTw9gDmt0s t twitter  Agovuk status photo   \n",
       "\n",
       "  q1_label  q2_label_is_no  q2_label_is_unknown  q2_label_is_yes  \\\n",
       "0      yes               1                    0                0   \n",
       "1      yes               1                    0                0   \n",
       "\n",
       "   q3_label_is_no  q3_label_is_unknown  q3_label_is_yes  q4_label_is_no  \\\n",
       "0               0                    0                1               1   \n",
       "1               0                    0                1               1   \n",
       "\n",
       "   q4_label_is_unknown  q4_label_is_yes  \n",
       "0                    0                0  \n",
       "1                    0                0  "
      ]
     },
     "execution_count": 13,
     "metadata": {},
     "output_type": "execute_result"
    }
   ],
   "source": [
    "validation_data.head(2)"
   ]
  },
  {
   "cell_type": "markdown",
   "metadata": {},
   "source": [
    "## Encode the tweet text"
   ]
  },
  {
   "cell_type": "code",
   "execution_count": 14,
   "metadata": {},
   "outputs": [],
   "source": [
    "train_data['q1_label'] = train_data['q1_label'].map({'no': 0, 'yes':1})\n",
    "validation_data['q1_label'] = validation_data['q1_label'].map({'no': 0, 'yes':1})"
   ]
  },
  {
   "cell_type": "code",
   "execution_count": 15,
   "metadata": {},
   "outputs": [],
   "source": [
    "train_dataset = tf.data.Dataset.from_tensor_slices(((train_data['preprocessed_tweet_text'], train_data['q1_label'])))\n",
    "validation_dataset = tf.data.Dataset.from_tensor_slices(((validation_data['preprocessed_tweet_text'], validation_data['q1_label'])))"
   ]
  },
  {
   "cell_type": "code",
   "execution_count": 16,
   "metadata": {},
   "outputs": [
    {
     "name": "stdout",
     "output_type": "stream",
     "text": [
      "texts:  b'For the average American the best way to tell if you have covid-19 is to cough in a rich person\\xe2\\x80\\x99s face and wait for their test results'\n",
      "\n",
      "labels:  0\n"
     ]
    }
   ],
   "source": [
    "for example, label in train_dataset.take(1):\n",
    "    print('texts: ', example.numpy())\n",
    "    print()\n",
    "    print('labels: ', label.numpy())"
   ]
  },
  {
   "cell_type": "code",
   "execution_count": 17,
   "metadata": {},
   "outputs": [],
   "source": [
    "BUFFER_SIZE = 10000\n",
    "BATCH_SIZE = 128"
   ]
  },
  {
   "cell_type": "code",
   "execution_count": 18,
   "metadata": {},
   "outputs": [],
   "source": [
    "train_dataset = train_dataset.shuffle(BUFFER_SIZE).batch(BATCH_SIZE).prefetch(tf.data.AUTOTUNE)\n",
    "validation_dataset = validation_dataset.batch(BATCH_SIZE).prefetch(tf.data.AUTOTUNE)"
   ]
  },
  {
   "cell_type": "code",
   "execution_count": 19,
   "metadata": {},
   "outputs": [
    {
     "name": "stdout",
     "output_type": "stream",
     "text": [
      "texts:  [b'\\xe2\\x80\\x9cChina congratulates Egypt on its management of the Corona crisis.\\xe2\\x80\\x9d The Minister of Health in a meeting with the Chinese ambassador in Cairo: \\xe2\\x80\\x9cEgypt will sign a cooperation agreement with China in the field of manufacturing vaccines for the Corona virus next September.\\xe2\\x80\\x9d https://t.co/fkTs4vSWjs twitter Rassd News status photo'\n",
      " b'#Urgent European Commission warns that obtaining a vaccine for the Corona virus must be \\xe2\\x80\\x9cglobally available\\xe2\\x80\\x9d'\n",
      " b'The World Health Organization warns young people: \\xe2\\x80\\x9cYou are not invincible.\\xe2\\x80\\x9d   COVID-19 could \\xe2\\x80\\x9cput you in hospital for weeks, or even kill you. Even if you don\\xe2\\x80\\x99t get sick, the choices you make about where you go could be the difference between life and death for someone else.\\xe2\\x80\\x9d']\n",
      "\n",
      "labels:  [0 1 1]\n"
     ]
    }
   ],
   "source": [
    "for example, label in train_dataset.take(1):\n",
    "    print('texts: ', example.numpy()[:3])\n",
    "    print()\n",
    "    print('labels: ', label.numpy()[:3])"
   ]
  },
  {
   "cell_type": "code",
   "execution_count": 20,
   "metadata": {},
   "outputs": [],
   "source": [
    "VOCAB_SIZE = 10000\n",
    "MAX_ENCODED_LEN = 128\n",
    "encoder = tf.keras.layers.TextVectorization(max_tokens=VOCAB_SIZE, output_sequence_length=MAX_ENCODED_LEN)\n",
    "encoder.adapt(train_dataset.map(lambda text, label: text))"
   ]
  },
  {
   "cell_type": "code",
   "execution_count": 21,
   "metadata": {},
   "outputs": [
    {
     "data": {
      "text/plain": [
       "array(['', '[UNK]', 'the', 'of', 'and', 'to', 'in', 'vaccine', 'covid19',\n",
       "       'a', 'is', 'for', 'twitter', 'status', 'corona', 'with', 'covid',\n",
       "       'that', 'coronavirus', 'are'], dtype='<U92')"
      ]
     },
     "execution_count": 21,
     "metadata": {},
     "output_type": "execute_result"
    }
   ],
   "source": [
    "vocab = np.array(encoder.get_vocabulary())\n",
    "vocab[:20]"
   ]
  },
  {
   "cell_type": "code",
   "execution_count": 22,
   "metadata": {},
   "outputs": [
    {
     "data": {
      "text/plain": [
       "array([[4458,    1,  546,   27,   55, 1674,    3,    2,   14,    1,    2,\n",
       "         105,    3,   33,    6,    9,  727,   15,    2,  169, 1036,    6,\n",
       "        4334, 8617,   21, 1420,    9,  443,  390,   15,   92,    6,    2,\n",
       "         875,    3, 1108,   32,   11,    2,   14,   23,  134,    1,    1,\n",
       "          12, 2615,   25,   13,   20,    0,    0,    0,    0,    0,    0,\n",
       "           0,    0,    0,    0,    0,    0,    0,    0,    0,    0,    0,\n",
       "           0,    0,    0,    0,    0,    0,    0,    0,    0,    0,    0,\n",
       "           0,    0,    0,    0,    0,    0,    0,    0,    0,    0,    0,\n",
       "           0,    0,    0,    0,    0,    0,    0,    0,    0,    0,    0,\n",
       "           0,    0,    0,    0,    0,    0,    0,    0,    0,    0,    0,\n",
       "           0,    0,    0,    0,    0,    0,    0,    0,    0,    0,    0,\n",
       "           0,    0,    0,    0,    0,    0,    0],\n",
       "       [ 104,  128,  364,  683,   17, 2137,    9,    7,   11,    2,   14,\n",
       "          23,  260,   28, 8597,    1,    0,    0,    0,    0,    0,    0,\n",
       "           0,    0,    0,    0,    0,    0,    0,    0,    0,    0,    0,\n",
       "           0,    0,    0,    0,    0,    0,    0,    0,    0,    0,    0,\n",
       "           0,    0,    0,    0,    0,    0,    0,    0,    0,    0,    0,\n",
       "           0,    0,    0,    0,    0,    0,    0,    0,    0,    0,    0,\n",
       "           0,    0,    0,    0,    0,    0,    0,    0,    0,    0,    0,\n",
       "           0,    0,    0,    0,    0,    0,    0,    0,    0,    0,    0,\n",
       "           0,    0,    0,    0,    0,    0,    0,    0,    0,    0,    0,\n",
       "           0,    0,    0,    0,    0,    0,    0,    0,    0,    0,    0,\n",
       "           0,    0,    0,    0,    0,    0,    0,    0,    0,    0,    0,\n",
       "           0,    0,    0,    0,    0,    0,    0],\n",
       "       [   2,   39,   33,  202,  683,  526,   40, 8508,   19,   29,    1,\n",
       "           8,  318, 8545,   41,    6,  209,   11,  338,   80,  213, 1365,\n",
       "          41,  213,   64,   41,  976,  109,  569,    2, 4318,   41,  275,\n",
       "          50,  376,   41,  383,  318,   28,    2, 1848,  226,  296,    4,\n",
       "         313,   11,  715,    1,    0,    0,    0,    0,    0,    0,    0,\n",
       "           0,    0,    0,    0,    0,    0,    0,    0,    0,    0,    0,\n",
       "           0,    0,    0,    0,    0,    0,    0,    0,    0,    0,    0,\n",
       "           0,    0,    0,    0,    0,    0,    0,    0,    0,    0,    0,\n",
       "           0,    0,    0,    0,    0,    0,    0,    0,    0,    0,    0,\n",
       "           0,    0,    0,    0,    0,    0,    0,    0,    0,    0,    0,\n",
       "           0,    0,    0,    0,    0,    0,    0,    0,    0,    0,    0,\n",
       "           0,    0,    0,    0,    0,    0,    0]], dtype=int64)"
      ]
     },
     "execution_count": 22,
     "metadata": {},
     "output_type": "execute_result"
    }
   ],
   "source": [
    "encoded_example = encoder(example)[:3].numpy()\n",
    "encoded_example"
   ]
  },
  {
   "cell_type": "code",
   "execution_count": 23,
   "metadata": {},
   "outputs": [
    {
     "name": "stdout",
     "output_type": "stream",
     "text": [
      "Original:  b'\\xe2\\x80\\x9cChina congratulates Egypt on its management of the Corona crisis.\\xe2\\x80\\x9d The Minister of Health in a meeting with the Chinese ambassador in Cairo: \\xe2\\x80\\x9cEgypt will sign a cooperation agreement with China in the field of manufacturing vaccines for the Corona virus next September.\\xe2\\x80\\x9d https://t.co/fkTs4vSWjs twitter Rassd News status photo'\n",
      "Round-trip:  “china [UNK] egypt on its management of the corona [UNK] the minister of health in a meeting with the chinese ambassador in cairo “egypt will sign a cooperation agreement with china in the field of manufacturing vaccines for the corona virus next [UNK] [UNK] twitter rassd news status photo                                                                               \n",
      "\n",
      "Original:  b'#Urgent European Commission warns that obtaining a vaccine for the Corona virus must be \\xe2\\x80\\x9cglobally available\\xe2\\x80\\x9d'\n",
      "Round-trip:  urgent european commission warns that obtaining a vaccine for the corona virus must be “globally [UNK]                                                                                                                \n",
      "\n",
      "Original:  b'The World Health Organization warns young people: \\xe2\\x80\\x9cYou are not invincible.\\xe2\\x80\\x9d   COVID-19 could \\xe2\\x80\\x9cput you in hospital for weeks, or even kill you. Even if you don\\xe2\\x80\\x99t get sick, the choices you make about where you go could be the difference between life and death for someone else.\\xe2\\x80\\x9d'\n",
      "Round-trip:  the world health organization warns young people “you are not [UNK] covid19 could “put you in hospital for weeks or even kill you even if you don’t get sick the choices you make about where you go could be the difference between life and death for someone [UNK]                                                                                \n",
      "\n"
     ]
    }
   ],
   "source": [
    "for n in range(3):\n",
    "    print(\"Original: \", example[n].numpy())\n",
    "    print(\"Round-trip: \", \" \".join(vocab[encoded_example[n]]))\n",
    "    print()"
   ]
  },
  {
   "cell_type": "code",
   "execution_count": 24,
   "metadata": {},
   "outputs": [
    {
     "data": {
      "text/plain": [
       "(3, 128)"
      ]
     },
     "execution_count": 24,
     "metadata": {},
     "output_type": "execute_result"
    }
   ],
   "source": [
    "encoded_example.shape"
   ]
  },
  {
   "cell_type": "markdown",
   "metadata": {},
   "source": [
    "## LSTM for Q1_label\n",
    "- **Q1: Verifiable Factual Claim: Does the tweet contain a verifiable factual claim?**\n",
    "A verifiable factual claim is a sentence claiming that something is true, and this can be verified using factual, verifiable information such as statistics, specific examples, or personal testimony."
   ]
  },
  {
   "cell_type": "code",
   "execution_count": 27,
   "metadata": {},
   "outputs": [],
   "source": [
    "METRICS = [\n",
    "      tf.keras.metrics.TruePositives(name='tp'),\n",
    "      tf.keras.metrics.FalsePositives(name='fp'),\n",
    "      tf.keras.metrics.TrueNegatives(name='tn'),\n",
    "      tf.keras.metrics.FalseNegatives(name='fn'), \n",
    "      tf.keras.metrics.BinaryAccuracy(name='accuracy'),\n",
    "      tf.keras.metrics.Precision(name='precision'),\n",
    "      tf.keras.metrics.Recall(name='recall'),\n",
    "      tf.keras.metrics.AUC(name='auc'),\n",
    "      tf.keras.metrics.AUC(name='prc', curve='PR'), # precision-recall curve\n",
    "]\n",
    "\n",
    "def make_model(metrics_array=METRICS, output_bias=None):\n",
    "    if output_bias:\n",
    "        output_bias = tf.keras.initializers.Constant(output_bias)\n",
    "    model = tf.keras.Sequential([\n",
    "        encoder,\n",
    "        tf.keras.layers.Embedding(\n",
    "            input_dim=len(encoder.get_vocabulary()),\n",
    "            output_dim=64),\n",
    "        tf.keras.layers.Bidirectional(tf.keras.layers.LSTM(64)),\n",
    "        tf.keras.layers.Dense(64, activation='relu', kernel_regularizer = tf.keras.regularizers.L2(0.1)),\n",
    "        tf.keras.layers.Dropout(0.3),\n",
    "        tf.keras.layers.Dense(32, activation='relu', kernel_regularizer = tf.keras.regularizers.L2(0.1)),\n",
    "        tf.keras.layers.Dropout(0.2),\n",
    "        tf.keras.layers.Dense(1, activation='sigmoid', bias_initializer=output_bias)\n",
    "    ])\n",
    "    \n",
    "    model.compile(loss=tf.keras.losses.BinaryCrossentropy(),\n",
    "              optimizer=tf.keras.optimizers.Adam(1e-4),\n",
    "              metrics=metrics_array)\n",
    "    return model"
   ]
  },
  {
   "cell_type": "code",
   "execution_count": 28,
   "metadata": {},
   "outputs": [
    {
     "name": "stdout",
     "output_type": "stream",
     "text": [
      "Model: \"sequential\"\n",
      "_________________________________________________________________\n",
      " Layer (type)                Output Shape              Param #   \n",
      "=================================================================\n",
      " text_vectorization (TextVec  (None, None)             0         \n",
      " torization)                                                     \n",
      "                                                                 \n",
      " embedding (Embedding)       (None, None, 64)          640000    \n",
      "                                                                 \n",
      " bidirectional (Bidirectiona  (None, 128)              66048     \n",
      " l)                                                              \n",
      "                                                                 \n",
      " dense (Dense)               (None, 64)                8256      \n",
      "                                                                 \n",
      " dropout (Dropout)           (None, 64)                0         \n",
      "                                                                 \n",
      " dense_1 (Dense)             (None, 32)                2080      \n",
      "                                                                 \n",
      " dropout_1 (Dropout)         (None, 32)                0         \n",
      "                                                                 \n",
      " dense_2 (Dense)             (None, 1)                 33        \n",
      "                                                                 \n",
      "=================================================================\n",
      "Total params: 716,417\n",
      "Trainable params: 716,417\n",
      "Non-trainable params: 0\n",
      "_________________________________________________________________\n"
     ]
    }
   ],
   "source": [
    "model = make_model()\n",
    "model.summary()"
   ]
  },
  {
   "cell_type": "code",
   "execution_count": 29,
   "metadata": {},
   "outputs": [
    {
     "name": "stdout",
     "output_type": "stream",
     "text": [
      "[0.18869963]\n"
     ]
    }
   ],
   "source": [
    "sample_text = ('Unlike mRNA vaccines, which must be stored at -20 degrees C, adenovirus vaccines can be refrigerated for up to three months at 36–46 degrees F. '\n",
    "               'That means it can be distributed more easily in doctor’s offices, pharmacies, clinics, or anywhere else. https://t.co/uLjAqopvbx publichealth '\n",
    "               'what need know about johnson johnson vaccine')\n",
    "predictions = model.predict(np.array([sample_text]))\n",
    "print(predictions[0])"
   ]
  },
  {
   "cell_type": "code",
   "execution_count": 30,
   "metadata": {},
   "outputs": [],
   "source": [
    "# output_bias = np.log(4428/1977)\n",
    "# model = make_model(output_bias=output_bias)\n",
    "# predictions = model.predict(np.array([sample_text]))\n",
    "# print(predictions[0])"
   ]
  },
  {
   "cell_type": "code",
   "execution_count": 31,
   "metadata": {},
   "outputs": [
    {
     "name": "stdout",
     "output_type": "stream",
     "text": [
      "Epoch 1/20\n",
      "51/51 [==============================] - 35s 622ms/step - loss: 13.5286 - tp: 0.0000e+00 - fp: 0.0000e+00 - tn: 1977.0000 - fn: 4428.0000 - accuracy: 0.3087 - precision: 0.0000e+00 - recall: 0.0000e+00 - auc: 0.5053 - prc: 0.6967 - val_loss: 12.7844 - val_tp: 0.0000e+00 - val_fp: 0.0000e+00 - val_tn: 828.0000 - val_fn: 947.0000 - val_accuracy: 0.4665 - val_precision: 0.0000e+00 - val_recall: 0.0000e+00 - val_auc: 0.4931 - val_prc: 0.5297\n",
      "Epoch 2/20\n",
      "51/51 [==============================] - 32s 641ms/step - loss: 12.4304 - tp: 267.0000 - fp: 109.0000 - tn: 1868.0000 - fn: 4161.0000 - accuracy: 0.3333 - precision: 0.7101 - recall: 0.0603 - auc: 0.4889 - prc: 0.6861 - val_loss: 11.6701 - val_tp: 836.0000 - val_fp: 757.0000 - val_tn: 71.0000 - val_fn: 111.0000 - val_accuracy: 0.5110 - val_precision: 0.5248 - val_recall: 0.8828 - val_auc: 0.3938 - val_prc: 0.4583\n",
      "Epoch 3/20\n",
      "51/51 [==============================] - 32s 634ms/step - loss: 11.2446 - tp: 3378.0000 - fp: 1483.0000 - tn: 494.0000 - fn: 1050.0000 - accuracy: 0.6045 - precision: 0.6949 - recall: 0.7629 - auc: 0.5143 - prc: 0.6962 - val_loss: 10.8846 - val_tp: 947.0000 - val_fp: 828.0000 - val_tn: 0.0000e+00 - val_fn: 0.0000e+00 - val_accuracy: 0.5335 - val_precision: 0.5335 - val_recall: 1.0000 - val_auc: 0.4085 - val_prc: 0.4763\n",
      "Epoch 4/20\n",
      "51/51 [==============================] - 33s 656ms/step - loss: 10.4463 - tp: 3563.0000 - fp: 1603.0000 - tn: 374.0000 - fn: 865.0000 - accuracy: 0.6147 - precision: 0.6897 - recall: 0.8047 - auc: 0.4963 - prc: 0.6893 - val_loss: 10.1004 - val_tp: 947.0000 - val_fp: 828.0000 - val_tn: 0.0000e+00 - val_fn: 0.0000e+00 - val_accuracy: 0.5335 - val_precision: 0.5335 - val_recall: 1.0000 - val_auc: 0.4505 - val_prc: 0.5027\n",
      "Epoch 5/20\n",
      "51/51 [==============================] - 33s 665ms/step - loss: 9.7023 - tp: 3592.0000 - fp: 1605.0000 - tn: 372.0000 - fn: 836.0000 - accuracy: 0.6189 - precision: 0.6912 - recall: 0.8112 - auc: 0.4986 - prc: 0.6930 - val_loss: 9.4008 - val_tp: 947.0000 - val_fp: 828.0000 - val_tn: 0.0000e+00 - val_fn: 0.0000e+00 - val_accuracy: 0.5335 - val_precision: 0.5335 - val_recall: 1.0000 - val_auc: 0.4882 - val_prc: 0.5406\n",
      "Epoch 6/20\n",
      "51/51 [==============================] - 34s 668ms/step - loss: 9.0172 - tp: 3594.0000 - fp: 1601.0000 - tn: 376.0000 - fn: 834.0000 - accuracy: 0.6198 - precision: 0.6918 - recall: 0.8117 - auc: 0.4950 - prc: 0.6883 - val_loss: 8.7374 - val_tp: 947.0000 - val_fp: 828.0000 - val_tn: 0.0000e+00 - val_fn: 0.0000e+00 - val_accuracy: 0.5335 - val_precision: 0.5335 - val_recall: 1.0000 - val_auc: 0.5171 - val_prc: 0.5533\n",
      "Epoch 7/20\n",
      "51/51 [==============================] - 34s 681ms/step - loss: 8.3740 - tp: 3697.0000 - fp: 1633.0000 - tn: 344.0000 - fn: 731.0000 - accuracy: 0.6309 - precision: 0.6936 - recall: 0.8349 - auc: 0.5054 - prc: 0.6924 - val_loss: 8.1198 - val_tp: 947.0000 - val_fp: 828.0000 - val_tn: 0.0000e+00 - val_fn: 0.0000e+00 - val_accuracy: 0.5335 - val_precision: 0.5335 - val_recall: 1.0000 - val_auc: 0.5632 - val_prc: 0.5883\n",
      "Epoch 8/20\n",
      "51/51 [==============================] - 34s 675ms/step - loss: 7.7841 - tp: 3630.0000 - fp: 1628.0000 - tn: 349.0000 - fn: 798.0000 - accuracy: 0.6212 - precision: 0.6904 - recall: 0.8198 - auc: 0.4997 - prc: 0.6907 - val_loss: 7.5597 - val_tp: 947.0000 - val_fp: 828.0000 - val_tn: 0.0000e+00 - val_fn: 0.0000e+00 - val_accuracy: 0.5335 - val_precision: 0.5335 - val_recall: 1.0000 - val_auc: 0.5770 - val_prc: 0.6007\n",
      "Epoch 9/20\n",
      "51/51 [==============================] - 35s 696ms/step - loss: 7.2323 - tp: 3668.0000 - fp: 1657.0000 - tn: 320.0000 - fn: 760.0000 - accuracy: 0.6226 - precision: 0.6888 - recall: 0.8284 - auc: 0.5013 - prc: 0.6948 - val_loss: 7.0317 - val_tp: 947.0000 - val_fp: 828.0000 - val_tn: 0.0000e+00 - val_fn: 0.0000e+00 - val_accuracy: 0.5335 - val_precision: 0.5335 - val_recall: 1.0000 - val_auc: 0.6289 - val_prc: 0.6367\n",
      "Epoch 10/20\n",
      "51/51 [==============================] - 34s 680ms/step - loss: 6.7224 - tp: 3808.0000 - fp: 1684.0000 - tn: 293.0000 - fn: 620.0000 - accuracy: 0.6403 - precision: 0.6934 - recall: 0.8600 - auc: 0.5005 - prc: 0.6914 - val_loss: 6.5323 - val_tp: 947.0000 - val_fp: 828.0000 - val_tn: 0.0000e+00 - val_fn: 0.0000e+00 - val_accuracy: 0.5335 - val_precision: 0.5335 - val_recall: 1.0000 - val_auc: 0.6687 - val_prc: 0.6759\n",
      "Epoch 11/20\n",
      "51/51 [==============================] - 34s 687ms/step - loss: 6.2479 - tp: 3796.0000 - fp: 1687.0000 - tn: 290.0000 - fn: 632.0000 - accuracy: 0.6379 - precision: 0.6923 - recall: 0.8573 - auc: 0.5025 - prc: 0.6959 - val_loss: 6.0808 - val_tp: 947.0000 - val_fp: 828.0000 - val_tn: 0.0000e+00 - val_fn: 0.0000e+00 - val_accuracy: 0.5335 - val_precision: 0.5335 - val_recall: 1.0000 - val_auc: 0.6828 - val_prc: 0.6803\n",
      "Epoch 12/20\n",
      "51/51 [==============================] - 35s 700ms/step - loss: 5.7956 - tp: 3801.0000 - fp: 1652.0000 - tn: 325.0000 - fn: 627.0000 - accuracy: 0.6442 - precision: 0.6970 - recall: 0.8584 - auc: 0.5315 - prc: 0.7166 - val_loss: 5.6440 - val_tp: 947.0000 - val_fp: 828.0000 - val_tn: 0.0000e+00 - val_fn: 0.0000e+00 - val_accuracy: 0.5335 - val_precision: 0.5335 - val_recall: 1.0000 - val_auc: 0.7175 - val_prc: 0.7231\n",
      "Epoch 13/20\n",
      "51/51 [==============================] - 35s 692ms/step - loss: 5.3837 - tp: 3857.0000 - fp: 1627.0000 - tn: 350.0000 - fn: 571.0000 - accuracy: 0.6568 - precision: 0.7033 - recall: 0.8710 - auc: 0.5448 - prc: 0.7274 - val_loss: 5.2328 - val_tp: 945.0000 - val_fp: 822.0000 - val_tn: 6.0000 - val_fn: 2.0000 - val_accuracy: 0.5358 - val_precision: 0.5348 - val_recall: 0.9979 - val_auc: 0.7212 - val_prc: 0.7387\n",
      "Epoch 14/20\n",
      "51/51 [==============================] - 35s 706ms/step - loss: 4.9866 - tp: 3781.0000 - fp: 1531.0000 - tn: 446.0000 - fn: 647.0000 - accuracy: 0.6600 - precision: 0.7118 - recall: 0.8539 - auc: 0.6074 - prc: 0.7751 - val_loss: 4.8833 - val_tp: 933.0000 - val_fp: 780.0000 - val_tn: 48.0000 - val_fn: 14.0000 - val_accuracy: 0.5527 - val_precision: 0.5447 - val_recall: 0.9852 - val_auc: 0.6985 - val_prc: 0.7211\n",
      "Epoch 15/20\n",
      "51/51 [==============================] - 37s 735ms/step - loss: 4.5742 - tp: 3930.0000 - fp: 1217.0000 - tn: 760.0000 - fn: 498.0000 - accuracy: 0.7322 - precision: 0.7636 - recall: 0.8875 - auc: 0.7400 - prc: 0.8490 - val_loss: 4.4591 - val_tp: 827.0000 - val_fp: 366.0000 - val_tn: 462.0000 - val_fn: 120.0000 - val_accuracy: 0.7262 - val_precision: 0.6932 - val_recall: 0.8733 - val_auc: 0.7806 - val_prc: 0.7628\n",
      "Epoch 16/20\n",
      "51/51 [==============================] - 36s 714ms/step - loss: 4.2111 - tp: 3952.0000 - fp: 964.0000 - tn: 1013.0000 - fn: 476.0000 - accuracy: 0.7752 - precision: 0.8039 - recall: 0.8925 - auc: 0.8035 - prc: 0.8847 - val_loss: 4.1255 - val_tp: 833.0000 - val_fp: 335.0000 - val_tn: 493.0000 - val_fn: 114.0000 - val_accuracy: 0.7470 - val_precision: 0.7132 - val_recall: 0.8796 - val_auc: 0.8099 - val_prc: 0.8020\n",
      "Epoch 17/20\n",
      "51/51 [==============================] - 38s 754ms/step - loss: 3.8737 - tp: 3935.0000 - fp: 752.0000 - tn: 1225.0000 - fn: 493.0000 - accuracy: 0.8056 - precision: 0.8396 - recall: 0.8887 - auc: 0.8471 - prc: 0.9091 - val_loss: 3.8240 - val_tp: 815.0000 - val_fp: 298.0000 - val_tn: 530.0000 - val_fn: 132.0000 - val_accuracy: 0.7577 - val_precision: 0.7323 - val_recall: 0.8606 - val_auc: 0.8189 - val_prc: 0.8176\n",
      "Epoch 18/20\n",
      "51/51 [==============================] - 36s 710ms/step - loss: 3.5631 - tp: 3986.0000 - fp: 620.0000 - tn: 1357.0000 - fn: 442.0000 - accuracy: 0.8342 - precision: 0.8654 - recall: 0.9002 - auc: 0.8779 - prc: 0.9304 - val_loss: 3.5704 - val_tp: 822.0000 - val_fp: 298.0000 - val_tn: 530.0000 - val_fn: 125.0000 - val_accuracy: 0.7617 - val_precision: 0.7339 - val_recall: 0.8680 - val_auc: 0.8165 - val_prc: 0.8125\n",
      "Epoch 19/20\n",
      "51/51 [==============================] - 36s 722ms/step - loss: 3.2862 - tp: 4003.0000 - fp: 476.0000 - tn: 1501.0000 - fn: 425.0000 - accuracy: 0.8593 - precision: 0.8937 - recall: 0.9040 - auc: 0.8914 - prc: 0.9352 - val_loss: 3.2834 - val_tp: 726.0000 - val_fp: 189.0000 - val_tn: 639.0000 - val_fn: 221.0000 - val_accuracy: 0.7690 - val_precision: 0.7934 - val_recall: 0.7666 - val_auc: 0.8352 - val_prc: 0.8388\n",
      "Epoch 20/20\n",
      "51/51 [==============================] - 37s 747ms/step - loss: 3.0215 - tp: 4039.0000 - fp: 395.0000 - tn: 1582.0000 - fn: 389.0000 - accuracy: 0.8776 - precision: 0.9109 - recall: 0.9121 - auc: 0.9111 - prc: 0.9430 - val_loss: 3.0910 - val_tp: 751.0000 - val_fp: 235.0000 - val_tn: 593.0000 - val_fn: 196.0000 - val_accuracy: 0.7572 - val_precision: 0.7617 - val_recall: 0.7930 - val_auc: 0.8200 - val_prc: 0.8207\n"
     ]
    }
   ],
   "source": [
    "history = model.fit(train_data['preprocessed_tweet_text'], train_data['q1_label'], batch_size=128, epochs=20, \n",
    "                    validation_data=(validation_data['preprocessed_tweet_text'], validation_data['q1_label']))"
   ]
  },
  {
   "cell_type": "code",
   "execution_count": 32,
   "metadata": {},
   "outputs": [],
   "source": [
    "def plot_graphs(history, metric):\n",
    "    plt.plot(history.history[metric])\n",
    "    plt.plot(history.history['val_'+metric], '')\n",
    "    plt.xlabel(\"Epochs\")\n",
    "    plt.ylabel(metric)\n",
    "    plt.legend([metric, 'val_'+metric])"
   ]
  },
  {
   "cell_type": "code",
   "execution_count": 33,
   "metadata": {},
   "outputs": [
    {
     "data": {
      "text/plain": [
       "(0.0, 1.05)"
      ]
     },
     "execution_count": 33,
     "metadata": {},
     "output_type": "execute_result"
    },
    {
     "data": {
      "image/png": "[encoded data removed]",
      "text/plain": [
       "<Figure size 1728x576 with 4 Axes>"
      ]
     },
     "metadata": {
      "needs_background": "light"
     },
     "output_type": "display_data"
    }
   ],
   "source": [
    "plt.figure(figsize=(24, 8))\n",
    "plt.subplot(2, 2, 1)\n",
    "plot_graphs(history, 'accuracy')\n",
    "plt.ylim(None, 1)\n",
    "plt.subplot(2, 2, 2)\n",
    "plot_graphs(history, 'loss')\n",
    "plt.ylim(0, None)\n",
    "\n",
    "plt.subplot(2, 2, 3)\n",
    "plot_graphs(history, 'precision')\n",
    "plt.ylim(None, 1)\n",
    "plt.subplot(2, 2, 4)\n",
    "plot_graphs(history, 'recall')\n",
    "plt.ylim(0, None)"
   ]
  },
  {
   "cell_type": "code",
   "execution_count": 34,
   "metadata": {},
   "outputs": [
    {
     "name": "stderr",
     "output_type": "stream",
     "text": [
      "WARNING:absl:Found untraced functions such as lstm_cell_1_layer_call_fn, lstm_cell_1_layer_call_and_return_conditional_losses, lstm_cell_2_layer_call_fn, lstm_cell_2_layer_call_and_return_conditional_losses, lstm_cell_1_layer_call_fn while saving (showing 5 of 10). These functions will not be directly callable after loading.\n"
     ]
    },
    {
     "name": "stdout",
     "output_type": "stream",
     "text": [
      "INFO:tensorflow:Assets written to: q1_model\\assets\n"
     ]
    },
    {
     "name": "stderr",
     "output_type": "stream",
     "text": [
      "INFO:tensorflow:Assets written to: q1_model\\assets\n",
      "WARNING:absl:<keras.layers.recurrent.LSTMCell object at 0x0000028114C1B3C8> has the same name 'LSTMCell' as a built-in Keras object. Consider renaming <class 'keras.layers.recurrent.LSTMCell'> to avoid naming conflicts when loading with `tf.keras.models.load_model`. If renaming is not possible, pass the object in the `custom_objects` parameter of the load function.\n",
      "WARNING:absl:<keras.layers.recurrent.LSTMCell object at 0x00000281149A3BA8> has the same name 'LSTMCell' as a built-in Keras object. Consider renaming <class 'keras.layers.recurrent.LSTMCell'> to avoid naming conflicts when loading with `tf.keras.models.load_model`. If renaming is not possible, pass the object in the `custom_objects` parameter of the load function.\n"
     ]
    }
   ],
   "source": [
    "tf.keras.models.save_model(model, 'q1_model')"
   ]
  },
  {
   "cell_type": "code",
   "execution_count": 29,
   "metadata": {},
   "outputs": [],
   "source": [
    "reconstructed_model = tf.keras.models.load_model(\"q1_model\")"
   ]
  },
  {
   "cell_type": "code",
   "execution_count": 30,
   "metadata": {},
   "outputs": [
    {
     "data": {
      "text/plain": [
       "array([[0.3834071 ],\n",
       "       [0.90896904],\n",
       "       [0.9252968 ],\n",
       "       [0.9286399 ],\n",
       "       [0.8261465 ]], dtype=float32)"
      ]
     },
     "execution_count": 30,
     "metadata": {},
     "output_type": "execute_result"
    }
   ],
   "source": [
    "predictions = reconstructed_model.predict(validation_data['preprocessed_tweet_text'])\n",
    "predictions[:5]"
   ]
  },
  {
   "cell_type": "code",
   "execution_count": 31,
   "metadata": {},
   "outputs": [],
   "source": [
    "validation_data['predicted_q1'] = predictions\n",
    "validation_data['predicted_q1'] = validation_data.apply(lambda row: 0 if row['predicted_q1'] < 0.5 else 1, axis=1)"
   ]
  },
  {
   "cell_type": "code",
   "execution_count": 32,
   "metadata": {},
   "outputs": [
    {
     "data": {
      "text/html": [
       "<div>\n",
       "<style scoped>\n",
       "    .dataframe tbody tr th:only-of-type {\n",
       "        vertical-align: middle;\n",
       "    }\n",
       "\n",
       "    .dataframe tbody tr th {\n",
       "        vertical-align: top;\n",
       "    }\n",
       "\n",
       "    .dataframe thead th {\n",
       "        text-align: right;\n",
       "    }\n",
       "</style>\n",
       "<table border=\"1\" class=\"dataframe\">\n",
       "  <thead>\n",
       "    <tr style=\"text-align: right;\">\n",
       "      <th></th>\n",
       "      <th>Predicted no</th>\n",
       "      <th>Predicted yes</th>\n",
       "    </tr>\n",
       "  </thead>\n",
       "  <tbody>\n",
       "    <tr>\n",
       "      <th>Actual no</th>\n",
       "      <td>676</td>\n",
       "      <td>152</td>\n",
       "    </tr>\n",
       "    <tr>\n",
       "      <th>Actual yes</th>\n",
       "      <td>342</td>\n",
       "      <td>605</td>\n",
       "    </tr>\n",
       "  </tbody>\n",
       "</table>\n",
       "</div>"
      ],
      "text/plain": [
       "            Predicted no  Predicted yes\n",
       "Actual no            676            152\n",
       "Actual yes           342            605"
      ]
     },
     "execution_count": 32,
     "metadata": {},
     "output_type": "execute_result"
    }
   ],
   "source": [
    "from sklearn.metrics import confusion_matrix\n",
    "\n",
    "cm_q2 = confusion_matrix(validation_data['q1_label'], validation_data['predicted_q1'])\n",
    "pd.DataFrame(cm_q2, index=['Actual no', 'Actual yes'], columns = ['Predicted no', 'Predicted yes'])"
   ]
  },
  {
   "cell_type": "markdown",
   "metadata": {},
   "source": [
    "## LSTM for Q2-Q4 in case Q1 is 'yes'\n",
    "- **Q2: False Information: To what extent does the tweet appear to contain false information?**\n",
    "The stated claim may contain false information. This question labels the tweets with the categories mentioned below. False Information appears on social media platforms, blogs, and news-articles to deliberately misinform or deceive the readers.\n",
    "\n",
    "\n",
    "- **Q3: Interest to General Public: Will the tweet have an effect on or be of interest to the general public?**\n",
    "Most often people do not make interesting claims, which can be verified by our general knowledge. For example, \"Sky is blue'' is a claim, however, it is not interesting to the general public. In general, topics such as healthcare, political news and findings, and current events are of higher interest to the general public. Using the five point Likert scale the labels are defined below.\n",
    "\n",
    "\n",
    "- **Q4: Harmfulness: To what extent is the tweet harmful to the society/person(s)/company(s)/product(s)?**\n",
    "The purpose of this question is to determine if the content of the tweet aims to and can negatively affect the society as a whole, specific person(s), company(s), product(s) or spread rumors about them. The content intends to harm or weaponize the information. A rumor involves a form of a statement whose veracity is not quickly or ever confirmed.\n",
    "\n",
    "\n",
    "- Q2_p: should be either yes/no depending on the answer to the second question as described in Data Annotation or nan if Q1_p is no. \n",
    "- Q3_p: should be either yes/no depending on the answer to the third question as described in Data Annotation or nan if Q1_p is no. \n",
    "- Q4_p: should be either yes/no depending on the answer to the fourth question as described in Data Annotation or nan if Q1_p is no."
   ]
  },
  {
   "cell_type": "code",
   "execution_count": 28,
   "metadata": {},
   "outputs": [],
   "source": [
    "train_data = train_data[train_data['q1_label'] == 1]\n",
    "validation_data = validation_data[validation_data['q1_label'] == 1]"
   ]
  },
  {
   "cell_type": "code",
   "execution_count": 29,
   "metadata": {},
   "outputs": [
    {
     "data": {
      "text/html": [
       "<div>\n",
       "<style scoped>\n",
       "    .dataframe tbody tr th:only-of-type {\n",
       "        vertical-align: middle;\n",
       "    }\n",
       "\n",
       "    .dataframe tbody tr th {\n",
       "        vertical-align: top;\n",
       "    }\n",
       "\n",
       "    .dataframe thead th {\n",
       "        text-align: right;\n",
       "    }\n",
       "</style>\n",
       "<table border=\"1\" class=\"dataframe\">\n",
       "  <thead>\n",
       "    <tr style=\"text-align: right;\">\n",
       "      <th></th>\n",
       "      <th>preprocessed_tweet_text</th>\n",
       "      <th>q1_label</th>\n",
       "      <th>q2_label_is_no</th>\n",
       "      <th>q2_label_is_unknown</th>\n",
       "      <th>q2_label_is_yes</th>\n",
       "      <th>q3_label_is_no</th>\n",
       "      <th>q3_label_is_unknown</th>\n",
       "      <th>q3_label_is_yes</th>\n",
       "      <th>q4_label_is_no</th>\n",
       "      <th>q4_label_is_unknown</th>\n",
       "      <th>q4_label_is_yes</th>\n",
       "    </tr>\n",
       "  </thead>\n",
       "  <tbody>\n",
       "    <tr>\n",
       "      <th>4</th>\n",
       "      <td>This is the face of someone who just spent 9 hours in personal protective equipment moving critically ill Covid19 patients around London.  I feel broken - and we are only at the start. I am begging people, please please do social distancing and self isolation #covid19 URL</td>\n",
       "      <td>1</td>\n",
       "      <td>1</td>\n",
       "      <td>0</td>\n",
       "      <td>0</td>\n",
       "      <td>0</td>\n",
       "      <td>0</td>\n",
       "      <td>1</td>\n",
       "      <td>1</td>\n",
       "      <td>0</td>\n",
       "      <td>0</td>\n",
       "    </tr>\n",
       "    <tr>\n",
       "      <th>5</th>\n",
       "      <td>Yesterday I knocked on my Tennant's door and told him he can stay in the property rent free for 5 months. He is self employed with 4 kids. I don't need Boris to tell me what is morally correct. Landlords, if you can, do more, do something. #COVID19 #BeNice</td>\n",
       "      <td>1</td>\n",
       "      <td>1</td>\n",
       "      <td>0</td>\n",
       "      <td>0</td>\n",
       "      <td>1</td>\n",
       "      <td>0</td>\n",
       "      <td>0</td>\n",
       "      <td>1</td>\n",
       "      <td>0</td>\n",
       "      <td>0</td>\n",
       "    </tr>\n",
       "    <tr>\n",
       "      <th>7</th>\n",
       "      <td>This is Dr. Usama Riaz. He spent past weeks screening and treating patients with Corona Virus in Pakistan.   He knew there was no PPE. He persisted anyways.  Today he lost his own battle with coronavirus but he gave life and hope to so many more.   KNOW HIS NAME  :loudly_crying_face:  :red_heart:  URL</td>\n",
       "      <td>1</td>\n",
       "      <td>1</td>\n",
       "      <td>0</td>\n",
       "      <td>0</td>\n",
       "      <td>0</td>\n",
       "      <td>0</td>\n",
       "      <td>1</td>\n",
       "      <td>1</td>\n",
       "      <td>0</td>\n",
       "      <td>0</td>\n",
       "    </tr>\n",
       "  </tbody>\n",
       "</table>\n",
       "</div>"
      ],
      "text/plain": [
       "                                                                                                                                                                                                                                                                                          preprocessed_tweet_text  \\\n",
       "4                                This is the face of someone who just spent 9 hours in personal protective equipment moving critically ill Covid19 patients around London.  I feel broken - and we are only at the start. I am begging people, please please do social distancing and self isolation #covid19 URL   \n",
       "5                                                Yesterday I knocked on my Tennant's door and told him he can stay in the property rent free for 5 months. He is self employed with 4 kids. I don't need Boris to tell me what is morally correct. Landlords, if you can, do more, do something. #COVID19 #BeNice   \n",
       "7  This is Dr. Usama Riaz. He spent past weeks screening and treating patients with Corona Virus in Pakistan.   He knew there was no PPE. He persisted anyways.  Today he lost his own battle with coronavirus but he gave life and hope to so many more.   KNOW HIS NAME  :loudly_crying_face:  :red_heart:  URL   \n",
       "\n",
       "   q1_label  q2_label_is_no  q2_label_is_unknown  q2_label_is_yes  \\\n",
       "4         1               1                    0                0   \n",
       "5         1               1                    0                0   \n",
       "7         1               1                    0                0   \n",
       "\n",
       "   q3_label_is_no  q3_label_is_unknown  q3_label_is_yes  q4_label_is_no  \\\n",
       "4               0                    0                1               1   \n",
       "5               1                    0                0               1   \n",
       "7               0                    0                1               1   \n",
       "\n",
       "   q4_label_is_unknown  q4_label_is_yes  \n",
       "4                    0                0  \n",
       "5                    0                0  \n",
       "7                    0                0  "
      ]
     },
     "execution_count": 29,
     "metadata": {},
     "output_type": "execute_result"
    }
   ],
   "source": [
    "train_data.head(3)"
   ]
  },
  {
   "cell_type": "code",
   "execution_count": 30,
   "metadata": {},
   "outputs": [],
   "source": [
    "encoded_X_train = encoder(train_data['preprocessed_tweet_text']).numpy()\n",
    "encoded_X_validation = encoder(validation_data['preprocessed_tweet_text']).numpy()\n",
    "\n",
    "def format_output(dataframe):\n",
    "    output_q2 = dataframe[['q2_label_is_no', 'q2_label_is_unknown', 'q2_label_is_yes']]\n",
    "    output_q3 = dataframe[['q3_label_is_no', 'q3_label_is_unknown', 'q3_label_is_yes']]\n",
    "    output_q4 = dataframe[['q4_label_is_no', 'q4_label_is_unknown', 'q4_label_is_yes']]\n",
    "    return output_q2, output_q3, output_q4\n",
    "\n",
    "y_train = format_output(train_data)\n",
    "y_validation = format_output(validation_data)"
   ]
  },
  {
   "cell_type": "code",
   "execution_count": 31,
   "metadata": {},
   "outputs": [],
   "source": [
    "def build_model():\n",
    "    # Define model layers. input_layer receives the encoded text\n",
    "    input_layer = tf.keras.layers.Input(shape=(MAX_ENCODED_LEN,))\n",
    "    embedding_layer = tf.keras.layers.Embedding(\n",
    "            input_dim=VOCAB_SIZE,\n",
    "            output_dim=64)(input_layer)\n",
    "    lstm = tf.keras.layers.Bidirectional(tf.keras.layers.LSTM(64))(embedding_layer)\n",
    "    dense1 = tf.keras.layers.Dense(64, activation='relu', kernel_regularizer = tf.keras.regularizers.L2(0.1))(lstm)\n",
    "    dropout1 = tf.keras.layers.Dropout(0.2)(dense1)\n",
    "    \n",
    "    dense2 = tf.keras.layers.Dense(32, activation='relu', kernel_regularizer = tf.keras.regularizers.L2(0.1))(dropout1)\n",
    "    dropout2 = tf.keras.layers.Dropout(0.05)(dense2)\n",
    "    \n",
    "    dense3 = tf.keras.layers.Dense(32, activation='relu', kernel_regularizer = tf.keras.regularizers.L2(0.1))(dropout1)\n",
    "    dropout3 = tf.keras.layers.Dropout(0.05)(dense3)\n",
    "    \n",
    "    dense4 = tf.keras.layers.Dense(32, activation='relu', kernel_regularizer = tf.keras.regularizers.L2(0.1))(dropout1)\n",
    "    dropout4 = tf.keras.layers.Dropout(0.05)(dense4)\n",
    "    \n",
    "    # Y2 output will be the answer to Q2_label\n",
    "    y2_output = tf.keras.layers.Dense(3, activation='softmax', name='q2_label')(dropout2)\n",
    "    \n",
    "    # Y3 output will be the answer to Q3_label\n",
    "    y3_output = tf.keras.layers.Dense(3, activation='softmax', name='q3_label')(dropout3)\n",
    "    \n",
    "    # Y4 output will be the answer to Q4_label\n",
    "    y4_output = tf.keras.layers.Dense(3, activation='softmax', name='q4_label')(dropout4)\n",
    "    \n",
    "    # Define the model with the input layer \n",
    "    # and the list of output layers\n",
    "    model = tf.keras.Model(inputs=input_layer,outputs=[y2_output, y3_output, y4_output])\n",
    "    return model"
   ]
  },
  {
   "cell_type": "code",
   "execution_count": 32,
   "metadata": {},
   "outputs": [],
   "source": [
    "model = build_model()"
   ]
  },
  {
   "cell_type": "code",
   "execution_count": 33,
   "metadata": {},
   "outputs": [],
   "source": [
    "# Specify the optimizer, and compile the model with loss functions for both outputs\n",
    "optimizer=tf.keras.optimizers.Adam(1e-4)\n",
    "model.compile(optimizer=optimizer,\n",
    "              loss={'q2_label': tf.keras.losses.CategoricalCrossentropy(), \n",
    "                    'q3_label': tf.keras.losses.CategoricalCrossentropy(),\n",
    "                    'q4_label': tf.keras.losses.CategoricalCrossentropy()\n",
    "                   },\n",
    "             metrics={'q2_label':tf.keras.metrics.CategoricalAccuracy(),\n",
    "                      'q3_label':tf.keras.metrics.CategoricalAccuracy(),\n",
    "                      'q4_label':tf.keras.metrics.CategoricalAccuracy()\n",
    "             })"
   ]
  },
  {
   "cell_type": "code",
   "execution_count": 34,
   "metadata": {
    "tags": []
   },
   "outputs": [
    {
     "name": "stdout",
     "output_type": "stream",
     "text": [
      "Epoch 1/20\n",
      "18/18 [==============================] - 10s 360ms/step - loss: 24.4336 - q2_label_loss: 1.0843 - q3_label_loss: 1.0953 - q4_label_loss: 1.0963 - q2_label_categorical_accuracy: 0.8564 - q3_label_categorical_accuracy: 0.4257 - q4_label_categorical_accuracy: 0.3941 - val_loss: 24.1106 - val_q2_label_loss: 1.0741 - val_q3_label_loss: 1.0800 - val_q4_label_loss: 1.0891 - val_q2_label_categorical_accuracy: 0.9050 - val_q3_label_categorical_accuracy: 0.9926 - val_q4_label_categorical_accuracy: 0.8638\n",
      "Epoch 2/20\n",
      "18/18 [==============================] - 7s 369ms/step - loss: 23.8566 - q2_label_loss: 1.0674 - q3_label_loss: 1.0693 - q4_label_loss: 1.0895 - q2_label_categorical_accuracy: 0.8740 - q3_label_categorical_accuracy: 0.9458 - q4_label_categorical_accuracy: 0.7534 - val_loss: 23.5327 - val_q2_label_loss: 1.0548 - val_q3_label_loss: 1.0496 - val_q4_label_loss: 1.0815 - val_q2_label_categorical_accuracy: 0.9050 - val_q3_label_categorical_accuracy: 0.9926 - val_q4_label_categorical_accuracy: 0.8638\n",
      "Epoch 3/20\n",
      "18/18 [==============================] - 7s 391ms/step - loss: 23.2818 - q2_label_loss: 1.0463 - q3_label_loss: 1.0363 - q4_label_loss: 1.0834 - q2_label_categorical_accuracy: 0.8742 - q3_label_categorical_accuracy: 0.9668 - q4_label_categorical_accuracy: 0.7848 - val_loss: 22.9456 - val_q2_label_loss: 1.0267 - val_q3_label_loss: 1.0075 - val_q4_label_loss: 1.0715 - val_q2_label_categorical_accuracy: 0.9050 - val_q3_label_categorical_accuracy: 0.9926 - val_q4_label_categorical_accuracy: 0.8638\n",
      "Epoch 4/20\n",
      "18/18 [==============================] - 7s 414ms/step - loss: 22.6893 - q2_label_loss: 1.0103 - q3_label_loss: 0.9884 - q4_label_loss: 1.0747 - q2_label_categorical_accuracy: 0.8740 - q3_label_categorical_accuracy: 0.9668 - q4_label_categorical_accuracy: 0.7785 - val_loss: 22.3075 - val_q2_label_loss: 0.9711 - val_q3_label_loss: 0.9360 - val_q4_label_loss: 1.0520 - val_q2_label_categorical_accuracy: 0.9050 - val_q3_label_categorical_accuracy: 0.9926 - val_q4_label_categorical_accuracy: 0.8638\n",
      "Epoch 5/20\n",
      "18/18 [==============================] - 7s 408ms/step - loss: 21.9833 - q2_label_loss: 0.9215 - q3_label_loss: 0.8750 - q4_label_loss: 1.0540 - q2_label_categorical_accuracy: 0.8742 - q3_label_categorical_accuracy: 0.9654 - q4_label_categorical_accuracy: 0.7520 - val_loss: 21.3545 - val_q2_label_loss: 0.7883 - val_q3_label_loss: 0.6987 - val_q4_label_loss: 0.9904 - val_q2_label_categorical_accuracy: 0.9050 - val_q3_label_categorical_accuracy: 0.9926 - val_q4_label_categorical_accuracy: 0.8638\n",
      "Epoch 6/20\n",
      "18/18 [==============================] - 7s 409ms/step - loss: 20.8444 - q2_label_loss: 0.6551 - q3_label_loss: 0.5208 - q4_label_loss: 0.9937 - q2_label_categorical_accuracy: 0.8740 - q3_label_categorical_accuracy: 0.9657 - q4_label_categorical_accuracy: 0.6890 - val_loss: 19.9104 - val_q2_label_loss: 0.4305 - val_q3_label_loss: 0.2298 - val_q4_label_loss: 0.8135 - val_q2_label_categorical_accuracy: 0.9050 - val_q3_label_categorical_accuracy: 0.9926 - val_q4_label_categorical_accuracy: 0.8638\n",
      "Epoch 7/20\n",
      "18/18 [==============================] - 7s 403ms/step - loss: 19.8600 - q2_label_loss: 0.5093 - q3_label_loss: 0.2673 - q4_label_loss: 0.8394 - q2_label_categorical_accuracy: 0.8742 - q3_label_categorical_accuracy: 0.9666 - q4_label_categorical_accuracy: 0.7916 - val_loss: 19.1899 - val_q2_label_loss: 0.3929 - val_q3_label_loss: 0.1255 - val_q4_label_loss: 0.6598 - val_q2_label_categorical_accuracy: 0.9050 - val_q3_label_categorical_accuracy: 0.9926 - val_q4_label_categorical_accuracy: 0.8638\n",
      "Epoch 8/20\n",
      "18/18 [==============================] - 7s 410ms/step - loss: 19.2594 - q2_label_loss: 0.5059 - q3_label_loss: 0.2200 - q4_label_loss: 0.7145 - q2_label_categorical_accuracy: 0.8742 - q3_label_categorical_accuracy: 0.9670 - q4_label_categorical_accuracy: 0.8304 - val_loss: 18.6624 - val_q2_label_loss: 0.3880 - val_q3_label_loss: 0.0985 - val_q4_label_loss: 0.5897 - val_q2_label_categorical_accuracy: 0.9050 - val_q3_label_categorical_accuracy: 0.9926 - val_q4_label_categorical_accuracy: 0.8638\n",
      "Epoch 9/20\n",
      "18/18 [==============================] - 7s 413ms/step - loss: 18.7442 - q2_label_loss: 0.4988 - q3_label_loss: 0.1986 - q4_label_loss: 0.6527 - q2_label_categorical_accuracy: 0.8742 - q3_label_categorical_accuracy: 0.9668 - q4_label_categorical_accuracy: 0.8347 - val_loss: 18.1833 - val_q2_label_loss: 0.3828 - val_q3_label_loss: 0.0865 - val_q4_label_loss: 0.5501 - val_q2_label_categorical_accuracy: 0.9050 - val_q3_label_categorical_accuracy: 0.9926 - val_q4_label_categorical_accuracy: 0.8638\n",
      "Epoch 10/20\n",
      "18/18 [==============================] - 8s 455ms/step - loss: 18.2669 - q2_label_loss: 0.4837 - q3_label_loss: 0.1935 - q4_label_loss: 0.6141 - q2_label_categorical_accuracy: 0.8742 - q3_label_categorical_accuracy: 0.9668 - q4_label_categorical_accuracy: 0.8333 - val_loss: 17.7285 - val_q2_label_loss: 0.3760 - val_q3_label_loss: 0.0796 - val_q4_label_loss: 0.5236 - val_q2_label_categorical_accuracy: 0.9050 - val_q3_label_categorical_accuracy: 0.9926 - val_q4_label_categorical_accuracy: 0.8638\n",
      "Epoch 11/20\n",
      "18/18 [==============================] - 7s 417ms/step - loss: 17.8172 - q2_label_loss: 0.4743 - q3_label_loss: 0.1926 - q4_label_loss: 0.5859 - q2_label_categorical_accuracy: 0.8742 - q3_label_categorical_accuracy: 0.9668 - q4_label_categorical_accuracy: 0.8324 - val_loss: 17.2960 - val_q2_label_loss: 0.3731 - val_q3_label_loss: 0.0755 - val_q4_label_loss: 0.5052 - val_q2_label_categorical_accuracy: 0.9050 - val_q3_label_categorical_accuracy: 0.9926 - val_q4_label_categorical_accuracy: 0.8638\n",
      "Epoch 12/20\n",
      "18/18 [==============================] - 8s 419ms/step - loss: 17.3999 - q2_label_loss: 0.4724 - q3_label_loss: 0.1891 - q4_label_loss: 0.5775 - q2_label_categorical_accuracy: 0.8742 - q3_label_categorical_accuracy: 0.9668 - q4_label_categorical_accuracy: 0.8306 - val_loss: 16.8730 - val_q2_label_loss: 0.3727 - val_q3_label_loss: 0.0727 - val_q4_label_loss: 0.4843 - val_q2_label_categorical_accuracy: 0.9050 - val_q3_label_categorical_accuracy: 0.9926 - val_q4_label_categorical_accuracy: 0.8638\n",
      "Epoch 13/20\n",
      "18/18 [==============================] - 8s 435ms/step - loss: 16.9841 - q2_label_loss: 0.4691 - q3_label_loss: 0.1880 - q4_label_loss: 0.5615 - q2_label_categorical_accuracy: 0.8742 - q3_label_categorical_accuracy: 0.9668 - q4_label_categorical_accuracy: 0.8320 - val_loss: 16.4645 - val_q2_label_loss: 0.3718 - val_q3_label_loss: 0.0715 - val_q4_label_loss: 0.4692 - val_q2_label_categorical_accuracy: 0.9050 - val_q3_label_categorical_accuracy: 0.9926 - val_q4_label_categorical_accuracy: 0.8638\n",
      "Epoch 14/20\n",
      "18/18 [==============================] - 7s 415ms/step - loss: 16.5588 - q2_label_loss: 0.4554 - q3_label_loss: 0.1833 - q4_label_loss: 0.5425 - q2_label_categorical_accuracy: 0.8742 - q3_label_categorical_accuracy: 0.9670 - q4_label_categorical_accuracy: 0.8331 - val_loss: 16.0703 - val_q2_label_loss: 0.3725 - val_q3_label_loss: 0.0706 - val_q4_label_loss: 0.4583 - val_q2_label_categorical_accuracy: 0.9050 - val_q3_label_categorical_accuracy: 0.9926 - val_q4_label_categorical_accuracy: 0.8638\n",
      "Epoch 15/20\n",
      "18/18 [==============================] - 7s 415ms/step - loss: 16.1685 - q2_label_loss: 0.4567 - q3_label_loss: 0.1818 - q4_label_loss: 0.5314 - q2_label_categorical_accuracy: 0.8742 - q3_label_categorical_accuracy: 0.9670 - q4_label_categorical_accuracy: 0.8345 - val_loss: 15.6858 - val_q2_label_loss: 0.3721 - val_q3_label_loss: 0.0699 - val_q4_label_loss: 0.4494 - val_q2_label_categorical_accuracy: 0.9050 - val_q3_label_categorical_accuracy: 0.9926 - val_q4_label_categorical_accuracy: 0.8638\n",
      "Epoch 16/20\n",
      "18/18 [==============================] - 7s 410ms/step - loss: 15.7915 - q2_label_loss: 0.4590 - q3_label_loss: 0.1795 - q4_label_loss: 0.5253 - q2_label_categorical_accuracy: 0.8742 - q3_label_categorical_accuracy: 0.9670 - q4_label_categorical_accuracy: 0.8329 - val_loss: 15.3128 - val_q2_label_loss: 0.3723 - val_q3_label_loss: 0.0690 - val_q4_label_loss: 0.4439 - val_q2_label_categorical_accuracy: 0.9050 - val_q3_label_categorical_accuracy: 0.9926 - val_q4_label_categorical_accuracy: 0.8638\n",
      "Epoch 17/20\n",
      "18/18 [==============================] - 7s 412ms/step - loss: 15.4219 - q2_label_loss: 0.4542 - q3_label_loss: 0.1821 - q4_label_loss: 0.5209 - q2_label_categorical_accuracy: 0.8742 - q3_label_categorical_accuracy: 0.9670 - q4_label_categorical_accuracy: 0.8304 - val_loss: 14.9494 - val_q2_label_loss: 0.3720 - val_q3_label_loss: 0.0690 - val_q4_label_loss: 0.4393 - val_q2_label_categorical_accuracy: 0.9050 - val_q3_label_categorical_accuracy: 0.9926 - val_q4_label_categorical_accuracy: 0.8638\n",
      "Epoch 18/20\n",
      "18/18 [==============================] - 8s 424ms/step - loss: 15.0546 - q2_label_loss: 0.4469 - q3_label_loss: 0.1853 - q4_label_loss: 0.5129 - q2_label_categorical_accuracy: 0.8742 - q3_label_categorical_accuracy: 0.9670 - q4_label_categorical_accuracy: 0.8342 - val_loss: 14.5953 - val_q2_label_loss: 0.3715 - val_q3_label_loss: 0.0693 - val_q4_label_loss: 0.4364 - val_q2_label_categorical_accuracy: 0.9050 - val_q3_label_categorical_accuracy: 0.9926 - val_q4_label_categorical_accuracy: 0.8638\n",
      "Epoch 19/20\n",
      "18/18 [==============================] - 7s 407ms/step - loss: 14.7030 - q2_label_loss: 0.4486 - q3_label_loss: 0.1837 - q4_label_loss: 0.5085 - q2_label_categorical_accuracy: 0.8742 - q3_label_categorical_accuracy: 0.9670 - q4_label_categorical_accuracy: 0.8360 - val_loss: 14.2526 - val_q2_label_loss: 0.3740 - val_q3_label_loss: 0.0687 - val_q4_label_loss: 0.4348 - val_q2_label_categorical_accuracy: 0.9050 - val_q3_label_categorical_accuracy: 0.9926 - val_q4_label_categorical_accuracy: 0.8638\n",
      "Epoch 20/20\n",
      "18/18 [==============================] - 7s 416ms/step - loss: 14.3603 - q2_label_loss: 0.4495 - q3_label_loss: 0.1808 - q4_label_loss: 0.5077 - q2_label_categorical_accuracy: 0.8742 - q3_label_categorical_accuracy: 0.9670 - q4_label_categorical_accuracy: 0.8351 - val_loss: 13.9183 - val_q2_label_loss: 0.3760 - val_q3_label_loss: 0.0692 - val_q4_label_loss: 0.4336 - val_q2_label_categorical_accuracy: 0.9050 - val_q3_label_categorical_accuracy: 0.9926 - val_q4_label_categorical_accuracy: 0.8638\n"
     ]
    }
   ],
   "source": [
    "history = model.fit(encoded_X_train, y_train,\n",
    "   epochs=20, batch_size=256, validation_data=(encoded_X_validation, y_validation))"
   ]
  },
  {
   "cell_type": "code",
   "execution_count": 35,
   "metadata": {},
   "outputs": [],
   "source": [
    "q2_predictions, q3_predictions, q4_predictions = model.predict(encoded_X_validation)"
   ]
  },
  {
   "cell_type": "code",
   "execution_count": 36,
   "metadata": {},
   "outputs": [
    {
     "data": {
      "text/plain": [
       "array([[0.85056406, 0.03110933, 0.11832664],\n",
       "       [0.85039014, 0.03113224, 0.11847756],\n",
       "       [0.85056776, 0.03103727, 0.11839498],\n",
       "       ...,\n",
       "       [0.8503706 , 0.03107505, 0.11855432],\n",
       "       [0.8498998 , 0.03123876, 0.11886139],\n",
       "       [0.8506151 , 0.0310285 , 0.11835643]], dtype=float32)"
      ]
     },
     "execution_count": 36,
     "metadata": {},
     "output_type": "execute_result"
    }
   ],
   "source": [
    "q2_predictions"
   ]
  },
  {
   "cell_type": "code",
   "execution_count": 37,
   "metadata": {},
   "outputs": [
    {
     "data": {
      "text/plain": [
       "array([[0.02777432, 0.01450785, 0.9577178 ],\n",
       "       [0.02782738, 0.01451997, 0.9576526 ],\n",
       "       [0.02761234, 0.01442806, 0.9579596 ],\n",
       "       ...,\n",
       "       [0.0276253 , 0.01441199, 0.9579627 ],\n",
       "       [0.02771797, 0.01454764, 0.9577344 ],\n",
       "       [0.02763391, 0.01440237, 0.95796376]], dtype=float32)"
      ]
     },
     "execution_count": 37,
     "metadata": {},
     "output_type": "execute_result"
    }
   ],
   "source": [
    "q3_predictions"
   ]
  },
  {
   "cell_type": "code",
   "execution_count": 38,
   "metadata": {},
   "outputs": [
    {
     "data": {
      "text/plain": [
       "array([[0.83537775, 0.03051426, 0.1341079 ],\n",
       "       [0.8352385 , 0.03054755, 0.13421397],\n",
       "       [0.83592933, 0.03033586, 0.13373479],\n",
       "       ...,\n",
       "       [0.83606917, 0.03031762, 0.13361323],\n",
       "       [0.83520186, 0.03058035, 0.1342178 ],\n",
       "       [0.8356801 , 0.03045404, 0.1338658 ]], dtype=float32)"
      ]
     },
     "execution_count": 38,
     "metadata": {},
     "output_type": "execute_result"
    }
   ],
   "source": [
    "q4_predictions"
   ]
  },
  {
   "cell_type": "code",
   "execution_count": 39,
   "metadata": {},
   "outputs": [
    {
     "data": {
      "text/html": [
       "<div>\n",
       "<style scoped>\n",
       "    .dataframe tbody tr th:only-of-type {\n",
       "        vertical-align: middle;\n",
       "    }\n",
       "\n",
       "    .dataframe tbody tr th {\n",
       "        vertical-align: top;\n",
       "    }\n",
       "\n",
       "    .dataframe thead th {\n",
       "        text-align: right;\n",
       "    }\n",
       "</style>\n",
       "<table border=\"1\" class=\"dataframe\">\n",
       "  <thead>\n",
       "    <tr style=\"text-align: right;\">\n",
       "      <th></th>\n",
       "      <th>preprocessed_tweet_text</th>\n",
       "      <th>q1_label</th>\n",
       "      <th>q2_label_is_no</th>\n",
       "      <th>q2_label_is_unknown</th>\n",
       "      <th>q2_label_is_yes</th>\n",
       "      <th>q3_label_is_no</th>\n",
       "      <th>q3_label_is_unknown</th>\n",
       "      <th>q3_label_is_yes</th>\n",
       "      <th>q4_label_is_no</th>\n",
       "      <th>q4_label_is_unknown</th>\n",
       "      <th>q4_label_is_yes</th>\n",
       "    </tr>\n",
       "  </thead>\n",
       "  <tbody>\n",
       "    <tr>\n",
       "      <th>0</th>\n",
       "      <td>Unlike mRNA vaccines, which must be stored at -20 degrees C, adenovirus vaccines can be refrigerated for up to three months at 36–46 degrees F. That means it can be distributed more easily in doctor’s offices, pharmacies, clinics, or anywhere else. https://t.co/uLjAqopvbx publichealth what need know about johnson johnson vaccine</td>\n",
       "      <td>1</td>\n",
       "      <td>1</td>\n",
       "      <td>0</td>\n",
       "      <td>0</td>\n",
       "      <td>0</td>\n",
       "      <td>0</td>\n",
       "      <td>1</td>\n",
       "      <td>1</td>\n",
       "      <td>0</td>\n",
       "      <td>0</td>\n",
       "    </tr>\n",
       "    <tr>\n",
       "      <th>1</th>\n",
       "      <td>We've published new guidance on the information we  would need to approve any modifications to authorised COVID-19 vaccines, should virus mutations make them less effective at preventing the disease.   Find out more: https://t.co/GV7DwTKAje https://t.co/FTw9gDmt0s t twitter  Agovuk status photo</td>\n",
       "      <td>1</td>\n",
       "      <td>1</td>\n",
       "      <td>0</td>\n",
       "      <td>0</td>\n",
       "      <td>0</td>\n",
       "      <td>0</td>\n",
       "      <td>1</td>\n",
       "      <td>1</td>\n",
       "      <td>0</td>\n",
       "      <td>0</td>\n",
       "    </tr>\n",
       "    <tr>\n",
       "      <th>2</th>\n",
       "      <td>1,769,695 Londoners have received their first dose of a COVID-19 vaccine, and the total number of first and second doses given up to and including 22 February is now 1,837,280. There's a lot of misinformation about the vaccines going round—ignore it. They will save lives.</td>\n",
       "      <td>1</td>\n",
       "      <td>1</td>\n",
       "      <td>0</td>\n",
       "      <td>0</td>\n",
       "      <td>0</td>\n",
       "      <td>0</td>\n",
       "      <td>1</td>\n",
       "      <td>1</td>\n",
       "      <td>0</td>\n",
       "      <td>0</td>\n",
       "    </tr>\n",
       "    <tr>\n",
       "      <th>3</th>\n",
       "      <td>A Texas doctor gave out 10 doses of the Moderna COVID-19 vaccine after an opened vial was set to expire in 6 hours. Then he was charged with stealing the vaccine and was fired from his job. https://t.co/h6Aln28Q66 https://t.co/ZquXEu5jk2 webmd twitter vaccines covid vaccine news texas doctor fired giving expiring vaccines status photo</td>\n",
       "      <td>1</td>\n",
       "      <td>1</td>\n",
       "      <td>0</td>\n",
       "      <td>0</td>\n",
       "      <td>0</td>\n",
       "      <td>0</td>\n",
       "      <td>1</td>\n",
       "      <td>0</td>\n",
       "      <td>0</td>\n",
       "      <td>1</td>\n",
       "    </tr>\n",
       "    <tr>\n",
       "      <th>4</th>\n",
       "      <td>The media and Republicans are trying to give Trump credit for the coronavirus vaccine, but the truth is the vaccines were in development months before Operation Warp Speed. https://t.co/6qOnyCGf2H via @politicususa politicususa trump credit covid vaccine html</td>\n",
       "      <td>1</td>\n",
       "      <td>1</td>\n",
       "      <td>0</td>\n",
       "      <td>0</td>\n",
       "      <td>0</td>\n",
       "      <td>0</td>\n",
       "      <td>1</td>\n",
       "      <td>0</td>\n",
       "      <td>0</td>\n",
       "      <td>1</td>\n",
       "    </tr>\n",
       "    <tr>\n",
       "      <th>...</th>\n",
       "      <td>...</td>\n",
       "      <td>...</td>\n",
       "      <td>...</td>\n",
       "      <td>...</td>\n",
       "      <td>...</td>\n",
       "      <td>...</td>\n",
       "      <td>...</td>\n",
       "      <td>...</td>\n",
       "      <td>...</td>\n",
       "      <td>...</td>\n",
       "      <td>...</td>\n",
       "    </tr>\n",
       "    <tr>\n",
       "      <th>1752</th>\n",
       "      <td>Iraq imports one million doses of the Sputnik vaccine in Russia https://t.co/MsG6YMg2LaIraq imports one million doses of the Sputin vaccine/ t Iraq</td>\n",
       "      <td>1</td>\n",
       "      <td>1</td>\n",
       "      <td>0</td>\n",
       "      <td>0</td>\n",
       "      <td>0</td>\n",
       "      <td>0</td>\n",
       "      <td>1</td>\n",
       "      <td>1</td>\n",
       "      <td>0</td>\n",
       "      <td>0</td>\n",
       "    </tr>\n",
       "    <tr>\n",
       "      <th>1757</th>\n",
       "      <td>The Ministry of Health approves the first hospital specialized in providing Corona vaccination in the Kingdom</td>\n",
       "      <td>1</td>\n",
       "      <td>1</td>\n",
       "      <td>0</td>\n",
       "      <td>0</td>\n",
       "      <td>0</td>\n",
       "      <td>0</td>\n",
       "      <td>1</td>\n",
       "      <td>1</td>\n",
       "      <td>0</td>\n",
       "      <td>0</td>\n",
       "    </tr>\n",
       "    <tr>\n",
       "      <th>1765</th>\n",
       "      <td>H #Partial_ban https://t.co/CF3OtpBTNU twitter karim alsharari status video</td>\n",
       "      <td>1</td>\n",
       "      <td>1</td>\n",
       "      <td>0</td>\n",
       "      <td>0</td>\n",
       "      <td>0</td>\n",
       "      <td>0</td>\n",
       "      <td>1</td>\n",
       "      <td>1</td>\n",
       "      <td>0</td>\n",
       "      <td>0</td>\n",
       "    </tr>\n",
       "    <tr>\n",
       "      <th>1769</th>\n",
       "      <td>Saudi Arabia donates corona vaccines to Sudan, Ghana, Cote d&amp;#39;Ivoire, Nigeria and others https://t.co/CgwJzgOm4v twitter ambkattan status</td>\n",
       "      <td>1</td>\n",
       "      <td>1</td>\n",
       "      <td>0</td>\n",
       "      <td>0</td>\n",
       "      <td>0</td>\n",
       "      <td>0</td>\n",
       "      <td>1</td>\n",
       "      <td>1</td>\n",
       "      <td>0</td>\n",
       "      <td>0</td>\n",
       "    </tr>\n",
       "    <tr>\n",
       "      <th>1772</th>\n",
       "      <td>France plans to vaccinate 30 million people with the Corona vaccine by summer https://t.co/9tAYcLvFtW twitter France status</td>\n",
       "      <td>1</td>\n",
       "      <td>1</td>\n",
       "      <td>0</td>\n",
       "      <td>0</td>\n",
       "      <td>0</td>\n",
       "      <td>0</td>\n",
       "      <td>1</td>\n",
       "      <td>1</td>\n",
       "      <td>0</td>\n",
       "      <td>0</td>\n",
       "    </tr>\n",
       "  </tbody>\n",
       "</table>\n",
       "<p>947 rows × 11 columns</p>\n",
       "</div>"
      ],
      "text/plain": [
       "                                                                                                                                                                                                                                                                                                                               preprocessed_tweet_text  \\\n",
       "0           Unlike mRNA vaccines, which must be stored at -20 degrees C, adenovirus vaccines can be refrigerated for up to three months at 36–46 degrees F. That means it can be distributed more easily in doctor’s offices, pharmacies, clinics, or anywhere else. https://t.co/uLjAqopvbx publichealth what need know about johnson johnson vaccine   \n",
       "1                                              We've published new guidance on the information we  would need to approve any modifications to authorised COVID-19 vaccines, should virus mutations make them less effective at preventing the disease.   Find out more: https://t.co/GV7DwTKAje https://t.co/FTw9gDmt0s t twitter  Agovuk status photo   \n",
       "2                                                                     1,769,695 Londoners have received their first dose of a COVID-19 vaccine, and the total number of first and second doses given up to and including 22 February is now 1,837,280. There's a lot of misinformation about the vaccines going round—ignore it. They will save lives.   \n",
       "3     A Texas doctor gave out 10 doses of the Moderna COVID-19 vaccine after an opened vial was set to expire in 6 hours. Then he was charged with stealing the vaccine and was fired from his job. https://t.co/h6Aln28Q66 https://t.co/ZquXEu5jk2 webmd twitter vaccines covid vaccine news texas doctor fired giving expiring vaccines status photo   \n",
       "4                                                                                  The media and Republicans are trying to give Trump credit for the coronavirus vaccine, but the truth is the vaccines were in development months before Operation Warp Speed. https://t.co/6qOnyCGf2H via @politicususa politicususa trump credit covid vaccine html   \n",
       "...                                                                                                                                                                                                                                                                                                                                                ...   \n",
       "1752                                                                                                                                                                                               Iraq imports one million doses of the Sputnik vaccine in Russia https://t.co/MsG6YMg2LaIraq imports one million doses of the Sputin vaccine/ t Iraq   \n",
       "1757                                                                                                                                                                                                                                     The Ministry of Health approves the first hospital specialized in providing Corona vaccination in the Kingdom   \n",
       "1765                                                                                                                                                                                                                                                                       H #Partial_ban https://t.co/CF3OtpBTNU twitter karim alsharari status video   \n",
       "1769                                                                                                                                                                                                      Saudi Arabia donates corona vaccines to Sudan, Ghana, Cote d&#39;Ivoire, Nigeria and others https://t.co/CgwJzgOm4v twitter ambkattan status   \n",
       "1772                                                                                                                                                                                                                       France plans to vaccinate 30 million people with the Corona vaccine by summer https://t.co/9tAYcLvFtW twitter France status   \n",
       "\n",
       "      q1_label  q2_label_is_no  q2_label_is_unknown  q2_label_is_yes  \\\n",
       "0            1               1                    0                0   \n",
       "1            1               1                    0                0   \n",
       "2            1               1                    0                0   \n",
       "3            1               1                    0                0   \n",
       "4            1               1                    0                0   \n",
       "...        ...             ...                  ...              ...   \n",
       "1752         1               1                    0                0   \n",
       "1757         1               1                    0                0   \n",
       "1765         1               1                    0                0   \n",
       "1769         1               1                    0                0   \n",
       "1772         1               1                    0                0   \n",
       "\n",
       "      q3_label_is_no  q3_label_is_unknown  q3_label_is_yes  q4_label_is_no  \\\n",
       "0                  0                    0                1               1   \n",
       "1                  0                    0                1               1   \n",
       "2                  0                    0                1               1   \n",
       "3                  0                    0                1               0   \n",
       "4                  0                    0                1               0   \n",
       "...              ...                  ...              ...             ...   \n",
       "1752               0                    0                1               1   \n",
       "1757               0                    0                1               1   \n",
       "1765               0                    0                1               1   \n",
       "1769               0                    0                1               1   \n",
       "1772               0                    0                1               1   \n",
       "\n",
       "      q4_label_is_unknown  q4_label_is_yes  \n",
       "0                       0                0  \n",
       "1                       0                0  \n",
       "2                       0                0  \n",
       "3                       0                1  \n",
       "4                       0                1  \n",
       "...                   ...              ...  \n",
       "1752                    0                0  \n",
       "1757                    0                0  \n",
       "1765                    0                0  \n",
       "1769                    0                0  \n",
       "1772                    0                0  \n",
       "\n",
       "[947 rows x 11 columns]"
      ]
     },
     "execution_count": 39,
     "metadata": {},
     "output_type": "execute_result"
    }
   ],
   "source": [
    "validation_data"
   ]
  },
  {
   "cell_type": "code",
   "execution_count": 40,
   "metadata": {},
   "outputs": [],
   "source": [
    "validation_data['q2_label'] = validation_data.apply(lambda row: np.argmax(row[['q2_label_is_no', 'q2_label_is_unknown', 'q2_label_is_yes']]), axis=1)\n",
    "validation_data['q3_label'] = validation_data.apply(lambda row: np.argmax(row[['q3_label_is_no', 'q3_label_is_unknown', 'q3_label_is_yes']]), axis=1)\n",
    "validation_data['q4_label'] = validation_data.apply(lambda row: np.argmax(row[['q4_label_is_no', 'q4_label_is_unknown', 'q4_label_is_yes']]), axis=1)\n",
    "\n",
    "validation_data['predicted_q2'] = np.argmax(q2_predictions, axis=1)\n",
    "validation_data['predicted_q3'] = np.argmax(q3_predictions, axis=1)\n",
    "validation_data['predicted_q4'] = np.argmax(q4_predictions, axis=1)"
   ]
  },
  {
   "cell_type": "code",
   "execution_count": 41,
   "metadata": {},
   "outputs": [
    {
     "data": {
      "text/html": [
       "<div>\n",
       "<style scoped>\n",
       "    .dataframe tbody tr th:only-of-type {\n",
       "        vertical-align: middle;\n",
       "    }\n",
       "\n",
       "    .dataframe tbody tr th {\n",
       "        vertical-align: top;\n",
       "    }\n",
       "\n",
       "    .dataframe thead th {\n",
       "        text-align: right;\n",
       "    }\n",
       "</style>\n",
       "<table border=\"1\" class=\"dataframe\">\n",
       "  <thead>\n",
       "    <tr style=\"text-align: right;\">\n",
       "      <th></th>\n",
       "      <th>Predicted no</th>\n",
       "      <th>Predicted unknown</th>\n",
       "      <th>Predicted yes</th>\n",
       "    </tr>\n",
       "  </thead>\n",
       "  <tbody>\n",
       "    <tr>\n",
       "      <th>Actual no</th>\n",
       "      <td>857</td>\n",
       "      <td>0</td>\n",
       "      <td>0</td>\n",
       "    </tr>\n",
       "    <tr>\n",
       "      <th>Actual unknown</th>\n",
       "      <td>19</td>\n",
       "      <td>0</td>\n",
       "      <td>0</td>\n",
       "    </tr>\n",
       "    <tr>\n",
       "      <th>Actual yes</th>\n",
       "      <td>71</td>\n",
       "      <td>0</td>\n",
       "      <td>0</td>\n",
       "    </tr>\n",
       "  </tbody>\n",
       "</table>\n",
       "</div>"
      ],
      "text/plain": [
       "                Predicted no  Predicted unknown  Predicted yes\n",
       "Actual no                857                  0              0\n",
       "Actual unknown            19                  0              0\n",
       "Actual yes                71                  0              0"
      ]
     },
     "execution_count": 41,
     "metadata": {},
     "output_type": "execute_result"
    }
   ],
   "source": [
    "from sklearn.metrics import confusion_matrix\n",
    "\n",
    "cm_q2 = confusion_matrix(validation_data['q2_label'], validation_data['predicted_q2'])\n",
    "pd.DataFrame(cm_q2, index=['Actual no', 'Actual unknown', 'Actual yes'], columns = ['Predicted no', 'Predicted unknown', 'Predicted yes'])"
   ]
  },
  {
   "cell_type": "code",
   "execution_count": 42,
   "metadata": {},
   "outputs": [
    {
     "data": {
      "text/plain": [
       "array([2, 0], dtype=int64)"
      ]
     },
     "execution_count": 42,
     "metadata": {},
     "output_type": "execute_result"
    }
   ],
   "source": [
    "validation_data['q3_label'].unique()"
   ]
  },
  {
   "cell_type": "code",
   "execution_count": 43,
   "metadata": {},
   "outputs": [
    {
     "data": {
      "text/html": [
       "<div>\n",
       "<style scoped>\n",
       "    .dataframe tbody tr th:only-of-type {\n",
       "        vertical-align: middle;\n",
       "    }\n",
       "\n",
       "    .dataframe tbody tr th {\n",
       "        vertical-align: top;\n",
       "    }\n",
       "\n",
       "    .dataframe thead th {\n",
       "        text-align: right;\n",
       "    }\n",
       "</style>\n",
       "<table border=\"1\" class=\"dataframe\">\n",
       "  <thead>\n",
       "    <tr style=\"text-align: right;\">\n",
       "      <th></th>\n",
       "      <th>Predicted no</th>\n",
       "      <th>Predicted yes</th>\n",
       "    </tr>\n",
       "  </thead>\n",
       "  <tbody>\n",
       "    <tr>\n",
       "      <th>Actual no</th>\n",
       "      <td>0</td>\n",
       "      <td>7</td>\n",
       "    </tr>\n",
       "    <tr>\n",
       "      <th>Actual yes</th>\n",
       "      <td>0</td>\n",
       "      <td>940</td>\n",
       "    </tr>\n",
       "  </tbody>\n",
       "</table>\n",
       "</div>"
      ],
      "text/plain": [
       "            Predicted no  Predicted yes\n",
       "Actual no              0              7\n",
       "Actual yes             0            940"
      ]
     },
     "execution_count": 43,
     "metadata": {},
     "output_type": "execute_result"
    }
   ],
   "source": [
    "cm_q3 = confusion_matrix(validation_data['q3_label'], validation_data['predicted_q3'])\n",
    "pd.DataFrame(cm_q3, index=['Actual no', 'Actual yes'], columns = ['Predicted no', 'Predicted yes'])"
   ]
  },
  {
   "cell_type": "code",
   "execution_count": 44,
   "metadata": {},
   "outputs": [
    {
     "data": {
      "text/html": [
       "<div>\n",
       "<style scoped>\n",
       "    .dataframe tbody tr th:only-of-type {\n",
       "        vertical-align: middle;\n",
       "    }\n",
       "\n",
       "    .dataframe tbody tr th {\n",
       "        vertical-align: top;\n",
       "    }\n",
       "\n",
       "    .dataframe thead th {\n",
       "        text-align: right;\n",
       "    }\n",
       "</style>\n",
       "<table border=\"1\" class=\"dataframe\">\n",
       "  <thead>\n",
       "    <tr style=\"text-align: right;\">\n",
       "      <th></th>\n",
       "      <th>Predicted no</th>\n",
       "      <th>Predicted unknown</th>\n",
       "      <th>Predicted yes</th>\n",
       "    </tr>\n",
       "  </thead>\n",
       "  <tbody>\n",
       "    <tr>\n",
       "      <th>Actual no</th>\n",
       "      <td>818</td>\n",
       "      <td>0</td>\n",
       "      <td>0</td>\n",
       "    </tr>\n",
       "    <tr>\n",
       "      <th>Actual unknown</th>\n",
       "      <td>3</td>\n",
       "      <td>0</td>\n",
       "      <td>0</td>\n",
       "    </tr>\n",
       "    <tr>\n",
       "      <th>Actual yes</th>\n",
       "      <td>126</td>\n",
       "      <td>0</td>\n",
       "      <td>0</td>\n",
       "    </tr>\n",
       "  </tbody>\n",
       "</table>\n",
       "</div>"
      ],
      "text/plain": [
       "                Predicted no  Predicted unknown  Predicted yes\n",
       "Actual no                818                  0              0\n",
       "Actual unknown             3                  0              0\n",
       "Actual yes               126                  0              0"
      ]
     },
     "execution_count": 44,
     "metadata": {},
     "output_type": "execute_result"
    }
   ],
   "source": [
    "cm_q4 = confusion_matrix(validation_data['q4_label'], validation_data['predicted_q4'])\n",
    "pd.DataFrame(cm_q4, index=['Actual no', 'Actual unknown', 'Actual yes'], columns = ['Predicted no', 'Predicted unknown', 'Predicted yes'])"
   ]
  },
  {
   "cell_type": "code",
   "execution_count": 45,
   "metadata": {},
   "outputs": [],
   "source": [
    "train_data['q2_label'] = train_data.apply(lambda row: np.argmax(row[['q2_label_is_no', 'q2_label_is_unknown', 'q2_label_is_yes']]), axis=1).map({0: 'no', 1:'unknown', 2:'yes'})\n",
    "train_data['q3_label'] = train_data.apply(lambda row: np.argmax(row[['q3_label_is_no', 'q3_label_is_unknown', 'q3_label_is_yes']]), axis=1).map({0: 'no', 1:'unknown', 2:'yes'})\n",
    "train_data['q4_label'] = train_data.apply(lambda row: np.argmax(row[['q4_label_is_no', 'q4_label_is_unknown', 'q4_label_is_yes']]), axis=1).map({0: 'no', 1:'unknown', 2:'yes'})"
   ]
  },
  {
   "cell_type": "code",
   "execution_count": 46,
   "metadata": {},
   "outputs": [
    {
     "data": {
      "text/plain": [
       "q2_label\n",
       "no          3871\n",
       "yes          479\n",
       "unknown       78\n",
       "dtype: int64"
      ]
     },
     "execution_count": 46,
     "metadata": {},
     "output_type": "execute_result"
    }
   ],
   "source": [
    "train_data[['q2_label']].value_counts()"
   ]
  },
  {
   "cell_type": "code",
   "execution_count": 47,
   "metadata": {},
   "outputs": [
    {
     "data": {
      "text/plain": [
       "q3_label\n",
       "yes         4282\n",
       "no           128\n",
       "unknown       18\n",
       "dtype: int64"
      ]
     },
     "execution_count": 47,
     "metadata": {},
     "output_type": "execute_result"
    }
   ],
   "source": [
    "train_data[['q3_label']].value_counts()"
   ]
  },
  {
   "cell_type": "code",
   "execution_count": 48,
   "metadata": {},
   "outputs": [
    {
     "data": {
      "text/plain": [
       "q4_label\n",
       "no          3719\n",
       "yes          682\n",
       "unknown       27\n",
       "dtype: int64"
      ]
     },
     "execution_count": 48,
     "metadata": {},
     "output_type": "execute_result"
    }
   ],
   "source": [
    "train_data[['q4_label']].value_counts()"
   ]
  },
  {
   "cell_type": "markdown",
   "metadata": {},
   "source": [
    "### Trying to fix overfitting issue with the trained augmented_data"
   ]
  },
  {
   "cell_type": "code",
   "execution_count": 25,
   "metadata": {},
   "outputs": [
    {
     "data": {
      "text/html": [
       "<div>\n",
       "<style scoped>\n",
       "    .dataframe tbody tr th:only-of-type {\n",
       "        vertical-align: middle;\n",
       "    }\n",
       "\n",
       "    .dataframe tbody tr th {\n",
       "        vertical-align: top;\n",
       "    }\n",
       "\n",
       "    .dataframe thead th {\n",
       "        text-align: right;\n",
       "    }\n",
       "</style>\n",
       "<table border=\"1\" class=\"dataframe\">\n",
       "  <thead>\n",
       "    <tr style=\"text-align: right;\">\n",
       "      <th></th>\n",
       "      <th>preprocessed_tweet_text</th>\n",
       "      <th>q2_label</th>\n",
       "      <th>q3_label</th>\n",
       "      <th>q4_label</th>\n",
       "    </tr>\n",
       "  </thead>\n",
       "  <tbody>\n",
       "    <tr>\n",
       "      <th>8</th>\n",
       "      <td>This is the Race of someone who just spsnt 9 hourW in personal protective equipment moCing critically ill Covid19 patients around London. I feel brokFn - and we are on&lt;y at the start. I am begHinT people, please please do social distancing and selB isolSRion # Dovid1i URL</td>\n",
       "      <td>no</td>\n",
       "      <td>yes</td>\n",
       "      <td>no</td>\n",
       "    </tr>\n",
       "    <tr>\n",
       "      <th>9</th>\n",
       "      <td>Htis is the face of smoeoen who juts spent 9 hours in persnola protective equipment moving critically ill Covid19 patients around London. I feel broken - and we are olny at the statr. I am begging people, please plesae do social idstancgin and self islaotion # covi9d1 URL</td>\n",
       "      <td>no</td>\n",
       "      <td>yes</td>\n",
       "      <td>no</td>\n",
       "    </tr>\n",
       "  </tbody>\n",
       "</table>\n",
       "</div>"
      ],
      "text/plain": [
       "                                                                                                                                                                                                                                                            preprocessed_tweet_text  \\\n",
       "8  This is the Race of someone who just spsnt 9 hourW in personal protective equipment moCing critically ill Covid19 patients around London. I feel brokFn - and we are on<y at the start. I am begHinT people, please please do social distancing and selB isolSRion # Dovid1i URL   \n",
       "9  Htis is the face of smoeoen who juts spent 9 hours in persnola protective equipment moving critically ill Covid19 patients around London. I feel broken - and we are olny at the statr. I am begging people, please plesae do social idstancgin and self islaotion # covi9d1 URL   \n",
       "\n",
       "  q2_label q3_label q4_label  \n",
       "8       no      yes       no  \n",
       "9       no      yes       no  "
      ]
     },
     "execution_count": 25,
     "metadata": {},
     "output_type": "execute_result"
    }
   ],
   "source": [
    "augmented_train_data = pd.read_csv('../dataset/train_augmented.tsv', sep='\\t')\n",
    "augmented_train_data = augmented_train_data[augmented_train_data['q1_label'] == 'yes']\n",
    "augmented_train_data = augmented_train_data.fillna('unknown')\n",
    "\n",
    "augmented_train_data = augmented_train_data[['preprocessed_tweet_text', 'q2_label', 'q3_label', 'q4_label']]\n",
    "\n",
    "augmented_train_data.head(2)"
   ]
  },
  {
   "cell_type": "code",
   "execution_count": 26,
   "metadata": {},
   "outputs": [],
   "source": [
    "train_data = train_data[train_data['q1_label'] == 1]\n",
    "validation_data = validation_data[validation_data['q1_label'] == 1]"
   ]
  },
  {
   "cell_type": "markdown",
   "metadata": {},
   "source": [
    "This time I am going to train the models for the Q2, Q3 and Q4 questions separately."
   ]
  },
  {
   "cell_type": "markdown",
   "metadata": {},
   "source": [
    "#### Add augmented data to the least occuring classes in Q2 ('yes' and 'unknown')"
   ]
  },
  {
   "cell_type": "code",
   "execution_count": 27,
   "metadata": {},
   "outputs": [],
   "source": [
    "part_of_augmented = augmented_train_data[augmented_train_data['q2_label'].isin(['yes', 'unknown'])]\n",
    "one_hot_encode_aug_q2 = pd.get_dummies(part_of_augmented, columns=['q2_label', 'q3_label', 'q4_label'], prefix=[\"q2_label_is\", \"q3_label_is\", \"q4_label_is\"])"
   ]
  },
  {
   "cell_type": "code",
   "execution_count": 28,
   "metadata": {},
   "outputs": [
    {
     "data": {
      "text/plain": [
       "yes        4311\n",
       "no         3871\n",
       "unknown     702\n",
       "Name: q2_label, dtype: int64"
      ]
     },
     "execution_count": 28,
     "metadata": {},
     "output_type": "execute_result"
    }
   ],
   "source": [
    "train_data_for_q2 = train_data.append(one_hot_encode_aug_q2)\n",
    "train_data_for_q2['q2_label_is_no'] = train_data_for_q2['q2_label_is_no'].fillna(0)\n",
    "train_data_for_q2['q2_label'] = train_data_for_q2.apply(lambda row: 'no' if row['q2_label_is_no'] == 1 else ('unknown' if row['q2_label_is_unknown'] else 'yes') , axis=1)\n",
    "train_data_for_q2['q2_label'].value_counts()"
   ]
  },
  {
   "cell_type": "code",
   "execution_count": 29,
   "metadata": {},
   "outputs": [],
   "source": [
    "train_data_for_q2 = train_data_for_q2.sample(frac=1)"
   ]
  },
  {
   "cell_type": "code",
   "execution_count": 30,
   "metadata": {},
   "outputs": [],
   "source": [
    "train_dataset_for_q2 = tf.data.Dataset.from_tensor_slices(((train_data_for_q2['preprocessed_tweet_text'], train_data_for_q2['q2_label'])))"
   ]
  },
  {
   "cell_type": "code",
   "execution_count": 31,
   "metadata": {},
   "outputs": [],
   "source": [
    "encoder = tf.keras.layers.TextVectorization(max_tokens=VOCAB_SIZE, output_sequence_length=MAX_ENCODED_LEN)\n",
    "encoder.adapt(train_dataset_for_q2.map(lambda text, label: text))"
   ]
  },
  {
   "cell_type": "code",
   "execution_count": 32,
   "metadata": {},
   "outputs": [],
   "source": [
    "model = tf.keras.Sequential([\n",
    "    encoder,\n",
    "    tf.keras.layers.Embedding(\n",
    "        input_dim=len(encoder.get_vocabulary()),\n",
    "        output_dim=64),\n",
    "    tf.keras.layers.Bidirectional(tf.keras.layers.LSTM(64)),\n",
    "    tf.keras.layers.Dense(64, activation='relu', kernel_regularizer = tf.keras.regularizers.L2(0.1)),\n",
    "    tf.keras.layers.Dropout(0.3),\n",
    "    tf.keras.layers.Dense(32, activation='relu', kernel_regularizer = tf.keras.regularizers.L2(0.1)),\n",
    "    tf.keras.layers.Dropout(0.2),\n",
    "    tf.keras.layers.Dense(3, activation='softmax')\n",
    "    ])\n",
    "\n",
    "model.compile(loss=tf.keras.losses.CategoricalCrossentropy(),\n",
    "      optimizer=tf.keras.optimizers.Adam(1e-3),\n",
    "      metrics=['accuracy'])"
   ]
  },
  {
   "cell_type": "code",
   "execution_count": 33,
   "metadata": {},
   "outputs": [
    {
     "name": "stdout",
     "output_type": "stream",
     "text": [
      "Epoch 1/5\n",
      "139/139 [==============================] - 14s 80ms/step - loss: 6.0301 - accuracy: 0.5073 - val_loss: 2.0725 - val_accuracy: 0.5797\n",
      "Epoch 2/5\n",
      "139/139 [==============================] - 11s 77ms/step - loss: 1.0464 - accuracy: 0.8268 - val_loss: 0.6758 - val_accuracy: 0.8543\n",
      "Epoch 3/5\n",
      "139/139 [==============================] - 11s 79ms/step - loss: 0.3844 - accuracy: 0.9557 - val_loss: 0.5633 - val_accuracy: 0.8775\n",
      "Epoch 4/5\n",
      "139/139 [==============================] - 11s 80ms/step - loss: 0.2683 - accuracy: 0.9757 - val_loss: 0.5591 - val_accuracy: 0.8796\n",
      "Epoch 5/5\n",
      "139/139 [==============================] - 11s 79ms/step - loss: 0.2193 - accuracy: 0.9845 - val_loss: 0.5693 - val_accuracy: 0.8807\n"
     ]
    }
   ],
   "source": [
    "history = model.fit(train_data_for_q2['preprocessed_tweet_text'], train_data_for_q2[['q2_label_is_no','q2_label_is_unknown','q2_label_is_yes']], batch_size=64, epochs=5, \n",
    "                    validation_data=(validation_data['preprocessed_tweet_text'], validation_data[['q2_label_is_no','q2_label_is_unknown','q2_label_is_yes']]))"
   ]
  },
  {
   "cell_type": "code",
   "execution_count": 34,
   "metadata": {},
   "outputs": [
    {
     "data": {
      "text/plain": [
       "array([[0.93472165, 0.03340579, 0.03187265],\n",
       "       [0.9817832 , 0.00738535, 0.01083145],\n",
       "       [0.98095727, 0.006977  , 0.01206575],\n",
       "       [0.98224187, 0.0070759 , 0.01068221],\n",
       "       [0.98250616, 0.00659674, 0.01089713]], dtype=float32)"
      ]
     },
     "execution_count": 34,
     "metadata": {},
     "output_type": "execute_result"
    }
   ],
   "source": [
    "predictions_q2 = model.predict(validation_data['preprocessed_tweet_text'])\n",
    "predictions_q2[:5]"
   ]
  },
  {
   "cell_type": "code",
   "execution_count": 35,
   "metadata": {},
   "outputs": [],
   "source": [
    "predictions_q2 = np.argmax(predictions_q2, axis=1)"
   ]
  },
  {
   "cell_type": "code",
   "execution_count": 36,
   "metadata": {},
   "outputs": [],
   "source": [
    "validation_data['q2_label'] = validation_data.apply(lambda row: 0 if row['q2_label_is_no'] == 1 else (1 if row['q2_label_is_unknown'] == 1 else 2) , axis=1)"
   ]
  },
  {
   "cell_type": "code",
   "execution_count": 37,
   "metadata": {},
   "outputs": [
    {
     "data": {
      "text/html": [
       "<div>\n",
       "<style scoped>\n",
       "    .dataframe tbody tr th:only-of-type {\n",
       "        vertical-align: middle;\n",
       "    }\n",
       "\n",
       "    .dataframe tbody tr th {\n",
       "        vertical-align: top;\n",
       "    }\n",
       "\n",
       "    .dataframe thead th {\n",
       "        text-align: right;\n",
       "    }\n",
       "</style>\n",
       "<table border=\"1\" class=\"dataframe\">\n",
       "  <thead>\n",
       "    <tr style=\"text-align: right;\">\n",
       "      <th></th>\n",
       "      <th>Predicted no</th>\n",
       "      <th>Predicted unknown</th>\n",
       "      <th>Predicted yes</th>\n",
       "    </tr>\n",
       "  </thead>\n",
       "  <tbody>\n",
       "    <tr>\n",
       "      <th>Actual no</th>\n",
       "      <td>827</td>\n",
       "      <td>4</td>\n",
       "      <td>26</td>\n",
       "    </tr>\n",
       "    <tr>\n",
       "      <th>Actual unknown</th>\n",
       "      <td>19</td>\n",
       "      <td>0</td>\n",
       "      <td>0</td>\n",
       "    </tr>\n",
       "    <tr>\n",
       "      <th>Actual yes</th>\n",
       "      <td>63</td>\n",
       "      <td>1</td>\n",
       "      <td>7</td>\n",
       "    </tr>\n",
       "  </tbody>\n",
       "</table>\n",
       "</div>"
      ],
      "text/plain": [
       "                Predicted no  Predicted unknown  Predicted yes\n",
       "Actual no                827                  4             26\n",
       "Actual unknown            19                  0              0\n",
       "Actual yes                63                  1              7"
      ]
     },
     "execution_count": 37,
     "metadata": {},
     "output_type": "execute_result"
    }
   ],
   "source": [
    "cm_q2 = confusion_matrix(validation_data['q2_label'], predictions_q2)\n",
    "pd.DataFrame(cm_q2, index=['Actual no', 'Actual unknown', 'Actual yes'], columns = ['Predicted no', 'Predicted unknown', 'Predicted yes'])"
   ]
  },
  {
   "cell_type": "code",
   "execution_count": 38,
   "metadata": {},
   "outputs": [
    {
     "data": {
      "text/html": [
       "<div>\n",
       "<style scoped>\n",
       "    .dataframe tbody tr th:only-of-type {\n",
       "        vertical-align: middle;\n",
       "    }\n",
       "\n",
       "    .dataframe tbody tr th {\n",
       "        vertical-align: top;\n",
       "    }\n",
       "\n",
       "    .dataframe thead th {\n",
       "        text-align: right;\n",
       "    }\n",
       "</style>\n",
       "<table border=\"1\" class=\"dataframe\">\n",
       "  <thead>\n",
       "    <tr style=\"text-align: right;\">\n",
       "      <th></th>\n",
       "      <th>No</th>\n",
       "      <th>Unknown</th>\n",
       "      <th>Yes</th>\n",
       "      <th>accuracy</th>\n",
       "      <th>macro avg</th>\n",
       "      <th>weighted avg</th>\n",
       "    </tr>\n",
       "  </thead>\n",
       "  <tbody>\n",
       "    <tr>\n",
       "      <th>precision</th>\n",
       "      <td>0.909791</td>\n",
       "      <td>0.0</td>\n",
       "      <td>0.212121</td>\n",
       "      <td>0.880676</td>\n",
       "      <td>0.373971</td>\n",
       "      <td>0.839231</td>\n",
       "    </tr>\n",
       "    <tr>\n",
       "      <th>recall</th>\n",
       "      <td>0.964994</td>\n",
       "      <td>0.0</td>\n",
       "      <td>0.098592</td>\n",
       "      <td>0.880676</td>\n",
       "      <td>0.354529</td>\n",
       "      <td>0.880676</td>\n",
       "    </tr>\n",
       "    <tr>\n",
       "      <th>f1-score</th>\n",
       "      <td>0.936580</td>\n",
       "      <td>0.0</td>\n",
       "      <td>0.134615</td>\n",
       "      <td>0.880676</td>\n",
       "      <td>0.357065</td>\n",
       "      <td>0.857663</td>\n",
       "    </tr>\n",
       "    <tr>\n",
       "      <th>support</th>\n",
       "      <td>857.000000</td>\n",
       "      <td>19.0</td>\n",
       "      <td>71.000000</td>\n",
       "      <td>0.880676</td>\n",
       "      <td>947.000000</td>\n",
       "      <td>947.000000</td>\n",
       "    </tr>\n",
       "  </tbody>\n",
       "</table>\n",
       "</div>"
      ],
      "text/plain": [
       "                   No  Unknown        Yes  accuracy   macro avg  weighted avg\n",
       "precision    0.909791      0.0   0.212121  0.880676    0.373971      0.839231\n",
       "recall       0.964994      0.0   0.098592  0.880676    0.354529      0.880676\n",
       "f1-score     0.936580      0.0   0.134615  0.880676    0.357065      0.857663\n",
       "support    857.000000     19.0  71.000000  0.880676  947.000000    947.000000"
      ]
     },
     "execution_count": 38,
     "metadata": {},
     "output_type": "execute_result"
    }
   ],
   "source": [
    "pd.DataFrame(classification_report(validation_data['q2_label'], predictions_q2, zero_division=0, output_dict=True)).rename(columns={'0': 'No', '1': 'Unknown', '2': 'Yes'})"
   ]
  },
  {
   "cell_type": "markdown",
   "metadata": {},
   "source": [
    "No big improvement, but still better."
   ]
  },
  {
   "cell_type": "markdown",
   "metadata": {},
   "source": [
    "#### Add augmented data to the least occuring classes in Q3 ('no' and 'unknown')"
   ]
  },
  {
   "cell_type": "code",
   "execution_count": 39,
   "metadata": {},
   "outputs": [],
   "source": [
    "one_hot_encode_aug_q3 = pd.get_dummies(augmented_train_data[augmented_train_data['q3_label'].isin(['no', 'unknown'])], columns=['q2_label', 'q3_label', 'q4_label'], prefix=[\"q2_label_is\", \"q3_label_is\", \"q4_label_is\"])"
   ]
  },
  {
   "cell_type": "code",
   "execution_count": 40,
   "metadata": {},
   "outputs": [
    {
     "data": {
      "text/plain": [
       "yes        4282\n",
       "no         1152\n",
       "unknown     162\n",
       "Name: q3_label, dtype: int64"
      ]
     },
     "execution_count": 40,
     "metadata": {},
     "output_type": "execute_result"
    }
   ],
   "source": [
    "train_data_for_q3 = train_data.append(one_hot_encode_aug_q3)\n",
    "train_data_for_q3['q3_label_is_yes'] = train_data_for_q3['q3_label_is_yes'].fillna(0)\n",
    "train_data_for_q3['q3_label'] = train_data_for_q3.apply(lambda row: 'no' if row['q3_label_is_no'] == 1 else ('unknown' if row['q3_label_is_unknown'] else 'yes') , axis=1)\n",
    "train_data_for_q3['q3_label'].value_counts()"
   ]
  },
  {
   "cell_type": "code",
   "execution_count": 41,
   "metadata": {},
   "outputs": [],
   "source": [
    "train_data_for_q3 = train_data_for_q3.sample(frac=1)"
   ]
  },
  {
   "cell_type": "code",
   "execution_count": 42,
   "metadata": {},
   "outputs": [],
   "source": [
    "train_dataset_for_q3 = tf.data.Dataset.from_tensor_slices(((train_data_for_q3['preprocessed_tweet_text'], train_data_for_q3['q3_label'])))"
   ]
  },
  {
   "cell_type": "code",
   "execution_count": 43,
   "metadata": {},
   "outputs": [],
   "source": [
    "encoder = tf.keras.layers.TextVectorization(max_tokens=VOCAB_SIZE, output_sequence_length=MAX_ENCODED_LEN)\n",
    "encoder.adapt(train_dataset_for_q3.map(lambda text, label: text))"
   ]
  },
  {
   "cell_type": "code",
   "execution_count": 44,
   "metadata": {},
   "outputs": [],
   "source": [
    "model = tf.keras.Sequential([\n",
    "    encoder,\n",
    "    tf.keras.layers.Embedding(\n",
    "        input_dim=len(encoder.get_vocabulary()),\n",
    "        output_dim=64),\n",
    "    tf.keras.layers.Bidirectional(tf.keras.layers.LSTM(64)),\n",
    "    tf.keras.layers.Dense(64, activation='relu', kernel_regularizer = tf.keras.regularizers.L2(0.1)),\n",
    "    tf.keras.layers.Dropout(0.3),\n",
    "    tf.keras.layers.Dense(32, activation='relu', kernel_regularizer = tf.keras.regularizers.L2(0.1)),\n",
    "    tf.keras.layers.Dropout(0.2),\n",
    "    tf.keras.layers.Dense(3, activation='softmax')\n",
    "    ])\n",
    "\n",
    "model.compile(loss=tf.keras.losses.CategoricalCrossentropy(),\n",
    "      optimizer=tf.keras.optimizers.Adam(1e-3),\n",
    "      metrics=['accuracy'])"
   ]
  },
  {
   "cell_type": "code",
   "execution_count": 45,
   "metadata": {},
   "outputs": [
    {
     "name": "stdout",
     "output_type": "stream",
     "text": [
      "Epoch 1/5\n",
      "88/88 [==============================] - 11s 92ms/step - loss: 7.5488 - accuracy: 0.7564 - val_loss: 3.1547 - val_accuracy: 0.9926\n",
      "Epoch 2/5\n",
      "88/88 [==============================] - 7s 83ms/step - loss: 1.8914 - accuracy: 0.8758 - val_loss: 0.7600 - val_accuracy: 0.9778\n",
      "Epoch 3/5\n",
      "88/88 [==============================] - 7s 85ms/step - loss: 0.5572 - accuracy: 0.9603 - val_loss: 0.2726 - val_accuracy: 0.9768\n",
      "Epoch 4/5\n",
      "88/88 [==============================] - 7s 84ms/step - loss: 0.2768 - accuracy: 0.9675 - val_loss: 0.1730 - val_accuracy: 0.9810\n",
      "Epoch 5/5\n",
      "88/88 [==============================] - 7s 85ms/step - loss: 0.2171 - accuracy: 0.9664 - val_loss: 0.1307 - val_accuracy: 0.9894\n"
     ]
    }
   ],
   "source": [
    "history = model.fit(train_data_for_q3['preprocessed_tweet_text'], train_data_for_q3[['q3_label_is_no','q3_label_is_unknown','q3_label_is_yes']], batch_size=64, epochs=5, \n",
    "                    validation_data=(validation_data['preprocessed_tweet_text'], validation_data[['q3_label_is_no','q3_label_is_unknown','q3_label_is_yes']]))"
   ]
  },
  {
   "cell_type": "code",
   "execution_count": 46,
   "metadata": {},
   "outputs": [
    {
     "data": {
      "text/plain": [
       "array([[0.0038464 , 0.00246696, 0.9936866 ],\n",
       "       [0.00442348, 0.00284217, 0.9927343 ],\n",
       "       [0.00374871, 0.00240339, 0.9938479 ],\n",
       "       [0.00368682, 0.00236321, 0.99395   ],\n",
       "       [0.00499758, 0.0032156 , 0.9917868 ]], dtype=float32)"
      ]
     },
     "execution_count": 46,
     "metadata": {},
     "output_type": "execute_result"
    }
   ],
   "source": [
    "predictions_q3 = model.predict(validation_data['preprocessed_tweet_text'])\n",
    "predictions_q3[:5]"
   ]
  },
  {
   "cell_type": "code",
   "execution_count": 47,
   "metadata": {},
   "outputs": [],
   "source": [
    "predictions_q3 = np.argmax(predictions_q3, axis=1)"
   ]
  },
  {
   "cell_type": "code",
   "execution_count": 48,
   "metadata": {},
   "outputs": [],
   "source": [
    "validation_data['q3_label'] = validation_data.apply(lambda row: 0 if row['q3_label_is_no'] == 1 else (1 if row['q3_label_is_unknown'] == 1 else 2) , axis=1)"
   ]
  },
  {
   "cell_type": "code",
   "execution_count": 49,
   "metadata": {},
   "outputs": [
    {
     "data": {
      "text/plain": [
       "array([0, 2], dtype=int64)"
      ]
     },
     "execution_count": 49,
     "metadata": {},
     "output_type": "execute_result"
    }
   ],
   "source": [
    "np.unique(predictions_q3)"
   ]
  },
  {
   "cell_type": "code",
   "execution_count": 50,
   "metadata": {},
   "outputs": [
    {
     "data": {
      "text/html": [
       "<div>\n",
       "<style scoped>\n",
       "    .dataframe tbody tr th:only-of-type {\n",
       "        vertical-align: middle;\n",
       "    }\n",
       "\n",
       "    .dataframe tbody tr th {\n",
       "        vertical-align: top;\n",
       "    }\n",
       "\n",
       "    .dataframe thead th {\n",
       "        text-align: right;\n",
       "    }\n",
       "</style>\n",
       "<table border=\"1\" class=\"dataframe\">\n",
       "  <thead>\n",
       "    <tr style=\"text-align: right;\">\n",
       "      <th></th>\n",
       "      <th>Predicted no</th>\n",
       "      <th>Predicted yes</th>\n",
       "    </tr>\n",
       "  </thead>\n",
       "  <tbody>\n",
       "    <tr>\n",
       "      <th>Actual no</th>\n",
       "      <td>2</td>\n",
       "      <td>5</td>\n",
       "    </tr>\n",
       "    <tr>\n",
       "      <th>Actual yes</th>\n",
       "      <td>5</td>\n",
       "      <td>935</td>\n",
       "    </tr>\n",
       "  </tbody>\n",
       "</table>\n",
       "</div>"
      ],
      "text/plain": [
       "            Predicted no  Predicted yes\n",
       "Actual no              2              5\n",
       "Actual yes             5            935"
      ]
     },
     "execution_count": 50,
     "metadata": {},
     "output_type": "execute_result"
    }
   ],
   "source": [
    "cm_q3 = confusion_matrix(validation_data['q3_label'], predictions_q3)\n",
    "pd.DataFrame(cm_q3, index=['Actual no', 'Actual yes'], columns = ['Predicted no', 'Predicted yes'])"
   ]
  },
  {
   "cell_type": "code",
   "execution_count": 51,
   "metadata": {},
   "outputs": [
    {
     "data": {
      "text/html": [
       "<div>\n",
       "<style scoped>\n",
       "    .dataframe tbody tr th:only-of-type {\n",
       "        vertical-align: middle;\n",
       "    }\n",
       "\n",
       "    .dataframe tbody tr th {\n",
       "        vertical-align: top;\n",
       "    }\n",
       "\n",
       "    .dataframe thead th {\n",
       "        text-align: right;\n",
       "    }\n",
       "</style>\n",
       "<table border=\"1\" class=\"dataframe\">\n",
       "  <thead>\n",
       "    <tr style=\"text-align: right;\">\n",
       "      <th></th>\n",
       "      <th>No</th>\n",
       "      <th>Yes</th>\n",
       "      <th>accuracy</th>\n",
       "      <th>macro avg</th>\n",
       "      <th>weighted avg</th>\n",
       "    </tr>\n",
       "  </thead>\n",
       "  <tbody>\n",
       "    <tr>\n",
       "      <th>precision</th>\n",
       "      <td>0.285714</td>\n",
       "      <td>0.994681</td>\n",
       "      <td>0.98944</td>\n",
       "      <td>0.640198</td>\n",
       "      <td>0.98944</td>\n",
       "    </tr>\n",
       "    <tr>\n",
       "      <th>recall</th>\n",
       "      <td>0.285714</td>\n",
       "      <td>0.994681</td>\n",
       "      <td>0.98944</td>\n",
       "      <td>0.640198</td>\n",
       "      <td>0.98944</td>\n",
       "    </tr>\n",
       "    <tr>\n",
       "      <th>f1-score</th>\n",
       "      <td>0.285714</td>\n",
       "      <td>0.994681</td>\n",
       "      <td>0.98944</td>\n",
       "      <td>0.640198</td>\n",
       "      <td>0.98944</td>\n",
       "    </tr>\n",
       "    <tr>\n",
       "      <th>support</th>\n",
       "      <td>7.000000</td>\n",
       "      <td>940.000000</td>\n",
       "      <td>0.98944</td>\n",
       "      <td>947.000000</td>\n",
       "      <td>947.00000</td>\n",
       "    </tr>\n",
       "  </tbody>\n",
       "</table>\n",
       "</div>"
      ],
      "text/plain": [
       "                 No         Yes  accuracy   macro avg  weighted avg\n",
       "precision  0.285714    0.994681   0.98944    0.640198       0.98944\n",
       "recall     0.285714    0.994681   0.98944    0.640198       0.98944\n",
       "f1-score   0.285714    0.994681   0.98944    0.640198       0.98944\n",
       "support    7.000000  940.000000   0.98944  947.000000     947.00000"
      ]
     },
     "execution_count": 51,
     "metadata": {},
     "output_type": "execute_result"
    }
   ],
   "source": [
    "pd.DataFrame(classification_report(validation_data['q3_label'], predictions_q3, zero_division=0, output_dict=True)).rename(columns={'0': 'No', '1': 'Unknown', '2': 'Yes'})"
   ]
  },
  {
   "cell_type": "markdown",
   "metadata": {},
   "source": [
    "No big improvement, but still better."
   ]
  },
  {
   "cell_type": "markdown",
   "metadata": {},
   "source": [
    "#### Add augmented data to the least occuring classes in Q4 ('yes' and 'unknown')"
   ]
  },
  {
   "cell_type": "code",
   "execution_count": 52,
   "metadata": {},
   "outputs": [],
   "source": [
    "one_hot_encode_aug_q4 = pd.get_dummies(augmented_train_data[augmented_train_data['q4_label'].isin(['yes', 'unknown'])], columns=['q2_label', 'q3_label', 'q4_label'], prefix=[\"q2_label_is\", \"q3_label_is\", \"q4_label_is\"])"
   ]
  },
  {
   "cell_type": "code",
   "execution_count": 53,
   "metadata": {},
   "outputs": [
    {
     "data": {
      "text/plain": [
       "yes        6138\n",
       "no         3719\n",
       "unknown     243\n",
       "Name: q4_label, dtype: int64"
      ]
     },
     "execution_count": 53,
     "metadata": {},
     "output_type": "execute_result"
    }
   ],
   "source": [
    "train_data_for_q4 = train_data.append(one_hot_encode_aug_q4)\n",
    "train_data_for_q4['q4_label_is_no'] = train_data_for_q4['q4_label_is_no'].fillna(0)\n",
    "train_data_for_q4['q4_label'] = train_data_for_q4.apply(lambda row: 'no' if row['q4_label_is_no'] == 1 else ('unknown' if row['q4_label_is_unknown'] else 'yes') , axis=1)\n",
    "train_data_for_q4['q4_label'].value_counts()"
   ]
  },
  {
   "cell_type": "code",
   "execution_count": 54,
   "metadata": {},
   "outputs": [],
   "source": [
    "train_data_for_q4 = train_data_for_q4.sample(frac=1)"
   ]
  },
  {
   "cell_type": "code",
   "execution_count": 55,
   "metadata": {},
   "outputs": [],
   "source": [
    "train_dataset_for_q4 = tf.data.Dataset.from_tensor_slices(((train_data_for_q4['preprocessed_tweet_text'], train_data_for_q4['q4_label'])))"
   ]
  },
  {
   "cell_type": "code",
   "execution_count": 56,
   "metadata": {},
   "outputs": [],
   "source": [
    "encoder = tf.keras.layers.TextVectorization(max_tokens=VOCAB_SIZE, output_sequence_length=MAX_ENCODED_LEN)\n",
    "encoder.adapt(train_dataset_for_q4.map(lambda text, label: text))"
   ]
  },
  {
   "cell_type": "code",
   "execution_count": 57,
   "metadata": {},
   "outputs": [],
   "source": [
    "model = tf.keras.Sequential([\n",
    "    encoder,\n",
    "    tf.keras.layers.Embedding(\n",
    "        input_dim=len(encoder.get_vocabulary()),\n",
    "        output_dim=64),\n",
    "    tf.keras.layers.Bidirectional(tf.keras.layers.LSTM(64)),\n",
    "    tf.keras.layers.Dense(64, activation='relu', kernel_regularizer = tf.keras.regularizers.L2(0.1)),\n",
    "    tf.keras.layers.Dropout(0.3),\n",
    "    tf.keras.layers.Dense(32, activation='relu', kernel_regularizer = tf.keras.regularizers.L2(0.1)),\n",
    "    tf.keras.layers.Dropout(0.2),\n",
    "    tf.keras.layers.Dense(3, activation='softmax')\n",
    "    ])\n",
    "\n",
    "model.compile(loss=tf.keras.losses.CategoricalCrossentropy(),\n",
    "      optimizer=tf.keras.optimizers.Adam(1e-3),\n",
    "      metrics=['accuracy'])"
   ]
  },
  {
   "cell_type": "code",
   "execution_count": 58,
   "metadata": {},
   "outputs": [
    {
     "name": "stdout",
     "output_type": "stream",
     "text": [
      "Epoch 1/5\n",
      "158/158 [==============================] - 18s 91ms/step - loss: 5.4045 - accuracy: 0.5901 - val_loss: 1.7070 - val_accuracy: 0.2027\n",
      "Epoch 2/5\n",
      "158/158 [==============================] - 13s 85ms/step - loss: 0.9463 - accuracy: 0.7549 - val_loss: 1.0119 - val_accuracy: 0.1331\n",
      "Epoch 3/5\n",
      "158/158 [==============================] - 13s 85ms/step - loss: 0.5726 - accuracy: 0.8145 - val_loss: 0.6683 - val_accuracy: 0.7888\n",
      "Epoch 4/5\n",
      "158/158 [==============================] - 13s 85ms/step - loss: 0.3125 - accuracy: 0.9449 - val_loss: 0.5534 - val_accuracy: 0.8363\n",
      "Epoch 5/5\n",
      "158/158 [==============================] - 14s 86ms/step - loss: 0.2434 - accuracy: 0.9614 - val_loss: 0.5493 - val_accuracy: 0.8490\n"
     ]
    }
   ],
   "source": [
    "history = model.fit(train_data_for_q4['preprocessed_tweet_text'], train_data_for_q4[['q4_label_is_no','q4_label_is_unknown','q4_label_is_yes']], batch_size=64, epochs=5, \n",
    "                    validation_data=(validation_data['preprocessed_tweet_text'], validation_data[['q4_label_is_no','q4_label_is_unknown','q4_label_is_yes']]))"
   ]
  },
  {
   "cell_type": "code",
   "execution_count": 59,
   "metadata": {},
   "outputs": [
    {
     "data": {
      "text/plain": [
       "array([[0.05528215, 0.02947147, 0.91524637],\n",
       "       [0.9330186 , 0.03139218, 0.03558916],\n",
       "       [0.9375733 , 0.02963018, 0.03279643],\n",
       "       [0.93726146, 0.02975632, 0.03298225],\n",
       "       [0.6242473 , 0.0689215 , 0.30683118]], dtype=float32)"
      ]
     },
     "execution_count": 59,
     "metadata": {},
     "output_type": "execute_result"
    }
   ],
   "source": [
    "predictions_q4 = model.predict(validation_data['preprocessed_tweet_text'])\n",
    "predictions_q4[:5]"
   ]
  },
  {
   "cell_type": "code",
   "execution_count": 60,
   "metadata": {},
   "outputs": [],
   "source": [
    "predictions_q4 = np.argmax(predictions_q4, axis=1)"
   ]
  },
  {
   "cell_type": "code",
   "execution_count": 61,
   "metadata": {},
   "outputs": [],
   "source": [
    "validation_data['q4_label'] = validation_data.apply(lambda row: 0 if row['q4_label_is_no'] == 1 else (1 if row['q4_label_is_unknown'] == 1 else 2) , axis=1)"
   ]
  },
  {
   "cell_type": "code",
   "execution_count": 62,
   "metadata": {},
   "outputs": [
    {
     "data": {
      "text/html": [
       "<div>\n",
       "<style scoped>\n",
       "    .dataframe tbody tr th:only-of-type {\n",
       "        vertical-align: middle;\n",
       "    }\n",
       "\n",
       "    .dataframe tbody tr th {\n",
       "        vertical-align: top;\n",
       "    }\n",
       "\n",
       "    .dataframe thead th {\n",
       "        text-align: right;\n",
       "    }\n",
       "</style>\n",
       "<table border=\"1\" class=\"dataframe\">\n",
       "  <thead>\n",
       "    <tr style=\"text-align: right;\">\n",
       "      <th></th>\n",
       "      <th>Predicted no</th>\n",
       "      <th>Predicted unknown</th>\n",
       "      <th>Predicted yes</th>\n",
       "    </tr>\n",
       "  </thead>\n",
       "  <tbody>\n",
       "    <tr>\n",
       "      <th>Actual no</th>\n",
       "      <td>781</td>\n",
       "      <td>0</td>\n",
       "      <td>37</td>\n",
       "    </tr>\n",
       "    <tr>\n",
       "      <th>Actual unknown</th>\n",
       "      <td>3</td>\n",
       "      <td>0</td>\n",
       "      <td>0</td>\n",
       "    </tr>\n",
       "    <tr>\n",
       "      <th>Actual yes</th>\n",
       "      <td>103</td>\n",
       "      <td>0</td>\n",
       "      <td>23</td>\n",
       "    </tr>\n",
       "  </tbody>\n",
       "</table>\n",
       "</div>"
      ],
      "text/plain": [
       "                Predicted no  Predicted unknown  Predicted yes\n",
       "Actual no                781                  0             37\n",
       "Actual unknown             3                  0              0\n",
       "Actual yes               103                  0             23"
      ]
     },
     "execution_count": 62,
     "metadata": {},
     "output_type": "execute_result"
    }
   ],
   "source": [
    "cm_q4 = confusion_matrix(validation_data['q4_label'], predictions_q4)\n",
    "pd.DataFrame(cm_q4, index=['Actual no', 'Actual unknown', 'Actual yes'], columns = ['Predicted no', 'Predicted unknown', 'Predicted yes'])"
   ]
  },
  {
   "cell_type": "code",
   "execution_count": 63,
   "metadata": {},
   "outputs": [
    {
     "data": {
      "text/html": [
       "<div>\n",
       "<style scoped>\n",
       "    .dataframe tbody tr th:only-of-type {\n",
       "        vertical-align: middle;\n",
       "    }\n",
       "\n",
       "    .dataframe tbody tr th {\n",
       "        vertical-align: top;\n",
       "    }\n",
       "\n",
       "    .dataframe thead th {\n",
       "        text-align: right;\n",
       "    }\n",
       "</style>\n",
       "<table border=\"1\" class=\"dataframe\">\n",
       "  <thead>\n",
       "    <tr style=\"text-align: right;\">\n",
       "      <th></th>\n",
       "      <th>No</th>\n",
       "      <th>Unknown</th>\n",
       "      <th>Yes</th>\n",
       "      <th>accuracy</th>\n",
       "      <th>macro avg</th>\n",
       "      <th>weighted avg</th>\n",
       "    </tr>\n",
       "  </thead>\n",
       "  <tbody>\n",
       "    <tr>\n",
       "      <th>precision</th>\n",
       "      <td>0.880496</td>\n",
       "      <td>0.0</td>\n",
       "      <td>0.383333</td>\n",
       "      <td>0.848997</td>\n",
       "      <td>0.421276</td>\n",
       "      <td>0.811558</td>\n",
       "    </tr>\n",
       "    <tr>\n",
       "      <th>recall</th>\n",
       "      <td>0.954768</td>\n",
       "      <td>0.0</td>\n",
       "      <td>0.182540</td>\n",
       "      <td>0.848997</td>\n",
       "      <td>0.379102</td>\n",
       "      <td>0.848997</td>\n",
       "    </tr>\n",
       "    <tr>\n",
       "      <th>f1-score</th>\n",
       "      <td>0.916129</td>\n",
       "      <td>0.0</td>\n",
       "      <td>0.247312</td>\n",
       "      <td>0.848997</td>\n",
       "      <td>0.387814</td>\n",
       "      <td>0.824240</td>\n",
       "    </tr>\n",
       "    <tr>\n",
       "      <th>support</th>\n",
       "      <td>818.000000</td>\n",
       "      <td>3.0</td>\n",
       "      <td>126.000000</td>\n",
       "      <td>0.848997</td>\n",
       "      <td>947.000000</td>\n",
       "      <td>947.000000</td>\n",
       "    </tr>\n",
       "  </tbody>\n",
       "</table>\n",
       "</div>"
      ],
      "text/plain": [
       "                   No  Unknown         Yes  accuracy   macro avg  weighted avg\n",
       "precision    0.880496      0.0    0.383333  0.848997    0.421276      0.811558\n",
       "recall       0.954768      0.0    0.182540  0.848997    0.379102      0.848997\n",
       "f1-score     0.916129      0.0    0.247312  0.848997    0.387814      0.824240\n",
       "support    818.000000      3.0  126.000000  0.848997  947.000000    947.000000"
      ]
     },
     "execution_count": 63,
     "metadata": {},
     "output_type": "execute_result"
    }
   ],
   "source": [
    "pd.DataFrame(classification_report(validation_data['q4_label'], predictions_q4, zero_division=0, output_dict=True)).rename(columns={'0': 'No', '1': 'Unknown', '2': 'Yes'})"
   ]
  },
  {
   "cell_type": "markdown",
   "metadata": {},
   "source": [
    "No big improvement, but still better."
   ]
  },
  {
   "cell_type": "code",
   "execution_count": null,
   "metadata": {},
   "outputs": [],
   "source": []
  }
 ],
 "metadata": {
  "kernelspec": {
   "display_name": "Python 3 (ipykernel)",
   "language": "python",
   "name": "python3"
  },
  "language_info": {
   "codemirror_mode": {
    "name": "ipython",
    "version": 3
   },
   "file_extension": ".py",
   "mimetype": "text/x-python",
   "name": "python",
   "nbconvert_exporter": "python",
   "pygments_lexer": "ipython3",
   "version": "3.7.0"
  }
 },
 "nbformat": 4,
 "nbformat_minor": 4
}
