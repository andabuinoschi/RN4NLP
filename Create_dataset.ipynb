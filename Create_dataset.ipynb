{
 "cells": [
  {
   "cell_type": "code",
   "execution_count": 3,
   "metadata": {},
   "outputs": [],
   "source": [
    "import pandas as pd\n"
   ]
  },
  {
   "cell_type": "code",
   "execution_count": 33,
   "metadata": {},
   "outputs": [],
   "source": [
    "PATHS_TRAIN = [\n",
    "    \"data/arabic/v3/covid19_disinfo_binary_arabic_train.tsv\",\n",
    "    \"data/bulgarian/v1/covid19_disinfo_binary_bulgarian_train.tsv\",\n",
    "    \"data/english/v3/covid19_disinfo_binary_english_train.tsv\",\n",
    "]\n",
    "\n",
    "PATHS_VALIDATION = [\n",
    "    \"data/english/v3/covid19_disinfo_binary_english_dev_input.tsv\",\n",
    "    \"data/arabic/v3/covid19_disinfo_binary_arabic_dev.tsv\",\n",
    "    \"data/bulgarian/v1/covid19_disinfo_binary_bulgarian_dev.tsv\",\n",
    "]\n",
    "\n",
    "PATHS_TEST = [\n",
    "    \"data/english/test-gold/covid19_disinfo_binary_english_test_gold.tsv\",\n",
    "    \"data/english/test-input/covid19_disinfo_binary_english_test_input.tsv\",\n",
    "    \"data/arabic/test-gold/covid19_disinfo_binary_arabic_test_gold.tsv\",\n",
    "    \"data/arabic/test-input/covid19_disinfo_binary_arabic_test_input.tsv\",\n",
    "    \"data/bulgarian/test-gold/covid19_disinfo_binary_bulgarian_test_gold.tsv\",\n",
    "    \"data/bulgarian/test-input/covid19_disinfo_binary_bulgarian_test_input.tsv\",\n",
    "]\n"
   ]
  },
  {
   "cell_type": "code",
   "execution_count": 30,
   "metadata": {},
   "outputs": [],
   "source": [
    "df = pd.DataFrame()\n",
    "for path in PATHS_TRAIN:\n",
    "    data = pd.read_csv(path, sep=\"\\t\")\n",
    "    if \"tweet_text_en\" in data.columns:\n",
    "        data = data.drop(columns=\"tweet_text\")\n",
    "        data = data.rename(columns={\"tweet_text_en\": \"tweet_text\"})\n",
    "    df = df.append(data)\n",
    "df.to_csv(\"dataset/train.csv\", index=False, sep=\"\\t\")\n",
    "del df\n"
   ]
  },
  {
   "cell_type": "code",
   "execution_count": 35,
   "metadata": {},
   "outputs": [],
   "source": [
    "df = pd.DataFrame()\n",
    "for path in PATHS_VALIDATION:\n",
    "    data = pd.read_csv(path, sep=\"\\t\")\n",
    "    if \"tweet_text_en\" in data.columns:\n",
    "        data = data.drop(columns=\"tweet_text\")\n",
    "        data = data.rename(columns={\"tweet_text_en\": \"tweet_text\"})\n",
    "    df = df.append(data)\n",
    "df.to_csv(\"dataset/valid.csv\", index=False, sep=\"\\t\")\n",
    "del df\n"
   ]
  },
  {
   "cell_type": "code",
   "execution_count": 68,
   "metadata": {},
   "outputs": [],
   "source": [
    "df = pd.DataFrame()\n",
    "df_no_labels = pd.DataFrame()\n",
    "for path in PATHS_TEST:\n",
    "    data = pd.read_csv(path, sep=\"\\t\")\n",
    "    if len(data.columns) > 8:\n",
    "        if \"tweet_text_en\" in data.columns:\n",
    "            data = data.drop(columns=\"tweet_text\")\n",
    "            data = data.rename(columns={\"tweet_text_en\": \"tweet_text\"})\n",
    "        df = df.append(data)\n",
    "    else:\n",
    "        if \"text\" in data.columns:\n",
    "            data = data.rename(columns={\"text\": \"tweet_text\"})\n",
    "        if \"tweet_text_en\" in data.columns:\n",
    "            data = data.drop(columns=\"tweet_text\")\n",
    "            data = data.rename(columns={\"tweet_text_en\": \"tweet_text\"})\n",
    "        df_no_labels = df_no_labels.append(data)\n",
    "df.to_csv(\"dataset/test.csv\", index=False, sep=\"\\t\")\n",
    "df_no_labels.to_csv(\"dataset/test_no_labels.csv\", index=False, sep=\"\\t\")\n",
    "del df\n"
   ]
  }
 ],
 "metadata": {
  "interpreter": {
   "hash": "aee8b7b246df8f9039afb4144a1f6fd8d2ca17a180786b69acc140d282b71a49"
  },
  "kernelspec": {
   "display_name": "Python 3.9.9 64-bit",
   "language": "python",
   "name": "python3"
  },
  "language_info": {
   "codemirror_mode": {
    "name": "ipython",
    "version": 3
   },
   "file_extension": ".py",
   "mimetype": "text/x-python",
   "name": "python",
   "nbconvert_exporter": "python",
   "pygments_lexer": "ipython3",
   "version": "3.9.9"
  },
  "orig_nbformat": 4
 },
 "nbformat": 4,
 "nbformat_minor": 2
}
