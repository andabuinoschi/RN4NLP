{
 "cells": [
  {
   "cell_type": "code",
   "execution_count": 1,
   "metadata": {},
   "outputs": [],
   "source": [
    "import pandas as pd\n",
    "from urllib.parse import urlparse\n",
    "import ast\n",
    "import re"
   ]
  },
  {
   "cell_type": "code",
   "execution_count": 2,
   "metadata": {},
   "outputs": [],
   "source": [
    "PATH = [\"../dataset/train.tsv\",\"../dataset/valid.tsv\",\"../dataset/test.tsv\", \"../dataset/test_no_labels.tsv\"]"
   ]
  },
  {
   "cell_type": "code",
   "execution_count": 3,
   "metadata": {},
   "outputs": [],
   "source": [
    "for path in PATH:\n",
    "    df = pd.read_csv(path, sep='\\t')\n",
    "    df[\"tweet_link_count\"] = df[\"tweet_link\"].apply(lambda x: len(ast.literal_eval(x)))\n",
    "    df[\"tweet_link_domain\"]=df[\"tweet_link\"].apply(lambda x: [urlparse(el).netloc.replace(\"www.\",\"\").split('.')[0] for el in ast.literal_eval(x)])\n",
    "    df[\"tweet_link_path\"]=df[\"tweet_link\"].apply(lambda x: [' '.join(map(str,re.findall(r'[a-zA-Z]{1}[a-z]+[a-z]{1}[a-z]+', str(urlparse(el).path)))) for el in ast.literal_eval(x)])\n",
    "    df[\"tweet_link_domain\"] = df[\"tweet_link_domain\"].apply(lambda x: ' '.join(map(str, x)))\n",
    "    df[\"tweet_link_path\"] = df[\"tweet_link_path\"].apply(lambda x: ' '.join(map(str, x)))\n",
    "    df.to_csv(path, index=False, sep=\"\\t\")\n",
    "    del df"
   ]
  }
 ],
 "metadata": {
  "interpreter": {
   "hash": "aee8b7b246df8f9039afb4144a1f6fd8d2ca17a180786b69acc140d282b71a49"
  },
  "kernelspec": {
   "display_name": "Python 3.9.9 64-bit",
   "language": "python",
   "name": "python3"
  },
  "language_info": {
   "codemirror_mode": {
    "name": "ipython",
    "version": 3
   },
   "file_extension": ".py",
   "mimetype": "text/x-python",
   "name": "python",
   "nbconvert_exporter": "python",
   "pygments_lexer": "ipython3",
   "version": "3.9.9"
  },
  "orig_nbformat": 4
 },
 "nbformat": 4,
 "nbformat_minor": 2
}
