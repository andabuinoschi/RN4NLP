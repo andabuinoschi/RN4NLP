{
 "cells": [
  {
   "cell_type": "markdown",
   "id": "26679bd8-a4d8-4c34-8032-3a5517fe3fa9",
   "metadata": {},
   "source": [
    "# Extract emoji symbols"
   ]
  },
  {
   "cell_type": "code",
   "execution_count": 1,
   "id": "c1304299-bd98-4134-a40e-68748b694c9b",
   "metadata": {},
   "outputs": [],
   "source": [
    "import pandas as pd\n",
    "import emoji\n",
    "\n",
    "pd.set_option('display.max_colwidth', None)"
   ]
  },
  {
   "cell_type": "code",
   "execution_count": 2,
   "id": "d46a727c-a45e-4add-a986-89281d1ecb1e",
   "metadata": {},
   "outputs": [
    {
     "data": {
      "text/html": [
       "<div>\n",
       "<style scoped>\n",
       "    .dataframe tbody tr th:only-of-type {\n",
       "        vertical-align: middle;\n",
       "    }\n",
       "\n",
       "    .dataframe tbody tr th {\n",
       "        vertical-align: top;\n",
       "    }\n",
       "\n",
       "    .dataframe thead th {\n",
       "        text-align: right;\n",
       "    }\n",
       "</style>\n",
       "<table border=\"1\" class=\"dataframe\">\n",
       "  <thead>\n",
       "    <tr style=\"text-align: right;\">\n",
       "      <th></th>\n",
       "      <th>Unnamed: 0</th>\n",
       "      <th>Unnamed: 0.1</th>\n",
       "      <th>Unnamed: 0.1.1</th>\n",
       "      <th>tweet_no</th>\n",
       "      <th>tweet_text</th>\n",
       "      <th>q1_label</th>\n",
       "      <th>q2_label</th>\n",
       "      <th>q3_label</th>\n",
       "      <th>q4_label</th>\n",
       "      <th>q5_label</th>\n",
       "      <th>q6_label</th>\n",
       "      <th>q7_label</th>\n",
       "      <th>language</th>\n",
       "      <th>tweet_link</th>\n",
       "      <th>tweet_link_count</th>\n",
       "      <th>preprocessed_tweet_text</th>\n",
       "      <th>emojis</th>\n",
       "      <th>translated_emojis</th>\n",
       "    </tr>\n",
       "  </thead>\n",
       "  <tbody>\n",
       "    <tr>\n",
       "      <th>0</th>\n",
       "      <td>0</td>\n",
       "      <td>0</td>\n",
       "      <td>0</td>\n",
       "      <td>1</td>\n",
       "      <td>For the average American the best way to tell if you have covid-19 is to cough in a rich person’s face and wait for their test results</td>\n",
       "      <td>no</td>\n",
       "      <td>NaN</td>\n",
       "      <td>NaN</td>\n",
       "      <td>NaN</td>\n",
       "      <td>NaN</td>\n",
       "      <td>no</td>\n",
       "      <td>no</td>\n",
       "      <td>en</td>\n",
       "      <td>[]</td>\n",
       "      <td>0</td>\n",
       "      <td>For the average American the best way to tell if you have covid-19 is to cough in a rich person’s face and wait for their test results</td>\n",
       "      <td>NaN</td>\n",
       "      <td>NaN</td>\n",
       "    </tr>\n",
       "    <tr>\n",
       "      <th>1</th>\n",
       "      <td>1</td>\n",
       "      <td>1</td>\n",
       "      <td>1</td>\n",
       "      <td>2</td>\n",
       "      <td>this is fucking bullshit</td>\n",
       "      <td>no</td>\n",
       "      <td>NaN</td>\n",
       "      <td>NaN</td>\n",
       "      <td>NaN</td>\n",
       "      <td>NaN</td>\n",
       "      <td>no</td>\n",
       "      <td>no</td>\n",
       "      <td>en</td>\n",
       "      <td>[]</td>\n",
       "      <td>0</td>\n",
       "      <td>this is fucking bullshit</td>\n",
       "      <td>NaN</td>\n",
       "      <td>NaN</td>\n",
       "    </tr>\n",
       "    <tr>\n",
       "      <th>2</th>\n",
       "      <td>2</td>\n",
       "      <td>2</td>\n",
       "      <td>2</td>\n",
       "      <td>3</td>\n",
       "      <td>Can y’all please just follow the government’s instructions so we can knock this COVID-19 out and be done?! I feel like a kindergartner that keeps losing more recess time because one or two kids can’t follow directions.</td>\n",
       "      <td>no</td>\n",
       "      <td>NaN</td>\n",
       "      <td>NaN</td>\n",
       "      <td>NaN</td>\n",
       "      <td>NaN</td>\n",
       "      <td>no</td>\n",
       "      <td>no</td>\n",
       "      <td>en</td>\n",
       "      <td>[]</td>\n",
       "      <td>0</td>\n",
       "      <td>Can y’all please just follow the government’s instructions so we can knock this COVID-19 out and be done?! I feel like a kindergartner that keeps losing more recess time because one or two kids can’t follow directions.</td>\n",
       "      <td>NaN</td>\n",
       "      <td>NaN</td>\n",
       "    </tr>\n",
       "  </tbody>\n",
       "</table>\n",
       "</div>"
      ],
      "text/plain": [
       "   Unnamed: 0  Unnamed: 0.1  Unnamed: 0.1.1  tweet_no  \\\n",
       "0           0             0               0         1   \n",
       "1           1             1               1         2   \n",
       "2           2             2               2         3   \n",
       "\n",
       "                                                                                                                                                                                                                   tweet_text  \\\n",
       "0                                                                                      For the average American the best way to tell if you have covid-19 is to cough in a rich person’s face and wait for their test results   \n",
       "1                                                                                                                                                                                                    this is fucking bullshit   \n",
       "2  Can y’all please just follow the government’s instructions so we can knock this COVID-19 out and be done?! I feel like a kindergartner that keeps losing more recess time because one or two kids can’t follow directions.   \n",
       "\n",
       "  q1_label q2_label q3_label q4_label q5_label q6_label q7_label language  \\\n",
       "0       no      NaN      NaN      NaN      NaN       no       no       en   \n",
       "1       no      NaN      NaN      NaN      NaN       no       no       en   \n",
       "2       no      NaN      NaN      NaN      NaN       no       no       en   \n",
       "\n",
       "  tweet_link  tweet_link_count  \\\n",
       "0         []                 0   \n",
       "1         []                 0   \n",
       "2         []                 0   \n",
       "\n",
       "                                                                                                                                                                                                      preprocessed_tweet_text  \\\n",
       "0                                                                                      For the average American the best way to tell if you have covid-19 is to cough in a rich person’s face and wait for their test results   \n",
       "1                                                                                                                                                                                                    this is fucking bullshit   \n",
       "2  Can y’all please just follow the government’s instructions so we can knock this COVID-19 out and be done?! I feel like a kindergartner that keeps losing more recess time because one or two kids can’t follow directions.   \n",
       "\n",
       "  emojis translated_emojis  \n",
       "0    NaN               NaN  \n",
       "1    NaN               NaN  \n",
       "2    NaN               NaN  "
      ]
     },
     "execution_count": 2,
     "metadata": {},
     "output_type": "execute_result"
    }
   ],
   "source": [
    "train_dataset = pd.read_csv('../dataset/train.tsv', sep='\\t')\n",
    "validation_dataset = pd.read_csv('../dataset/valid.tsv', sep='\\t')\n",
    "test_dataset = pd.read_csv('../dataset/test.tsv', sep='\\t')\n",
    "train_dataset.head(3)"
   ]
  },
  {
   "cell_type": "markdown",
   "id": "94785f71-0da7-43a0-8602-ee6354a8a411",
   "metadata": {},
   "source": [
    "## Extraction of emojis and translation of them into words"
   ]
  },
  {
   "cell_type": "code",
   "execution_count": 3,
   "id": "30e51017-b61c-4e20-9cda-2ad381fde98a",
   "metadata": {},
   "outputs": [
    {
     "data": {
      "text/plain": [
       "':thinking_face: :see-no-evil_monkey:  Well, this is interesting :relieved_face: '"
      ]
     },
     "execution_count": 3,
     "metadata": {},
     "output_type": "execute_result"
    }
   ],
   "source": [
    "text = '🤔🙈 Well, this is interesting 😌'\n",
    "result = ''.join([(emoji.demojize(c) + ' ' if c in emoji.UNICODE_EMOJI['en'] else c) for c in text])\n",
    "result"
   ]
  },
  {
   "cell_type": "code",
   "execution_count": 4,
   "id": "58ce5c06-9957-419b-a879-c604541aa966",
   "metadata": {},
   "outputs": [],
   "source": [
    "def preprocess_tweet_text_with_emojis(dataframe):\n",
    "    dataframe['preprocessed_tweet_text'] = dataframe.apply(lambda row: ''.join([(' ' + emoji.demojize(c) + ' ' if c in emoji.UNICODE_EMOJI['en'] else c) for c in row['tweet_text']]), axis=1)\n",
    "    dataframe['emojis'] = dataframe.apply(lambda row: ''.join(c for c in row['tweet_text'] if c in emoji.UNICODE_EMOJI['en']), axis=1)\n",
    "    dataframe['translated_emojis'] = dataframe.apply(lambda row: ''.join(' ' + emoji.demojize(c) + ' ' for c in row['tweet_text'] if c in emoji.UNICODE_EMOJI['en']), axis=1)\n",
    "    return dataframe"
   ]
  },
  {
   "cell_type": "code",
   "execution_count": 5,
   "id": "607750f0-518a-457d-8588-6ead661a74f3",
   "metadata": {},
   "outputs": [],
   "source": [
    "train_dataset = preprocess_tweet_text_with_emojis(train_dataset)\n",
    "validation_dataset = preprocess_tweet_text_with_emojis(validation_dataset)\n",
    "test_dataset = preprocess_tweet_text_with_emojis(test_dataset)"
   ]
  },
  {
   "cell_type": "code",
   "execution_count": 6,
   "id": "a48c96ec-ca25-4465-bcec-cc03c4e1d5e2",
   "metadata": {},
   "outputs": [
    {
     "data": {
      "text/html": [
       "<div>\n",
       "<style scoped>\n",
       "    .dataframe tbody tr th:only-of-type {\n",
       "        vertical-align: middle;\n",
       "    }\n",
       "\n",
       "    .dataframe tbody tr th {\n",
       "        vertical-align: top;\n",
       "    }\n",
       "\n",
       "    .dataframe thead th {\n",
       "        text-align: right;\n",
       "    }\n",
       "</style>\n",
       "<table border=\"1\" class=\"dataframe\">\n",
       "  <thead>\n",
       "    <tr style=\"text-align: right;\">\n",
       "      <th></th>\n",
       "      <th>tweet_text</th>\n",
       "      <th>preprocessed_tweet_text</th>\n",
       "      <th>emojis</th>\n",
       "      <th>translated_emojis</th>\n",
       "    </tr>\n",
       "  </thead>\n",
       "  <tbody>\n",
       "    <tr>\n",
       "      <th>7</th>\n",
       "      <td>This is Dr. Usama Riaz. He spent past weeks screening and treating patients with Corona Virus in Pakistan.   He knew there was no PPE. He persisted anyways.  Today he lost his own battle with coronavirus but he gave life and hope to so many more.   KNOW HIS NAME 😭❤ URL</td>\n",
       "      <td>This is Dr. Usama Riaz. He spent past weeks screening and treating patients with Corona Virus in Pakistan.   He knew there was no PPE. He persisted anyways.  Today he lost his own battle with coronavirus but he gave life and hope to so many more.   KNOW HIS NAME  :loudly_crying_face:  :red_heart:  URL</td>\n",
       "      <td>😭❤</td>\n",
       "      <td>:loudly_crying_face:  :red_heart:</td>\n",
       "    </tr>\n",
       "    <tr>\n",
       "      <th>8</th>\n",
       "      <td>fun fact: its tradition for europeans to spread a potentially fatal disease to every other country not fully inhabited by white people &amp;amp; not take accountability for the subsequent devastation &amp;amp; lives lost</td>\n",
       "      <td>fun fact: its tradition for europeans to spread a potentially fatal disease to every other country not fully inhabited by white people &amp;amp; not take accountability for the subsequent devastation &amp;amp; lives lost</td>\n",
       "      <td></td>\n",
       "      <td></td>\n",
       "    </tr>\n",
       "  </tbody>\n",
       "</table>\n",
       "</div>"
      ],
      "text/plain": [
       "                                                                                                                                                                                                                                                                      tweet_text  \\\n",
       "7  This is Dr. Usama Riaz. He spent past weeks screening and treating patients with Corona Virus in Pakistan.   He knew there was no PPE. He persisted anyways.  Today he lost his own battle with coronavirus but he gave life and hope to so many more.   KNOW HIS NAME 😭❤ URL   \n",
       "8                                                           fun fact: its tradition for europeans to spread a potentially fatal disease to every other country not fully inhabited by white people &amp; not take accountability for the subsequent devastation &amp; lives lost   \n",
       "\n",
       "                                                                                                                                                                                                                                                                                          preprocessed_tweet_text  \\\n",
       "7  This is Dr. Usama Riaz. He spent past weeks screening and treating patients with Corona Virus in Pakistan.   He knew there was no PPE. He persisted anyways.  Today he lost his own battle with coronavirus but he gave life and hope to so many more.   KNOW HIS NAME  :loudly_crying_face:  :red_heart:  URL   \n",
       "8                                                                                            fun fact: its tradition for europeans to spread a potentially fatal disease to every other country not fully inhabited by white people &amp; not take accountability for the subsequent devastation &amp; lives lost   \n",
       "\n",
       "  emojis                    translated_emojis  \n",
       "7     😭❤   :loudly_crying_face:  :red_heart:   \n",
       "8                                              "
      ]
     },
     "execution_count": 6,
     "metadata": {},
     "output_type": "execute_result"
    }
   ],
   "source": [
    "train_dataset.loc[7:8,['tweet_text', 'preprocessed_tweet_text', 'emojis', 'translated_emojis']]"
   ]
  },
  {
   "cell_type": "code",
   "execution_count": 7,
   "id": "3e04cab7-5639-4f2e-81b3-fca07ea64449",
   "metadata": {},
   "outputs": [],
   "source": [
    "train_dataset.to_csv('../dataset/train.tsv', sep='\\t')\n",
    "validation_dataset.to_csv('../dataset/valid.tsv', sep='\\t')\n",
    "test_dataset.to_csv('../dataset/test.tsv', sep='\\t')"
   ]
  },
  {
   "cell_type": "markdown",
   "id": "58958971-cf16-4bc1-9064-88935d1041cb",
   "metadata": {},
   "source": [
    "## Q1 analysis on emojis\n",
    "**Verifiable Factual Claim: Does the tweet contain a verifiable factual claim?**\n",
    "\n",
    "A verifiable factual claim is a sentence claiming that something is true, and this can be verified using factual, verifiable information such as statistics, specific examples, or personal testimony."
   ]
  },
  {
   "cell_type": "code",
   "execution_count": 8,
   "id": "4cfc6971-51cc-485c-b3f2-5e9337b88d62",
   "metadata": {},
   "outputs": [
    {
     "data": {
      "text/plain": [
       "       1682\n",
       "👉        13\n",
       "😂        10\n",
       "🤔         7\n",
       "👇         7\n",
       "       ... \n",
       "😅😂        1\n",
       "😈         1\n",
       "📷         1\n",
       "🏡📱        1\n",
       "🔴🎥➡       1\n",
       "Name: emojis, Length: 210, dtype: int64"
      ]
     },
     "execution_count": 8,
     "metadata": {},
     "output_type": "execute_result"
    }
   ],
   "source": [
    "train_dataset[train_dataset['q1_label'] == 'no']['emojis'].value_counts()"
   ]
  },
  {
   "cell_type": "code",
   "execution_count": 9,
   "id": "cdeb8a8e-0974-4c10-910d-c8235191522d",
   "metadata": {},
   "outputs": [
    {
     "data": {
      "text/plain": [
       "            4059\n",
       "🔴             39\n",
       "👇             16\n",
       "👉             12\n",
       "➡              9\n",
       "            ... \n",
       "🤓😃🎁😷👩⚕👨⚕       1\n",
       "⤵              1\n",
       "🤩🎉🎉            1\n",
       "📧              1\n",
       "😀👏             1\n",
       "Name: emojis, Length: 219, dtype: int64"
      ]
     },
     "execution_count": 9,
     "metadata": {},
     "output_type": "execute_result"
    }
   ],
   "source": [
    "train_dataset[train_dataset['q1_label'] == 'yes']['emojis'].value_counts()"
   ]
  },
  {
   "cell_type": "code",
   "execution_count": 10,
   "id": "1c36dbf6-e1ad-4191-acf6-b3d4aa725a31",
   "metadata": {},
   "outputs": [
    {
     "data": {
      "text/html": [
       "<div>\n",
       "<style scoped>\n",
       "    .dataframe tbody tr th:only-of-type {\n",
       "        vertical-align: middle;\n",
       "    }\n",
       "\n",
       "    .dataframe tbody tr th {\n",
       "        vertical-align: top;\n",
       "    }\n",
       "\n",
       "    .dataframe thead th {\n",
       "        text-align: right;\n",
       "    }\n",
       "</style>\n",
       "<table border=\"1\" class=\"dataframe\">\n",
       "  <thead>\n",
       "    <tr style=\"text-align: right;\">\n",
       "      <th></th>\n",
       "      <th>tweet_text</th>\n",
       "      <th>preprocessed_tweet_text</th>\n",
       "      <th>translated_emojis</th>\n",
       "    </tr>\n",
       "  </thead>\n",
       "  <tbody>\n",
       "    <tr>\n",
       "      <th>5172</th>\n",
       "      <td>The Brazilian government @jairbolsonaro signs an agreement with AstraZeneca @AstraZeneca to transfer technology and manufacture the 💉AZD1222 vaccine (Oxford vaccination) The agreement guarantees Brazil the right to manufacture 💉100 million doses, and the future of the pharmaceutical industry 🗓The start of manufacturing the vaccine is expected in December 2020 https://t.co/uIzOQY3782 (277) https://t.co/9zgjx1vUDe</td>\n",
       "      <td>The Brazilian government @jairbolsonaro signs an agreement with AstraZeneca @AstraZeneca to transfer technology and manufacture the  :syringe: AZD1222 vaccine (Oxford vaccination) The agreement guarantees Brazil the right to manufacture  :syringe: 100 million doses, and the future of the pharmaceutical industry  :spiral_calendar: The start of manufacturing the vaccine is expected in December 2020 https://t.co/uIzOQY3782 (277) https://t.co/9zgjx1vUDe</td>\n",
       "      <td>:syringe:  :syringe:  :spiral_calendar:</td>\n",
       "    </tr>\n",
       "  </tbody>\n",
       "</table>\n",
       "</div>"
      ],
      "text/plain": [
       "                                                                                                                                                                                                                                                                                                                                                                                                                           tweet_text  \\\n",
       "5172  The Brazilian government @jairbolsonaro signs an agreement with AstraZeneca @AstraZeneca to transfer technology and manufacture the 💉AZD1222 vaccine (Oxford vaccination) The agreement guarantees Brazil the right to manufacture 💉100 million doses, and the future of the pharmaceutical industry 🗓The start of manufacturing the vaccine is expected in December 2020 https://t.co/uIzOQY3782 (277) https://t.co/9zgjx1vUDe   \n",
       "\n",
       "                                                                                                                                                                                                                                                                                                                                                                                                                                                    preprocessed_tweet_text  \\\n",
       "5172  The Brazilian government @jairbolsonaro signs an agreement with AstraZeneca @AstraZeneca to transfer technology and manufacture the  :syringe: AZD1222 vaccine (Oxford vaccination) The agreement guarantees Brazil the right to manufacture  :syringe: 100 million doses, and the future of the pharmaceutical industry  :spiral_calendar: The start of manufacturing the vaccine is expected in December 2020 https://t.co/uIzOQY3782 (277) https://t.co/9zgjx1vUDe   \n",
       "\n",
       "                              translated_emojis  \n",
       "5172   :syringe:  :syringe:  :spiral_calendar:   "
      ]
     },
     "execution_count": 10,
     "metadata": {},
     "output_type": "execute_result"
    }
   ],
   "source": [
    "train_dataset[train_dataset['emojis'] == '💉💉🗓'][['tweet_text', 'preprocessed_tweet_text', 'translated_emojis']]"
   ]
  },
  {
   "cell_type": "code",
   "execution_count": 11,
   "id": "52e55990-fbac-4b7f-806d-5b16e5b01126",
   "metadata": {},
   "outputs": [
    {
     "data": {
      "text/html": [
       "<div>\n",
       "<style scoped>\n",
       "    .dataframe tbody tr th:only-of-type {\n",
       "        vertical-align: middle;\n",
       "    }\n",
       "\n",
       "    .dataframe tbody tr th {\n",
       "        vertical-align: top;\n",
       "    }\n",
       "\n",
       "    .dataframe thead th {\n",
       "        text-align: right;\n",
       "    }\n",
       "</style>\n",
       "<table border=\"1\" class=\"dataframe\">\n",
       "  <thead>\n",
       "    <tr style=\"text-align: right;\">\n",
       "      <th></th>\n",
       "      <th>tweet_text</th>\n",
       "      <th>preprocessed_tweet_text</th>\n",
       "      <th>translated_emojis</th>\n",
       "    </tr>\n",
       "  </thead>\n",
       "  <tbody>\n",
       "    <tr>\n",
       "      <th>1028</th>\n",
       "      <td>🔴 # Coronavirus: After a successful limited test in Marseille, Sanofi launches a national trial in # France of the malaria drug #Plaquenil, which has shown encouraging results against # COVID19 https://t.co/lpZFi0gkaR</td>\n",
       "      <td>:red_circle:  # Coronavirus: After a successful limited test in Marseille, Sanofi launches a national trial in # France of the malaria drug #Plaquenil, which has shown encouraging results against # COVID19 https://t.co/lpZFi0gkaR</td>\n",
       "      <td>:red_circle:</td>\n",
       "    </tr>\n",
       "    <tr>\n",
       "      <th>3871</th>\n",
       "      <td>Vote 🔴. . Do you think that the (curfew) implemented by some countries prevents the spread of the Corona virus .. and why? . . Yes = retweet. no = favourite</td>\n",
       "      <td>Vote  :red_circle: . . Do you think that the (curfew) implemented by some countries prevents the spread of the Corona virus .. and why? . . Yes = retweet. no = favourite</td>\n",
       "      <td>:red_circle:</td>\n",
       "    </tr>\n",
       "    <tr>\n",
       "      <th>3910</th>\n",
       "      <td>#video 🔴 . . The Saudi journalist “Ahmed Al-Maliki” sends a strongly worded message to the #banks: The rest of you, where are your initiatives for the homeland and the citizen?, stressing, “If money is your greatest concern, then not all citizens will forget your betrayal.”</td>\n",
       "      <td>#video  :red_circle:  . . The Saudi journalist “Ahmed Al-Maliki” sends a strongly worded message to the #banks: The rest of you, where are your initiatives for the homeland and the citizen?, stressing, “If money is your greatest concern, then not all citizens will forget your betrayal.”</td>\n",
       "      <td>:red_circle:</td>\n",
       "    </tr>\n",
       "    <tr>\n",
       "      <th>3916</th>\n",
       "      <td>Urgent 🔴. . A spokesman for the Ministry of Health: The coming period will witness a rise in cases infected with the Corona virus worldwide... and we may resort to a curfew if we detect a complacency in the precautionary measures. . . #Saudi</td>\n",
       "      <td>Urgent  :red_circle: . . A spokesman for the Ministry of Health: The coming period will witness a rise in cases infected with the Corona virus worldwide... and we may resort to a curfew if we detect a complacency in the precautionary measures. . . #Saudi</td>\n",
       "      <td>:red_circle:</td>\n",
       "    </tr>\n",
       "    <tr>\n",
       "      <th>3934</th>\n",
       "      <td>Video 🔴. . With words from a sincere heart... he witnessed a security man giving parental advice to a group of young men who went on a road trip, ignoring repeated warnings. . . Corona Virus . URL</td>\n",
       "      <td>Video  :red_circle: . . With words from a sincere heart... he witnessed a security man giving parental advice to a group of young men who went on a road trip, ignoring repeated warnings. . . Corona Virus . URL</td>\n",
       "      <td>:red_circle:</td>\n",
       "    </tr>\n",
       "  </tbody>\n",
       "</table>\n",
       "</div>"
      ],
      "text/plain": [
       "                                                                                                                                                                                                                                                                              tweet_text  \\\n",
       "1028                                                           🔴 # Coronavirus: After a successful limited test in Marseille, Sanofi launches a national trial in # France of the malaria drug #Plaquenil, which has shown encouraging results against # COVID19 https://t.co/lpZFi0gkaR   \n",
       "3871                                                                                                                        Vote 🔴. . Do you think that the (curfew) implemented by some countries prevents the spread of the Corona virus .. and why? . . Yes = retweet. no = favourite   \n",
       "3910  #video 🔴 . . The Saudi journalist “Ahmed Al-Maliki” sends a strongly worded message to the #banks: The rest of you, where are your initiatives for the homeland and the citizen?, stressing, “If money is your greatest concern, then not all citizens will forget your betrayal.”   \n",
       "3916                                   Urgent 🔴. . A spokesman for the Ministry of Health: The coming period will witness a rise in cases infected with the Corona virus worldwide... and we may resort to a curfew if we detect a complacency in the precautionary measures. . . #Saudi   \n",
       "3934                                                                                Video 🔴. . With words from a sincere heart... he witnessed a security man giving parental advice to a group of young men who went on a road trip, ignoring repeated warnings. . . Corona Virus . URL   \n",
       "\n",
       "                                                                                                                                                                                                                                                                              preprocessed_tweet_text  \\\n",
       "1028                                                            :red_circle:  # Coronavirus: After a successful limited test in Marseille, Sanofi launches a national trial in # France of the malaria drug #Plaquenil, which has shown encouraging results against # COVID19 https://t.co/lpZFi0gkaR   \n",
       "3871                                                                                                                        Vote  :red_circle: . . Do you think that the (curfew) implemented by some countries prevents the spread of the Corona virus .. and why? . . Yes = retweet. no = favourite   \n",
       "3910  #video  :red_circle:  . . The Saudi journalist “Ahmed Al-Maliki” sends a strongly worded message to the #banks: The rest of you, where are your initiatives for the homeland and the citizen?, stressing, “If money is your greatest concern, then not all citizens will forget your betrayal.”   \n",
       "3916                                   Urgent  :red_circle: . . A spokesman for the Ministry of Health: The coming period will witness a rise in cases infected with the Corona virus worldwide... and we may resort to a curfew if we detect a complacency in the precautionary measures. . . #Saudi   \n",
       "3934                                                                                Video  :red_circle: . . With words from a sincere heart... he witnessed a security man giving parental advice to a group of young men who went on a road trip, ignoring repeated warnings. . . Corona Virus . URL   \n",
       "\n",
       "     translated_emojis  \n",
       "1028     :red_circle:   \n",
       "3871     :red_circle:   \n",
       "3910     :red_circle:   \n",
       "3916     :red_circle:   \n",
       "3934     :red_circle:   "
      ]
     },
     "execution_count": 11,
     "metadata": {},
     "output_type": "execute_result"
    }
   ],
   "source": [
    "train_dataset[train_dataset['emojis'] == '🔴'][['tweet_text', 'preprocessed_tweet_text', 'translated_emojis']].head(5)"
   ]
  },
  {
   "cell_type": "markdown",
   "id": "1f90526f-2455-4766-bb65-d9d2983c539d",
   "metadata": {},
   "source": [
    "## Q2 analysis on emojis \n",
    "**False Information: To what extent does the tweet appear to contain false information?**\n",
    "\n",
    "The stated claim may contain false information. This question labels the tweets with the categories mentioned below. False Information appears on social media platforms, blogs, and news-articles to deliberately misinform or deceive the readers."
   ]
  },
  {
   "cell_type": "code",
   "execution_count": 12,
   "id": "7c2f0d27-b5a6-4c32-b00c-f7708e227bc2",
   "metadata": {},
   "outputs": [
    {
     "data": {
      "text/plain": [
       "       3607\n",
       "🔴        33\n",
       "👉        12\n",
       "➡         9\n",
       "👇         9\n",
       "       ... \n",
       "📧         1\n",
       "💉😮        1\n",
       "🤔         1\n",
       "📲💻👉       1\n",
       "‼🔴🕛       1\n",
       "Name: emojis, Length: 181, dtype: int64"
      ]
     },
     "execution_count": 12,
     "metadata": {},
     "output_type": "execute_result"
    }
   ],
   "source": [
    "train_dataset[train_dataset['q2_label'] == 'no']['emojis'].value_counts()"
   ]
  },
  {
   "cell_type": "code",
   "execution_count": 13,
   "id": "30dffa09-91ff-4269-95e2-e8cd1ade3cea",
   "metadata": {
    "scrolled": true,
    "tags": []
   },
   "outputs": [
    {
     "data": {
      "text/plain": [
       "                            408\n",
       "👇                             7\n",
       "🔴                             5\n",
       "🔻                             3\n",
       "👍🏻                            2\n",
       "🚨                             2\n",
       "‼                             2\n",
       "✋🤔                            2\n",
       "🛑                             2\n",
       "🔴‼                            2\n",
       "⚠                             2\n",
       "😏                             1\n",
       "🔴🔴🔴                           1\n",
       "❤🌍                            1\n",
       "⚠☠                            1\n",
       "🤧🤧👇                           1\n",
       "📌📌📌                           1\n",
       "💰                             1\n",
       "⤵                             1\n",
       "⁉                             1\n",
       "😭                             1\n",
       "👇🏼                            1\n",
       "💉💉💉🗓👥🧠💉                       1\n",
       "🤔👇                            1\n",
       "🤷🏻♂                           1\n",
       "🛑♦                            1\n",
       "⛔📍                            1\n",
       "🤝                             1\n",
       "❣❤💉💉                          1\n",
       "🤚                             1\n",
       "🔴🔴                            1\n",
       "😂                             1\n",
       "👁                             1\n",
       "👇🏿👇🏿👇🏿👇🏿👇🏿👇🏿👇🏿👇🏿👇🏿👇🏿👇🏿👇🏿      1\n",
       "📌                             1\n",
       "✅✅✅                           1\n",
       "🌐                             1\n",
       "❗❗                            1\n",
       "🌍🌍🌍☀🌍🌍🌍                       1\n",
       "⭕                             1\n",
       "🔴🔴👇🏻                          1\n",
       "🥰                             1\n",
       "😂😂😂                           1\n",
       "🛑👇                            1\n",
       "🛑💯💯👌✌                         1\n",
       "😏🌚                            1\n",
       "🧪                             1\n",
       "🔴👇🏻                           1\n",
       "😊                             1\n",
       "🤔                             1\n",
       "🔥💉👥💉💉                         1\n",
       "❌👇                            1\n",
       "💠                             1\n",
       "Name: emojis, dtype: int64"
      ]
     },
     "execution_count": 13,
     "metadata": {},
     "output_type": "execute_result"
    }
   ],
   "source": [
    "train_dataset[train_dataset['q2_label'] == 'yes']['emojis'].value_counts()"
   ]
  },
  {
   "cell_type": "code",
   "execution_count": 14,
   "id": "a4779157-9b01-4134-9499-80c51a329c5a",
   "metadata": {},
   "outputs": [
    {
     "data": {
      "text/html": [
       "<div>\n",
       "<style scoped>\n",
       "    .dataframe tbody tr th:only-of-type {\n",
       "        vertical-align: middle;\n",
       "    }\n",
       "\n",
       "    .dataframe tbody tr th {\n",
       "        vertical-align: top;\n",
       "    }\n",
       "\n",
       "    .dataframe thead th {\n",
       "        text-align: right;\n",
       "    }\n",
       "</style>\n",
       "<table border=\"1\" class=\"dataframe\">\n",
       "  <thead>\n",
       "    <tr style=\"text-align: right;\">\n",
       "      <th></th>\n",
       "      <th>tweet_text</th>\n",
       "      <th>preprocessed_tweet_text</th>\n",
       "      <th>translated_emojis</th>\n",
       "    </tr>\n",
       "  </thead>\n",
       "  <tbody>\n",
       "    <tr>\n",
       "      <th>4903</th>\n",
       "      <td>The US government is booking 💉100 million doses of the Johnson &amp;amp; Johnson vaccination 💉Ad26.COV2.S💉 and the possibility of buying an additional 200 million doses https://t.co/NaqT1jmWuf 🗓 In September, the third phase clinical trials will begin on 👥60 thousand people in 🇺🇸🇧🇷🇲🇽🇿🇦🇺 🇦🇵🇪🇵🇭🇨🇱🇨🇴 https://t.co/p1aEGY5e72 🧠 Vaccination: Single dose💉 (258) https://t.co/fEvUBLe1Ck</td>\n",
       "      <td>The US government is booking  :syringe: 100 million doses of the Johnson &amp;amp; Johnson vaccination  :syringe: Ad26.COV2.S :syringe:  and the possibility of buying an additional 200 million doses https://t.co/NaqT1jmWuf  :spiral_calendar:  In September, the third phase clinical trials will begin on  :busts_in_silhouette: 60 thousand people in 🇺🇸🇧🇷🇲🇽🇿🇦🇺 🇦🇵🇪🇵🇭🇨🇱🇨🇴 https://t.co/p1aEGY5e72  :brain:  Vaccination: Single dose :syringe:  (258) https://t.co/fEvUBLe1Ck</td>\n",
       "      <td>:syringe:  :syringe:  :syringe:  :spiral_calendar:  :busts_in_silhouette:  :brain:  :syringe:</td>\n",
       "    </tr>\n",
       "  </tbody>\n",
       "</table>\n",
       "</div>"
      ],
      "text/plain": [
       "                                                                                                                                                                                                                                                                                                                                                                                   tweet_text  \\\n",
       "4903  The US government is booking 💉100 million doses of the Johnson &amp; Johnson vaccination 💉Ad26.COV2.S💉 and the possibility of buying an additional 200 million doses https://t.co/NaqT1jmWuf 🗓 In September, the third phase clinical trials will begin on 👥60 thousand people in 🇺🇸🇧🇷🇲🇽🇿🇦🇺 🇦🇵🇪🇵🇭🇨🇱🇨🇴 https://t.co/p1aEGY5e72 🧠 Vaccination: Single dose💉 (258) https://t.co/fEvUBLe1Ck   \n",
       "\n",
       "                                                                                                                                                                                                                                                                                                                                                                                                                                                              preprocessed_tweet_text  \\\n",
       "4903  The US government is booking  :syringe: 100 million doses of the Johnson &amp; Johnson vaccination  :syringe: Ad26.COV2.S :syringe:  and the possibility of buying an additional 200 million doses https://t.co/NaqT1jmWuf  :spiral_calendar:  In September, the third phase clinical trials will begin on  :busts_in_silhouette: 60 thousand people in 🇺🇸🇧🇷🇲🇽🇿🇦🇺 🇦🇵🇪🇵🇭🇨🇱🇨🇴 https://t.co/p1aEGY5e72  :brain:  Vaccination: Single dose :syringe:  (258) https://t.co/fEvUBLe1Ck   \n",
       "\n",
       "                                                                                    translated_emojis  \n",
       "4903   :syringe:  :syringe:  :syringe:  :spiral_calendar:  :busts_in_silhouette:  :brain:  :syringe:   "
      ]
     },
     "execution_count": 14,
     "metadata": {},
     "output_type": "execute_result"
    }
   ],
   "source": [
    "train_dataset[train_dataset['emojis'] == '💉💉💉🗓👥🧠💉'][['tweet_text', 'preprocessed_tweet_text', 'translated_emojis']]"
   ]
  },
  {
   "cell_type": "markdown",
   "id": "9328c5fa-bd33-4482-a8cd-2069ba8e46d8",
   "metadata": {},
   "source": [
    "## Q3 analysis on emojis\n",
    "**Interest to General Public: Will the tweet have an effect on or be of interest to the general public?**\n",
    "\n",
    "Most often people do not make interesting claims, which can be verified by our general knowledge. For example, \"Sky is blue'' is a claim, however, it is not interesting to the general public. In general, topics such as healthcare, political news and findings, and current events are of higher interest to the general public. Using the five point Likert scale the labels are defined below."
   ]
  },
  {
   "cell_type": "code",
   "execution_count": 15,
   "id": "cd84b4e1-2e87-4217-bd4b-94c4e16dfa79",
   "metadata": {},
   "outputs": [
    {
     "data": {
      "text/plain": [
       "           116\n",
       "😭            1\n",
       "🤲🏼           1\n",
       "🙂            1\n",
       "👴🥰           1\n",
       "😂😂😂          1\n",
       "💜💜💜💜💜💜💜      1\n",
       "😷            1\n",
       "📆🚀🔜          1\n",
       "©            1\n",
       "🎖🏆🏆🏆💷📰✍      1\n",
       "😊            1\n",
       "💔            1\n",
       "Name: emojis, dtype: int64"
      ]
     },
     "execution_count": 15,
     "metadata": {},
     "output_type": "execute_result"
    }
   ],
   "source": [
    "train_dataset[train_dataset['q3_label'] == 'no']['emojis'].value_counts()"
   ]
  },
  {
   "cell_type": "code",
   "execution_count": 16,
   "id": "a578bb0e-7e2f-44df-acbc-b743fdcb3680",
   "metadata": {},
   "outputs": [
    {
     "data": {
      "text/plain": [
       "            3957\n",
       "🔴             39\n",
       "👇             16\n",
       "👉             13\n",
       "➡              9\n",
       "            ... \n",
       "🤓😃🎁😷👩⚕👨⚕       1\n",
       "⤵              1\n",
       "🤩🎉🎉            1\n",
       "📧              1\n",
       "😀👏             1\n",
       "Name: emojis, Length: 210, dtype: int64"
      ]
     },
     "execution_count": 16,
     "metadata": {},
     "output_type": "execute_result"
    }
   ],
   "source": [
    "train_dataset[train_dataset['q3_label'] == 'yes']['emojis'].value_counts()"
   ]
  },
  {
   "cell_type": "markdown",
   "id": "96996957-54cb-42d1-9ee2-bb4179446ca7",
   "metadata": {},
   "source": [
    "## Q4 analysis on emojis\n",
    "**Harmfulness: To what extent is the tweet harmful to the society/person(s)/company(s)/product(s)?**\n",
    "\n",
    "The purpose of this question is to determine if the content of the tweet aims to and can negatively affect the society as a whole, specific person(s), company(s), product(s) or spread rumors about them. The content intends to harm or weaponize the information. A rumor involves a form of a statement whose veracity is not quickly or ever confirmed."
   ]
  },
  {
   "cell_type": "code",
   "execution_count": 17,
   "id": "dd17cbeb-ba63-45c5-9be6-765d4ed2d2c6",
   "metadata": {},
   "outputs": [
    {
     "data": {
      "text/plain": [
       "       3443\n",
       "🔴        33\n",
       "👉        13\n",
       "👇        10\n",
       "➡         9\n",
       "       ... \n",
       "🤩🎉🎉       1\n",
       "📧         1\n",
       "💉😮        1\n",
       "⛔📍        1\n",
       "🔵🔵        1\n",
       "Name: emojis, Length: 185, dtype: int64"
      ]
     },
     "execution_count": 17,
     "metadata": {},
     "output_type": "execute_result"
    }
   ],
   "source": [
    "train_dataset[train_dataset['q4_label'] == 'no']['emojis'].value_counts()"
   ]
  },
  {
   "cell_type": "code",
   "execution_count": 18,
   "id": "dbfa2579-773e-4bdc-bbfb-39541d6ab15a",
   "metadata": {},
   "outputs": [
    {
     "data": {
      "text/plain": [
       "           623\n",
       "👇            6\n",
       "🔴            4\n",
       "⚠            2\n",
       "🔴‼           2\n",
       "✋🤔           2\n",
       "🔻            2\n",
       "‼            2\n",
       "©            2\n",
       "👀            1\n",
       "💵            1\n",
       "🤔👇           1\n",
       "🌐🌐           1\n",
       "👈            1\n",
       "🤦🏿♂          1\n",
       "❤🌍           1\n",
       "🤧🤧👇          1\n",
       "💶            1\n",
       "💉👇           1\n",
       "⁉            1\n",
       "🌐            1\n",
       "🤷🏻♂          1\n",
       "🙈            1\n",
       "🤬            1\n",
       "❌❌❌❌         1\n",
       "😏            1\n",
       "❌👇           1\n",
       "🤝            1\n",
       "🦠🧪🎤          1\n",
       "⚠👇🏻👇🏻👇🏻      1\n",
       "🔴🔴           1\n",
       "😂            1\n",
       "👁            1\n",
       "⚠☠           1\n",
       "📌            1\n",
       "🌍🌍🌍☀🌍🌍🌍      1\n",
       "📹            1\n",
       "🚨            1\n",
       "💡            1\n",
       "❗❗           1\n",
       "😂😂😂          1\n",
       "⭕            1\n",
       "😀            1\n",
       "🔴🔴👇🏻         1\n",
       "🔴🔴‼🌹         1\n",
       "📽            1\n",
       "😏🌚           1\n",
       "🧪            1\n",
       "🔴👇🏻          1\n",
       "😊            1\n",
       "👇🏼           1\n",
       "😔            1\n",
       "Name: emojis, dtype: int64"
      ]
     },
     "execution_count": 18,
     "metadata": {},
     "output_type": "execute_result"
    }
   ],
   "source": [
    "train_dataset[train_dataset['q4_label'] == 'yes']['emojis'].value_counts()"
   ]
  },
  {
   "cell_type": "code",
   "execution_count": null,
   "id": "c587cf23-39f4-4c50-95c9-d810f0b988fe",
   "metadata": {},
   "outputs": [],
   "source": []
  }
 ],
 "metadata": {
  "kernelspec": {
   "display_name": "Python 3 (ipykernel)",
   "language": "python",
   "name": "python3"
  },
  "language_info": {
   "codemirror_mode": {
    "name": "ipython",
    "version": 3
   },
   "file_extension": ".py",
   "mimetype": "text/x-python",
   "name": "python",
   "nbconvert_exporter": "python",
   "pygments_lexer": "ipython3",
   "version": "3.7.0"
  }
 },
 "nbformat": 4,
 "nbformat_minor": 5
}
