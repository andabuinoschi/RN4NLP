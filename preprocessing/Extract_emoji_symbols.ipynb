{
 "cells": [
  {
   "cell_type": "markdown",
   "id": "26679bd8-a4d8-4c34-8032-3a5517fe3fa9",
   "metadata": {},
   "source": [
    "# Extract emoji symbols"
   ]
  },
  {
   "cell_type": "code",
   "execution_count": 1,
   "id": "c1304299-bd98-4134-a40e-68748b694c9b",
   "metadata": {},
   "outputs": [],
   "source": [
    "import pandas as pd\n",
    "import emoji\n",
    "\n",
    "pd.set_option('display.max_colwidth', None)"
   ]
  },
  {
   "cell_type": "code",
   "execution_count": 2,
   "id": "d46a727c-a45e-4add-a986-89281d1ecb1e",
   "metadata": {},
   "outputs": [
    {
     "data": {
      "text/html": [
       "<div>\n",
       "<style scoped>\n",
       "    .dataframe tbody tr th:only-of-type {\n",
       "        vertical-align: middle;\n",
       "    }\n",
       "\n",
       "    .dataframe tbody tr th {\n",
       "        vertical-align: top;\n",
       "    }\n",
       "\n",
       "    .dataframe thead th {\n",
       "        text-align: right;\n",
       "    }\n",
       "</style>\n",
       "<table border=\"1\" class=\"dataframe\">\n",
       "  <thead>\n",
       "    <tr style=\"text-align: right;\">\n",
       "      <th></th>\n",
       "      <th>Unnamed: 0</th>\n",
       "      <th>tweet_no</th>\n",
       "      <th>tweet_text</th>\n",
       "      <th>q1_label</th>\n",
       "      <th>q2_label</th>\n",
       "      <th>q3_label</th>\n",
       "      <th>q4_label</th>\n",
       "      <th>q5_label</th>\n",
       "      <th>q6_label</th>\n",
       "      <th>q7_label</th>\n",
       "      <th>language</th>\n",
       "      <th>tweet_link</th>\n",
       "      <th>tweet_link_count</th>\n",
       "      <th>preprocessed_tweet_text</th>\n",
       "      <th>emojis</th>\n",
       "      <th>translated_emojis</th>\n",
       "    </tr>\n",
       "  </thead>\n",
       "  <tbody>\n",
       "    <tr>\n",
       "      <th>0</th>\n",
       "      <td>0</td>\n",
       "      <td>1</td>\n",
       "      <td>For the average American the best way to tell if you have covid-19 is to cough in a rich person’s face and wait for their test results</td>\n",
       "      <td>no</td>\n",
       "      <td>NaN</td>\n",
       "      <td>NaN</td>\n",
       "      <td>NaN</td>\n",
       "      <td>NaN</td>\n",
       "      <td>no</td>\n",
       "      <td>no</td>\n",
       "      <td>en</td>\n",
       "      <td>[]</td>\n",
       "      <td>0</td>\n",
       "      <td>For the average American the best way to tell if you have covid-19 is to cough in a rich person’s face and wait for their test results</td>\n",
       "      <td>NaN</td>\n",
       "      <td>NaN</td>\n",
       "    </tr>\n",
       "    <tr>\n",
       "      <th>1</th>\n",
       "      <td>1</td>\n",
       "      <td>2</td>\n",
       "      <td>this is fucking bullshit</td>\n",
       "      <td>no</td>\n",
       "      <td>NaN</td>\n",
       "      <td>NaN</td>\n",
       "      <td>NaN</td>\n",
       "      <td>NaN</td>\n",
       "      <td>no</td>\n",
       "      <td>no</td>\n",
       "      <td>en</td>\n",
       "      <td>[]</td>\n",
       "      <td>0</td>\n",
       "      <td>this is fucking bullshit</td>\n",
       "      <td>NaN</td>\n",
       "      <td>NaN</td>\n",
       "    </tr>\n",
       "    <tr>\n",
       "      <th>2</th>\n",
       "      <td>2</td>\n",
       "      <td>3</td>\n",
       "      <td>Can y’all please just follow the government’s instructions so we can knock this COVID-19 out and be done?! I feel like a kindergartner that keeps losing more recess time because one or two kids can’t follow directions.</td>\n",
       "      <td>no</td>\n",
       "      <td>NaN</td>\n",
       "      <td>NaN</td>\n",
       "      <td>NaN</td>\n",
       "      <td>NaN</td>\n",
       "      <td>no</td>\n",
       "      <td>no</td>\n",
       "      <td>en</td>\n",
       "      <td>[]</td>\n",
       "      <td>0</td>\n",
       "      <td>Can y’all please just follow the government’s instructions so we can knock this COVID-19 out and be done?! I feel like a kindergartner that keeps losing more recess time because one or two kids can’t follow directions.</td>\n",
       "      <td>NaN</td>\n",
       "      <td>NaN</td>\n",
       "    </tr>\n",
       "  </tbody>\n",
       "</table>\n",
       "</div>"
      ],
      "text/plain": [
       "   Unnamed: 0  tweet_no  \\\n",
       "0           0         1   \n",
       "1           1         2   \n",
       "2           2         3   \n",
       "\n",
       "                                                                                                                                                                                                                   tweet_text  \\\n",
       "0                                                                                      For the average American the best way to tell if you have covid-19 is to cough in a rich person’s face and wait for their test results   \n",
       "1                                                                                                                                                                                                    this is fucking bullshit   \n",
       "2  Can y’all please just follow the government’s instructions so we can knock this COVID-19 out and be done?! I feel like a kindergartner that keeps losing more recess time because one or two kids can’t follow directions.   \n",
       "\n",
       "  q1_label q2_label q3_label q4_label q5_label q6_label q7_label language  \\\n",
       "0       no      NaN      NaN      NaN      NaN       no       no       en   \n",
       "1       no      NaN      NaN      NaN      NaN       no       no       en   \n",
       "2       no      NaN      NaN      NaN      NaN       no       no       en   \n",
       "\n",
       "  tweet_link  tweet_link_count  \\\n",
       "0         []                 0   \n",
       "1         []                 0   \n",
       "2         []                 0   \n",
       "\n",
       "                                                                                                                                                                                                      preprocessed_tweet_text  \\\n",
       "0                                                                                      For the average American the best way to tell if you have covid-19 is to cough in a rich person’s face and wait for their test results   \n",
       "1                                                                                                                                                                                                    this is fucking bullshit   \n",
       "2  Can y’all please just follow the government’s instructions so we can knock this COVID-19 out and be done?! I feel like a kindergartner that keeps losing more recess time because one or two kids can’t follow directions.   \n",
       "\n",
       "  emojis translated_emojis  \n",
       "0    NaN               NaN  \n",
       "1    NaN               NaN  \n",
       "2    NaN               NaN  "
      ]
     },
     "execution_count": 2,
     "metadata": {},
     "output_type": "execute_result"
    }
   ],
   "source": [
    "train_dataset = pd.read_csv('../dataset/train.tsv', sep='\\t')\n",
    "validation_dataset = pd.read_csv('../dataset/valid.tsv', sep='\\t')\n",
    "test_dataset = pd.read_csv('../dataset/test.tsv', sep='\\t')\n",
    "train_dataset.head(3)"
   ]
  },
  {
   "cell_type": "code",
   "execution_count": 3,
   "id": "30e51017-b61c-4e20-9cda-2ad381fde98a",
   "metadata": {},
   "outputs": [
    {
     "data": {
      "text/plain": [
       "':thinking_face: :see-no-evil_monkey:  Well, this is interesting :relieved_face: '"
      ]
     },
     "execution_count": 3,
     "metadata": {},
     "output_type": "execute_result"
    }
   ],
   "source": [
    "text = '🤔🙈 Well, this is interesting 😌'\n",
    "result = ''.join([(emoji.demojize(c) + ' ' if c in emoji.UNICODE_EMOJI['en'] else c) for c in text])\n",
    "result"
   ]
  },
  {
   "cell_type": "code",
   "execution_count": 4,
   "id": "d7aec5e4-3de3-4d33-ac93-e6da42be384b",
   "metadata": {},
   "outputs": [
    {
     "data": {
      "text/plain": [
       "'thinking_face see-no-evil_monkey  Well, this is interesting relieved_face '"
      ]
     },
     "execution_count": 4,
     "metadata": {},
     "output_type": "execute_result"
    }
   ],
   "source": [
    "result = ''.join([(emoji.demojize(c)[1:-1] + ' ' if c in emoji.UNICODE_EMOJI['en'] else c) for c in text])\n",
    "result"
   ]
  },
  {
   "cell_type": "code",
   "execution_count": 5,
   "id": "58ce5c06-9957-419b-a879-c604541aa966",
   "metadata": {},
   "outputs": [],
   "source": [
    "def preprocess_tweet_text_with_emojis(dataframe):\n",
    "    dataframe['preprocessed_tweet_text'] = dataframe.apply(lambda row: ''.join([(emoji.demojize(c)[1:-1] + ' ' if c in emoji.UNICODE_EMOJI['en'] else c) for c in row['tweet_text']]), axis=1)\n",
    "    dataframe['emojis'] = dataframe.apply(lambda row: ''.join(c for c in row['tweet_text'] if c in emoji.UNICODE_EMOJI['en']), axis=1)\n",
    "    dataframe['translated_emojis'] = dataframe.apply(lambda row: ''.join(emoji.demojize(c)[1:-1] + ' ' for c in row['tweet_text'] if c in emoji.UNICODE_EMOJI['en']), axis=1)\n",
    "    return dataframe"
   ]
  },
  {
   "cell_type": "code",
   "execution_count": 6,
   "id": "607750f0-518a-457d-8588-6ead661a74f3",
   "metadata": {},
   "outputs": [],
   "source": [
    "train_dataset = preprocess_tweet_text_with_emojis(train_dataset)\n",
    "validation_dataset = preprocess_tweet_text_with_emojis(validation_dataset)\n",
    "test_dataset = preprocess_tweet_text_with_emojis(test_dataset)"
   ]
  },
  {
   "cell_type": "code",
   "execution_count": 7,
   "id": "a48c96ec-ca25-4465-bcec-cc03c4e1d5e2",
   "metadata": {},
   "outputs": [
    {
     "data": {
      "text/html": [
       "<div>\n",
       "<style scoped>\n",
       "    .dataframe tbody tr th:only-of-type {\n",
       "        vertical-align: middle;\n",
       "    }\n",
       "\n",
       "    .dataframe tbody tr th {\n",
       "        vertical-align: top;\n",
       "    }\n",
       "\n",
       "    .dataframe thead th {\n",
       "        text-align: right;\n",
       "    }\n",
       "</style>\n",
       "<table border=\"1\" class=\"dataframe\">\n",
       "  <thead>\n",
       "    <tr style=\"text-align: right;\">\n",
       "      <th></th>\n",
       "      <th>tweet_text</th>\n",
       "      <th>preprocessed_tweet_text</th>\n",
       "      <th>emojis</th>\n",
       "      <th>translated_emojis</th>\n",
       "    </tr>\n",
       "  </thead>\n",
       "  <tbody>\n",
       "    <tr>\n",
       "      <th>7</th>\n",
       "      <td>This is Dr. Usama Riaz. He spent past weeks screening and treating patients with Corona Virus in Pakistan.   He knew there was no PPE. He persisted anyways.  Today he lost his own battle with coronavirus but he gave life and hope to so many more.   KNOW HIS NAME 😭❤ URL</td>\n",
       "      <td>This is Dr. Usama Riaz. He spent past weeks screening and treating patients with Corona Virus in Pakistan.   He knew there was no PPE. He persisted anyways.  Today he lost his own battle with coronavirus but he gave life and hope to so many more.   KNOW HIS NAME loudly_crying_face red_heart  URL</td>\n",
       "      <td>😭❤</td>\n",
       "      <td>loudly_crying_face red_heart</td>\n",
       "    </tr>\n",
       "    <tr>\n",
       "      <th>8</th>\n",
       "      <td>fun fact: its tradition for europeans to spread a potentially fatal disease to every other country not fully inhabited by white people &amp;amp; not take accountability for the subsequent devastation &amp;amp; lives lost</td>\n",
       "      <td>fun fact: its tradition for europeans to spread a potentially fatal disease to every other country not fully inhabited by white people &amp;amp; not take accountability for the subsequent devastation &amp;amp; lives lost</td>\n",
       "      <td></td>\n",
       "      <td></td>\n",
       "    </tr>\n",
       "  </tbody>\n",
       "</table>\n",
       "</div>"
      ],
      "text/plain": [
       "                                                                                                                                                                                                                                                                      tweet_text  \\\n",
       "7  This is Dr. Usama Riaz. He spent past weeks screening and treating patients with Corona Virus in Pakistan.   He knew there was no PPE. He persisted anyways.  Today he lost his own battle with coronavirus but he gave life and hope to so many more.   KNOW HIS NAME 😭❤ URL   \n",
       "8                                                           fun fact: its tradition for europeans to spread a potentially fatal disease to every other country not fully inhabited by white people &amp; not take accountability for the subsequent devastation &amp; lives lost   \n",
       "\n",
       "                                                                                                                                                                                                                                                                                    preprocessed_tweet_text  \\\n",
       "7  This is Dr. Usama Riaz. He spent past weeks screening and treating patients with Corona Virus in Pakistan.   He knew there was no PPE. He persisted anyways.  Today he lost his own battle with coronavirus but he gave life and hope to so many more.   KNOW HIS NAME loudly_crying_face red_heart  URL   \n",
       "8                                                                                      fun fact: its tradition for europeans to spread a potentially fatal disease to every other country not fully inhabited by white people &amp; not take accountability for the subsequent devastation &amp; lives lost   \n",
       "\n",
       "  emojis              translated_emojis  \n",
       "7     😭❤  loudly_crying_face red_heart   \n",
       "8                                        "
      ]
     },
     "execution_count": 7,
     "metadata": {},
     "output_type": "execute_result"
    }
   ],
   "source": [
    "train_dataset.loc[7:8,['tweet_text', 'preprocessed_tweet_text', 'emojis', 'translated_emojis']]"
   ]
  },
  {
   "cell_type": "code",
   "execution_count": 8,
   "id": "3e04cab7-5639-4f2e-81b3-fca07ea64449",
   "metadata": {},
   "outputs": [],
   "source": [
    "train_dataset.to_csv('../dataset/train.tsv', sep='\\t')\n",
    "validation_dataset.to_csv('../dataset/valid.tsv', sep='\\t')\n",
    "test_dataset.to_csv('../dataset/test.tsv', sep='\\t')"
   ]
  },
  {
   "cell_type": "code",
   "execution_count": null,
   "id": "4cfc6971-51cc-485c-b3f2-5e9337b88d62",
   "metadata": {},
   "outputs": [],
   "source": []
  }
 ],
 "metadata": {
  "kernelspec": {
   "display_name": "Python 3 (ipykernel)",
   "language": "python",
   "name": "python3"
  },
  "language_info": {
   "codemirror_mode": {
    "name": "ipython",
    "version": 3
   },
   "file_extension": ".py",
   "mimetype": "text/x-python",
   "name": "python",
   "nbconvert_exporter": "python",
   "pygments_lexer": "ipython3",
   "version": "3.7.0"
  }
 },
 "nbformat": 4,
 "nbformat_minor": 5
}
