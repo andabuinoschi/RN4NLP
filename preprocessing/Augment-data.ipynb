{
 "cells": [
  {
   "cell_type": "markdown",
   "id": "79f13c09-387d-4872-828f-f26d96ce47ff",
   "metadata": {},
   "source": [
    "# Data augmentation of the original data"
   ]
  },
  {
   "cell_type": "code",
   "execution_count": 1,
   "id": "ecfac8f4-d66f-4cfe-a2e1-5d9fb9435726",
   "metadata": {},
   "outputs": [],
   "source": [
    "import pandas as pd\n",
    "\n",
    "import nlpaug.augmenter.char as nac\n",
    "import nlpaug.augmenter.word as naw\n",
    "import nlpaug.augmenter.sentence as nas\n",
    "\n",
    "import emoji"
   ]
  },
  {
   "cell_type": "code",
   "execution_count": 2,
   "id": "da18ee69-b28e-4d23-b830-a47d10d47829",
   "metadata": {},
   "outputs": [],
   "source": [
    "pd.set_option('display.max_colwidth', None)"
   ]
  },
  {
   "cell_type": "markdown",
   "id": "774ef4ef-3c86-45bd-a25f-70c6dc6547b4",
   "metadata": {},
   "source": [
    "## Read data"
   ]
  },
  {
   "cell_type": "code",
   "execution_count": 3,
   "id": "b1a42ac6-cffb-4864-8b97-ba8295061c6f",
   "metadata": {},
   "outputs": [
    {
     "data": {
      "text/html": [
       "<div>\n",
       "<style scoped>\n",
       "    .dataframe tbody tr th:only-of-type {\n",
       "        vertical-align: middle;\n",
       "    }\n",
       "\n",
       "    .dataframe tbody tr th {\n",
       "        vertical-align: top;\n",
       "    }\n",
       "\n",
       "    .dataframe thead th {\n",
       "        text-align: right;\n",
       "    }\n",
       "</style>\n",
       "<table border=\"1\" class=\"dataframe\">\n",
       "  <thead>\n",
       "    <tr style=\"text-align: right;\">\n",
       "      <th></th>\n",
       "      <th>tweet_no</th>\n",
       "      <th>tweet_text</th>\n",
       "      <th>q1_label</th>\n",
       "      <th>q2_label</th>\n",
       "      <th>q3_label</th>\n",
       "      <th>q4_label</th>\n",
       "      <th>q5_label</th>\n",
       "      <th>q6_label</th>\n",
       "      <th>q7_label</th>\n",
       "      <th>language</th>\n",
       "      <th>tweet_link</th>\n",
       "      <th>tweet_link_count</th>\n",
       "      <th>preprocessed_tweet_text</th>\n",
       "      <th>emojis</th>\n",
       "      <th>translated_emojis</th>\n",
       "      <th>tweet_link_domain</th>\n",
       "      <th>tweet_link_path</th>\n",
       "    </tr>\n",
       "  </thead>\n",
       "  <tbody>\n",
       "    <tr>\n",
       "      <th>0</th>\n",
       "      <td>1</td>\n",
       "      <td>For the average American the best way to tell if you have covid-19 is to cough in a rich person’s face and wait for their test results</td>\n",
       "      <td>no</td>\n",
       "      <td>NaN</td>\n",
       "      <td>NaN</td>\n",
       "      <td>NaN</td>\n",
       "      <td>NaN</td>\n",
       "      <td>no</td>\n",
       "      <td>no</td>\n",
       "      <td>en</td>\n",
       "      <td>[]</td>\n",
       "      <td>0</td>\n",
       "      <td>For the average American the best way to tell if you have covid-19 is to cough in a rich person’s face and wait for their test results</td>\n",
       "      <td>NaN</td>\n",
       "      <td>NaN</td>\n",
       "      <td>NaN</td>\n",
       "      <td>NaN</td>\n",
       "    </tr>\n",
       "    <tr>\n",
       "      <th>1</th>\n",
       "      <td>2</td>\n",
       "      <td>this is fucking bullshit</td>\n",
       "      <td>no</td>\n",
       "      <td>NaN</td>\n",
       "      <td>NaN</td>\n",
       "      <td>NaN</td>\n",
       "      <td>NaN</td>\n",
       "      <td>no</td>\n",
       "      <td>no</td>\n",
       "      <td>en</td>\n",
       "      <td>[]</td>\n",
       "      <td>0</td>\n",
       "      <td>this is fucking bullshit</td>\n",
       "      <td>NaN</td>\n",
       "      <td>NaN</td>\n",
       "      <td>NaN</td>\n",
       "      <td>NaN</td>\n",
       "    </tr>\n",
       "    <tr>\n",
       "      <th>2</th>\n",
       "      <td>3</td>\n",
       "      <td>Can y’all please just follow the government’s instructions so we can knock this COVID-19 out and be done?! I feel like a kindergartner that keeps losing more recess time because one or two kids can’t follow directions.</td>\n",
       "      <td>no</td>\n",
       "      <td>NaN</td>\n",
       "      <td>NaN</td>\n",
       "      <td>NaN</td>\n",
       "      <td>NaN</td>\n",
       "      <td>no</td>\n",
       "      <td>no</td>\n",
       "      <td>en</td>\n",
       "      <td>[]</td>\n",
       "      <td>0</td>\n",
       "      <td>Can y’all please just follow the government’s instructions so we can knock this COVID-19 out and be done?! I feel like a kindergartner that keeps losing more recess time because one or two kids can’t follow directions.</td>\n",
       "      <td>NaN</td>\n",
       "      <td>NaN</td>\n",
       "      <td>NaN</td>\n",
       "      <td>NaN</td>\n",
       "    </tr>\n",
       "  </tbody>\n",
       "</table>\n",
       "</div>"
      ],
      "text/plain": [
       "   tweet_no  \\\n",
       "0         1   \n",
       "1         2   \n",
       "2         3   \n",
       "\n",
       "                                                                                                                                                                                                                   tweet_text  \\\n",
       "0                                                                                      For the average American the best way to tell if you have covid-19 is to cough in a rich person’s face and wait for their test results   \n",
       "1                                                                                                                                                                                                    this is fucking bullshit   \n",
       "2  Can y’all please just follow the government’s instructions so we can knock this COVID-19 out and be done?! I feel like a kindergartner that keeps losing more recess time because one or two kids can’t follow directions.   \n",
       "\n",
       "  q1_label q2_label q3_label q4_label q5_label q6_label q7_label language  \\\n",
       "0       no      NaN      NaN      NaN      NaN       no       no       en   \n",
       "1       no      NaN      NaN      NaN      NaN       no       no       en   \n",
       "2       no      NaN      NaN      NaN      NaN       no       no       en   \n",
       "\n",
       "  tweet_link  tweet_link_count  \\\n",
       "0         []                 0   \n",
       "1         []                 0   \n",
       "2         []                 0   \n",
       "\n",
       "                                                                                                                                                                                                      preprocessed_tweet_text  \\\n",
       "0                                                                                      For the average American the best way to tell if you have covid-19 is to cough in a rich person’s face and wait for their test results   \n",
       "1                                                                                                                                                                                                    this is fucking bullshit   \n",
       "2  Can y’all please just follow the government’s instructions so we can knock this COVID-19 out and be done?! I feel like a kindergartner that keeps losing more recess time because one or two kids can’t follow directions.   \n",
       "\n",
       "  emojis translated_emojis tweet_link_domain tweet_link_path  \n",
       "0    NaN               NaN               NaN             NaN  \n",
       "1    NaN               NaN               NaN             NaN  \n",
       "2    NaN               NaN               NaN             NaN  "
      ]
     },
     "execution_count": 3,
     "metadata": {},
     "output_type": "execute_result"
    }
   ],
   "source": [
    "train_data = pd.read_csv('../dataset/train.tsv', sep='\\t')\n",
    "train_data.head(3)"
   ]
  },
  {
   "cell_type": "code",
   "execution_count": 4,
   "id": "29d0ab77-45da-4f2c-89c7-302d3da443fd",
   "metadata": {},
   "outputs": [
    {
     "name": "stdout",
     "output_type": "stream",
     "text": [
      "👉 fun fact: its tradition for europeans to spread a potentially fatal disease to every other country not fully inhabited by white people &amp; not take accountability for the subsequent devastation &amp; lives lost 👉\n"
     ]
    }
   ],
   "source": [
    "text = '👉 fun fact: its tradition for europeans to spread a potentially fatal disease to every other country not fully inhabited by white people &amp; not take accountability for the subsequent devastation &amp; lives lost 👉'\n",
    "print(text)"
   ]
  },
  {
   "cell_type": "markdown",
   "id": "17275e02-8f0c-48d7-8bcf-bad5a735ea2e",
   "metadata": {},
   "source": [
    "### Character augmenter"
   ]
  },
  {
   "cell_type": "markdown",
   "id": "fa5a434d-7e2b-496e-8ad8-019ba92b2996",
   "metadata": {},
   "source": [
    "#### Keyboard Augmenter\n",
    "Substitute character by keyboard distance"
   ]
  },
  {
   "cell_type": "code",
   "execution_count": 5,
   "id": "ea0f32b5-057d-410e-9236-f7ddf3a52e29",
   "metadata": {},
   "outputs": [
    {
     "name": "stdout",
     "output_type": "stream",
     "text": [
      "Original:\n",
      "👉 fun fact: its tradition for europeans to spread a potentially fatal disease to every other country not fully inhabited by white people &amp; not take accountability for the subsequent devastation &amp; lives lost 👉\n",
      "Augmented Text:\n",
      "👉 fun faft: its tradition for europeans to wpread a pptehtiallj fatal disease to every othDr coujhry not fulIy inhabited by wyite people & amp; not tak3 acc(hHtQbility for the suNseWu#nt devastation & amp; lives lost 👉\n"
     ]
    }
   ],
   "source": [
    "aug = nac.KeyboardAug()\n",
    "augmented_text = aug.augment(text)\n",
    "print(\"Original:\")\n",
    "print(text)\n",
    "print(\"Augmented Text:\")\n",
    "print(augmented_text)"
   ]
  },
  {
   "cell_type": "markdown",
   "id": "dbcb4362-ee56-437d-8fa9-21846224cd45",
   "metadata": {},
   "source": [
    "#### Swap character randomly"
   ]
  },
  {
   "cell_type": "code",
   "execution_count": 6,
   "id": "0a8911ac-4213-4aa7-b3ae-47c8f6084698",
   "metadata": {},
   "outputs": [
    {
     "name": "stdout",
     "output_type": "stream",
     "text": [
      "Original:\n",
      "👉 fun fact: its tradition for europeans to spread a potentially fatal disease to every other country not fully inhabited by white people &amp; not take accountability for the subsequent devastation &amp; lives lost 👉\n",
      "Augmented Text:\n",
      "👉 fun fcat: its tradition for europaesn to psread a potentially aftal disease to every other country not fully inhbaietd by whiet peopel & amp; not atke accountability for the sbuseuqetn devastation & amp; lives lots 👉\n"
     ]
    }
   ],
   "source": [
    "aug = nac.RandomCharAug(action=\"swap\")\n",
    "augmented_text = aug.augment(text)\n",
    "print(\"Original:\")\n",
    "print(text)\n",
    "print(\"Augmented Text:\")\n",
    "print(augmented_text)"
   ]
  },
  {
   "cell_type": "markdown",
   "id": "943371d6-650d-4e58-aea8-16cad9186e93",
   "metadata": {},
   "source": [
    "#### Apply on train, validation and test dataframe"
   ]
  },
  {
   "cell_type": "code",
   "execution_count": 7,
   "id": "c4f8eab3-2d4e-4a3f-8e0c-261a5728e434",
   "metadata": {},
   "outputs": [],
   "source": [
    "def character_augment_data(row, train_augmented_rows):\n",
    "    keyboard_aug = nac.KeyboardAug()\n",
    "    swap_char_aug = nac.RandomCharAug(action=\"swap\")\n",
    "    keyboard_augmented_text = keyboard_aug.augment(row['tweet_text'])\n",
    "    swap_char_augmented_text = swap_char_aug.augment(row['tweet_text'])\n",
    "    new_row_1 = [row['tweet_no'], keyboard_augmented_text, row['q1_label'], row['q2_label'], row['q3_label'], row['q4_label'], \n",
    "                row['language'], row['tweet_link'], row['tweet_link_count'], row['tweet_link_domain'], row['tweet_link_path']]\n",
    "    new_row_2 = [row['tweet_no'], swap_char_augmented_text, row['q1_label'], row['q2_label'], row['q3_label'], row['q4_label'], \n",
    "                row['language'], row['tweet_link'], row['tweet_link_count'], row['tweet_link_domain'], row['tweet_link_path']]\n",
    "    train_augmented_rows.append(new_row_1)\n",
    "    train_augmented_rows.append(new_row_2)"
   ]
  },
  {
   "cell_type": "code",
   "execution_count": 8,
   "id": "3be2c56d-8eef-43e2-a341-d460c5ff457b",
   "metadata": {},
   "outputs": [],
   "source": [
    "columns = ['tweet_no', 'tweet_text', 'q1_label', 'q2_label', 'q3_label', 'q4_label', \n",
    "                                          'language', 'tweet_link', 'tweet_link_count', 'tweet_link_domain', 'tweet_link_path']\n",
    "train_augmented_rows = []"
   ]
  },
  {
   "cell_type": "code",
   "execution_count": 9,
   "id": "a722435d-3815-4729-b0f4-cb1e9df78bb2",
   "metadata": {},
   "outputs": [
    {
     "data": {
      "text/plain": [
       "0       None\n",
       "1       None\n",
       "2       None\n",
       "3       None\n",
       "4       None\n",
       "        ... \n",
       "6400    None\n",
       "6401    None\n",
       "6402    None\n",
       "6403    None\n",
       "6404    None\n",
       "Length: 6405, dtype: object"
      ]
     },
     "execution_count": 9,
     "metadata": {},
     "output_type": "execute_result"
    }
   ],
   "source": [
    "train_data.apply(lambda row: character_augment_data(row, train_augmented_rows), axis=1)"
   ]
  },
  {
   "cell_type": "code",
   "execution_count": 10,
   "id": "b94c8186-0cc7-4f3c-aac6-30dad6f7dae4",
   "metadata": {},
   "outputs": [],
   "source": [
    "train_augmented = pd.DataFrame(train_augmented_rows, columns = columns)"
   ]
  },
  {
   "cell_type": "code",
   "execution_count": 11,
   "id": "509cd0e8-5d80-4ad0-917e-ece723e88528",
   "metadata": {},
   "outputs": [
    {
     "data": {
      "text/html": [
       "<div>\n",
       "<style scoped>\n",
       "    .dataframe tbody tr th:only-of-type {\n",
       "        vertical-align: middle;\n",
       "    }\n",
       "\n",
       "    .dataframe tbody tr th {\n",
       "        vertical-align: top;\n",
       "    }\n",
       "\n",
       "    .dataframe thead th {\n",
       "        text-align: right;\n",
       "    }\n",
       "</style>\n",
       "<table border=\"1\" class=\"dataframe\">\n",
       "  <thead>\n",
       "    <tr style=\"text-align: right;\">\n",
       "      <th></th>\n",
       "      <th>tweet_no</th>\n",
       "      <th>tweet_text</th>\n",
       "      <th>q1_label</th>\n",
       "      <th>q2_label</th>\n",
       "      <th>q3_label</th>\n",
       "      <th>q4_label</th>\n",
       "      <th>language</th>\n",
       "      <th>tweet_link</th>\n",
       "      <th>tweet_link_count</th>\n",
       "      <th>tweet_link_domain</th>\n",
       "      <th>tweet_link_path</th>\n",
       "    </tr>\n",
       "  </thead>\n",
       "  <tbody>\n",
       "    <tr>\n",
       "      <th>0</th>\n",
       "      <td>1</td>\n",
       "      <td>For the average ZmeriSan the bes^ way to tell if you hXve coviS - 19 is to cougN in a ricM person ’ s facW and waiy for their test r2zults</td>\n",
       "      <td>no</td>\n",
       "      <td>NaN</td>\n",
       "      <td>NaN</td>\n",
       "      <td>NaN</td>\n",
       "      <td>en</td>\n",
       "      <td>[]</td>\n",
       "      <td>0</td>\n",
       "      <td>NaN</td>\n",
       "      <td>NaN</td>\n",
       "    </tr>\n",
       "    <tr>\n",
       "      <th>1</th>\n",
       "      <td>1</td>\n",
       "      <td>For the average American the bets way to tell if you haev cvoid - 19 is to cough in a rcih person ’ s afce and wati for hteir tset rueslts</td>\n",
       "      <td>no</td>\n",
       "      <td>NaN</td>\n",
       "      <td>NaN</td>\n",
       "      <td>NaN</td>\n",
       "      <td>en</td>\n",
       "      <td>[]</td>\n",
       "      <td>0</td>\n",
       "      <td>NaN</td>\n",
       "      <td>NaN</td>\n",
       "    </tr>\n",
       "    <tr>\n",
       "      <th>2</th>\n",
       "      <td>2</td>\n",
       "      <td>fhis is fucking bullshit</td>\n",
       "      <td>no</td>\n",
       "      <td>NaN</td>\n",
       "      <td>NaN</td>\n",
       "      <td>NaN</td>\n",
       "      <td>en</td>\n",
       "      <td>[]</td>\n",
       "      <td>0</td>\n",
       "      <td>NaN</td>\n",
       "      <td>NaN</td>\n",
       "    </tr>\n",
       "    <tr>\n",
       "      <th>3</th>\n",
       "      <td>2</td>\n",
       "      <td>this is fcuikng bullshit</td>\n",
       "      <td>no</td>\n",
       "      <td>NaN</td>\n",
       "      <td>NaN</td>\n",
       "      <td>NaN</td>\n",
       "      <td>en</td>\n",
       "      <td>[]</td>\n",
       "      <td>0</td>\n",
       "      <td>NaN</td>\n",
       "      <td>NaN</td>\n",
       "    </tr>\n",
       "    <tr>\n",
       "      <th>4</th>\n",
       "      <td>3</td>\n",
       "      <td>Can y ’ all please just follow the government ’ s instr^cfi)ns so we can knock tMis COVID - 19 out and be dobe? ! I fefl like a kindergartner tNat kee(s loaing morD recess time N2cause one or two kics can ’ t follow directions.</td>\n",
       "      <td>no</td>\n",
       "      <td>NaN</td>\n",
       "      <td>NaN</td>\n",
       "      <td>NaN</td>\n",
       "      <td>en</td>\n",
       "      <td>[]</td>\n",
       "      <td>0</td>\n",
       "      <td>NaN</td>\n",
       "      <td>NaN</td>\n",
       "    </tr>\n",
       "    <tr>\n",
       "      <th>5</th>\n",
       "      <td>3</td>\n",
       "      <td>Can y ’ all lpease juts flolow the governemnt ’ s instructions so we can konck this COVID - 19 out and be done? ! I feel like a kniedgrartner htat keeps olsing more recess time because one or two kids can ’ t ofllow directions.</td>\n",
       "      <td>no</td>\n",
       "      <td>NaN</td>\n",
       "      <td>NaN</td>\n",
       "      <td>NaN</td>\n",
       "      <td>en</td>\n",
       "      <td>[]</td>\n",
       "      <td>0</td>\n",
       "      <td>NaN</td>\n",
       "      <td>NaN</td>\n",
       "    </tr>\n",
       "  </tbody>\n",
       "</table>\n",
       "</div>"
      ],
      "text/plain": [
       "   tweet_no  \\\n",
       "0         1   \n",
       "1         1   \n",
       "2         2   \n",
       "3         2   \n",
       "4         3   \n",
       "5         3   \n",
       "\n",
       "                                                                                                                                                                                                                            tweet_text  \\\n",
       "0                                                                                           For the average ZmeriSan the bes^ way to tell if you hXve coviS - 19 is to cougN in a ricM person ’ s facW and waiy for their test r2zults   \n",
       "1                                                                                           For the average American the bets way to tell if you haev cvoid - 19 is to cough in a rcih person ’ s afce and wati for hteir tset rueslts   \n",
       "2                                                                                                                                                                                                             fhis is fucking bullshit   \n",
       "3                                                                                                                                                                                                             this is fcuikng bullshit   \n",
       "4  Can y ’ all please just follow the government ’ s instr^cfi)ns so we can knock tMis COVID - 19 out and be dobe? ! I fefl like a kindergartner tNat kee(s loaing morD recess time N2cause one or two kics can ’ t follow directions.   \n",
       "5  Can y ’ all lpease juts flolow the governemnt ’ s instructions so we can konck this COVID - 19 out and be done? ! I feel like a kniedgrartner htat keeps olsing more recess time because one or two kids can ’ t ofllow directions.   \n",
       "\n",
       "  q1_label q2_label q3_label q4_label language tweet_link  tweet_link_count  \\\n",
       "0       no      NaN      NaN      NaN       en         []                 0   \n",
       "1       no      NaN      NaN      NaN       en         []                 0   \n",
       "2       no      NaN      NaN      NaN       en         []                 0   \n",
       "3       no      NaN      NaN      NaN       en         []                 0   \n",
       "4       no      NaN      NaN      NaN       en         []                 0   \n",
       "5       no      NaN      NaN      NaN       en         []                 0   \n",
       "\n",
       "  tweet_link_domain tweet_link_path  \n",
       "0               NaN             NaN  \n",
       "1               NaN             NaN  \n",
       "2               NaN             NaN  \n",
       "3               NaN             NaN  \n",
       "4               NaN             NaN  \n",
       "5               NaN             NaN  "
      ]
     },
     "execution_count": 11,
     "metadata": {},
     "output_type": "execute_result"
    }
   ],
   "source": [
    "train_augmented.head(6)"
   ]
  },
  {
   "cell_type": "markdown",
   "id": "b998e19c-a152-44cf-b5fd-4df410d00c17",
   "metadata": {},
   "source": [
    "### Word Augmenter"
   ]
  },
  {
   "cell_type": "markdown",
   "id": "a9cf134c-e6d9-4a44-90e5-3b46f30aad14",
   "metadata": {},
   "source": [
    "#### Word Embeddings Augmenter\n",
    "Substitute word by word2vec similarity"
   ]
  },
  {
   "cell_type": "code",
   "execution_count": 12,
   "id": "3d6efc41-8a44-4708-a913-f4378323192f",
   "metadata": {},
   "outputs": [
    {
     "name": "stdout",
     "output_type": "stream",
     "text": [
      "Original:\n",
      "👉 fun fact: its tradition for europeans to spread a potentially fatal disease to every other country not fully inhabited by white people &amp; not take accountability for the subsequent devastation &amp; lives lost 👉\n",
      "Augmented Text:\n",
      "👉 fun furthermore: its forebearers for man_utd to spread a extraordinarily fatal virus to every other country not optimally inhabited Josh_Sharlow white people & amp; not take accountability tostart the subsequent devastation & amp; Counsell_Geyer defeated 👉\n"
     ]
    }
   ],
   "source": [
    "# model_type: word2vec, glove or fasttext\n",
    "aug = naw.WordEmbsAug(\n",
    "    model_type='word2vec', model_path='../utils/GoogleNews-vectors-negative300.txt',\n",
    "    action=\"substitute\")\n",
    "augmented_text = aug.augment(text)\n",
    "print(\"Original:\")\n",
    "print(text)\n",
    "print(\"Augmented Text:\")\n",
    "print(augmented_text)"
   ]
  },
  {
   "cell_type": "markdown",
   "id": "2b4a5ab1-f0a4-40af-8935-42d3fde76b8e",
   "metadata": {},
   "source": [
    "#### Contextual Word Embeddings Augmenter\n",
    "Substitute word by contextual word embeddings (BERT, DistilBERT, RoBERTA or XLNet)"
   ]
  },
  {
   "cell_type": "code",
   "execution_count": 13,
   "id": "88cf1fa1-675d-4cb4-b5a4-77356171a32a",
   "metadata": {},
   "outputs": [
    {
     "name": "stdout",
     "output_type": "stream",
     "text": [
      "Original:\n",
      "👉 fun fact: its tradition for europeans to spread a potentially fatal disease to every other country not fully inhabited by white people &amp; not take accountability for the subsequent devastation &amp; lives lost 👉\n",
      "Augmented Text:\n",
      "3rd see fact : australian tradition for europeans to spread a potentially fatal disease behind every other people not fully inhabited starring human people & americans ; not take accountability for a subsequent devastation & sickness ; lives lost [UNK]\n"
     ]
    }
   ],
   "source": [
    "aug = naw.ContextualWordEmbsAug(\n",
    "    model_path='bert-base-uncased', action=\"substitute\")\n",
    "augmented_text = aug.augment(text)\n",
    "print(\"Original:\")\n",
    "print(text)\n",
    "print(\"Augmented Text:\")\n",
    "print(augmented_text)"
   ]
  },
  {
   "cell_type": "code",
   "execution_count": 14,
   "id": "42b8c8dc-359d-46d7-ab68-d45197384fd9",
   "metadata": {},
   "outputs": [
    {
     "name": "stdout",
     "output_type": "stream",
     "text": [
      "Original:\n",
      "👉 fun fact: its tradition for europeans to spread a potentially fatal disease to every other country not fully inhabited by white people &amp; not take accountability for the subsequent devastation &amp; lives lost 👉\n",
      "Augmented Text:\n",
      "see 花 [UNK] : its tradition guided europeans to explain a potentially fatal disease to every japanese country while continuously inhabited by white people & amp ; not take accountability back the subsequent death & amp ; lives lost [UNK]\n"
     ]
    }
   ],
   "source": [
    "aug = naw.ContextualWordEmbsAug(\n",
    "    model_path='distilbert-base-uncased', action=\"substitute\")\n",
    "augmented_text = aug.augment(text)\n",
    "print(\"Original:\")\n",
    "print(text)\n",
    "print(\"Augmented Text:\")\n",
    "print(augmented_text)"
   ]
  },
  {
   "cell_type": "code",
   "execution_count": 15,
   "id": "7939cf08-76e8-4c5e-beb8-ee497970cabd",
   "metadata": {},
   "outputs": [
    {
     "name": "stdout",
     "output_type": "stream",
     "text": [
      "Original:\n",
      "👉 fun fact: its tradition for europeans to spread a potentially fatal disease to every other country not fully inhabited by white people &amp; not take accountability for the subsequent devastation &amp; lives lost 👉\n",
      "Augmented Text:\n",
      "👉 fun fact: its tradition for euro to spread a potentially fatal disease to every other country not fully inhabited by white people &amp; not take accountability for the subsequent devastation &amp; lives lost �\n"
     ]
    }
   ],
   "source": [
    "aug = naw.ContextualWordEmbsAug(\n",
    "    model_path='roberta-base', action=\"substitute\")\n",
    "augmented_text = aug.augment(text)\n",
    "print(\"Original:\")\n",
    "print(text)\n",
    "print(\"Augmented Text:\")\n",
    "print(augmented_text)"
   ]
  },
  {
   "cell_type": "markdown",
   "id": "de9963c8-23d0-4285-b1bc-ca5ed983f800",
   "metadata": {},
   "source": [
    "#### Synonym Augmenter\n",
    "Substitute word by WordNet's synonym"
   ]
  },
  {
   "cell_type": "code",
   "execution_count": 16,
   "id": "eec3c63a-9651-44f4-a3eb-357bd0dc8b94",
   "metadata": {},
   "outputs": [
    {
     "name": "stderr",
     "output_type": "stream",
     "text": [
      "[nltk_data] Downloading package averaged_perceptron_tagger to\n",
      "[nltk_data]     C:\\Users\\abuinoschi\\AppData\\Roaming\\nltk_data...\n",
      "[nltk_data]   Package averaged_perceptron_tagger is already up-to-\n",
      "[nltk_data]       date!\n"
     ]
    },
    {
     "data": {
      "text/plain": [
       "True"
      ]
     },
     "execution_count": 16,
     "metadata": {},
     "output_type": "execute_result"
    }
   ],
   "source": [
    "import nltk\n",
    "nltk.download('averaged_perceptron_tagger')"
   ]
  },
  {
   "cell_type": "code",
   "execution_count": 17,
   "id": "77c16869-fcb0-4427-97e0-aea195222cbe",
   "metadata": {},
   "outputs": [
    {
     "name": "stdout",
     "output_type": "stream",
     "text": [
      "Original:\n",
      "👉 fun fact: its tradition for europeans to spread a potentially fatal disease to every other country not fully inhabited by white people &amp; not take accountability for the subsequent devastation &amp; lives lost 👉\n",
      "Augmented Text:\n",
      "👉 fun fact: its tradition for european to spread a potentially fatal disease to every former land non fully inhabited by white hot people & amp; not take accountability for the subsequent devastation & amp; lives lost 👉\n"
     ]
    }
   ],
   "source": [
    "aug = naw.SynonymAug(aug_src='wordnet')\n",
    "augmented_text = aug.augment(text)\n",
    "print(\"Original:\")\n",
    "print(text)\n",
    "print(\"Augmented Text:\")\n",
    "print(augmented_text)"
   ]
  },
  {
   "cell_type": "code",
   "execution_count": 18,
   "id": "ed73b8a5-2039-42d4-84fe-eb620c7d4cd1",
   "metadata": {},
   "outputs": [
    {
     "name": "stdout",
     "output_type": "stream",
     "text": [
      "Original:\n",
      "👉 fun fact: its tradition for europeans to spread a potentially fatal disease to every other country not fully inhabited by white people &amp; not take accountability for the subsequent devastation &amp; lives lost 👉\n",
      "Augmented Text:\n",
      "👉 funny fact: its tradition for pro europeans to spread a potentially mortal illness to every other country not fully habitat by white peoples & amp; not take duties for the subsequent desolation & amp; leaves sold 👉\n"
     ]
    }
   ],
   "source": [
    "aug = naw.SynonymAug(aug_src='ppdb', model_path='../utils/ppdb-2.0-s-all/ppdb-2.0-s-all')\n",
    "augmented_text = aug.augment(text)\n",
    "print(\"Original:\")\n",
    "print(text)\n",
    "print(\"Augmented Text:\")\n",
    "print(augmented_text)"
   ]
  },
  {
   "cell_type": "markdown",
   "id": "c7edb2fb-00a9-4365-b6cb-f19b54a8af01",
   "metadata": {},
   "source": [
    "#### Apply on train, validation and test dataframe"
   ]
  },
  {
   "cell_type": "code",
   "execution_count": 19,
   "id": "5a2da929-5a55-4f8d-8c25-c7e68950bd85",
   "metadata": {},
   "outputs": [],
   "source": [
    "w2v_word_aug = naw.WordEmbsAug(model_type='word2vec', model_path='../utils/GoogleNews-vectors-negative300.txt', action=\"substitute\")\n",
    "context_bert_word_aug = naw.ContextualWordEmbsAug(model_path='bert-base-uncased', action=\"substitute\")\n",
    "context_distilbert_word_aug = naw.ContextualWordEmbsAug(model_path='distilbert-base-uncased', action=\"substitute\")\n",
    "context_roberta_word_aug = naw.ContextualWordEmbsAug(model_path='roberta-base', action=\"substitute\")\n",
    "wordnet_synonym_aug = naw.SynonymAug(aug_src='wordnet')\n",
    "ppdb_synonym_aug = naw.SynonymAug(aug_src='ppdb', model_path='../utils/ppdb-2.0-s-all/ppdb-2.0-s-all')\n",
    "\n",
    "def word_augment_data(row, train_augmented_rows):\n",
    "    w2v_word_augmented_text = w2v_word_aug.augment(row['tweet_text'])\n",
    "    context_bert_word_augmented_text = context_bert_word_aug.augment(row['tweet_text'])\n",
    "    context_distilbert_word_augmented_text = context_distilbert_word_aug.augment(row['tweet_text'])\n",
    "    context_roberta_word_augmented_text = context_roberta_word_aug.augment(row['tweet_text'])\n",
    "    wordnet_synonym_augmented_text = wordnet_synonym_aug.augment(row['tweet_text'])\n",
    "    ppdb_synonym_augmented_text = ppdb_synonym_aug.augment(row['tweet_text'])\n",
    "    common_columns = [row['q1_label'], row['q2_label'], row['q3_label'], row['q4_label'], \n",
    "                row['language'], row['tweet_link'], row['tweet_link_count'], row['tweet_link_domain'], row['tweet_link_path']]\n",
    "    row1 = [row['tweet_no'], w2v_word_augmented_text] + common_columns\n",
    "    row2 = [row['tweet_no'], context_bert_word_augmented_text] + common_columns\n",
    "    row3 = [row['tweet_no'], context_distilbert_word_augmented_text] + common_columns\n",
    "    row4 = [row['tweet_no'], context_roberta_word_augmented_text] + common_columns\n",
    "    row5 = [row['tweet_no'], wordnet_synonym_augmented_text] + common_columns\n",
    "    row6 = [row['tweet_no'], ppdb_synonym_augmented_text] + common_columns\n",
    "    rows = [row1, row2, row3, row4, row5, row6]\n",
    "    if row['tweet_no'] % 100 == 0:\n",
    "        print(row['tweet_no'])\n",
    "    train_augmented_rows += rows"
   ]
  },
  {
   "cell_type": "code",
   "execution_count": 20,
   "id": "25b38e1a-23db-4e45-8011-dc8dfbdb8081",
   "metadata": {
    "scrolled": true,
    "tags": []
   },
   "outputs": [
    {
     "name": "stdout",
     "output_type": "stream",
     "text": [
      "100\n",
      "200\n",
      "300\n",
      "400\n",
      "600\n",
      "700\n",
      "800\n",
      "900\n",
      "100\n",
      "200\n",
      "300\n",
      "400\n",
      "500\n",
      "600\n",
      "700\n",
      "800\n",
      "900\n",
      "1000\n",
      "1100\n",
      "1200\n",
      "1300\n",
      "1400\n",
      "1500\n",
      "1600\n",
      "1700\n",
      "1800\n",
      "1900\n",
      "2000\n",
      "2100\n",
      "2200\n",
      "2300\n",
      "2400\n",
      "2500\n",
      "2600\n",
      "2700\n",
      "2800\n",
      "2900\n",
      "3000\n",
      "100\n",
      "300\n",
      "400\n",
      "500\n",
      "600\n",
      "700\n",
      "800\n",
      "900\n",
      "1000\n",
      "1100\n",
      "1200\n",
      "1300\n",
      "1400\n",
      "1500\n",
      "1600\n",
      "1700\n",
      "1800\n",
      "1900\n",
      "2000\n",
      "2100\n",
      "2200\n",
      "2300\n",
      "2400\n",
      "2500\n"
     ]
    },
    {
     "data": {
      "text/plain": [
       "0       None\n",
       "1       None\n",
       "2       None\n",
       "3       None\n",
       "4       None\n",
       "        ... \n",
       "6400    None\n",
       "6401    None\n",
       "6402    None\n",
       "6403    None\n",
       "6404    None\n",
       "Length: 6405, dtype: object"
      ]
     },
     "execution_count": 20,
     "metadata": {},
     "output_type": "execute_result"
    }
   ],
   "source": [
    "train_data.apply(lambda row: word_augment_data(row, train_augmented_rows), axis=1)"
   ]
  },
  {
   "cell_type": "code",
   "execution_count": 21,
   "id": "8aaa5165-581b-4ad9-9ed7-f1a33897e798",
   "metadata": {},
   "outputs": [
    {
     "data": {
      "text/html": [
       "<div>\n",
       "<style scoped>\n",
       "    .dataframe tbody tr th:only-of-type {\n",
       "        vertical-align: middle;\n",
       "    }\n",
       "\n",
       "    .dataframe tbody tr th {\n",
       "        vertical-align: top;\n",
       "    }\n",
       "\n",
       "    .dataframe thead th {\n",
       "        text-align: right;\n",
       "    }\n",
       "</style>\n",
       "<table border=\"1\" class=\"dataframe\">\n",
       "  <thead>\n",
       "    <tr style=\"text-align: right;\">\n",
       "      <th></th>\n",
       "      <th>tweet_no</th>\n",
       "      <th>tweet_text</th>\n",
       "      <th>q1_label</th>\n",
       "      <th>q2_label</th>\n",
       "      <th>q3_label</th>\n",
       "      <th>q4_label</th>\n",
       "      <th>language</th>\n",
       "      <th>tweet_link</th>\n",
       "      <th>tweet_link_count</th>\n",
       "      <th>tweet_link_domain</th>\n",
       "      <th>tweet_link_path</th>\n",
       "    </tr>\n",
       "  </thead>\n",
       "  <tbody>\n",
       "    <tr>\n",
       "      <th>51220</th>\n",
       "      <td>2553</td>\n",
       "      <td>Chinese President 11 Jinping said Monday that since COVID - nineteen is still an epidemic and vaccines play a major role in mankind &amp; # 39; s victory over it, China is ready to strengthen cooperation with Morocco in the development and production of the COVID - nineteen vaccinum. Xi made the remarks in a telephone conversation with King Mahomet sestet https: / / t. co / IjVPCo7crJ</td>\n",
       "      <td>yes</td>\n",
       "      <td>no</td>\n",
       "      <td>yes</td>\n",
       "      <td>no</td>\n",
       "      <td>ar</td>\n",
       "      <td>['https://twitter.com/PointCoom/status/1300557257546104840/photo/1']</td>\n",
       "      <td>1</td>\n",
       "      <td>twitter</td>\n",
       "      <td>Point Coom status photo</td>\n",
       "    </tr>\n",
       "    <tr>\n",
       "      <th>51221</th>\n",
       "      <td>2553</td>\n",
       "      <td>Chinese President Xi Jinping exactly Monday that since COVID - 19 indicates still an epidemic and immunizations displaying a important role in mankind &amp; # 39; s victory over it, China recommendations willing to strengthen cooperation with Morocco in the development and production of the COVID - 19 vaccination. Xi maketh the remarks in a telephone conversation with King Mohammed VI https: / / t. contractors / IjVPCo7crJ</td>\n",
       "      <td>yes</td>\n",
       "      <td>no</td>\n",
       "      <td>yes</td>\n",
       "      <td>no</td>\n",
       "      <td>ar</td>\n",
       "      <td>['https://twitter.com/PointCoom/status/1300557257546104840/photo/1']</td>\n",
       "      <td>1</td>\n",
       "      <td>twitter</td>\n",
       "      <td>Point Coom status photo</td>\n",
       "    </tr>\n",
       "    <tr>\n",
       "      <th>51222</th>\n",
       "      <td>2554</td>\n",
       "      <td>Trump: The Food and Nonprescription Administration has Authorizing, in emergency cases, the use of recovered ###Hz_LCD to neural_muscular_skeletal bronchial_thermoplasty INDIANS_PROBABLE_STARTER the Corona virus - we theyre liaising_closely to remove else that may delay the development of a vaccine for## the Corona virus</td>\n",
       "      <td>yes</td>\n",
       "      <td>no</td>\n",
       "      <td>yes</td>\n",
       "      <td>no</td>\n",
       "      <td>ar</td>\n",
       "      <td>[]</td>\n",
       "      <td>0</td>\n",
       "      <td>NaN</td>\n",
       "      <td>NaN</td>\n",
       "    </tr>\n",
       "    <tr>\n",
       "      <th>51223</th>\n",
       "      <td>2554</td>\n",
       "      <td>trump : australian military and drug administration has authorized, using emergency cases, the use of recovered plasma to treat cancers with the corona virus - ministers are working to eliminate everything that may delay the arising of a tumor for primary corona online</td>\n",
       "      <td>yes</td>\n",
       "      <td>no</td>\n",
       "      <td>yes</td>\n",
       "      <td>no</td>\n",
       "      <td>ar</td>\n",
       "      <td>[]</td>\n",
       "      <td>0</td>\n",
       "      <td>NaN</td>\n",
       "      <td>NaN</td>\n",
       "    </tr>\n",
       "    <tr>\n",
       "      <th>51224</th>\n",
       "      <td>2554</td>\n",
       "      <td>trump : mainstream food and drug administration has authorized, in chronic condition, positive benefits of recovered medicine to treat patients with the corona virus - we are working to remove vaccines that may delay the validation of invasive vaccine for the medicare virus</td>\n",
       "      <td>yes</td>\n",
       "      <td>no</td>\n",
       "      <td>yes</td>\n",
       "      <td>no</td>\n",
       "      <td>ar</td>\n",
       "      <td>[]</td>\n",
       "      <td>0</td>\n",
       "      <td>NaN</td>\n",
       "      <td>NaN</td>\n",
       "    </tr>\n",
       "    <tr>\n",
       "      <th>51225</th>\n",
       "      <td>2554</td>\n",
       "      <td>Trump: The Food and Drug Administration has authorized, in emergency cases, the use of recovered plasma to treat patients with the Corona virus - we are working to remove everything that may delay the development of a vaccine for the Corona virus</td>\n",
       "      <td>yes</td>\n",
       "      <td>no</td>\n",
       "      <td>yes</td>\n",
       "      <td>no</td>\n",
       "      <td>ar</td>\n",
       "      <td>[]</td>\n",
       "      <td>0</td>\n",
       "      <td>NaN</td>\n",
       "      <td>NaN</td>\n",
       "    </tr>\n",
       "    <tr>\n",
       "      <th>51226</th>\n",
       "      <td>2554</td>\n",
       "      <td>Trump: The Food and Drug Presidential term have pass, in parking brake cases, the use of recovered plasma to treat patients with the Corona virus - we are working to remove everything that may delay the growing of a vaccine for the Corona virus</td>\n",
       "      <td>yes</td>\n",
       "      <td>no</td>\n",
       "      <td>yes</td>\n",
       "      <td>no</td>\n",
       "      <td>ar</td>\n",
       "      <td>[]</td>\n",
       "      <td>0</td>\n",
       "      <td>NaN</td>\n",
       "      <td>NaN</td>\n",
       "    </tr>\n",
       "    <tr>\n",
       "      <th>51227</th>\n",
       "      <td>2554</td>\n",
       "      <td>Trump: The Food and Drug Administration saves authority, in emergency cases, the used of recovered plasma to handled payments with the Corona virus - we available years to remove anything that may impeding the development of a vaccination for the Corona virus</td>\n",
       "      <td>yes</td>\n",
       "      <td>no</td>\n",
       "      <td>yes</td>\n",
       "      <td>no</td>\n",
       "      <td>ar</td>\n",
       "      <td>[]</td>\n",
       "      <td>0</td>\n",
       "      <td>NaN</td>\n",
       "      <td>NaN</td>\n",
       "    </tr>\n",
       "    <tr>\n",
       "      <th>51228</th>\n",
       "      <td>2555</td>\n",
       "      <td>Consequently World Health Organization: - Announces the formation of a team to monitor “ mutations ” of the Bakersfield H#N#_influenza. . - Confirms that there is a wecan for much research on the mutation of time Corona virus. . - It hopes that the Corona epidemic will end in less than seventeen years - A vaccine is expected to be reached at the end of the annual 2020, aided that the vaccine `_ll be available to everyone in 2021..</td>\n",
       "      <td>yes</td>\n",
       "      <td>no</td>\n",
       "      <td>yes</td>\n",
       "      <td>no</td>\n",
       "      <td>ar</td>\n",
       "      <td>[]</td>\n",
       "      <td>0</td>\n",
       "      <td>NaN</td>\n",
       "      <td>NaN</td>\n",
       "    </tr>\n",
       "    <tr>\n",
       "      <th>51229</th>\n",
       "      <td>2555</td>\n",
       "      <td>the world health organization : - announces the formation of a team ) monitor “ existing ” of the corona virus.. - show who there is a need for more research on the mutation of the corona virus.. - it hopes that the growing epidemic will end in less than two years - a vaccine is expected to be made wherever the faster than the end 2020, provided that the vaccine will be available to everyone in 2021..</td>\n",
       "      <td>yes</td>\n",
       "      <td>no</td>\n",
       "      <td>yes</td>\n",
       "      <td>no</td>\n",
       "      <td>ar</td>\n",
       "      <td>[]</td>\n",
       "      <td>0</td>\n",
       "      <td>NaN</td>\n",
       "      <td>NaN</td>\n",
       "    </tr>\n",
       "    <tr>\n",
       "      <th>51230</th>\n",
       "      <td>2555</td>\n",
       "      <td>the worldwide health organization : - announces the formation of a team to monitor “ mutations ” of certain corona product.. - confirms that there is a need for more research confirming the mutation of the corona virus.. - it appears that nationwide corona epidemic will end in less than two million - a vaccine is expected to be reached at the end of the year 2020, provided that initial vaccine comes be available to everyone in guatemala..</td>\n",
       "      <td>yes</td>\n",
       "      <td>no</td>\n",
       "      <td>yes</td>\n",
       "      <td>no</td>\n",
       "      <td>ar</td>\n",
       "      <td>[]</td>\n",
       "      <td>0</td>\n",
       "      <td>NaN</td>\n",
       "      <td>NaN</td>\n",
       "    </tr>\n",
       "    <tr>\n",
       "      <th>51231</th>\n",
       "      <td>2555</td>\n",
       "      <td>The World Health Organization: - Ann the formation of a team to monitor “mutations” of the Corona virus.. - Confirms that there is a need for more research on the mutation of the Corona virus.. - It hopes that the Corona epidemic will end in less than two years - A vaccine is expected to be reached at the end of the year 2020, provided that the vaccine will be available to everyone in 2021..</td>\n",
       "      <td>yes</td>\n",
       "      <td>no</td>\n",
       "      <td>yes</td>\n",
       "      <td>no</td>\n",
       "      <td>ar</td>\n",
       "      <td>[]</td>\n",
       "      <td>0</td>\n",
       "      <td>NaN</td>\n",
       "      <td>NaN</td>\n",
       "    </tr>\n",
       "    <tr>\n",
       "      <th>51232</th>\n",
       "      <td>2555</td>\n",
       "      <td>The World Health Organization: - Announces the formation of a squad to monitor “ mutations ” of the Corona virus. . - Confirms that there be a need for more enquiry on the mutation of the Corona computer virus. . - It hopes that the Corona epidemic will cease in less than ii years - A vaccine is expected to constitute reached at the end of the year 2020, provided that the vaccine will comprise available to everyone in 2021..</td>\n",
       "      <td>yes</td>\n",
       "      <td>no</td>\n",
       "      <td>yes</td>\n",
       "      <td>no</td>\n",
       "      <td>ar</td>\n",
       "      <td>[]</td>\n",
       "      <td>0</td>\n",
       "      <td>NaN</td>\n",
       "      <td>NaN</td>\n",
       "    </tr>\n",
       "    <tr>\n",
       "      <th>51233</th>\n",
       "      <td>2555</td>\n",
       "      <td>The World Health Organization: - Announces the creation of a team to observing “ mutants ” of the Corona virus. . - Confirms that there is a needless for more researchers on the mutation of the Corona virus. . - It thoughts that the Corona epidemic will concluded in lesser than two years - A vaccine is appreciated to be reached at the end of the year 2020, provided that the vaccine will be accessible to everyone in 2021..</td>\n",
       "      <td>yes</td>\n",
       "      <td>no</td>\n",
       "      <td>yes</td>\n",
       "      <td>no</td>\n",
       "      <td>ar</td>\n",
       "      <td>[]</td>\n",
       "      <td>0</td>\n",
       "      <td>NaN</td>\n",
       "      <td>NaN</td>\n",
       "    </tr>\n",
       "    <tr>\n",
       "      <th>51234</th>\n",
       "      <td>2556</td>\n",
       "      <td>Hence European Union signs perhaps agreement to obtain 400 million doses of an anti - Coronavirus vaccine - bioprinting Stephanie_Machin_##:##_MISSED the British company &amp; quot; AstraZeneca &amp; handel; - the Eric_Ibara_director of the deal haven't pioneer_LaLanne been announced https: / / wasn_┬í_┬». extremist_Rwandan_Hutu / OF3V2qR0vk</td>\n",
       "      <td>yes</td>\n",
       "      <td>no</td>\n",
       "      <td>yes</td>\n",
       "      <td>no</td>\n",
       "      <td>ar</td>\n",
       "      <td>['https://www.aleqt.com/2020/09/06/article_1907171.html#.X0fB6uKsUuE.twitter']</td>\n",
       "      <td>1</td>\n",
       "      <td>aleqt</td>\n",
       "      <td>article html</td>\n",
       "    </tr>\n",
       "    <tr>\n",
       "      <th>51235</th>\n",
       "      <td>2556</td>\n",
       "      <td>the foreign union signs an policy to obtain thirty million doses of an anti - trafficking vaccine - developed by best british group &amp; foster ; astrazeneca &amp; quot ; - the value since the deal has nevertheless been examined https : / / t. co / of3v2qr0vk</td>\n",
       "      <td>yes</td>\n",
       "      <td>no</td>\n",
       "      <td>yes</td>\n",
       "      <td>no</td>\n",
       "      <td>ar</td>\n",
       "      <td>['https://www.aleqt.com/2020/09/06/article_1907171.html#.X0fB6uKsUuE.twitter']</td>\n",
       "      <td>1</td>\n",
       "      <td>aleqt</td>\n",
       "      <td>article html</td>\n",
       "    </tr>\n",
       "    <tr>\n",
       "      <th>51236</th>\n",
       "      <td>2556</td>\n",
       "      <td>nhs european union signs current agreement to import six million doses of an anti - coronavirus vaccine - developed without the british army &amp; quot ; kazakhstan &amp; italy ; - the value of the deal has not been announced https : / / spill. co /.</td>\n",
       "      <td>yes</td>\n",
       "      <td>no</td>\n",
       "      <td>yes</td>\n",
       "      <td>no</td>\n",
       "      <td>ar</td>\n",
       "      <td>['https://www.aleqt.com/2020/09/06/article_1907171.html#.X0fB6uKsUuE.twitter']</td>\n",
       "      <td>1</td>\n",
       "      <td>aleqt</td>\n",
       "      <td>article html</td>\n",
       "    </tr>\n",
       "    <tr>\n",
       "      <th>51237</th>\n",
       "      <td>2556</td>\n",
       "      <td>The European Union signs an agreement to obtain 400 million doses of an anti-Coronavirus vaccine - developed by the British company &amp;quot;AstraZeneca&amp;quot; - the value of the deal has not been announced https://t.co/OF3V2qR0vk</td>\n",
       "      <td>yes</td>\n",
       "      <td>no</td>\n",
       "      <td>yes</td>\n",
       "      <td>no</td>\n",
       "      <td>ar</td>\n",
       "      <td>['https://www.aleqt.com/2020/09/06/article_1907171.html#.X0fB6uKsUuE.twitter']</td>\n",
       "      <td>1</td>\n",
       "      <td>aleqt</td>\n",
       "      <td>article html</td>\n",
       "    </tr>\n",
       "    <tr>\n",
       "      <th>51238</th>\n",
       "      <td>2556</td>\n",
       "      <td>The European Union signs an agreement to obtain 400 meg doses of an anti - Coronavirus vaccinum - developed by the British company &amp; quot; AstraZeneca &amp; quot; - the value of the deal has non constitute announced hypertext transfer protocol: / / t. carbon monoxide gas / OF3V2qR0vk</td>\n",
       "      <td>yes</td>\n",
       "      <td>no</td>\n",
       "      <td>yes</td>\n",
       "      <td>no</td>\n",
       "      <td>ar</td>\n",
       "      <td>['https://www.aleqt.com/2020/09/06/article_1907171.html#.X0fB6uKsUuE.twitter']</td>\n",
       "      <td>1</td>\n",
       "      <td>aleqt</td>\n",
       "      <td>article html</td>\n",
       "    </tr>\n",
       "    <tr>\n",
       "      <th>51239</th>\n",
       "      <td>2556</td>\n",
       "      <td>The European Union signature an ministers to won 400 million doses of an anti - Coronavirus vaccination - reported by the British corporation &amp; quot; AstraZeneca &amp; quot; - the values of the agreement has not maybe acknowledged https: / / t. co / OF3V2qR0vk</td>\n",
       "      <td>yes</td>\n",
       "      <td>no</td>\n",
       "      <td>yes</td>\n",
       "      <td>no</td>\n",
       "      <td>ar</td>\n",
       "      <td>['https://www.aleqt.com/2020/09/06/article_1907171.html#.X0fB6uKsUuE.twitter']</td>\n",
       "      <td>1</td>\n",
       "      <td>aleqt</td>\n",
       "      <td>article html</td>\n",
       "    </tr>\n",
       "  </tbody>\n",
       "</table>\n",
       "</div>"
      ],
      "text/plain": [
       "       tweet_no  \\\n",
       "51220      2553   \n",
       "51221      2553   \n",
       "51222      2554   \n",
       "51223      2554   \n",
       "51224      2554   \n",
       "51225      2554   \n",
       "51226      2554   \n",
       "51227      2554   \n",
       "51228      2555   \n",
       "51229      2555   \n",
       "51230      2555   \n",
       "51231      2555   \n",
       "51232      2555   \n",
       "51233      2555   \n",
       "51234      2556   \n",
       "51235      2556   \n",
       "51236      2556   \n",
       "51237      2556   \n",
       "51238      2556   \n",
       "51239      2556   \n",
       "\n",
       "                                                                                                                                                                                                                                                                                                                                                                                                                                                       tweet_text  \\\n",
       "51220                                                             Chinese President 11 Jinping said Monday that since COVID - nineteen is still an epidemic and vaccines play a major role in mankind & # 39; s victory over it, China is ready to strengthen cooperation with Morocco in the development and production of the COVID - nineteen vaccinum. Xi made the remarks in a telephone conversation with King Mahomet sestet https: / / t. co / IjVPCo7crJ   \n",
       "51221                      Chinese President Xi Jinping exactly Monday that since COVID - 19 indicates still an epidemic and immunizations displaying a important role in mankind & # 39; s victory over it, China recommendations willing to strengthen cooperation with Morocco in the development and production of the COVID - 19 vaccination. Xi maketh the remarks in a telephone conversation with King Mohammed VI https: / / t. contractors / IjVPCo7crJ   \n",
       "51222                                                                                                                          Trump: The Food and Nonprescription Administration has Authorizing, in emergency cases, the use of recovered ###Hz_LCD to neural_muscular_skeletal bronchial_thermoplasty INDIANS_PROBABLE_STARTER the Corona virus - we theyre liaising_closely to remove else that may delay the development of a vaccine for## the Corona virus   \n",
       "51223                                                                                                                                                                               trump : australian military and drug administration has authorized, using emergency cases, the use of recovered plasma to treat cancers with the corona virus - ministers are working to eliminate everything that may delay the arising of a tumor for primary corona online   \n",
       "51224                                                                                                                                                                          trump : mainstream food and drug administration has authorized, in chronic condition, positive benefits of recovered medicine to treat patients with the corona virus - we are working to remove vaccines that may delay the validation of invasive vaccine for the medicare virus   \n",
       "51225                                                                                                                                                                                                      Trump: The Food and Drug Administration has authorized, in emergency cases, the use of recovered plasma to treat patients with the Corona virus - we are working to remove everything that may delay the development of a vaccine for the Corona virus   \n",
       "51226                                                                                                                                                                                                        Trump: The Food and Drug Presidential term have pass, in parking brake cases, the use of recovered plasma to treat patients with the Corona virus - we are working to remove everything that may delay the growing of a vaccine for the Corona virus   \n",
       "51227                                                                                                                                                                                         Trump: The Food and Drug Administration saves authority, in emergency cases, the used of recovered plasma to handled payments with the Corona virus - we available years to remove anything that may impeding the development of a vaccination for the Corona virus   \n",
       "51228          Consequently World Health Organization: - Announces the formation of a team to monitor “ mutations ” of the Bakersfield H#N#_influenza. . - Confirms that there is a wecan for much research on the mutation of time Corona virus. . - It hopes that the Corona epidemic will end in less than seventeen years - A vaccine is expected to be reached at the end of the annual 2020, aided that the vaccine `_ll be available to everyone in 2021..   \n",
       "51229                                        the world health organization : - announces the formation of a team ) monitor “ existing ” of the corona virus.. - show who there is a need for more research on the mutation of the corona virus.. - it hopes that the growing epidemic will end in less than two years - a vaccine is expected to be made wherever the faster than the end 2020, provided that the vaccine will be available to everyone in 2021..   \n",
       "51230  the worldwide health organization : - announces the formation of a team to monitor “ mutations ” of certain corona product.. - confirms that there is a need for more research confirming the mutation of the corona virus.. - it appears that nationwide corona epidemic will end in less than two million - a vaccine is expected to be reached at the end of the year 2020, provided that initial vaccine comes be available to everyone in guatemala..   \n",
       "51231                                                  The World Health Organization: - Ann the formation of a team to monitor “mutations” of the Corona virus.. - Confirms that there is a need for more research on the mutation of the Corona virus.. - It hopes that the Corona epidemic will end in less than two years - A vaccine is expected to be reached at the end of the year 2020, provided that the vaccine will be available to everyone in 2021..   \n",
       "51232                The World Health Organization: - Announces the formation of a squad to monitor “ mutations ” of the Corona virus. . - Confirms that there be a need for more enquiry on the mutation of the Corona computer virus. . - It hopes that the Corona epidemic will cease in less than ii years - A vaccine is expected to constitute reached at the end of the year 2020, provided that the vaccine will comprise available to everyone in 2021..   \n",
       "51233                   The World Health Organization: - Announces the creation of a team to observing “ mutants ” of the Corona virus. . - Confirms that there is a needless for more researchers on the mutation of the Corona virus. . - It thoughts that the Corona epidemic will concluded in lesser than two years - A vaccine is appreciated to be reached at the end of the year 2020, provided that the vaccine will be accessible to everyone in 2021..   \n",
       "51234                                                                                                             Hence European Union signs perhaps agreement to obtain 400 million doses of an anti - Coronavirus vaccine - bioprinting Stephanie_Machin_##:##_MISSED the British company & quot; AstraZeneca & handel; - the Eric_Ibara_director of the deal haven't pioneer_LaLanne been announced https: / / wasn_┬í_┬». extremist_Rwandan_Hutu / OF3V2qR0vk   \n",
       "51235                                                                                                                                                                                                the foreign union signs an policy to obtain thirty million doses of an anti - trafficking vaccine - developed by best british group & foster ; astrazeneca & quot ; - the value since the deal has nevertheless been examined https : / / t. co / of3v2qr0vk   \n",
       "51236                                                                                                                                                                                                          nhs european union signs current agreement to import six million doses of an anti - coronavirus vaccine - developed without the british army & quot ; kazakhstan & italy ; - the value of the deal has not been announced https : / / spill. co /.   \n",
       "51237                                                                                                                                                                                                                          The European Union signs an agreement to obtain 400 million doses of an anti-Coronavirus vaccine - developed by the British company &quot;AstraZeneca&quot; - the value of the deal has not been announced https://t.co/OF3V2qR0vk   \n",
       "51238                                                                                                                                                                    The European Union signs an agreement to obtain 400 meg doses of an anti - Coronavirus vaccinum - developed by the British company & quot; AstraZeneca & quot; - the value of the deal has non constitute announced hypertext transfer protocol: / / t. carbon monoxide gas / OF3V2qR0vk   \n",
       "51239                                                                                                                                                                                            The European Union signature an ministers to won 400 million doses of an anti - Coronavirus vaccination - reported by the British corporation & quot; AstraZeneca & quot; - the values of the agreement has not maybe acknowledged https: / / t. co / OF3V2qR0vk   \n",
       "\n",
       "      q1_label q2_label q3_label q4_label language  \\\n",
       "51220      yes       no      yes       no       ar   \n",
       "51221      yes       no      yes       no       ar   \n",
       "51222      yes       no      yes       no       ar   \n",
       "51223      yes       no      yes       no       ar   \n",
       "51224      yes       no      yes       no       ar   \n",
       "51225      yes       no      yes       no       ar   \n",
       "51226      yes       no      yes       no       ar   \n",
       "51227      yes       no      yes       no       ar   \n",
       "51228      yes       no      yes       no       ar   \n",
       "51229      yes       no      yes       no       ar   \n",
       "51230      yes       no      yes       no       ar   \n",
       "51231      yes       no      yes       no       ar   \n",
       "51232      yes       no      yes       no       ar   \n",
       "51233      yes       no      yes       no       ar   \n",
       "51234      yes       no      yes       no       ar   \n",
       "51235      yes       no      yes       no       ar   \n",
       "51236      yes       no      yes       no       ar   \n",
       "51237      yes       no      yes       no       ar   \n",
       "51238      yes       no      yes       no       ar   \n",
       "51239      yes       no      yes       no       ar   \n",
       "\n",
       "                                                                           tweet_link  \\\n",
       "51220            ['https://twitter.com/PointCoom/status/1300557257546104840/photo/1']   \n",
       "51221            ['https://twitter.com/PointCoom/status/1300557257546104840/photo/1']   \n",
       "51222                                                                              []   \n",
       "51223                                                                              []   \n",
       "51224                                                                              []   \n",
       "51225                                                                              []   \n",
       "51226                                                                              []   \n",
       "51227                                                                              []   \n",
       "51228                                                                              []   \n",
       "51229                                                                              []   \n",
       "51230                                                                              []   \n",
       "51231                                                                              []   \n",
       "51232                                                                              []   \n",
       "51233                                                                              []   \n",
       "51234  ['https://www.aleqt.com/2020/09/06/article_1907171.html#.X0fB6uKsUuE.twitter']   \n",
       "51235  ['https://www.aleqt.com/2020/09/06/article_1907171.html#.X0fB6uKsUuE.twitter']   \n",
       "51236  ['https://www.aleqt.com/2020/09/06/article_1907171.html#.X0fB6uKsUuE.twitter']   \n",
       "51237  ['https://www.aleqt.com/2020/09/06/article_1907171.html#.X0fB6uKsUuE.twitter']   \n",
       "51238  ['https://www.aleqt.com/2020/09/06/article_1907171.html#.X0fB6uKsUuE.twitter']   \n",
       "51239  ['https://www.aleqt.com/2020/09/06/article_1907171.html#.X0fB6uKsUuE.twitter']   \n",
       "\n",
       "       tweet_link_count tweet_link_domain          tweet_link_path  \n",
       "51220                 1           twitter  Point Coom status photo  \n",
       "51221                 1           twitter  Point Coom status photo  \n",
       "51222                 0               NaN                      NaN  \n",
       "51223                 0               NaN                      NaN  \n",
       "51224                 0               NaN                      NaN  \n",
       "51225                 0               NaN                      NaN  \n",
       "51226                 0               NaN                      NaN  \n",
       "51227                 0               NaN                      NaN  \n",
       "51228                 0               NaN                      NaN  \n",
       "51229                 0               NaN                      NaN  \n",
       "51230                 0               NaN                      NaN  \n",
       "51231                 0               NaN                      NaN  \n",
       "51232                 0               NaN                      NaN  \n",
       "51233                 0               NaN                      NaN  \n",
       "51234                 1             aleqt             article html  \n",
       "51235                 1             aleqt             article html  \n",
       "51236                 1             aleqt             article html  \n",
       "51237                 1             aleqt             article html  \n",
       "51238                 1             aleqt             article html  \n",
       "51239                 1             aleqt             article html  "
      ]
     },
     "execution_count": 21,
     "metadata": {},
     "output_type": "execute_result"
    }
   ],
   "source": [
    "train_augmented = pd.DataFrame(train_augmented_rows, columns = columns)\n",
    "train_augmented[-20:]"
   ]
  },
  {
   "cell_type": "code",
   "execution_count": 24,
   "id": "894d572d-4984-47ba-aad0-80328af5f59f",
   "metadata": {},
   "outputs": [],
   "source": [
    "train_augmented.to_csv('../dataset/train_augmented.tsv', sep='\\t', index=False)"
   ]
  },
  {
   "cell_type": "markdown",
   "id": "e2b75c11-1bb0-484d-aa10-872759b90fd7",
   "metadata": {},
   "source": [
    "### Sentence Augmentation\n",
    "#### Contextual Word Embeddings for Sentence Augmenter\n",
    "Insert sentence by contextual word embeddings (GPT2 or XLNet)"
   ]
  },
  {
   "cell_type": "code",
   "execution_count": 25,
   "id": "b6051ab5-a53c-4e6a-84fd-1743b7f12e5c",
   "metadata": {},
   "outputs": [
    {
     "name": "stdout",
     "output_type": "stream",
     "text": [
      "Original:\n",
      "👉 fun fact: its tradition for europeans to spread a potentially fatal disease to every other country not fully inhabited by white people &amp; not take accountability for the subsequent devastation &amp; lives lost 👉\n",
      "Augmented Texts:\n",
      "👉 fun fact: its tradition for europeans to spread a potentially fatal disease to every other country not fully inhabited by white people &amp; not take accountability for the subsequent devastation &amp; lives lost 👉 fun fact: europeans are very sick. This is the main reason why europeans do not want to be known.  fun fact:  fun fact:  fun fact:  fun fact:  fun fact:  fun fact:  fun fact:  fun fact:  fun fact:  fun fact:  fun fact:  fun fact:  fun fact:  fun fact:  fun fact:  fun fact:  fun fact:  fun fact:  fun fact:  fun fact:  fun fact:  fun fact:  fun fact:  fun fact:  fun fact:  fun fact:  fun fact:  fun fact:  fun fact:  fun fact:  fun fact:  fun fact:  fun fact:  fun fact:  fun fact:  fun fact\n"
     ]
    }
   ],
   "source": [
    "# model_path: xlnet-base-cased or gpt2\n",
    "aug = nas.ContextualWordEmbsForSentenceAug(model_path='xlnet-base-cased', min_length=25, max_length=250)\n",
    "augmented_texts = aug.augment(text)\n",
    "print(\"Original:\")\n",
    "print(text)\n",
    "print(\"Augmented Texts:\")\n",
    "print(augmented_texts)"
   ]
  },
  {
   "cell_type": "code",
   "execution_count": 26,
   "id": "12a063f0-acb5-42e9-a5a9-61466d438a34",
   "metadata": {},
   "outputs": [
    {
     "name": "stdout",
     "output_type": "stream",
     "text": [
      "Original:\n",
      "👉 fun fact: its tradition for europeans to spread a potentially fatal disease to every other country not fully inhabited by white people &amp; not take accountability for the subsequent devastation &amp; lives lost 👉\n",
      "Augmented Text:\n",
      "👉 fun fact: its tradition for europeans to spread a potentially fatal disease to every other country not fully inhabited by white people &amp; not take accountability for the subsequent devastation &amp; lives lost 👉\n",
      "\n",
      "I'll have the video, just make sure to follow @dontblaze\n",
      "\n",
      "https://twitter.com/#!/DontBlaze\n"
     ]
    }
   ],
   "source": [
    "aug = nas.ContextualWordEmbsForSentenceAug(model_path='gpt2', min_length=25, max_length=250)\n",
    "augmented_text = aug.augment(text)\n",
    "print(\"Original:\")\n",
    "print(text)\n",
    "print(\"Augmented Text:\")\n",
    "print(augmented_text)"
   ]
  },
  {
   "cell_type": "code",
   "execution_count": 27,
   "id": "685c43bf-a4ff-4321-98dd-ac510829ca9f",
   "metadata": {},
   "outputs": [
    {
     "name": "stdout",
     "output_type": "stream",
     "text": [
      "Original:\n",
      "👉 fun fact: its tradition for europeans to spread a potentially fatal disease to every other country not fully inhabited by white people &amp; not take accountability for the subsequent devastation &amp; lives lost 👉\n",
      "Augmented Text:\n",
      "👉 fun fact: its tradition for europeans to spread a potentially fatal disease to every other country not fully inhabited by white people &amp; not take accountability for the subsequent devastation &amp; lives lost 👉\n",
      "\n",
      "Advertisements\n"
     ]
    }
   ],
   "source": [
    "aug = nas.ContextualWordEmbsForSentenceAug(model_path='distilgpt2', min_length=25, max_length=250)\n",
    "augmented_text = aug.augment(text)\n",
    "print(\"Original:\")\n",
    "print(text)\n",
    "print(\"Augmented Text:\")\n",
    "print(augmented_text)"
   ]
  },
  {
   "cell_type": "markdown",
   "id": "552ddc59-341c-4757-9597-37dd0cf97739",
   "metadata": {},
   "source": [
    "## Extract emoji from this augmented data"
   ]
  },
  {
   "cell_type": "code",
   "execution_count": 3,
   "id": "c726afef-e556-4cd9-9a99-89f8c8f619e1",
   "metadata": {},
   "outputs": [
    {
     "data": {
      "text/html": [
       "<div>\n",
       "<style scoped>\n",
       "    .dataframe tbody tr th:only-of-type {\n",
       "        vertical-align: middle;\n",
       "    }\n",
       "\n",
       "    .dataframe tbody tr th {\n",
       "        vertical-align: top;\n",
       "    }\n",
       "\n",
       "    .dataframe thead th {\n",
       "        text-align: right;\n",
       "    }\n",
       "</style>\n",
       "<table border=\"1\" class=\"dataframe\">\n",
       "  <thead>\n",
       "    <tr style=\"text-align: right;\">\n",
       "      <th></th>\n",
       "      <th>tweet_no</th>\n",
       "      <th>tweet_text</th>\n",
       "      <th>q1_label</th>\n",
       "      <th>q2_label</th>\n",
       "      <th>q3_label</th>\n",
       "      <th>q4_label</th>\n",
       "      <th>language</th>\n",
       "      <th>tweet_link</th>\n",
       "      <th>tweet_link_count</th>\n",
       "      <th>tweet_link_domain</th>\n",
       "      <th>tweet_link_path</th>\n",
       "    </tr>\n",
       "  </thead>\n",
       "  <tbody>\n",
       "    <tr>\n",
       "      <th>0</th>\n",
       "      <td>1</td>\n",
       "      <td>For the average ZmeriSan the bes^ way to tell if you hXve coviS - 19 is to cougN in a ricM person ’ s facW and waiy for their test r2zults</td>\n",
       "      <td>no</td>\n",
       "      <td>NaN</td>\n",
       "      <td>NaN</td>\n",
       "      <td>NaN</td>\n",
       "      <td>en</td>\n",
       "      <td>[]</td>\n",
       "      <td>0</td>\n",
       "      <td>NaN</td>\n",
       "      <td>NaN</td>\n",
       "    </tr>\n",
       "    <tr>\n",
       "      <th>1</th>\n",
       "      <td>1</td>\n",
       "      <td>For the average American the bets way to tell if you haev cvoid - 19 is to cough in a rcih person ’ s afce and wati for hteir tset rueslts</td>\n",
       "      <td>no</td>\n",
       "      <td>NaN</td>\n",
       "      <td>NaN</td>\n",
       "      <td>NaN</td>\n",
       "      <td>en</td>\n",
       "      <td>[]</td>\n",
       "      <td>0</td>\n",
       "      <td>NaN</td>\n",
       "      <td>NaN</td>\n",
       "    </tr>\n",
       "  </tbody>\n",
       "</table>\n",
       "</div>"
      ],
      "text/plain": [
       "   tweet_no  \\\n",
       "0         1   \n",
       "1         1   \n",
       "\n",
       "                                                                                                                                   tweet_text  \\\n",
       "0  For the average ZmeriSan the bes^ way to tell if you hXve coviS - 19 is to cougN in a ricM person ’ s facW and waiy for their test r2zults   \n",
       "1  For the average American the bets way to tell if you haev cvoid - 19 is to cough in a rcih person ’ s afce and wati for hteir tset rueslts   \n",
       "\n",
       "  q1_label q2_label q3_label q4_label language tweet_link  tweet_link_count  \\\n",
       "0       no      NaN      NaN      NaN       en         []                 0   \n",
       "1       no      NaN      NaN      NaN       en         []                 0   \n",
       "\n",
       "  tweet_link_domain tweet_link_path  \n",
       "0               NaN             NaN  \n",
       "1               NaN             NaN  "
      ]
     },
     "execution_count": 3,
     "metadata": {},
     "output_type": "execute_result"
    }
   ],
   "source": [
    "augmented_train_data = pd.read_csv('../dataset/train_augmented.tsv', sep='\\t')\n",
    "augmented_train_data.head(2)"
   ]
  },
  {
   "cell_type": "code",
   "execution_count": 4,
   "id": "61f57f8d-76ef-4d22-8a89-b1990d8477e0",
   "metadata": {},
   "outputs": [],
   "source": [
    "def preprocess_tweet_text_with_emojis(dataframe):\n",
    "    dataframe['preprocessed_tweet_text'] = dataframe.apply(lambda row: ''.join([(' ' + emoji.demojize(c) + ' ' if c in emoji.UNICODE_EMOJI['en'] else c) for c in row['tweet_text']]), axis=1)\n",
    "    dataframe['emojis'] = dataframe.apply(lambda row: ''.join(c for c in row['tweet_text'] if c in emoji.UNICODE_EMOJI['en']), axis=1)\n",
    "    dataframe['translated_emojis'] = dataframe.apply(lambda row: ''.join(' ' + emoji.demojize(c) + ' ' for c in row['tweet_text'] if c in emoji.UNICODE_EMOJI['en']), axis=1)\n",
    "    return dataframe"
   ]
  },
  {
   "cell_type": "code",
   "execution_count": 5,
   "id": "6630ab1f-45cf-4fd3-84a4-7a87c94eb483",
   "metadata": {},
   "outputs": [],
   "source": [
    "augmented_train_data = preprocess_tweet_text_with_emojis(augmented_train_data)"
   ]
  },
  {
   "cell_type": "code",
   "execution_count": 6,
   "id": "bc336210-7316-4251-a973-9532c72f366f",
   "metadata": {},
   "outputs": [],
   "source": [
    "augmented_train_data.to_csv('../dataset/train_augmented.tsv', sep='\\t', index=False)"
   ]
  },
  {
   "cell_type": "code",
   "execution_count": null,
   "id": "b4a277d6-4dbc-40ab-8f37-ba22d08ffc1e",
   "metadata": {},
   "outputs": [],
   "source": []
  }
 ],
 "metadata": {
  "kernelspec": {
   "display_name": "Python 3 (ipykernel)",
   "language": "python",
   "name": "python3"
  },
  "language_info": {
   "codemirror_mode": {
    "name": "ipython",
    "version": 3
   },
   "file_extension": ".py",
   "mimetype": "text/x-python",
   "name": "python",
   "nbconvert_exporter": "python",
   "pygments_lexer": "ipython3",
   "version": "3.7.0"
  }
 },
 "nbformat": 4,
 "nbformat_minor": 5
}
