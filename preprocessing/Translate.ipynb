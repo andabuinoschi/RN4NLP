{
 "cells": [
  {
   "cell_type": "code",
   "execution_count": null,
   "metadata": {},
   "outputs": [],
   "source": [
    "import pandas as pd\n",
    "import six\n",
    "from google.cloud import translate_v2 as translate\n",
    "import os\n",
    "\n",
    "credential_path = \"\"\n",
    "os.environ[\"GOOGLE_APPLICATION_CREDENTIALS\"] = credential_path\n"
   ]
  },
  {
   "cell_type": "code",
   "execution_count": null,
   "metadata": {},
   "outputs": [],
   "source": [
    "def translate_text(target, text):\n",
    "    \"\"\"Translates text into the target language.\n",
    "\n",
    "    Target must be an ISO 639-1 language code.\n",
    "    See https://g.co/cloud/translate/v2/translate-reference#supported_languages\n",
    "    \"\"\"\n",
    "\n",
    "    translate_client = translate.Client()\n",
    "\n",
    "    if isinstance(text, six.binary_type):\n",
    "        text = text.decode(\"utf-8\")\n",
    "\n",
    "    # Text can also be a sequence of strings, in which case this method\n",
    "    # will return a sequence of results for each text.\n",
    "    result = translate_client.translate(text, target_language=target)\n",
    "    # print(u\"Text: {}\".format(result[\"input\"]))\n",
    "    # print(u\"Translation: {}\".format(result[\"translatedText\"]))\n",
    "    # print(u\"Detected source language: {}\".format(result[\"detectedSourceLanguage\"]))\n",
    "    return result[\"translatedText\"]\n"
   ]
  },
  {
   "cell_type": "code",
   "execution_count": null,
   "metadata": {},
   "outputs": [],
   "source": [
    "PATHS = [\n",
    "    \"../data/arabic/test-gold/covid19_disinfo_binary_arabic_test_gold.tsv\",\n",
    "    \"../data/arabic/test-input/covid19_disinfo_binary_arabic_test_input.tsv\",\n",
    "    \"../data/arabic/v3/covid19_disinfo_binary_arabic_dev.tsv\",\n",
    "    \"../data/arabic/v3/covid19_disinfo_binary_arabic_train.tsv\",\n",
    "    \"../data/bulgarian/test-gold/covid19_disinfo_binary_bulgarian_test_gold.tsv\",\n",
    "    \"../data/bulgarian/test-input/covid19_disinfo_binary_bulgarian_test_input.tsv\",\n",
    "    \"../data/bulgarian/v1/covid19_disinfo_binary_bulgarian_dev.tsv\",\n",
    "    \"../data/bulgarian/v1/covid19_disinfo_binary_bulgarian_train.tsv\",\n",
    "]\n",
    "\n",
    "for path in PATHS:\n",
    "    df = pd.read_csv(path, sep=\"\\t\", header=None, skiprows=1)\n",
    "    if len(df.columns) > 8:\n",
    "        df = df.rename(\n",
    "            {\n",
    "                0: \"tweet_no\",\n",
    "                1: \"tweet_text\",\n",
    "                2: \"q1_label\",\n",
    "                3: \"q2_label\",\n",
    "                4: \"q3_label\",\n",
    "                5: \"q4_label\",\n",
    "                6: \"q5_label\",\n",
    "                7: \"q6_label\",\n",
    "                8: \"q7_label\"\n",
    "            },\n",
    "            axis=\"columns\",\n",
    "        )\n",
    "    else:\n",
    "        df = df.rename(\n",
    "            {\n",
    "                0: \"tweet_no\",\n",
    "                1: \"tweet_text\"\n",
    "            }\n",
    "        )\n",
    "    df[\"tweet_text_en\"] = df.tweet_text.apply(lambda x: translate_text(\"en\", x))\n",
    "    df.to_csv(path, sep=\"\\t\", index=False)\n"
   ]
  }
 ],
 "metadata": {
  "interpreter": {
   "hash": "aee8b7b246df8f9039afb4144a1f6fd8d2ca17a180786b69acc140d282b71a49"
  },
  "kernelspec": {
   "display_name": "Python 3.9.9 64-bit",
   "language": "python",
   "name": "python3"
  },
  "language_info": {
   "codemirror_mode": {
    "name": "ipython",
    "version": 3
   },
   "file_extension": ".py",
   "mimetype": "text/x-python",
   "name": "python",
   "nbconvert_exporter": "python",
   "pygments_lexer": "ipython3",
   "version": "3.9.9"
  },
  "orig_nbformat": 4
 },
 "nbformat": 4,
 "nbformat_minor": 2
}
