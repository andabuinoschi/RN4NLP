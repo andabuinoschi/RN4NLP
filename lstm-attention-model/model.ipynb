{
 "cells": [
  {
   "cell_type": "code",
   "execution_count": null,
   "metadata": {},
   "outputs": [],
   "source": [
    "import pandas as pd\n",
    "import tensorflow as tf"
   ]
  },
  {
   "cell_type": "markdown",
   "metadata": {},
   "source": [
    "## LSTM with Attention"
   ]
  },
  {
   "cell_type": "code",
   "execution_count": 28,
   "metadata": {},
   "outputs": [
    {
     "name": "stderr",
     "output_type": "stream",
     "text": [
      "[nltk_data] Downloading package stopwords to\n",
      "[nltk_data]     C:\\Users\\abuinoschi\\AppData\\Roaming\\nltk_data...\n",
      "[nltk_data]   Package stopwords is already up-to-date!\n",
      "[nltk_data] Downloading package wordnet to\n",
      "[nltk_data]     C:\\Users\\abuinoschi\\AppData\\Roaming\\nltk_data...\n",
      "[nltk_data]   Package wordnet is already up-to-date!\n"
     ]
    }
   ],
   "source": [
    "import nltk\n",
    "nltk.download('stopwords')\n",
    "nltk.download('wordnet')\n",
    "  \n",
    "import re\n",
    "from nltk.stem import WordNetLemmatizer\n",
    "from nltk.corpus import stopwords"
   ]
  },
  {
   "cell_type": "code",
   "execution_count": 29,
   "metadata": {},
   "outputs": [
    {
     "data": {
      "text/html": [
       "<div>\n",
       "<style scoped>\n",
       "    .dataframe tbody tr th:only-of-type {\n",
       "        vertical-align: middle;\n",
       "    }\n",
       "\n",
       "    .dataframe tbody tr th {\n",
       "        vertical-align: top;\n",
       "    }\n",
       "\n",
       "    .dataframe thead th {\n",
       "        text-align: right;\n",
       "    }\n",
       "</style>\n",
       "<table border=\"1\" class=\"dataframe\">\n",
       "  <thead>\n",
       "    <tr style=\"text-align: right;\">\n",
       "      <th></th>\n",
       "      <th>tweet_no</th>\n",
       "      <th>tweet_text</th>\n",
       "      <th>q1_label</th>\n",
       "      <th>q2_label</th>\n",
       "      <th>q3_label</th>\n",
       "      <th>q4_label</th>\n",
       "      <th>q5_label</th>\n",
       "      <th>q6_label</th>\n",
       "      <th>q7_label</th>\n",
       "      <th>language</th>\n",
       "      <th>tweet_link</th>\n",
       "      <th>tweet_link_count</th>\n",
       "      <th>preprocessed_tweet_text</th>\n",
       "      <th>emojis</th>\n",
       "      <th>translated_emojis</th>\n",
       "      <th>tweet_link_domain</th>\n",
       "      <th>tweet_link_path</th>\n",
       "    </tr>\n",
       "  </thead>\n",
       "  <tbody>\n",
       "    <tr>\n",
       "      <th>0</th>\n",
       "      <td>1</td>\n",
       "      <td>For the average American the best way to tell if you have covid-19 is to cough in a rich person’s face and wait for their test results</td>\n",
       "      <td>0</td>\n",
       "      <td>unknown</td>\n",
       "      <td>unknown</td>\n",
       "      <td>unknown</td>\n",
       "      <td>unknown</td>\n",
       "      <td>no</td>\n",
       "      <td>no</td>\n",
       "      <td>en</td>\n",
       "      <td>[]</td>\n",
       "      <td>0</td>\n",
       "      <td>average american best way tell covid19 cough rich person face wait test result</td>\n",
       "      <td>unknown</td>\n",
       "      <td>unknown</td>\n",
       "      <td>unknown</td>\n",
       "      <td>unknown</td>\n",
       "    </tr>\n",
       "    <tr>\n",
       "      <th>1</th>\n",
       "      <td>2</td>\n",
       "      <td>this is fucking bullshit</td>\n",
       "      <td>0</td>\n",
       "      <td>unknown</td>\n",
       "      <td>unknown</td>\n",
       "      <td>unknown</td>\n",
       "      <td>unknown</td>\n",
       "      <td>no</td>\n",
       "      <td>no</td>\n",
       "      <td>en</td>\n",
       "      <td>[]</td>\n",
       "      <td>0</td>\n",
       "      <td>fuck bullshit</td>\n",
       "      <td>unknown</td>\n",
       "      <td>unknown</td>\n",
       "      <td>unknown</td>\n",
       "      <td>unknown</td>\n",
       "    </tr>\n",
       "    <tr>\n",
       "      <th>2</th>\n",
       "      <td>3</td>\n",
       "      <td>Can y’all please just follow the government’s instructions so we can knock this COVID-19 out and be done?! I feel like a kindergartner that keeps losing more recess time because one or two kids can’t follow directions.</td>\n",
       "      <td>0</td>\n",
       "      <td>unknown</td>\n",
       "      <td>unknown</td>\n",
       "      <td>unknown</td>\n",
       "      <td>unknown</td>\n",
       "      <td>no</td>\n",
       "      <td>no</td>\n",
       "      <td>en</td>\n",
       "      <td>[]</td>\n",
       "      <td>0</td>\n",
       "      <td>yall please follow government instruction knock covid19 feel like kindergartner keep lose recess time one two kid cant follow direction</td>\n",
       "      <td>unknown</td>\n",
       "      <td>unknown</td>\n",
       "      <td>unknown</td>\n",
       "      <td>unknown</td>\n",
       "    </tr>\n",
       "    <tr>\n",
       "      <th>3</th>\n",
       "      <td>4</td>\n",
       "      <td>No offense but the corona virus disappearing before April actually sucks</td>\n",
       "      <td>0</td>\n",
       "      <td>unknown</td>\n",
       "      <td>unknown</td>\n",
       "      <td>unknown</td>\n",
       "      <td>unknown</td>\n",
       "      <td>no</td>\n",
       "      <td>no</td>\n",
       "      <td>en</td>\n",
       "      <td>[]</td>\n",
       "      <td>0</td>\n",
       "      <td>offense corona virus disappear april actually suck</td>\n",
       "      <td>unknown</td>\n",
       "      <td>unknown</td>\n",
       "      <td>unknown</td>\n",
       "      <td>unknown</td>\n",
       "    </tr>\n",
       "    <tr>\n",
       "      <th>4</th>\n",
       "      <td>5</td>\n",
       "      <td>This is the face of someone who just spent 9 hours in personal protective equipment moving critically ill Covid19 patients around London.  I feel broken - and we are only at the start. I am begging people, please please do social distancing and self isolation #covid19 URL</td>\n",
       "      <td>1</td>\n",
       "      <td>no</td>\n",
       "      <td>yes</td>\n",
       "      <td>no</td>\n",
       "      <td>yes</td>\n",
       "      <td>no</td>\n",
       "      <td>no</td>\n",
       "      <td>en</td>\n",
       "      <td>[]</td>\n",
       "      <td>0</td>\n",
       "      <td>face someone spend 9 hour personal protective equipment move critically ill covid19 patient around london  feel break  start beg people please please social distance self isolation covid19 url</td>\n",
       "      <td>unknown</td>\n",
       "      <td>unknown</td>\n",
       "      <td>unknown</td>\n",
       "      <td>unknown</td>\n",
       "    </tr>\n",
       "  </tbody>\n",
       "</table>\n",
       "</div>"
      ],
      "text/plain": [
       "   tweet_no  \\\n",
       "0         1   \n",
       "1         2   \n",
       "2         3   \n",
       "3         4   \n",
       "4         5   \n",
       "\n",
       "                                                                                                                                                                                                                                                                         tweet_text  \\\n",
       "0                                                                                                                                            For the average American the best way to tell if you have covid-19 is to cough in a rich person’s face and wait for their test results   \n",
       "1                                                                                                                                                                                                                                                          this is fucking bullshit   \n",
       "2                                                        Can y’all please just follow the government’s instructions so we can knock this COVID-19 out and be done?! I feel like a kindergartner that keeps losing more recess time because one or two kids can’t follow directions.   \n",
       "3                                                                                                                                                                                                          No offense but the corona virus disappearing before April actually sucks   \n",
       "4  This is the face of someone who just spent 9 hours in personal protective equipment moving critically ill Covid19 patients around London.  I feel broken - and we are only at the start. I am begging people, please please do social distancing and self isolation #covid19 URL   \n",
       "\n",
       "   q1_label q2_label q3_label q4_label q5_label q6_label q7_label language  \\\n",
       "0         0  unknown  unknown  unknown  unknown       no       no       en   \n",
       "1         0  unknown  unknown  unknown  unknown       no       no       en   \n",
       "2         0  unknown  unknown  unknown  unknown       no       no       en   \n",
       "3         0  unknown  unknown  unknown  unknown       no       no       en   \n",
       "4         1       no      yes       no      yes       no       no       en   \n",
       "\n",
       "  tweet_link  tweet_link_count  \\\n",
       "0         []                 0   \n",
       "1         []                 0   \n",
       "2         []                 0   \n",
       "3         []                 0   \n",
       "4         []                 0   \n",
       "\n",
       "                                                                                                                                                                            preprocessed_tweet_text  \\\n",
       "0                                                                                                                    average american best way tell covid19 cough rich person face wait test result   \n",
       "1                                                                                                                                                                                     fuck bullshit   \n",
       "2                                                           yall please follow government instruction knock covid19 feel like kindergartner keep lose recess time one two kid cant follow direction   \n",
       "3                                                                                                                                                offense corona virus disappear april actually suck   \n",
       "4  face someone spend 9 hour personal protective equipment move critically ill covid19 patient around london  feel break  start beg people please please social distance self isolation covid19 url   \n",
       "\n",
       "    emojis translated_emojis tweet_link_domain tweet_link_path  \n",
       "0  unknown           unknown           unknown         unknown  \n",
       "1  unknown           unknown           unknown         unknown  \n",
       "2  unknown           unknown           unknown         unknown  \n",
       "3  unknown           unknown           unknown         unknown  \n",
       "4  unknown           unknown           unknown         unknown  "
      ]
     },
     "execution_count": 29,
     "metadata": {},
     "output_type": "execute_result"
    }
   ],
   "source": [
    "stop_words = set(stopwords.words(\"english\"))\n",
    "lemmatizer = WordNetLemmatizer()\n",
    "  \n",
    "def clean_text(text):\n",
    "    text = re.sub(r'[^\\w\\s]','',text, re.UNICODE)\n",
    "    text = text.lower()\n",
    "    text = [lemmatizer.lemmatize(token) for token in text.split(\" \")]\n",
    "    text = [lemmatizer.lemmatize(token, \"v\") for token in text]\n",
    "    text = [word for word in text if  not word in stop_words]\n",
    "    text = \" \".join(text)\n",
    "    return text\n",
    "\n",
    "training_data = train_data\n",
    "training_data['preprocessed_tweet_text'] = training_data.preprocessed_tweet_text.apply(lambda x: clean_text(x))\n",
    "training_data.head()"
   ]
  },
  {
   "cell_type": "code",
   "execution_count": 30,
   "metadata": {},
   "outputs": [],
   "source": [
    "validation_data['preprocessed_tweet_text'] = validation_data.preprocessed_tweet_text.apply(lambda x: clean_text(x))"
   ]
  },
  {
   "cell_type": "code",
   "execution_count": 31,
   "metadata": {},
   "outputs": [],
   "source": [
    "tokenizer = tf.keras.preprocessing.text.Tokenizer(num_words=10000)\n",
    "tokenizer.fit_on_texts(train_data['preprocessed_tweet_text'])\n",
    "list_tokenized_train = tokenizer.texts_to_sequences(train_data['preprocessed_tweet_text'])\n",
    "list_tokenized_valid = tokenizer.texts_to_sequences(validation_data['preprocessed_tweet_text'])\n",
    "\n",
    "X_train = tf.keras.preprocessing.sequence.pad_sequences(list_tokenized_train, maxlen=30)\n",
    "y_train = train_data['q1_label']\n",
    "\n",
    "X_validation = tf.keras.preprocessing.sequence.pad_sequences(list_tokenized_valid, maxlen=30)\n",
    "y_validation = validation_data['q1_label']"
   ]
  },
  {
   "cell_type": "code",
   "execution_count": 32,
   "metadata": {},
   "outputs": [
    {
     "data": {
      "text/plain": [
       "1    4428\n",
       "0    1977\n",
       "Name: q1_label, dtype: int64"
      ]
     },
     "execution_count": 32,
     "metadata": {},
     "output_type": "execute_result"
    }
   ],
   "source": [
    "y_train.value_counts()"
   ]
  },
  {
   "cell_type": "code",
   "execution_count": 33,
   "metadata": {},
   "outputs": [
    {
     "data": {
      "text/plain": [
       "{0: 1.6198786039453719, 1: 0.7232384823848238}"
      ]
     },
     "execution_count": 33,
     "metadata": {},
     "output_type": "execute_result"
    }
   ],
   "source": [
    "weight_for_0 = (1 / 1977) * ((1977 + 4428) / 2.0)\n",
    "weight_for_1 = (1 / 4428) * ((1977 + 4428) / 2.0)\n",
    "class_weight = {0: weight_for_0, 1: weight_for_1}\n",
    "class_weight"
   ]
  },
  {
   "cell_type": "code",
   "execution_count": 34,
   "metadata": {},
   "outputs": [],
   "source": [
    "colors = plt.rcParams['axes.prop_cycle'].by_key()['color']\n",
    "def plot_metrics(history):\n",
    "    metrics = ['loss', 'prc', 'precision', 'recall']\n",
    "    for n, metric in enumerate(metrics):\n",
    "        name = metric.replace(\"_\",\" \").capitalize()\n",
    "        plt.subplot(2,2,n+1)\n",
    "        plt.plot(history.epoch, history.history[metric], color=colors[0], label='Train')\n",
    "        plt.plot(history.epoch, history.history['val_'+metric],\n",
    "                 color=colors[0], linestyle=\"--\", label='Val')\n",
    "        plt.xlabel('Epoch')\n",
    "        plt.ylabel(name)\n",
    "        if metric == 'loss':\n",
    "            plt.ylim([0, plt.ylim()[1]])\n",
    "        elif metric == 'auc':\n",
    "            plt.ylim([0.8,1])\n",
    "        else:\n",
    "            plt.ylim([0,1])\n",
    "\n",
    "        plt.legend()"
   ]
  },
  {
   "cell_type": "code",
   "execution_count": 35,
   "metadata": {},
   "outputs": [],
   "source": [
    "class Attention(tf.keras.Model):\n",
    "    def __init__(self, units):\n",
    "        super(Attention, self).__init__()\n",
    "        self.W1 = tf.keras.layers.Dense(units)\n",
    "        self.W2 = tf.keras.layers.Dense(units)\n",
    "        self.V = tf.keras.layers.Dense(1)\n",
    "\n",
    "    def call(self, features, hidden):\n",
    "        # hidden shape == (batch_size, hidden size)\n",
    "        # hidden_with_time_axis shape == (batch_size, 1, hidden size)\n",
    "        # we are doing this to perform addition to calculate the score\n",
    "        hidden_with_time_axis = tf.expand_dims(hidden, 1)\n",
    "          \n",
    "        # score shape == (batch_size, max_length, 1)\n",
    "        # we get 1 at the last axis because we are applying score to self.V\n",
    "        # the shape of the tensor before applying self.V is (batch_size, max_length, units)\n",
    "        score = tf.nn.tanh(\n",
    "            self.W1(features) + self.W2(hidden_with_time_axis))\n",
    "        # attention_weights shape == (batch_size, max_length, 1)\n",
    "        attention_weights = tf.nn.softmax(self.V(score), axis=1)\n",
    "          \n",
    "        # context_vector shape after sum == (batch_size, hidden_size)\n",
    "        context_vector = attention_weights * features\n",
    "        context_vector = tf.reduce_sum(context_vector, axis=1)\n",
    "        return context_vector, attention_weights"
   ]
  },
  {
   "cell_type": "code",
   "execution_count": 36,
   "metadata": {},
   "outputs": [],
   "source": [
    "sequence_input = tf.keras.layers.Input(shape=(30,), dtype=\"int32\")\n",
    "embedding = tf.keras.layers.Embedding(len(encoder.get_vocabulary()), 128)(sequence_input)\n",
    "lstm = tf.keras.layers.Bidirectional(tf.keras.layers.LSTM(128, return_sequences = True), name=\"bi_lstm_0\")(embedding)\n",
    "(lstm, forward_h, forward_c, backward_h, backward_c) = tf.keras.layers.Bidirectional(tf.keras.layers.LSTM(64, return_sequences=True, return_state=True), name=\"bi_lstm_1\")(lstm)\n",
    "state_h  = tf.keras.layers.Concatenate()([forward_h, backward_h])\n",
    "state_c =  tf.keras.layers.Concatenate()([forward_c, backward_c])\n",
    "context_vector, attention_weights = Attention(32)(lstm, state_h)\n",
    "dense1 = tf.keras.layers.Dense(16, activation=\"relu\")(context_vector)\n",
    "dropout = tf.keras.layers.Dropout(0.1)(dense1)\n",
    "output = tf.keras.layers.Dense(1, activation=\"sigmoid\")(dropout)\n",
    "model = tf.keras.Model(inputs=sequence_input, outputs=output)\n",
    "\n",
    "model.compile(loss=tf.keras.losses.BinaryCrossentropy(),\n",
    "          optimizer=tf.keras.optimizers.Adam(1e-4),\n",
    "          metrics=METRICS)"
   ]
  },
  {
   "cell_type": "code",
   "execution_count": 37,
   "metadata": {},
   "outputs": [
    {
     "name": "stdout",
     "output_type": "stream",
     "text": [
      "Model: \"model\"\n",
      "__________________________________________________________________________________________________\n",
      " Layer (type)                   Output Shape         Param #     Connected to                     \n",
      "==================================================================================================\n",
      " input_1 (InputLayer)           [(None, 30)]         0           []                               \n",
      "                                                                                                  \n",
      " embedding (Embedding)          (None, 30, 128)      1280000     ['input_1[0][0]']                \n",
      "                                                                                                  \n",
      " bi_lstm_0 (Bidirectional)      (None, 30, 256)      263168      ['embedding[0][0]']              \n",
      "                                                                                                  \n",
      " bi_lstm_1 (Bidirectional)      [(None, 30, 128),    164352      ['bi_lstm_0[0][0]']              \n",
      "                                 (None, 64),                                                      \n",
      "                                 (None, 64),                                                      \n",
      "                                 (None, 64),                                                      \n",
      "                                 (None, 64)]                                                      \n",
      "                                                                                                  \n",
      " concatenate (Concatenate)      (None, 128)          0           ['bi_lstm_1[0][1]',              \n",
      "                                                                  'bi_lstm_1[0][3]']              \n",
      "                                                                                                  \n",
      " attention (Attention)          ((None, 128),        8289        ['bi_lstm_1[0][0]',              \n",
      "                                 (None, 30, 1))                   'concatenate[0][0]']            \n",
      "                                                                                                  \n",
      " dense_3 (Dense)                (None, 16)           2064        ['attention[0][0]']              \n",
      "                                                                                                  \n",
      " dropout (Dropout)              (None, 16)           0           ['dense_3[0][0]']                \n",
      "                                                                                                  \n",
      " dense_4 (Dense)                (None, 1)            17          ['dropout[0][0]']                \n",
      "                                                                                                  \n",
      "==================================================================================================\n",
      "Total params: 1,717,890\n",
      "Trainable params: 1,717,890\n",
      "Non-trainable params: 0\n",
      "__________________________________________________________________________________________________\n"
     ]
    }
   ],
   "source": [
    "model.summary()"
   ]
  },
  {
   "cell_type": "code",
   "execution_count": 38,
   "metadata": {},
   "outputs": [
    {
     "name": "stdout",
     "output_type": "stream",
     "text": [
      "Epoch 1/10\n",
      "51/51 [==============================] - 14s 157ms/step - loss: 0.6677 - tp: 4206.0000 - fp: 1869.0000 - tn: 108.0000 - fn: 222.0000 - accuracy: 0.6735 - precision: 0.6923 - recall: 0.9499 - auc: 0.4866 - prc: 0.6742 - val_loss: 0.7364 - val_tp: 947.0000 - val_fp: 828.0000 - val_tn: 0.0000e+00 - val_fn: 0.0000e+00 - val_accuracy: 0.5335 - val_precision: 0.5335 - val_recall: 1.0000 - val_auc: 0.4743 - val_prc: 0.4961\n",
      "Epoch 2/10\n",
      "51/51 [==============================] - 7s 130ms/step - loss: 0.6239 - tp: 4428.0000 - fp: 1977.0000 - tn: 0.0000e+00 - fn: 0.0000e+00 - accuracy: 0.6913 - precision: 0.6913 - recall: 1.0000 - auc: 0.5066 - prc: 0.6816 - val_loss: 0.7143 - val_tp: 947.0000 - val_fp: 828.0000 - val_tn: 0.0000e+00 - val_fn: 0.0000e+00 - val_accuracy: 0.5335 - val_precision: 0.5335 - val_recall: 1.0000 - val_auc: 0.7173 - val_prc: 0.7293\n",
      "Epoch 3/10\n",
      "51/51 [==============================] - 7s 131ms/step - loss: 0.5522 - tp: 4392.0000 - fp: 1786.0000 - tn: 191.0000 - fn: 36.0000 - accuracy: 0.7155 - precision: 0.7109 - recall: 0.9919 - auc: 0.7431 - prc: 0.8548 - val_loss: 0.6563 - val_tp: 898.0000 - val_fp: 607.0000 - val_tn: 221.0000 - val_fn: 49.0000 - val_accuracy: 0.6304 - val_precision: 0.5967 - val_recall: 0.9483 - val_auc: 0.7757 - val_prc: 0.7904\n",
      "Epoch 4/10\n",
      "51/51 [==============================] - 7s 137ms/step - loss: 0.4362 - tp: 4164.0000 - fp: 959.0000 - tn: 1018.0000 - fn: 264.0000 - accuracy: 0.8091 - precision: 0.8128 - recall: 0.9404 - auc: 0.8667 - prc: 0.9266 - val_loss: 0.5743 - val_tp: 764.0000 - val_fp: 291.0000 - val_tn: 537.0000 - val_fn: 183.0000 - val_accuracy: 0.7330 - val_precision: 0.7242 - val_recall: 0.8068 - val_auc: 0.7980 - val_prc: 0.8136\n",
      "Epoch 5/10\n",
      "51/51 [==============================] - 7s 134ms/step - loss: 0.3337 - tp: 4026.0000 - fp: 445.0000 - tn: 1532.0000 - fn: 402.0000 - accuracy: 0.8678 - precision: 0.9005 - recall: 0.9092 - auc: 0.9157 - prc: 0.9569 - val_loss: 0.6259 - val_tp: 766.0000 - val_fp: 311.0000 - val_tn: 517.0000 - val_fn: 181.0000 - val_accuracy: 0.7228 - val_precision: 0.7112 - val_recall: 0.8089 - val_auc: 0.7842 - val_prc: 0.7923\n",
      "Epoch 6/10\n",
      "51/51 [==============================] - 7s 132ms/step - loss: 0.2693 - tp: 4156.0000 - fp: 352.0000 - tn: 1625.0000 - fn: 272.0000 - accuracy: 0.9026 - precision: 0.9219 - recall: 0.9386 - auc: 0.9444 - prc: 0.9714 - val_loss: 0.7178 - val_tp: 774.0000 - val_fp: 332.0000 - val_tn: 496.0000 - val_fn: 173.0000 - val_accuracy: 0.7155 - val_precision: 0.6998 - val_recall: 0.8173 - val_auc: 0.7737 - val_prc: 0.7742\n",
      "Epoch 7/10\n",
      "51/51 [==============================] - 7s 133ms/step - loss: 0.2113 - tp: 4217.0000 - fp: 252.0000 - tn: 1725.0000 - fn: 211.0000 - accuracy: 0.9277 - precision: 0.9436 - recall: 0.9523 - auc: 0.9639 - prc: 0.9813 - val_loss: 0.7888 - val_tp: 733.0000 - val_fp: 310.0000 - val_tn: 518.0000 - val_fn: 214.0000 - val_accuracy: 0.7048 - val_precision: 0.7028 - val_recall: 0.7740 - val_auc: 0.7591 - val_prc: 0.7552\n",
      "Epoch 8/10\n",
      "51/51 [==============================] - 7s 131ms/step - loss: 0.1706 - tp: 4268.0000 - fp: 185.0000 - tn: 1792.0000 - fn: 160.0000 - accuracy: 0.9461 - precision: 0.9585 - recall: 0.9639 - auc: 0.9746 - prc: 0.9860 - val_loss: 0.9390 - val_tp: 729.0000 - val_fp: 317.0000 - val_tn: 511.0000 - val_fn: 218.0000 - val_accuracy: 0.6986 - val_precision: 0.6969 - val_recall: 0.7698 - val_auc: 0.7526 - val_prc: 0.7474\n",
      "Epoch 9/10\n",
      "51/51 [==============================] - 7s 132ms/step - loss: 0.1313 - tp: 4308.0000 - fp: 129.0000 - tn: 1848.0000 - fn: 120.0000 - accuracy: 0.9611 - precision: 0.9709 - recall: 0.9729 - auc: 0.9831 - prc: 0.9914 - val_loss: 1.0478 - val_tp: 749.0000 - val_fp: 351.0000 - val_tn: 477.0000 - val_fn: 198.0000 - val_accuracy: 0.6907 - val_precision: 0.6809 - val_recall: 0.7909 - val_auc: 0.7434 - val_prc: 0.7324\n",
      "Epoch 10/10\n",
      "51/51 [==============================] - 7s 135ms/step - loss: 0.1081 - tp: 4340.0000 - fp: 105.0000 - tn: 1872.0000 - fn: 88.0000 - accuracy: 0.9699 - precision: 0.9764 - recall: 0.9801 - auc: 0.9873 - prc: 0.9933 - val_loss: 1.2687 - val_tp: 776.0000 - val_fp: 404.0000 - val_tn: 424.0000 - val_fn: 171.0000 - val_accuracy: 0.6761 - val_precision: 0.6576 - val_recall: 0.8194 - val_auc: 0.7270 - val_prc: 0.7096\n"
     ]
    }
   ],
   "source": [
    "history = model.fit(X_train,y_train,\n",
    "                    batch_size=128,\n",
    "                    epochs=10,\n",
    "                    validation_data=(X_validation, y_validation))"
   ]
  },
  {
   "cell_type": "code",
   "execution_count": 39,
   "metadata": {},
   "outputs": [
    {
     "data": {
      "image/png": "[encoded data removed]",
      "text/plain": [
       "<Figure size 432x288 with 4 Axes>"
      ]
     },
     "metadata": {
      "needs_background": "light"
     },
     "output_type": "display_data"
    }
   ],
   "source": [
    "plt.figure(figsize=(16, 8))\n",
    "plot_metrics(history)"
   ]
  },
  {
   "cell_type": "code",
   "execution_count": 40,
   "metadata": {},
   "outputs": [
    {
     "name": "stdout",
     "output_type": "stream",
     "text": [
      "Epoch 1/10\n",
      "51/51 [==============================] - 10s 117ms/step - loss: 0.1208 - tp: 4293.0000 - fp: 79.0000 - tn: 1898.0000 - fn: 135.0000 - accuracy: 0.9666 - precision: 0.9819 - recall: 0.9695 - auc: 0.9881 - prc: 0.9936 - val_loss: 1.1573 - val_tp: 711.0000 - val_fp: 315.0000 - val_tn: 513.0000 - val_fn: 236.0000 - val_accuracy: 0.6896 - val_precision: 0.6930 - val_recall: 0.7508 - val_auc: 0.7325 - val_prc: 0.7193\n",
      "Epoch 2/10\n",
      "51/51 [==============================] - 6s 117ms/step - loss: 0.0851 - tp: 4334.0000 - fp: 51.0000 - tn: 1926.0000 - fn: 94.0000 - accuracy: 0.9774 - precision: 0.9884 - recall: 0.9788 - auc: 0.9919 - prc: 0.9956 - val_loss: 1.2607 - val_tp: 647.0000 - val_fp: 293.0000 - val_tn: 535.0000 - val_fn: 300.0000 - val_accuracy: 0.6659 - val_precision: 0.6883 - val_recall: 0.6832 - val_auc: 0.7268 - val_prc: 0.7189\n",
      "Epoch 3/10\n",
      "51/51 [==============================] - 6s 115ms/step - loss: 0.0818 - tp: 4323.0000 - fp: 45.0000 - tn: 1932.0000 - fn: 105.0000 - accuracy: 0.9766 - precision: 0.9897 - recall: 0.9763 - auc: 0.9926 - prc: 0.9963 - val_loss: 1.3099 - val_tp: 705.0000 - val_fp: 334.0000 - val_tn: 494.0000 - val_fn: 242.0000 - val_accuracy: 0.6755 - val_precision: 0.6785 - val_recall: 0.7445 - val_auc: 0.7237 - val_prc: 0.7104\n",
      "Epoch 4/10\n",
      "51/51 [==============================] - 6s 115ms/step - loss: 0.0646 - tp: 4361.0000 - fp: 32.0000 - tn: 1945.0000 - fn: 67.0000 - accuracy: 0.9845 - precision: 0.9927 - recall: 0.9849 - auc: 0.9940 - prc: 0.9970 - val_loss: 1.4240 - val_tp: 741.0000 - val_fp: 377.0000 - val_tn: 451.0000 - val_fn: 206.0000 - val_accuracy: 0.6715 - val_precision: 0.6628 - val_recall: 0.7825 - val_auc: 0.7144 - val_prc: 0.6991\n",
      "Epoch 5/10\n",
      "51/51 [==============================] - 6s 115ms/step - loss: 0.0637 - tp: 4363.0000 - fp: 34.0000 - tn: 1943.0000 - fn: 65.0000 - accuracy: 0.9845 - precision: 0.9923 - recall: 0.9853 - auc: 0.9937 - prc: 0.9968 - val_loss: 1.5264 - val_tp: 784.0000 - val_fp: 419.0000 - val_tn: 409.0000 - val_fn: 163.0000 - val_accuracy: 0.6721 - val_precision: 0.6517 - val_recall: 0.8279 - val_auc: 0.7063 - val_prc: 0.6857\n",
      "Epoch 6/10\n",
      "51/51 [==============================] - 6s 113ms/step - loss: 0.0559 - tp: 4360.0000 - fp: 26.0000 - tn: 1951.0000 - fn: 68.0000 - accuracy: 0.9853 - precision: 0.9941 - recall: 0.9846 - auc: 0.9954 - prc: 0.9981 - val_loss: 1.5191 - val_tp: 745.0000 - val_fp: 385.0000 - val_tn: 443.0000 - val_fn: 202.0000 - val_accuracy: 0.6693 - val_precision: 0.6593 - val_recall: 0.7867 - val_auc: 0.7083 - val_prc: 0.6911\n",
      "Epoch 7/10\n",
      "51/51 [==============================] - 6s 112ms/step - loss: 0.0415 - tp: 4384.0000 - fp: 16.0000 - tn: 1961.0000 - fn: 44.0000 - accuracy: 0.9906 - precision: 0.9964 - recall: 0.9901 - auc: 0.9967 - prc: 0.9984 - val_loss: 1.6673 - val_tp: 726.0000 - val_fp: 375.0000 - val_tn: 453.0000 - val_fn: 221.0000 - val_accuracy: 0.6642 - val_precision: 0.6594 - val_recall: 0.7666 - val_auc: 0.6983 - val_prc: 0.6807\n",
      "Epoch 8/10\n",
      "51/51 [==============================] - 6s 113ms/step - loss: 0.0466 - tp: 4378.0000 - fp: 23.0000 - tn: 1954.0000 - fn: 50.0000 - accuracy: 0.9886 - precision: 0.9948 - recall: 0.9887 - auc: 0.9964 - prc: 0.9985 - val_loss: 1.6668 - val_tp: 724.0000 - val_fp: 371.0000 - val_tn: 457.0000 - val_fn: 223.0000 - val_accuracy: 0.6654 - val_precision: 0.6612 - val_recall: 0.7645 - val_auc: 0.6984 - val_prc: 0.6811\n",
      "Epoch 9/10\n",
      "51/51 [==============================] - 6s 112ms/step - loss: 0.0350 - tp: 4380.0000 - fp: 11.0000 - tn: 1966.0000 - fn: 48.0000 - accuracy: 0.9908 - precision: 0.9975 - recall: 0.9892 - auc: 0.9976 - prc: 0.9989 - val_loss: 1.7718 - val_tp: 730.0000 - val_fp: 374.0000 - val_tn: 454.0000 - val_fn: 217.0000 - val_accuracy: 0.6670 - val_precision: 0.6612 - val_recall: 0.7709 - val_auc: 0.6926 - val_prc: 0.6735\n",
      "Epoch 10/10\n",
      "51/51 [==============================] - 6s 114ms/step - loss: 0.0541 - tp: 4353.0000 - fp: 24.0000 - tn: 1953.0000 - fn: 75.0000 - accuracy: 0.9845 - precision: 0.9945 - recall: 0.9831 - auc: 0.9955 - prc: 0.9980 - val_loss: 1.7253 - val_tp: 712.0000 - val_fp: 351.0000 - val_tn: 477.0000 - val_fn: 235.0000 - val_accuracy: 0.6699 - val_precision: 0.6698 - val_recall: 0.7518 - val_auc: 0.6968 - val_prc: 0.6758\n"
     ]
    }
   ],
   "source": [
    "weighted_history = model.fit(X_train,y_train,\n",
    "                    batch_size=128,\n",
    "                    epochs=10,\n",
    "                    validation_data=(X_validation, y_validation),\n",
    "                   class_weight=class_weight)"
   ]
  },
  {
   "cell_type": "code",
   "execution_count": 41,
   "metadata": {},
   "outputs": [
    {
     "data": {
      "image/png": "[encoded data removed]",
      "text/plain": [
       "<Figure size 432x288 with 4 Axes>"
      ]
     },
     "metadata": {
      "needs_background": "light"
     },
     "output_type": "display_data"
    }
   ],
   "source": [
    "plot_metrics(weighted_history)"
   ]
  }
 ],
 "metadata": {
  "kernelspec": {
   "display_name": "Python 3 (ipykernel)",
   "language": "python",
   "name": "python3"
  },
  "language_info": {
   "codemirror_mode": {
    "name": "ipython",
    "version": 3
   },
   "file_extension": ".py",
   "mimetype": "text/x-python",
   "name": "python",
   "nbconvert_exporter": "python",
   "pygments_lexer": "ipython3",
   "version": "3.7.0"
  }
 },
 "nbformat": 4,
 "nbformat_minor": 4
}
