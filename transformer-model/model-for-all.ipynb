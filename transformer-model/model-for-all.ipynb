{
 "cells": [
  {
   "cell_type": "code",
   "execution_count": 1,
   "metadata": {},
   "outputs": [],
   "source": [
    "import numpy as np\n",
    "import pandas as pd\n",
    "import tensorflow as tf\n",
    "from tensorflow import keras\n",
    "from tensorflow.keras import layers"
   ]
  },
  {
   "cell_type": "code",
   "execution_count": 2,
   "metadata": {},
   "outputs": [],
   "source": [
    "X_train = np.load(\"vectors/X_train_all.npy\")\n",
    "Y_train = np.load(\"vectors/Y_train_all.npy\")"
   ]
  },
  {
   "cell_type": "code",
   "execution_count": 3,
   "metadata": {},
   "outputs": [],
   "source": [
    "X_valid = np.load(\"vectors/X_valid_all.npy\")\n",
    "Y_valid = np.load(\"vectors/Y_valid_all.npy\")"
   ]
  },
  {
   "cell_type": "code",
   "execution_count": 4,
   "metadata": {},
   "outputs": [],
   "source": [
    "X_test = np.load(\"vectors/X_test_all.npy\")\n",
    "Y_test = np.load(\"vectors/Y_test_all.npy\")"
   ]
  },
  {
   "cell_type": "code",
   "execution_count": 5,
   "metadata": {},
   "outputs": [],
   "source": [
    "maxlen = X_train.shape[1]\n",
    "vocab_size = 26000\n",
    "embeding_dimension = 10\n",
    "number_of_heads = 6 "
   ]
  },
  {
   "cell_type": "code",
   "execution_count": 6,
   "metadata": {},
   "outputs": [],
   "source": [
    "norm_layer = layers.LayerNormalization(epsilon=1e-6)"
   ]
  },
  {
   "cell_type": "code",
   "execution_count": 7,
   "metadata": {},
   "outputs": [],
   "source": [
    "dropout = layers.Dropout(0.15)"
   ]
  },
  {
   "cell_type": "code",
   "execution_count": 8,
   "metadata": {},
   "outputs": [
    {
     "name": "stderr",
     "output_type": "stream",
     "text": [
      "2022-01-15 22:34:48.534463: I tensorflow/core/platform/cpu_feature_guard.cc:151] This TensorFlow binary is optimized with oneAPI Deep Neural Network Library (oneDNN) to use the following CPU instructions in performance-critical operations:  AVX2 FMA\n",
      "To enable them in other operations, rebuild TensorFlow with the appropriate compiler flags.\n"
     ]
    }
   ],
   "source": [
    "feednn = keras.Sequential(\n",
    "    [\n",
    "        layers.Dense(10, activation=\"relu\"),\n",
    "        layers.Dense(embeding_dimension),\n",
    "    ]\n",
    ")"
   ]
  },
  {
   "cell_type": "code",
   "execution_count": 9,
   "metadata": {},
   "outputs": [],
   "source": [
    "mha = layers.MultiHeadAttention(num_heads = number_of_heads, key_dim = embeding_dimension)"
   ]
  },
  {
   "cell_type": "code",
   "execution_count": 10,
   "metadata": {},
   "outputs": [],
   "source": [
    "token_embending = layers.Embedding(input_dim=vocab_size, output_dim=embeding_dimension)"
   ]
  },
  {
   "cell_type": "code",
   "execution_count": 11,
   "metadata": {},
   "outputs": [],
   "source": [
    "positional_embending = layers.Embedding(input_dim=maxlen, output_dim=embeding_dimension)"
   ]
  },
  {
   "cell_type": "code",
   "execution_count": 12,
   "metadata": {},
   "outputs": [],
   "source": [
    "soft_layer = tf.keras.layers.Softmax()"
   ]
  },
  {
   "cell_type": "code",
   "execution_count": 13,
   "metadata": {},
   "outputs": [],
   "source": [
    "inputs = layers.Input(shape=(maxlen,))\n",
    "\n",
    "pos = tf.range(start=0, limit=tf.shape(inputs)[-1], delta=1)\n",
    "pos = positional_embending(pos)\n",
    "x = token_embending(inputs)\n",
    "x += pos\n",
    "\n",
    "a = mha(x, x)\n",
    "a = dropout(a)\n",
    "a = norm_layer(x + a)\n",
    "f = feednn(a)\n",
    "f = dropout(f)\n",
    "x = layers.GlobalAveragePooling1D()(f)\n",
    "x = layers.Dense(32, activation=\"relu\")(x)\n",
    "x = layers.Dense(12, activation=\"relu\")(x)\n",
    "x = layers.Reshape((4, 3))(x)\n",
    "outputs = soft_layer(x)\n",
    "\n",
    "model = keras.Model(inputs=inputs, outputs=outputs)\n",
    "model.compile(\"adam\", loss=keras.losses.SparseCategoricalCrossentropy(from_logits=True), metrics=[\"accuracy\"])\n",
    "# model.summary()"
   ]
  },
  {
   "cell_type": "code",
   "execution_count": 42,
   "metadata": {},
   "outputs": [
    {
     "name": "stdout",
     "output_type": "stream",
     "text": [
      "Epoch 1/6\n",
      "801/801 [==============================] - 20s 25ms/step - loss: 0.7918 - accuracy: 0.7558 - val_loss: 0.7972 - val_accuracy: 0.7488\n",
      "Epoch 2/6\n",
      "801/801 [==============================] - 16s 20ms/step - loss: 0.7914 - accuracy: 0.7554 - val_loss: 0.7959 - val_accuracy: 0.7501\n",
      "Epoch 3/6\n",
      "801/801 [==============================] - 15s 19ms/step - loss: 0.7879 - accuracy: 0.7593 - val_loss: 0.7922 - val_accuracy: 0.7484\n",
      "Epoch 4/6\n",
      "801/801 [==============================] - 14s 17ms/step - loss: 0.7818 - accuracy: 0.7681 - val_loss: 0.7868 - val_accuracy: 0.7594\n",
      "Epoch 5/6\n",
      "801/801 [==============================] - 16s 20ms/step - loss: 0.7794 - accuracy: 0.7701 - val_loss: 0.7935 - val_accuracy: 0.7550\n",
      "Epoch 6/6\n",
      "801/801 [==============================] - 19s 23ms/step - loss: 0.7782 - accuracy: 0.7714 - val_loss: 0.7840 - val_accuracy: 0.7664\n"
     ]
    },
    {
     "data": {
      "text/plain": [
       "<keras.callbacks.History at 0x12edb96d0>"
      ]
     },
     "execution_count": 42,
     "metadata": {},
     "output_type": "execute_result"
    }
   ],
   "source": [
    "model.fit(X_train, Y_train, validation_data=(X_valid, Y_valid), batch_size=8, epochs=18)"
   ]
  },
  {
   "cell_type": "code",
   "execution_count": 43,
   "metadata": {},
   "outputs": [
    {
     "name": "stdout",
     "output_type": "stream",
     "text": [
      "56/56 [==============================] - 1s 20ms/step - loss: 0.9421 - accuracy: 0.6346\n"
     ]
    },
    {
     "data": {
      "text/plain": [
       "[0.9421395063400269, 0.6346479058265686]"
      ]
     },
     "execution_count": 43,
     "metadata": {},
     "output_type": "execute_result"
    }
   ],
   "source": [
    "model.evaluate(X_test, Y_test, batch_size=32)"
   ]
  },
  {
   "cell_type": "code",
   "execution_count": 44,
   "metadata": {},
   "outputs": [],
   "source": [
    "Y_pred = model.predict(X_test)"
   ]
  },
  {
   "cell_type": "code",
   "execution_count": 45,
   "metadata": {},
   "outputs": [],
   "source": [
    "Y_pred = np.argmax(Y_pred, axis=2)"
   ]
  },
  {
   "cell_type": "code",
   "execution_count": 46,
   "metadata": {},
   "outputs": [
    {
     "data": {
      "text/plain": [
       "(1775, 4)"
      ]
     },
     "execution_count": 46,
     "metadata": {},
     "output_type": "execute_result"
    }
   ],
   "source": [
    "Y_pred.shape"
   ]
  },
  {
   "cell_type": "code",
   "execution_count": 47,
   "metadata": {},
   "outputs": [
    {
     "data": {
      "text/plain": [
       "(1775, 4)"
      ]
     },
     "execution_count": 47,
     "metadata": {},
     "output_type": "execute_result"
    }
   ],
   "source": [
    "Y_test.shape"
   ]
  },
  {
   "cell_type": "markdown",
   "metadata": {},
   "source": [
    "### Q1"
   ]
  },
  {
   "cell_type": "code",
   "execution_count": 56,
   "metadata": {},
   "outputs": [
    {
     "data": {
      "text/html": [
       "<div>\n",
       "<style scoped>\n",
       "    .dataframe tbody tr th:only-of-type {\n",
       "        vertical-align: middle;\n",
       "    }\n",
       "\n",
       "    .dataframe tbody tr th {\n",
       "        vertical-align: top;\n",
       "    }\n",
       "\n",
       "    .dataframe thead th {\n",
       "        text-align: right;\n",
       "    }\n",
       "</style>\n",
       "<table border=\"1\" class=\"dataframe\">\n",
       "  <thead>\n",
       "    <tr style=\"text-align: right;\">\n",
       "      <th></th>\n",
       "      <th>Predicted yes</th>\n",
       "      <th>Predicted no</th>\n",
       "    </tr>\n",
       "  </thead>\n",
       "  <tbody>\n",
       "    <tr>\n",
       "      <th>Actual yes</th>\n",
       "      <td>532</td>\n",
       "      <td>296</td>\n",
       "    </tr>\n",
       "    <tr>\n",
       "      <th>Actual no</th>\n",
       "      <td>169</td>\n",
       "      <td>778</td>\n",
       "    </tr>\n",
       "  </tbody>\n",
       "</table>\n",
       "</div>"
      ],
      "text/plain": [
       "            Predicted yes  Predicted no\n",
       "Actual yes            532           296\n",
       "Actual no             169           778"
      ]
     },
     "execution_count": 56,
     "metadata": {},
     "output_type": "execute_result"
    }
   ],
   "source": [
    "from sklearn.metrics import confusion_matrix, classification_report\n",
    "\n",
    "cm = confusion_matrix(Y_test[:, 0], Y_pred[:, 0])\n",
    "cm_df = pd.DataFrame(cm, index=['Actual yes', 'Actual no'], columns=['Predicted yes', 'Predicted no'])\n",
    "cm_df"
   ]
  },
  {
   "cell_type": "code",
   "execution_count": 57,
   "metadata": {},
   "outputs": [
    {
     "data": {
      "text/html": [
       "<div>\n",
       "<style scoped>\n",
       "    .dataframe tbody tr th:only-of-type {\n",
       "        vertical-align: middle;\n",
       "    }\n",
       "\n",
       "    .dataframe tbody tr th {\n",
       "        vertical-align: top;\n",
       "    }\n",
       "\n",
       "    .dataframe thead th {\n",
       "        text-align: right;\n",
       "    }\n",
       "</style>\n",
       "<table border=\"1\" class=\"dataframe\">\n",
       "  <thead>\n",
       "    <tr style=\"text-align: right;\">\n",
       "      <th></th>\n",
       "      <th>Yes</th>\n",
       "      <th>No</th>\n",
       "      <th>accuracy</th>\n",
       "      <th>macro avg</th>\n",
       "      <th>weighted avg</th>\n",
       "    </tr>\n",
       "  </thead>\n",
       "  <tbody>\n",
       "    <tr>\n",
       "      <th>precision</th>\n",
       "      <td>0.758916</td>\n",
       "      <td>0.724395</td>\n",
       "      <td>0.738028</td>\n",
       "      <td>0.741655</td>\n",
       "      <td>0.740498</td>\n",
       "    </tr>\n",
       "    <tr>\n",
       "      <th>recall</th>\n",
       "      <td>0.642512</td>\n",
       "      <td>0.821542</td>\n",
       "      <td>0.738028</td>\n",
       "      <td>0.732027</td>\n",
       "      <td>0.738028</td>\n",
       "    </tr>\n",
       "    <tr>\n",
       "      <th>f1-score</th>\n",
       "      <td>0.695880</td>\n",
       "      <td>0.769916</td>\n",
       "      <td>0.738028</td>\n",
       "      <td>0.732898</td>\n",
       "      <td>0.735380</td>\n",
       "    </tr>\n",
       "    <tr>\n",
       "      <th>support</th>\n",
       "      <td>828.000000</td>\n",
       "      <td>947.000000</td>\n",
       "      <td>0.738028</td>\n",
       "      <td>1775.000000</td>\n",
       "      <td>1775.000000</td>\n",
       "    </tr>\n",
       "  </tbody>\n",
       "</table>\n",
       "</div>"
      ],
      "text/plain": [
       "                  Yes          No  accuracy    macro avg  weighted avg\n",
       "precision    0.758916    0.724395  0.738028     0.741655      0.740498\n",
       "recall       0.642512    0.821542  0.738028     0.732027      0.738028\n",
       "f1-score     0.695880    0.769916  0.738028     0.732898      0.735380\n",
       "support    828.000000  947.000000  0.738028  1775.000000   1775.000000"
      ]
     },
     "execution_count": 57,
     "metadata": {},
     "output_type": "execute_result"
    }
   ],
   "source": [
    "clf = classification_report(Y_test[:, 0], Y_pred[:,0], output_dict = True, zero_division = 0)\n",
    "df = pd.DataFrame(clf)\n",
    "df.rename(columns={\"0\":\"Yes\",\"1\":\"No\"})"
   ]
  },
  {
   "cell_type": "markdown",
   "metadata": {},
   "source": [
    "### Q2"
   ]
  },
  {
   "cell_type": "code",
   "execution_count": 58,
   "metadata": {},
   "outputs": [
    {
     "data": {
      "text/html": [
       "<div>\n",
       "<style scoped>\n",
       "    .dataframe tbody tr th:only-of-type {\n",
       "        vertical-align: middle;\n",
       "    }\n",
       "\n",
       "    .dataframe tbody tr th {\n",
       "        vertical-align: top;\n",
       "    }\n",
       "\n",
       "    .dataframe thead th {\n",
       "        text-align: right;\n",
       "    }\n",
       "</style>\n",
       "<table border=\"1\" class=\"dataframe\">\n",
       "  <thead>\n",
       "    <tr style=\"text-align: right;\">\n",
       "      <th></th>\n",
       "      <th>Actual unknown</th>\n",
       "      <th>Predicted yes</th>\n",
       "      <th>Predicted no</th>\n",
       "    </tr>\n",
       "  </thead>\n",
       "  <tbody>\n",
       "    <tr>\n",
       "      <th>Actual unknown</th>\n",
       "      <td>550</td>\n",
       "      <td>0</td>\n",
       "      <td>292</td>\n",
       "    </tr>\n",
       "    <tr>\n",
       "      <th>Actual yes</th>\n",
       "      <td>26</td>\n",
       "      <td>0</td>\n",
       "      <td>45</td>\n",
       "    </tr>\n",
       "    <tr>\n",
       "      <th>Actual no</th>\n",
       "      <td>155</td>\n",
       "      <td>0</td>\n",
       "      <td>707</td>\n",
       "    </tr>\n",
       "  </tbody>\n",
       "</table>\n",
       "</div>"
      ],
      "text/plain": [
       "                Actual unknown  Predicted yes  Predicted no\n",
       "Actual unknown             550              0           292\n",
       "Actual yes                  26              0            45\n",
       "Actual no                  155              0           707"
      ]
     },
     "execution_count": 58,
     "metadata": {},
     "output_type": "execute_result"
    }
   ],
   "source": [
    "cm = confusion_matrix(Y_test[:, 1], Y_pred[:, 1])\n",
    "cm_df = pd.DataFrame(cm, index=['Actual unknown', 'Actual yes', 'Actual no'], columns=['Actual unknown', 'Predicted yes', 'Predicted no'])\n",
    "cm_df"
   ]
  },
  {
   "cell_type": "code",
   "execution_count": 64,
   "metadata": {},
   "outputs": [
    {
     "data": {
      "text/html": [
       "<div>\n",
       "<style scoped>\n",
       "    .dataframe tbody tr th:only-of-type {\n",
       "        vertical-align: middle;\n",
       "    }\n",
       "\n",
       "    .dataframe tbody tr th {\n",
       "        vertical-align: top;\n",
       "    }\n",
       "\n",
       "    .dataframe thead th {\n",
       "        text-align: right;\n",
       "    }\n",
       "</style>\n",
       "<table border=\"1\" class=\"dataframe\">\n",
       "  <thead>\n",
       "    <tr style=\"text-align: right;\">\n",
       "      <th></th>\n",
       "      <th>Unknown</th>\n",
       "      <th>Yes</th>\n",
       "      <th>No</th>\n",
       "      <th>accuracy</th>\n",
       "      <th>macro avg</th>\n",
       "      <th>weighted avg</th>\n",
       "    </tr>\n",
       "  </thead>\n",
       "  <tbody>\n",
       "    <tr>\n",
       "      <th>precision</th>\n",
       "      <td>0.752394</td>\n",
       "      <td>0.0</td>\n",
       "      <td>0.677203</td>\n",
       "      <td>0.708169</td>\n",
       "      <td>0.476532</td>\n",
       "      <td>0.685783</td>\n",
       "    </tr>\n",
       "    <tr>\n",
       "      <th>recall</th>\n",
       "      <td>0.653207</td>\n",
       "      <td>0.0</td>\n",
       "      <td>0.820186</td>\n",
       "      <td>0.708169</td>\n",
       "      <td>0.491131</td>\n",
       "      <td>0.708169</td>\n",
       "    </tr>\n",
       "    <tr>\n",
       "      <th>f1-score</th>\n",
       "      <td>0.699301</td>\n",
       "      <td>0.0</td>\n",
       "      <td>0.741868</td>\n",
       "      <td>0.708169</td>\n",
       "      <td>0.480389</td>\n",
       "      <td>0.692001</td>\n",
       "    </tr>\n",
       "    <tr>\n",
       "      <th>support</th>\n",
       "      <td>842.000000</td>\n",
       "      <td>71.0</td>\n",
       "      <td>862.000000</td>\n",
       "      <td>0.708169</td>\n",
       "      <td>1775.000000</td>\n",
       "      <td>1775.000000</td>\n",
       "    </tr>\n",
       "  </tbody>\n",
       "</table>\n",
       "</div>"
      ],
      "text/plain": [
       "              Unknown   Yes          No  accuracy    macro avg  weighted avg\n",
       "precision    0.752394   0.0    0.677203  0.708169     0.476532      0.685783\n",
       "recall       0.653207   0.0    0.820186  0.708169     0.491131      0.708169\n",
       "f1-score     0.699301   0.0    0.741868  0.708169     0.480389      0.692001\n",
       "support    842.000000  71.0  862.000000  0.708169  1775.000000   1775.000000"
      ]
     },
     "execution_count": 64,
     "metadata": {},
     "output_type": "execute_result"
    }
   ],
   "source": [
    "clf = classification_report(Y_test[:, 1], Y_pred[:,1], output_dict = True, zero_division = 0)\n",
    "df = pd.DataFrame(clf)\n",
    "df.rename(columns={\"0\":\"Unknown\",\"1\":\"Yes\",\"2\":\"No\"})"
   ]
  },
  {
   "cell_type": "markdown",
   "metadata": {},
   "source": [
    "### Q3"
   ]
  },
  {
   "cell_type": "code",
   "execution_count": 65,
   "metadata": {},
   "outputs": [
    {
     "data": {
      "text/html": [
       "<div>\n",
       "<style scoped>\n",
       "    .dataframe tbody tr th:only-of-type {\n",
       "        vertical-align: middle;\n",
       "    }\n",
       "\n",
       "    .dataframe tbody tr th {\n",
       "        vertical-align: top;\n",
       "    }\n",
       "\n",
       "    .dataframe thead th {\n",
       "        text-align: right;\n",
       "    }\n",
       "</style>\n",
       "<table border=\"1\" class=\"dataframe\">\n",
       "  <thead>\n",
       "    <tr style=\"text-align: right;\">\n",
       "      <th></th>\n",
       "      <th>Predicted unknown</th>\n",
       "      <th>Predicted yes</th>\n",
       "      <th>Predicted no</th>\n",
       "    </tr>\n",
       "  </thead>\n",
       "  <tbody>\n",
       "    <tr>\n",
       "      <th>Actual unknown</th>\n",
       "      <td>824</td>\n",
       "      <td>0</td>\n",
       "      <td>0</td>\n",
       "    </tr>\n",
       "    <tr>\n",
       "      <th>Actual yes</th>\n",
       "      <td>944</td>\n",
       "      <td>0</td>\n",
       "      <td>0</td>\n",
       "    </tr>\n",
       "    <tr>\n",
       "      <th>Actual no</th>\n",
       "      <td>7</td>\n",
       "      <td>0</td>\n",
       "      <td>0</td>\n",
       "    </tr>\n",
       "  </tbody>\n",
       "</table>\n",
       "</div>"
      ],
      "text/plain": [
       "                Predicted unknown  Predicted yes  Predicted no\n",
       "Actual unknown                824              0             0\n",
       "Actual yes                    944              0             0\n",
       "Actual no                       7              0             0"
      ]
     },
     "execution_count": 65,
     "metadata": {},
     "output_type": "execute_result"
    }
   ],
   "source": [
    "cm = confusion_matrix(Y_test[:, 2], Y_pred[:, 2])\n",
    "cm_df = pd.DataFrame(cm, index=['Actual unknown', 'Actual yes', 'Actual no'], columns=['Predicted unknown', 'Predicted yes', 'Predicted no'])\n",
    "cm_df"
   ]
  },
  {
   "cell_type": "code",
   "execution_count": 66,
   "metadata": {},
   "outputs": [
    {
     "data": {
      "text/html": [
       "<div>\n",
       "<style scoped>\n",
       "    .dataframe tbody tr th:only-of-type {\n",
       "        vertical-align: middle;\n",
       "    }\n",
       "\n",
       "    .dataframe tbody tr th {\n",
       "        vertical-align: top;\n",
       "    }\n",
       "\n",
       "    .dataframe thead th {\n",
       "        text-align: right;\n",
       "    }\n",
       "</style>\n",
       "<table border=\"1\" class=\"dataframe\">\n",
       "  <thead>\n",
       "    <tr style=\"text-align: right;\">\n",
       "      <th></th>\n",
       "      <th>Unknown</th>\n",
       "      <th>Yes</th>\n",
       "      <th>No</th>\n",
       "      <th>accuracy</th>\n",
       "      <th>macro avg</th>\n",
       "      <th>weighted avg</th>\n",
       "    </tr>\n",
       "  </thead>\n",
       "  <tbody>\n",
       "    <tr>\n",
       "      <th>precision</th>\n",
       "      <td>0.464225</td>\n",
       "      <td>0.0</td>\n",
       "      <td>0.0</td>\n",
       "      <td>0.464225</td>\n",
       "      <td>0.154742</td>\n",
       "      <td>0.215505</td>\n",
       "    </tr>\n",
       "    <tr>\n",
       "      <th>recall</th>\n",
       "      <td>1.000000</td>\n",
       "      <td>0.0</td>\n",
       "      <td>0.0</td>\n",
       "      <td>0.464225</td>\n",
       "      <td>0.333333</td>\n",
       "      <td>0.464225</td>\n",
       "    </tr>\n",
       "    <tr>\n",
       "      <th>f1-score</th>\n",
       "      <td>0.634090</td>\n",
       "      <td>0.0</td>\n",
       "      <td>0.0</td>\n",
       "      <td>0.464225</td>\n",
       "      <td>0.211363</td>\n",
       "      <td>0.294361</td>\n",
       "    </tr>\n",
       "    <tr>\n",
       "      <th>support</th>\n",
       "      <td>824.000000</td>\n",
       "      <td>944.0</td>\n",
       "      <td>7.0</td>\n",
       "      <td>0.464225</td>\n",
       "      <td>1775.000000</td>\n",
       "      <td>1775.000000</td>\n",
       "    </tr>\n",
       "  </tbody>\n",
       "</table>\n",
       "</div>"
      ],
      "text/plain": [
       "              Unknown    Yes   No  accuracy    macro avg  weighted avg\n",
       "precision    0.464225    0.0  0.0  0.464225     0.154742      0.215505\n",
       "recall       1.000000    0.0  0.0  0.464225     0.333333      0.464225\n",
       "f1-score     0.634090    0.0  0.0  0.464225     0.211363      0.294361\n",
       "support    824.000000  944.0  7.0  0.464225  1775.000000   1775.000000"
      ]
     },
     "execution_count": 66,
     "metadata": {},
     "output_type": "execute_result"
    }
   ],
   "source": [
    "clf = classification_report(Y_test[:, 2], Y_pred[:,2], output_dict = True, zero_division = 0)\n",
    "df = pd.DataFrame(clf)\n",
    "df.rename(columns={\"0\":\"Unknown\",\"1\":\"Yes\",\"2\":\"No\"})"
   ]
  },
  {
   "cell_type": "markdown",
   "metadata": {},
   "source": [
    "### Q4"
   ]
  },
  {
   "cell_type": "code",
   "execution_count": 67,
   "metadata": {},
   "outputs": [
    {
     "data": {
      "text/html": [
       "<div>\n",
       "<style scoped>\n",
       "    .dataframe tbody tr th:only-of-type {\n",
       "        vertical-align: middle;\n",
       "    }\n",
       "\n",
       "    .dataframe tbody tr th {\n",
       "        vertical-align: top;\n",
       "    }\n",
       "\n",
       "    .dataframe thead th {\n",
       "        text-align: right;\n",
       "    }\n",
       "</style>\n",
       "<table border=\"1\" class=\"dataframe\">\n",
       "  <thead>\n",
       "    <tr style=\"text-align: right;\">\n",
       "      <th></th>\n",
       "      <th>Predicted unknown</th>\n",
       "      <th>Predicted yes</th>\n",
       "      <th>Predicted no</th>\n",
       "    </tr>\n",
       "  </thead>\n",
       "  <tbody>\n",
       "    <tr>\n",
       "      <th>Actual unknown</th>\n",
       "      <td>506</td>\n",
       "      <td>136</td>\n",
       "      <td>185</td>\n",
       "    </tr>\n",
       "    <tr>\n",
       "      <th>Actual yes</th>\n",
       "      <td>31</td>\n",
       "      <td>31</td>\n",
       "      <td>66</td>\n",
       "    </tr>\n",
       "    <tr>\n",
       "      <th>Actual no</th>\n",
       "      <td>123</td>\n",
       "      <td>119</td>\n",
       "      <td>578</td>\n",
       "    </tr>\n",
       "  </tbody>\n",
       "</table>\n",
       "</div>"
      ],
      "text/plain": [
       "                Predicted unknown  Predicted yes  Predicted no\n",
       "Actual unknown                506            136           185\n",
       "Actual yes                     31             31            66\n",
       "Actual no                     123            119           578"
      ]
     },
     "execution_count": 67,
     "metadata": {},
     "output_type": "execute_result"
    }
   ],
   "source": [
    "cm = confusion_matrix(Y_test[:, 3], Y_pred[:, 3])\n",
    "cm_df = pd.DataFrame(cm, index=['Actual unknown', 'Actual yes', 'Actual no'], columns=['Predicted unknown', 'Predicted yes', 'Predicted no'])\n",
    "cm_df"
   ]
  },
  {
   "cell_type": "code",
   "execution_count": 68,
   "metadata": {},
   "outputs": [
    {
     "data": {
      "text/html": [
       "<div>\n",
       "<style scoped>\n",
       "    .dataframe tbody tr th:only-of-type {\n",
       "        vertical-align: middle;\n",
       "    }\n",
       "\n",
       "    .dataframe tbody tr th {\n",
       "        vertical-align: top;\n",
       "    }\n",
       "\n",
       "    .dataframe thead th {\n",
       "        text-align: right;\n",
       "    }\n",
       "</style>\n",
       "<table border=\"1\" class=\"dataframe\">\n",
       "  <thead>\n",
       "    <tr style=\"text-align: right;\">\n",
       "      <th></th>\n",
       "      <th>Unknown</th>\n",
       "      <th>Yes</th>\n",
       "      <th>No</th>\n",
       "      <th>accuracy</th>\n",
       "      <th>macro avg</th>\n",
       "      <th>weighted avg</th>\n",
       "    </tr>\n",
       "  </thead>\n",
       "  <tbody>\n",
       "    <tr>\n",
       "      <th>precision</th>\n",
       "      <td>0.766667</td>\n",
       "      <td>0.108392</td>\n",
       "      <td>0.697226</td>\n",
       "      <td>0.628169</td>\n",
       "      <td>0.524095</td>\n",
       "      <td>0.687117</td>\n",
       "    </tr>\n",
       "    <tr>\n",
       "      <th>recall</th>\n",
       "      <td>0.611850</td>\n",
       "      <td>0.242188</td>\n",
       "      <td>0.704878</td>\n",
       "      <td>0.628169</td>\n",
       "      <td>0.519639</td>\n",
       "      <td>0.628169</td>\n",
       "    </tr>\n",
       "    <tr>\n",
       "      <th>f1-score</th>\n",
       "      <td>0.680565</td>\n",
       "      <td>0.149758</td>\n",
       "      <td>0.701031</td>\n",
       "      <td>0.628169</td>\n",
       "      <td>0.510451</td>\n",
       "      <td>0.651742</td>\n",
       "    </tr>\n",
       "    <tr>\n",
       "      <th>support</th>\n",
       "      <td>827.000000</td>\n",
       "      <td>128.000000</td>\n",
       "      <td>820.000000</td>\n",
       "      <td>0.628169</td>\n",
       "      <td>1775.000000</td>\n",
       "      <td>1775.000000</td>\n",
       "    </tr>\n",
       "  </tbody>\n",
       "</table>\n",
       "</div>"
      ],
      "text/plain": [
       "              Unknown         Yes          No  accuracy    macro avg  \\\n",
       "precision    0.766667    0.108392    0.697226  0.628169     0.524095   \n",
       "recall       0.611850    0.242188    0.704878  0.628169     0.519639   \n",
       "f1-score     0.680565    0.149758    0.701031  0.628169     0.510451   \n",
       "support    827.000000  128.000000  820.000000  0.628169  1775.000000   \n",
       "\n",
       "           weighted avg  \n",
       "precision      0.687117  \n",
       "recall         0.628169  \n",
       "f1-score       0.651742  \n",
       "support     1775.000000  "
      ]
     },
     "execution_count": 68,
     "metadata": {},
     "output_type": "execute_result"
    }
   ],
   "source": [
    "clf = classification_report(Y_test[:, 3], Y_pred[:,3], output_dict = True, zero_division = 0)\n",
    "df = pd.DataFrame(clf)\n",
    "df.rename(columns={\"0\":\"Unknown\",\"1\":\"Yes\",\"2\":\"No\"})"
   ]
  }
 ],
 "metadata": {
  "interpreter": {
   "hash": "aee8b7b246df8f9039afb4144a1f6fd8d2ca17a180786b69acc140d282b71a49"
  },
  "kernelspec": {
   "display_name": "Python 3.9.9 64-bit",
   "language": "python",
   "name": "python3"
  },
  "language_info": {
   "codemirror_mode": {
    "name": "ipython",
    "version": 3
   },
   "file_extension": ".py",
   "mimetype": "text/x-python",
   "name": "python",
   "nbconvert_exporter": "python",
   "pygments_lexer": "ipython3",
   "version": "3.9.9"
  },
  "orig_nbformat": 4
 },
 "nbformat": 4,
 "nbformat_minor": 2
}
