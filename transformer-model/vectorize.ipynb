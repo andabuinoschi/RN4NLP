{
 "cells": [
  {
   "cell_type": "code",
   "execution_count": 1,
   "metadata": {},
   "outputs": [],
   "source": [
    "import pandas as pd\n",
    "import numpy as np\n",
    "import tensorflow as tf\n",
    "from tensorflow.keras.layers import TextVectorization"
   ]
  },
  {
   "cell_type": "code",
   "execution_count": 2,
   "metadata": {},
   "outputs": [],
   "source": [
    "PATH = [\"../dataset/train.tsv\",\"../dataset/valid.tsv\",\"../dataset/test.tsv\", \"../dataset/augm_helper.tsv\", \"../dataset/train_augmented.tsv\"]"
   ]
  },
  {
   "cell_type": "code",
   "execution_count": 3,
   "metadata": {},
   "outputs": [],
   "source": [
    "train = pd.read_csv(PATH[0], sep=\"\\t\")\n",
    "valid = pd.read_csv(PATH[1], sep=\"\\t\")\n",
    "test = pd.read_csv(PATH[2], sep=\"\\t\")\n",
    "augm1 = pd.read_csv(PATH[3], sep=\"\\t\")\n",
    "augm2 = pd.read_csv(PATH[4], sep=\"\\t\")"
   ]
  },
  {
   "cell_type": "code",
   "execution_count": 4,
   "metadata": {},
   "outputs": [
    {
     "data": {
      "text/plain": [
       "(66962,)"
      ]
     },
     "execution_count": 4,
     "metadata": {},
     "output_type": "execute_result"
    }
   ],
   "source": [
    "data = train.preprocessed_tweet_text_no_link\n",
    "data = data.append(valid.preprocessed_tweet_text_no_link)\n",
    "data = data.append(test.preprocessed_tweet_text_no_link)\n",
    "data = data.append(augm1.preprocessed_tweet_text_no_link)\n",
    "data = data.append(augm2.preprocessed_tweet_text_no_link)\n",
    "data = data.reset_index(drop=True)\n",
    "data.shape"
   ]
  },
  {
   "cell_type": "code",
   "execution_count": 5,
   "metadata": {},
   "outputs": [
    {
     "name": "stderr",
     "output_type": "stream",
     "text": [
      "2022-01-14 11:49:47.998681: I tensorflow/core/platform/cpu_feature_guard.cc:151] This TensorFlow binary is optimized with oneAPI Deep Neural Network Library (oneDNN) to use the following CPU instructions in performance-critical operations:  AVX2 FMA\n",
      "To enable them in other operations, rebuild TensorFlow with the appropriate compiler flags.\n"
     ]
    }
   ],
   "source": [
    "vectorizer = TextVectorization(max_tokens=26000, output_sequence_length = 128, split='whitespace', standardize='lower_and_strip_punctuation', output_mode=\"int\")\n",
    "ds = tf.data.Dataset.from_tensor_slices(data)\n",
    "vectorizer.adapt(ds.batch(64))"
   ]
  },
  {
   "cell_type": "code",
   "execution_count": 6,
   "metadata": {},
   "outputs": [
    {
     "data": {
      "text/plain": [
       "['', '[UNK]', 'the', 'of']"
      ]
     },
     "execution_count": 6,
     "metadata": {},
     "output_type": "execute_result"
    }
   ],
   "source": [
    "vectorizer.get_vocabulary()[:4]"
   ]
  },
  {
   "cell_type": "code",
   "execution_count": 7,
   "metadata": {},
   "outputs": [],
   "source": [
    "train_data_aug_q1 = train.preprocessed_tweet_text_no_link.to_list()\n",
    "train_data_aug_q1 += augm1.preprocessed_tweet_text_no_link.to_list()\n",
    "train_data_aug_q1 += augm2.preprocessed_tweet_text_no_link.to_list()\n",
    "train_data = pd.DataFrame(train_data_aug_q1,columns=[\"preprocessed_tweet_text_no_link\"])"
   ]
  },
  {
   "cell_type": "code",
   "execution_count": 8,
   "metadata": {},
   "outputs": [],
   "source": [
    "train_vectors_text = vectorizer(train.preprocessed_tweet_text_no_link.to_numpy())\n",
    "train_vectors_text_q1_aug = vectorizer(train_data.preprocessed_tweet_text_no_link.to_numpy())"
   ]
  },
  {
   "cell_type": "code",
   "execution_count": 9,
   "metadata": {},
   "outputs": [],
   "source": [
    "valid_vectors_text = vectorizer(valid.preprocessed_tweet_text_no_link.to_numpy())\n",
    "test_vectors_text = vectorizer(test.preprocessed_tweet_text_no_link.to_numpy())"
   ]
  },
  {
   "cell_type": "code",
   "execution_count": 10,
   "metadata": {},
   "outputs": [],
   "source": [
    "np.save(\"vectors/X_train_q1_aug\", train_vectors_text_q1_aug)\n",
    "np.save(\"vectors/X_valid\", valid_vectors_text)\n",
    "np.save(\"vectors/X_test\", test_vectors_text)"
   ]
  },
  {
   "cell_type": "code",
   "execution_count": 11,
   "metadata": {},
   "outputs": [],
   "source": [
    "Y_train = train.q1_label.map(dict(yes=1, no=0))\n",
    "Y_augm1 = augm1.q1_label\n",
    "Y_augm2 = augm2.q1_label.map(dict(yes=1, no=0))\n",
    "Y_valid = valid.q1_label.map(dict(yes=1, no=0))\n",
    "Y_test = test.q1_label.map(dict(yes=1, no=0))"
   ]
  },
  {
   "cell_type": "code",
   "execution_count": 12,
   "metadata": {},
   "outputs": [],
   "source": [
    "np.save(\"vectors/Y_train_q1\", np.array(Y_train.to_list() +  Y_augm1.to_list() + Y_augm2.to_list()))\n",
    "np.save(\"vectors/Y_valid_q1\", Y_valid.to_numpy())\n",
    "np.save(\"vectors/Y_test_q1\", Y_test.to_numpy())"
   ]
  },
  {
   "cell_type": "markdown",
   "metadata": {},
   "source": [
    "### Prepare data for q [2,3,4]"
   ]
  },
  {
   "cell_type": "code",
   "execution_count": 13,
   "metadata": {},
   "outputs": [],
   "source": [
    "train_data_aug_q24 = train.preprocessed_tweet_text_no_link.to_list()\n",
    "train_data_aug_q24 += augm2.preprocessed_tweet_text_no_link.to_list()\n",
    "train_data = pd.DataFrame(train_data_aug_q24,columns=[\"preprocessed_tweet_text_no_link\"])"
   ]
  },
  {
   "cell_type": "code",
   "execution_count": 14,
   "metadata": {},
   "outputs": [],
   "source": [
    "train_vectors_text = vectorizer(train_data.preprocessed_tweet_text_no_link.to_numpy())\n",
    "valid_vectors_text = vectorizer(valid.preprocessed_tweet_text_no_link.to_numpy())\n",
    "test_vectors_text = vectorizer(test.preprocessed_tweet_text_no_link.to_numpy())"
   ]
  },
  {
   "cell_type": "code",
   "execution_count": 15,
   "metadata": {},
   "outputs": [],
   "source": [
    "np.save(\"vectors/X_train_q2-4\", train_vectors_text)\n",
    "np.save(\"vectors/X_valid_q2-4\", valid_vectors_text)\n",
    "np.save(\"vectors/X_test_q2-4\", test_vectors_text)"
   ]
  },
  {
   "cell_type": "code",
   "execution_count": 16,
   "metadata": {},
   "outputs": [],
   "source": [
    "train.q2_label = train.q2_label.fillna(\"unk\")\n",
    "train.q3_label = train.q3_label.fillna(\"unk\")\n",
    "train.q4_label = train.q4_label.fillna(\"unk\")"
   ]
  },
  {
   "cell_type": "code",
   "execution_count": 17,
   "metadata": {},
   "outputs": [],
   "source": [
    "augm2.q2_label = augm2.q2_label.fillna(\"unk\")\n",
    "augm2.q3_label = augm2.q3_label.fillna(\"unk\")\n",
    "augm2.q4_label = augm2.q4_label.fillna(\"unk\")"
   ]
  },
  {
   "cell_type": "code",
   "execution_count": 18,
   "metadata": {},
   "outputs": [],
   "source": [
    "train.q2_label = train.q2_label.map(dict(unk=0, yes=1, no=2))\n",
    "train.q3_label = train.q3_label.map(dict(unk=0, yes=1, no=2))\n",
    "train.q4_label = train.q4_label.map(dict(unk=0, yes=1, no=2))"
   ]
  },
  {
   "cell_type": "code",
   "execution_count": 19,
   "metadata": {},
   "outputs": [],
   "source": [
    "augm2.q2_label = augm2.q2_label.map(dict(unk=0, yes=1, no=2))\n",
    "augm2.q3_label = augm2.q3_label.map(dict(unk=0, yes=1, no=2))\n",
    "augm2.q4_label = augm2.q4_label.map(dict(unk=0, yes=1, no=2))"
   ]
  },
  {
   "cell_type": "code",
   "execution_count": 20,
   "metadata": {},
   "outputs": [
    {
     "data": {
      "text/plain": [
       "2    3745\n",
       "0    1972\n",
       "1     688\n",
       "Name: q4_label, dtype: int64"
      ]
     },
     "execution_count": 20,
     "metadata": {},
     "output_type": "execute_result"
    }
   ],
   "source": [
    "train.q4_label.value_counts()"
   ]
  },
  {
   "cell_type": "code",
   "execution_count": 21,
   "metadata": {},
   "outputs": [],
   "source": [
    "valid[[\"q2_label\",\"q3_label\",\"q4_label\"]] = valid[[\"q2_label\",\"q3_label\",\"q4_label\"]].fillna(\"unk\")\n",
    "valid.q2_label = valid.q2_label.map(dict(unk=0, yes=1, no=2))\n",
    "valid.q3_label = valid.q3_label.map(dict(unk=0, yes=1, no=2))\n",
    "valid.q4_label = valid.q4_label.map(dict(unk=0, yes=1, no=2))"
   ]
  },
  {
   "cell_type": "code",
   "execution_count": 22,
   "metadata": {},
   "outputs": [
    {
     "data": {
      "text/plain": [
       "array(['no', 'yes', nan, 'Unnamed: 5'], dtype=object)"
      ]
     },
     "execution_count": 22,
     "metadata": {},
     "output_type": "execute_result"
    }
   ],
   "source": [
    "test.q4_label.unique()"
   ]
  },
  {
   "cell_type": "code",
   "execution_count": 23,
   "metadata": {},
   "outputs": [
    {
     "data": {
      "text/plain": [
       "(1775, 18)"
      ]
     },
     "execution_count": 23,
     "metadata": {},
     "output_type": "execute_result"
    }
   ],
   "source": [
    "test.shape"
   ]
  },
  {
   "cell_type": "code",
   "execution_count": 24,
   "metadata": {},
   "outputs": [],
   "source": [
    "test.q2_label = test.q2_label.replace('Unnamed: 3', 'unk')\n",
    "test.q3_label = test.q3_label.replace('Unnamed: 4', 'unk')\n",
    "test.q4_label = test.q4_label.replace('Unnamed: 5', 'unk')\n",
    "test.q4_label = test.q4_label.replace('nan', 'unk')"
   ]
  },
  {
   "cell_type": "code",
   "execution_count": 25,
   "metadata": {},
   "outputs": [],
   "source": [
    "test[[\"q2_label\",\"q3_label\",\"q4_label\"]] = test[[\"q2_label\",\"q3_label\",\"q4_label\"]].fillna(\"unk\")\n",
    "test.q2_label = test.q2_label.map(dict(unk=0, yes=1, no=2))\n",
    "test.q3_label = test.q3_label.map(dict(unk=0, yes=1, no=2))\n",
    "test.q4_label = test.q4_label.map(dict(unk=0, yes=1, no=2))"
   ]
  },
  {
   "cell_type": "code",
   "execution_count": 26,
   "metadata": {},
   "outputs": [],
   "source": [
    "train_q2_4 = train[[\"q2_label\",\"q3_label\",\"q4_label\"]].to_numpy()"
   ]
  },
  {
   "cell_type": "code",
   "execution_count": 27,
   "metadata": {},
   "outputs": [],
   "source": [
    "augm_q2_4 = augm2[[\"q2_label\",\"q3_label\",\"q4_label\"]].to_numpy()"
   ]
  },
  {
   "cell_type": "code",
   "execution_count": 28,
   "metadata": {},
   "outputs": [],
   "source": [
    "train_result = np.concatenate((train_q2_4, augm_q2_4), axis=0)"
   ]
  },
  {
   "cell_type": "code",
   "execution_count": 29,
   "metadata": {},
   "outputs": [],
   "source": [
    "np.save(\"vectors/Y_train_q2-4\", train_result)\n",
    "np.save(\"vectors/Y_valid_q2-4\", valid[[\"q2_label\",\"q3_label\",\"q4_label\"]].to_numpy())\n",
    "np.save(\"vectors/Y_test_q2-4\", test[[\"q2_label\",\"q3_label\",\"q4_label\"]].to_numpy())"
   ]
  }
 ],
 "metadata": {
  "interpreter": {
   "hash": "aee8b7b246df8f9039afb4144a1f6fd8d2ca17a180786b69acc140d282b71a49"
  },
  "kernelspec": {
   "display_name": "Python 3.9.9 64-bit",
   "language": "python",
   "name": "python3"
  },
  "language_info": {
   "codemirror_mode": {
    "name": "ipython",
    "version": 3
   },
   "file_extension": ".py",
   "mimetype": "text/x-python",
   "name": "python",
   "nbconvert_exporter": "python",
   "pygments_lexer": "ipython3",
   "version": "3.9.9"
  },
  "orig_nbformat": 4
 },
 "nbformat": 4,
 "nbformat_minor": 2
}
