{
 "cells": [
  {
   "cell_type": "code",
   "execution_count": 1,
   "metadata": {},
   "outputs": [],
   "source": [
    "import numpy as np\n",
    "import pandas as pd\n",
    "import tensorflow as tf\n",
    "from tensorflow import keras\n",
    "from tensorflow.keras import layers"
   ]
  },
  {
   "cell_type": "code",
   "execution_count": 2,
   "metadata": {},
   "outputs": [],
   "source": [
    "X_train = np.load(\"vectors/X_train.npy\")\n",
    "Y_train = np.load(\"vectors/Y_train.npy\")"
   ]
  },
  {
   "cell_type": "code",
   "execution_count": 3,
   "metadata": {},
   "outputs": [],
   "source": [
    "X_valid = np.load(\"vectors/X_valid.npy\")\n",
    "Y_valid = np.load(\"vectors/Y_valid.npy\")"
   ]
  },
  {
   "cell_type": "code",
   "execution_count": 4,
   "metadata": {},
   "outputs": [],
   "source": [
    "X_test = np.load(\"vectors/X_test.npy\")\n",
    "Y_test = np.load(\"vectors/Y_test.npy\")"
   ]
  },
  {
   "cell_type": "code",
   "execution_count": 5,
   "metadata": {},
   "outputs": [],
   "source": [
    "maxlen = X_train.shape[1]\n",
    "vocab_size = 26000\n",
    "embeding_dimension = 10\n",
    "number_of_heads = 6 "
   ]
  },
  {
   "cell_type": "code",
   "execution_count": 6,
   "metadata": {},
   "outputs": [],
   "source": [
    "norm_layer = layers.LayerNormalization(epsilon=1e-6)"
   ]
  },
  {
   "cell_type": "code",
   "execution_count": 7,
   "metadata": {},
   "outputs": [],
   "source": [
    "dropout = layers.Dropout(0.15)"
   ]
  },
  {
   "cell_type": "code",
   "execution_count": 8,
   "metadata": {},
   "outputs": [
    {
     "name": "stderr",
     "output_type": "stream",
     "text": [
      "2022-01-13 16:56:59.605013: I tensorflow/core/platform/cpu_feature_guard.cc:151] This TensorFlow binary is optimized with oneAPI Deep Neural Network Library (oneDNN) to use the following CPU instructions in performance-critical operations:  AVX2 FMA\n",
      "To enable them in other operations, rebuild TensorFlow with the appropriate compiler flags.\n"
     ]
    }
   ],
   "source": [
    "feednn = keras.Sequential(\n",
    "    [\n",
    "        layers.Dense(10, activation=\"relu\"),\n",
    "        layers.Dense(embeding_dimension),\n",
    "    ]\n",
    ")"
   ]
  },
  {
   "cell_type": "code",
   "execution_count": 9,
   "metadata": {},
   "outputs": [],
   "source": [
    "mha = layers.MultiHeadAttention(num_heads = number_of_heads, key_dim = embeding_dimension)"
   ]
  },
  {
   "cell_type": "code",
   "execution_count": 10,
   "metadata": {},
   "outputs": [],
   "source": [
    "token_embending = layers.Embedding(input_dim=vocab_size, output_dim=embeding_dimension)"
   ]
  },
  {
   "cell_type": "code",
   "execution_count": 11,
   "metadata": {},
   "outputs": [],
   "source": [
    "positional_embending = layers.Embedding(input_dim=maxlen, output_dim=embeding_dimension)"
   ]
  },
  {
   "cell_type": "code",
   "execution_count": 12,
   "metadata": {},
   "outputs": [
    {
     "name": "stdout",
     "output_type": "stream",
     "text": [
      "Epoch 1/3\n",
      "468/468 [==============================] - 18s 36ms/step - loss: 0.5663 - accuracy: 0.7373 - val_loss: 0.5318 - val_accuracy: 0.7438\n",
      "Epoch 2/3\n",
      "468/468 [==============================] - 19s 41ms/step - loss: 0.3826 - accuracy: 0.8317 - val_loss: 0.2950 - val_accuracy: 0.8882\n",
      "Epoch 3/3\n",
      "468/468 [==============================] - 24s 51ms/step - loss: 0.2240 - accuracy: 0.9097 - val_loss: 0.1795 - val_accuracy: 0.9318\n"
     ]
    },
    {
     "data": {
      "text/plain": [
       "<keras.callbacks.History at 0x127da9190>"
      ]
     },
     "execution_count": 12,
     "metadata": {},
     "output_type": "execute_result"
    }
   ],
   "source": [
    "inputs = layers.Input(shape=(maxlen,))\n",
    "\n",
    "pos = tf.range(start=0, limit=tf.shape(inputs)[-1], delta=1)\n",
    "pos = positional_embending(pos)\n",
    "x = token_embending(inputs)\n",
    "x += pos\n",
    "\n",
    "a = mha(x, x)\n",
    "a = dropout(a)\n",
    "a = norm_layer(x + a)\n",
    "f = feednn(a)\n",
    "f = dropout(f)\n",
    "x = layers.GlobalAveragePooling1D()(f)\n",
    "x = layers.Dense(20, activation=\"relu\")(x)\n",
    "outputs = layers.Dense(2, activation=\"softmax\")(x)\n",
    "\n",
    "model = keras.Model(inputs=inputs, outputs=outputs)\n",
    "model.compile(\"adam\", \"sparse_categorical_crossentropy\", metrics=[\"accuracy\"])\n",
    "\n",
    "model.fit(X_train, Y_train, validation_data=(X_valid, Y_valid), batch_size=16, epochs=3)"
   ]
  },
  {
   "cell_type": "code",
   "execution_count": 13,
   "metadata": {},
   "outputs": [
    {
     "name": "stdout",
     "output_type": "stream",
     "text": [
      "56/56 [==============================] - 1s 24ms/step - loss: 0.7028 - accuracy: 0.7042\n"
     ]
    },
    {
     "data": {
      "text/plain": [
       "[0.7027730345726013, 0.7042253613471985]"
      ]
     },
     "execution_count": 13,
     "metadata": {},
     "output_type": "execute_result"
    }
   ],
   "source": [
    "model.evaluate(X_test, Y_test, batch_size=32)"
   ]
  }
 ],
 "metadata": {
  "interpreter": {
   "hash": "aee8b7b246df8f9039afb4144a1f6fd8d2ca17a180786b69acc140d282b71a49"
  },
  "kernelspec": {
   "display_name": "Python 3.9.9 64-bit",
   "language": "python",
   "name": "python3"
  },
  "language_info": {
   "codemirror_mode": {
    "name": "ipython",
    "version": 3
   },
   "file_extension": ".py",
   "mimetype": "text/x-python",
   "name": "python",
   "nbconvert_exporter": "python",
   "pygments_lexer": "ipython3",
   "version": "3.9.9"
  },
  "orig_nbformat": 4
 },
 "nbformat": 4,
 "nbformat_minor": 2
}
