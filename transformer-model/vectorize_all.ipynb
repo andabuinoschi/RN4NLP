{
 "cells": [
  {
   "cell_type": "code",
   "execution_count": 1,
   "metadata": {},
   "outputs": [],
   "source": [
    "import pandas as pd\n",
    "import numpy as np\n",
    "import tensorflow as tf\n",
    "from tensorflow.keras.layers import TextVectorization"
   ]
  },
  {
   "cell_type": "code",
   "execution_count": 2,
   "metadata": {},
   "outputs": [],
   "source": [
    "PATH = [\"../dataset/train.tsv\",\"../dataset/valid.tsv\",\"../dataset/test.tsv\", \"../dataset/augm_helper.tsv\"]"
   ]
  },
  {
   "cell_type": "code",
   "execution_count": 3,
   "metadata": {},
   "outputs": [],
   "source": [
    "train = pd.read_csv(PATH[0], sep=\"\\t\")\n",
    "valid = pd.read_csv(PATH[1], sep=\"\\t\")\n",
    "test = pd.read_csv(PATH[2], sep=\"\\t\")\n",
    "augm = pd.read_csv(PATH[3], sep=\"\\t\")"
   ]
  },
  {
   "cell_type": "code",
   "execution_count": 4,
   "metadata": {},
   "outputs": [
    {
     "data": {
      "text/plain": [
       "(15722,)"
      ]
     },
     "execution_count": 4,
     "metadata": {},
     "output_type": "execute_result"
    }
   ],
   "source": [
    "data = train.preprocessed_tweet_text_no_link\n",
    "data = data.append(valid.preprocessed_tweet_text_no_link)\n",
    "data = data.append(test.preprocessed_tweet_text_no_link)\n",
    "data = data.append(augm.preprocessed_tweet_text_no_link)\n",
    "data = data.reset_index(drop=True)\n",
    "data.shape"
   ]
  },
  {
   "cell_type": "code",
   "execution_count": 5,
   "metadata": {},
   "outputs": [
    {
     "name": "stderr",
     "output_type": "stream",
     "text": [
      "2022-01-14 08:01:53.781533: I tensorflow/core/platform/cpu_feature_guard.cc:151] This TensorFlow binary is optimized with oneAPI Deep Neural Network Library (oneDNN) to use the following CPU instructions in performance-critical operations:  AVX2 FMA\n",
      "To enable them in other operations, rebuild TensorFlow with the appropriate compiler flags.\n"
     ]
    }
   ],
   "source": [
    "vectorizer = TextVectorization(max_tokens=26000, output_sequence_length = 128, split='whitespace', standardize='lower_and_strip_punctuation', output_mode=\"int\")\n",
    "ds = tf.data.Dataset.from_tensor_slices(data)\n",
    "vectorizer.adapt(ds.batch(64))"
   ]
  },
  {
   "cell_type": "code",
   "execution_count": 6,
   "metadata": {},
   "outputs": [
    {
     "data": {
      "text/plain": [
       "['', '[UNK]', 'the', 'of']"
      ]
     },
     "execution_count": 6,
     "metadata": {},
     "output_type": "execute_result"
    }
   ],
   "source": [
    "vectorizer.get_vocabulary()[:4]"
   ]
  },
  {
   "cell_type": "code",
   "execution_count": 7,
   "metadata": {},
   "outputs": [],
   "source": [
    "train_vectors_text = vectorizer(train.preprocessed_tweet_text_no_link.to_numpy())\n",
    "valid_vectors_text = vectorizer(valid.preprocessed_tweet_text_no_link.to_numpy())\n",
    "test_vectors_text = vectorizer(test.preprocessed_tweet_text_no_link.to_numpy())"
   ]
  },
  {
   "cell_type": "code",
   "execution_count": 8,
   "metadata": {},
   "outputs": [],
   "source": [
    "np.save(\"vectors/X_train_all\", train_vectors_text)\n",
    "np.save(\"vectors/X_valid_all\", valid_vectors_text)\n",
    "np.save(\"vectors/X_test_all\", test_vectors_text)"
   ]
  },
  {
   "cell_type": "code",
   "execution_count": 9,
   "metadata": {},
   "outputs": [],
   "source": [
    "train.q1_label = train.q1_label.map(dict(yes=1, no=0))\n",
    "valid.q1_label = valid.q1_label.map(dict(yes=1, no=0))\n",
    "test.q1_label = test.q1_label.map(dict(yes=1, no=0))"
   ]
  },
  {
   "cell_type": "code",
   "execution_count": 10,
   "metadata": {},
   "outputs": [],
   "source": [
    "train.q2_label = train.q2_label.fillna(\"unk\")\n",
    "train.q3_label = train.q3_label.fillna(\"unk\")\n",
    "train.q4_label = train.q4_label.fillna(\"unk\")"
   ]
  },
  {
   "cell_type": "code",
   "execution_count": 11,
   "metadata": {},
   "outputs": [],
   "source": [
    "train.q2_label = train.q2_label.map(dict(unk=0, yes=1, no=2))\n",
    "train.q3_label = train.q3_label.map(dict(unk=0, yes=1, no=2))\n",
    "train.q4_label = train.q4_label.map(dict(unk=0, yes=1, no=2))"
   ]
  },
  {
   "cell_type": "code",
   "execution_count": 12,
   "metadata": {},
   "outputs": [
    {
     "data": {
      "text/plain": [
       "2    3745\n",
       "0    1972\n",
       "1     688\n",
       "Name: q4_label, dtype: int64"
      ]
     },
     "execution_count": 12,
     "metadata": {},
     "output_type": "execute_result"
    }
   ],
   "source": [
    "train.q4_label.value_counts()"
   ]
  },
  {
   "cell_type": "code",
   "execution_count": 13,
   "metadata": {},
   "outputs": [],
   "source": [
    "valid[[\"q2_label\",\"q3_label\",\"q4_label\"]] = valid[[\"q2_label\",\"q3_label\",\"q4_label\"]].fillna(\"unk\")\n",
    "valid.q2_label = valid.q2_label.map(dict(unk=0, yes=1, no=2))\n",
    "valid.q3_label = valid.q3_label.map(dict(unk=0, yes=1, no=2))\n",
    "valid.q4_label = valid.q4_label.map(dict(unk=0, yes=1, no=2))"
   ]
  },
  {
   "cell_type": "code",
   "execution_count": 14,
   "metadata": {},
   "outputs": [
    {
     "data": {
      "text/plain": [
       "array(['no', 'yes', nan, 'Unnamed: 5'], dtype=object)"
      ]
     },
     "execution_count": 14,
     "metadata": {},
     "output_type": "execute_result"
    }
   ],
   "source": [
    "test.q4_label.unique()"
   ]
  },
  {
   "cell_type": "code",
   "execution_count": 15,
   "metadata": {},
   "outputs": [],
   "source": [
    "test.q2_label = test.q2_label.replace('Unnamed: 3', 'unk')\n",
    "test.q3_label = test.q3_label.replace('Unnamed: 4', 'unk')\n",
    "test.q4_label = test.q4_label.replace('Unnamed: 5', 'unk')\n",
    "test.q4_label = test.q4_label.replace('nan', 'unk')"
   ]
  },
  {
   "cell_type": "code",
   "execution_count": 16,
   "metadata": {},
   "outputs": [],
   "source": [
    "test[[\"q2_label\",\"q3_label\",\"q4_label\"]] = test[[\"q2_label\",\"q3_label\",\"q4_label\"]].fillna(\"unk\")\n",
    "test.q2_label = test.q2_label.map(dict(unk=0, yes=1, no=2))\n",
    "test.q3_label = test.q3_label.map(dict(unk=0, yes=1, no=2))\n",
    "test.q4_label = test.q4_label.map(dict(unk=0, yes=1, no=2))"
   ]
  },
  {
   "cell_type": "code",
   "execution_count": 17,
   "metadata": {},
   "outputs": [],
   "source": [
    "np.save(\"vectors/Y_train_all\", train[[\"q1_label\",\"q2_label\",\"q3_label\",\"q4_label\"]].to_numpy())\n",
    "np.save(\"vectors/Y_valid_all\", valid[[\"q1_label\",\"q2_label\",\"q3_label\",\"q4_label\"]].to_numpy())\n",
    "np.save(\"vectors/Y_test_all\", test[[\"q1_label\",\"q2_label\",\"q3_label\",\"q4_label\"]].to_numpy())"
   ]
  },
  {
   "cell_type": "code",
   "execution_count": 18,
   "metadata": {},
   "outputs": [
    {
     "data": {
      "text/plain": [
       "array([[0, 0, 0, 0],\n",
       "       [0, 0, 0, 0],\n",
       "       [0, 0, 0, 0],\n",
       "       ...,\n",
       "       [1, 2, 1, 2],\n",
       "       [1, 2, 1, 2],\n",
       "       [1, 2, 1, 2]])"
      ]
     },
     "execution_count": 18,
     "metadata": {},
     "output_type": "execute_result"
    }
   ],
   "source": [
    "train[[\"q1_label\",\"q2_label\",\"q3_label\",\"q4_label\"]].to_numpy()"
   ]
  }
 ],
 "metadata": {
  "interpreter": {
   "hash": "aee8b7b246df8f9039afb4144a1f6fd8d2ca17a180786b69acc140d282b71a49"
  },
  "kernelspec": {
   "display_name": "Python 3.9.9 64-bit",
   "language": "python",
   "name": "python3"
  },
  "language_info": {
   "codemirror_mode": {
    "name": "ipython",
    "version": 3
   },
   "file_extension": ".py",
   "mimetype": "text/x-python",
   "name": "python",
   "nbconvert_exporter": "python",
   "pygments_lexer": "ipython3",
   "version": "3.9.9"
  },
  "orig_nbformat": 4
 },
 "nbformat": 4,
 "nbformat_minor": 2
}
