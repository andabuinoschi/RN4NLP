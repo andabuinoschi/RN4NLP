{
 "cells": [
  {
   "cell_type": "code",
   "execution_count": 1,
   "metadata": {},
   "outputs": [],
   "source": [
    "import numpy as np\n",
    "import pandas as pd\n",
    "import tensorflow as tf\n",
    "from tensorflow import keras\n",
    "from tensorflow.keras import layers"
   ]
  },
  {
   "cell_type": "code",
   "execution_count": 2,
   "metadata": {},
   "outputs": [],
   "source": [
    "X_train = np.load(\"vectors/X_train_q2-4.npy\")\n",
    "Y_train = np.load(\"vectors/Y_train_q2-4.npy\")"
   ]
  },
  {
   "cell_type": "code",
   "execution_count": 3,
   "metadata": {},
   "outputs": [],
   "source": [
    "X_valid = np.load(\"vectors/X_valid_q2-4.npy\")\n",
    "Y_valid = np.load(\"vectors/Y_valid_q2-4.npy\")"
   ]
  },
  {
   "cell_type": "code",
   "execution_count": 4,
   "metadata": {},
   "outputs": [],
   "source": [
    "X_test = np.load(\"vectors/X_test_q2-4.npy\")\n",
    "Y_test = np.load(\"vectors/Y_test_q2-4.npy\")"
   ]
  },
  {
   "cell_type": "code",
   "execution_count": 5,
   "metadata": {},
   "outputs": [],
   "source": [
    "maxlen = X_train.shape[1]\n",
    "vocab_size = 67000\n",
    "embeding_dimension = 10\n",
    "number_of_heads = 6"
   ]
  },
  {
   "cell_type": "code",
   "execution_count": 6,
   "metadata": {},
   "outputs": [],
   "source": [
    "norm_layer = layers.LayerNormalization(epsilon=1e-6)"
   ]
  },
  {
   "cell_type": "code",
   "execution_count": 7,
   "metadata": {},
   "outputs": [],
   "source": [
    "dropout = layers.Dropout(0.1)"
   ]
  },
  {
   "cell_type": "code",
   "execution_count": 8,
   "metadata": {},
   "outputs": [
    {
     "name": "stderr",
     "output_type": "stream",
     "text": [
      "2022-01-15 18:56:38.816233: I tensorflow/core/platform/cpu_feature_guard.cc:151] This TensorFlow binary is optimized with oneAPI Deep Neural Network Library (oneDNN) to use the following CPU instructions in performance-critical operations:  AVX2 FMA\n",
      "To enable them in other operations, rebuild TensorFlow with the appropriate compiler flags.\n"
     ]
    }
   ],
   "source": [
    "feednn = keras.Sequential(\n",
    "    [\n",
    "        layers.Dense(10, activation=\"relu\"),\n",
    "        layers.Dense(embeding_dimension),\n",
    "    ]\n",
    ")"
   ]
  },
  {
   "cell_type": "code",
   "execution_count": 9,
   "metadata": {},
   "outputs": [],
   "source": [
    "mha = layers.MultiHeadAttention(num_heads = number_of_heads, key_dim = embeding_dimension)"
   ]
  },
  {
   "cell_type": "code",
   "execution_count": 10,
   "metadata": {},
   "outputs": [],
   "source": [
    "token_embending = layers.Embedding(input_dim=vocab_size, output_dim=embeding_dimension)"
   ]
  },
  {
   "cell_type": "code",
   "execution_count": 11,
   "metadata": {},
   "outputs": [],
   "source": [
    "positional_embending = layers.Embedding(input_dim=maxlen, output_dim=embeding_dimension)"
   ]
  },
  {
   "cell_type": "code",
   "execution_count": 12,
   "metadata": {},
   "outputs": [],
   "source": [
    "soft_layer = tf.keras.layers.Softmax()"
   ]
  },
  {
   "cell_type": "code",
   "execution_count": 13,
   "metadata": {},
   "outputs": [],
   "source": [
    "inputs = layers.Input(shape=(maxlen,))\n",
    "\n",
    "pos = tf.range(start=0, limit=tf.shape(inputs)[-1], delta=1)\n",
    "pos = positional_embending(pos)\n",
    "x = token_embending(inputs)\n",
    "x += pos\n",
    "\n",
    "a = mha(x, x)\n",
    "a = dropout(a)\n",
    "a = norm_layer(x + a)\n",
    "f = feednn(a)\n",
    "f = dropout(f)\n",
    "x = layers.GlobalAveragePooling1D()(f)\n",
    "x = layers.Dense(32, activation=\"relu\")(x)\n",
    "x = layers.Dense(9, activation=\"relu\")(x)\n",
    "x = layers.Reshape((3, 3))(x)\n",
    "outputs = soft_layer(x)\n",
    "\n",
    "model = keras.Model(inputs=inputs, outputs=outputs)\n",
    "model.compile(\"adam\", loss=keras.losses.SparseCategoricalCrossentropy(from_logits=True), metrics=[\"accuracy\"])\n",
    "# model.summary()"
   ]
  },
  {
   "cell_type": "code",
   "execution_count": 14,
   "metadata": {},
   "outputs": [
    {
     "name": "stdout",
     "output_type": "stream",
     "text": [
      "Epoch 1/2\n",
      "901/901 [==============================] - 110s 120ms/step - loss: 0.8404 - accuracy: 0.7062 - val_loss: 0.7264 - val_accuracy: 0.8212\n",
      "Epoch 2/2\n",
      "901/901 [==============================] - 115s 128ms/step - loss: 0.6948 - accuracy: 0.8550 - val_loss: 0.6895 - val_accuracy: 0.8607\n"
     ]
    },
    {
     "data": {
      "text/plain": [
       "<keras.callbacks.History at 0x123374850>"
      ]
     },
     "execution_count": 14,
     "metadata": {},
     "output_type": "execute_result"
    }
   ],
   "source": [
    "model.fit(X_train, Y_train, validation_data=(X_valid, Y_valid), batch_size=64, epochs=2)"
   ]
  },
  {
   "cell_type": "code",
   "execution_count": 15,
   "metadata": {},
   "outputs": [
    {
     "name": "stdout",
     "output_type": "stream",
     "text": [
      "56/56 [==============================] - 1s 24ms/step - loss: 0.8106 - accuracy: 0.7371\n"
     ]
    },
    {
     "data": {
      "text/plain": [
       "[0.8106127977371216, 0.737089216709137]"
      ]
     },
     "execution_count": 15,
     "metadata": {},
     "output_type": "execute_result"
    }
   ],
   "source": [
    "model.evaluate(X_test, Y_test, batch_size=32)"
   ]
  },
  {
   "cell_type": "code",
   "execution_count": 16,
   "metadata": {},
   "outputs": [],
   "source": [
    "Y_pred = model.predict(X_test)\n",
    "Y_pred = np.argmax(Y_pred, axis=2)"
   ]
  },
  {
   "cell_type": "markdown",
   "metadata": {},
   "source": [
    "### Q2"
   ]
  },
  {
   "cell_type": "code",
   "execution_count": 17,
   "metadata": {},
   "outputs": [
    {
     "data": {
      "text/html": [
       "<div>\n",
       "<style scoped>\n",
       "    .dataframe tbody tr th:only-of-type {\n",
       "        vertical-align: middle;\n",
       "    }\n",
       "\n",
       "    .dataframe tbody tr th {\n",
       "        vertical-align: top;\n",
       "    }\n",
       "\n",
       "    .dataframe thead th {\n",
       "        text-align: right;\n",
       "    }\n",
       "</style>\n",
       "<table border=\"1\" class=\"dataframe\">\n",
       "  <thead>\n",
       "    <tr style=\"text-align: right;\">\n",
       "      <th></th>\n",
       "      <th>Predicted unknown</th>\n",
       "      <th>Predicted yes</th>\n",
       "      <th>Predicted no</th>\n",
       "    </tr>\n",
       "  </thead>\n",
       "  <tbody>\n",
       "    <tr>\n",
       "      <th>Actual unknown</th>\n",
       "      <td>628</td>\n",
       "      <td>0</td>\n",
       "      <td>214</td>\n",
       "    </tr>\n",
       "    <tr>\n",
       "      <th>Actual yes</th>\n",
       "      <td>25</td>\n",
       "      <td>0</td>\n",
       "      <td>46</td>\n",
       "    </tr>\n",
       "    <tr>\n",
       "      <th>Actual no</th>\n",
       "      <td>187</td>\n",
       "      <td>0</td>\n",
       "      <td>675</td>\n",
       "    </tr>\n",
       "  </tbody>\n",
       "</table>\n",
       "</div>"
      ],
      "text/plain": [
       "                Predicted unknown  Predicted yes  Predicted no\n",
       "Actual unknown                628              0           214\n",
       "Actual yes                     25              0            46\n",
       "Actual no                     187              0           675"
      ]
     },
     "execution_count": 17,
     "metadata": {},
     "output_type": "execute_result"
    }
   ],
   "source": [
    "from sklearn.metrics import confusion_matrix, classification_report\n",
    "\n",
    "\n",
    "cm = confusion_matrix(Y_test[:, 0], Y_pred[:, 0])\n",
    "cm_df = pd.DataFrame(cm, index=['Actual unknown', 'Actual yes', 'Actual no'], columns=['Predicted unknown', 'Predicted yes', 'Predicted no'])\n",
    "cm_df"
   ]
  },
  {
   "cell_type": "code",
   "execution_count": 18,
   "metadata": {},
   "outputs": [
    {
     "data": {
      "text/html": [
       "<div>\n",
       "<style scoped>\n",
       "    .dataframe tbody tr th:only-of-type {\n",
       "        vertical-align: middle;\n",
       "    }\n",
       "\n",
       "    .dataframe tbody tr th {\n",
       "        vertical-align: top;\n",
       "    }\n",
       "\n",
       "    .dataframe thead th {\n",
       "        text-align: right;\n",
       "    }\n",
       "</style>\n",
       "<table border=\"1\" class=\"dataframe\">\n",
       "  <thead>\n",
       "    <tr style=\"text-align: right;\">\n",
       "      <th></th>\n",
       "      <th>Unknown</th>\n",
       "      <th>Yes</th>\n",
       "      <th>No</th>\n",
       "      <th>accuracy</th>\n",
       "      <th>macro avg</th>\n",
       "      <th>weighted avg</th>\n",
       "    </tr>\n",
       "  </thead>\n",
       "  <tbody>\n",
       "    <tr>\n",
       "      <th>precision</th>\n",
       "      <td>0.747619</td>\n",
       "      <td>0.0</td>\n",
       "      <td>0.721925</td>\n",
       "      <td>0.734085</td>\n",
       "      <td>0.489848</td>\n",
       "      <td>0.705236</td>\n",
       "    </tr>\n",
       "    <tr>\n",
       "      <th>recall</th>\n",
       "      <td>0.745843</td>\n",
       "      <td>0.0</td>\n",
       "      <td>0.783063</td>\n",
       "      <td>0.734085</td>\n",
       "      <td>0.509635</td>\n",
       "      <td>0.734085</td>\n",
       "    </tr>\n",
       "    <tr>\n",
       "      <th>f1-score</th>\n",
       "      <td>0.746730</td>\n",
       "      <td>0.0</td>\n",
       "      <td>0.751252</td>\n",
       "      <td>0.734085</td>\n",
       "      <td>0.499327</td>\n",
       "      <td>0.719057</td>\n",
       "    </tr>\n",
       "    <tr>\n",
       "      <th>support</th>\n",
       "      <td>842.000000</td>\n",
       "      <td>71.0</td>\n",
       "      <td>862.000000</td>\n",
       "      <td>0.734085</td>\n",
       "      <td>1775.000000</td>\n",
       "      <td>1775.000000</td>\n",
       "    </tr>\n",
       "  </tbody>\n",
       "</table>\n",
       "</div>"
      ],
      "text/plain": [
       "              Unknown   Yes          No  accuracy    macro avg  weighted avg\n",
       "precision    0.747619   0.0    0.721925  0.734085     0.489848      0.705236\n",
       "recall       0.745843   0.0    0.783063  0.734085     0.509635      0.734085\n",
       "f1-score     0.746730   0.0    0.751252  0.734085     0.499327      0.719057\n",
       "support    842.000000  71.0  862.000000  0.734085  1775.000000   1775.000000"
      ]
     },
     "execution_count": 18,
     "metadata": {},
     "output_type": "execute_result"
    }
   ],
   "source": [
    "clf = classification_report(Y_test[:, 0], Y_pred[:,0], output_dict = True, zero_division = 0)\n",
    "df = pd.DataFrame(clf)\n",
    "df.rename(columns={\"0\":\"Unknown\",\"1\":\"Yes\",\"2\":\"No\"})"
   ]
  },
  {
   "cell_type": "markdown",
   "metadata": {},
   "source": [
    "### Q3"
   ]
  },
  {
   "cell_type": "code",
   "execution_count": 19,
   "metadata": {},
   "outputs": [
    {
     "data": {
      "text/html": [
       "<div>\n",
       "<style scoped>\n",
       "    .dataframe tbody tr th:only-of-type {\n",
       "        vertical-align: middle;\n",
       "    }\n",
       "\n",
       "    .dataframe tbody tr th {\n",
       "        vertical-align: top;\n",
       "    }\n",
       "\n",
       "    .dataframe thead th {\n",
       "        text-align: right;\n",
       "    }\n",
       "</style>\n",
       "<table border=\"1\" class=\"dataframe\">\n",
       "  <thead>\n",
       "    <tr style=\"text-align: right;\">\n",
       "      <th></th>\n",
       "      <th>Predicted unknown</th>\n",
       "      <th>Predicted yes</th>\n",
       "      <th>Predicted no</th>\n",
       "    </tr>\n",
       "  </thead>\n",
       "  <tbody>\n",
       "    <tr>\n",
       "      <th>Actual unknown</th>\n",
       "      <td>596</td>\n",
       "      <td>228</td>\n",
       "      <td>0</td>\n",
       "    </tr>\n",
       "    <tr>\n",
       "      <th>Actual yes</th>\n",
       "      <td>186</td>\n",
       "      <td>758</td>\n",
       "      <td>0</td>\n",
       "    </tr>\n",
       "    <tr>\n",
       "      <th>Actual no</th>\n",
       "      <td>6</td>\n",
       "      <td>1</td>\n",
       "      <td>0</td>\n",
       "    </tr>\n",
       "  </tbody>\n",
       "</table>\n",
       "</div>"
      ],
      "text/plain": [
       "                Predicted unknown  Predicted yes  Predicted no\n",
       "Actual unknown                596            228             0\n",
       "Actual yes                    186            758             0\n",
       "Actual no                       6              1             0"
      ]
     },
     "execution_count": 19,
     "metadata": {},
     "output_type": "execute_result"
    }
   ],
   "source": [
    "cm = confusion_matrix(Y_test[:, 1], Y_pred[:, 1])\n",
    "cm_df = pd.DataFrame(cm, index=['Actual unknown','Actual yes', 'Actual no'], columns=['Predicted unknown','Predicted yes', 'Predicted no'])\n",
    "cm_df"
   ]
  },
  {
   "cell_type": "code",
   "execution_count": 20,
   "metadata": {},
   "outputs": [
    {
     "data": {
      "text/html": [
       "<div>\n",
       "<style scoped>\n",
       "    .dataframe tbody tr th:only-of-type {\n",
       "        vertical-align: middle;\n",
       "    }\n",
       "\n",
       "    .dataframe tbody tr th {\n",
       "        vertical-align: top;\n",
       "    }\n",
       "\n",
       "    .dataframe thead th {\n",
       "        text-align: right;\n",
       "    }\n",
       "</style>\n",
       "<table border=\"1\" class=\"dataframe\">\n",
       "  <thead>\n",
       "    <tr style=\"text-align: right;\">\n",
       "      <th></th>\n",
       "      <th>Unknown</th>\n",
       "      <th>Yes</th>\n",
       "      <th>No</th>\n",
       "      <th>accuracy</th>\n",
       "      <th>macro avg</th>\n",
       "      <th>weighted avg</th>\n",
       "    </tr>\n",
       "  </thead>\n",
       "  <tbody>\n",
       "    <tr>\n",
       "      <th>precision</th>\n",
       "      <td>0.756345</td>\n",
       "      <td>0.767984</td>\n",
       "      <td>0.0</td>\n",
       "      <td>0.762817</td>\n",
       "      <td>0.508110</td>\n",
       "      <td>0.759552</td>\n",
       "    </tr>\n",
       "    <tr>\n",
       "      <th>recall</th>\n",
       "      <td>0.723301</td>\n",
       "      <td>0.802966</td>\n",
       "      <td>0.0</td>\n",
       "      <td>0.762817</td>\n",
       "      <td>0.508756</td>\n",
       "      <td>0.762817</td>\n",
       "    </tr>\n",
       "    <tr>\n",
       "      <th>f1-score</th>\n",
       "      <td>0.739454</td>\n",
       "      <td>0.785085</td>\n",
       "      <td>0.0</td>\n",
       "      <td>0.762817</td>\n",
       "      <td>0.508180</td>\n",
       "      <td>0.760806</td>\n",
       "    </tr>\n",
       "    <tr>\n",
       "      <th>support</th>\n",
       "      <td>824.000000</td>\n",
       "      <td>944.000000</td>\n",
       "      <td>7.0</td>\n",
       "      <td>0.762817</td>\n",
       "      <td>1775.000000</td>\n",
       "      <td>1775.000000</td>\n",
       "    </tr>\n",
       "  </tbody>\n",
       "</table>\n",
       "</div>"
      ],
      "text/plain": [
       "              Unknown         Yes   No  accuracy    macro avg  weighted avg\n",
       "precision    0.756345    0.767984  0.0  0.762817     0.508110      0.759552\n",
       "recall       0.723301    0.802966  0.0  0.762817     0.508756      0.762817\n",
       "f1-score     0.739454    0.785085  0.0  0.762817     0.508180      0.760806\n",
       "support    824.000000  944.000000  7.0  0.762817  1775.000000   1775.000000"
      ]
     },
     "execution_count": 20,
     "metadata": {},
     "output_type": "execute_result"
    }
   ],
   "source": [
    "clf = classification_report(Y_test[:, 1], Y_pred[:, 1], output_dict = True, zero_division = 0)\n",
    "df = pd.DataFrame(clf)\n",
    "df.rename(columns={\"0\":\"Unknown\",\"1\":\"Yes\",\"2\":\"No\"})"
   ]
  },
  {
   "cell_type": "markdown",
   "metadata": {},
   "source": [
    "### Q4"
   ]
  },
  {
   "cell_type": "code",
   "execution_count": 21,
   "metadata": {},
   "outputs": [
    {
     "data": {
      "text/html": [
       "<div>\n",
       "<style scoped>\n",
       "    .dataframe tbody tr th:only-of-type {\n",
       "        vertical-align: middle;\n",
       "    }\n",
       "\n",
       "    .dataframe tbody tr th {\n",
       "        vertical-align: top;\n",
       "    }\n",
       "\n",
       "    .dataframe thead th {\n",
       "        text-align: right;\n",
       "    }\n",
       "</style>\n",
       "<table border=\"1\" class=\"dataframe\">\n",
       "  <thead>\n",
       "    <tr style=\"text-align: right;\">\n",
       "      <th></th>\n",
       "      <th>Predicted unknown</th>\n",
       "      <th>Predicted yes</th>\n",
       "      <th>Predicted no</th>\n",
       "    </tr>\n",
       "  </thead>\n",
       "  <tbody>\n",
       "    <tr>\n",
       "      <th>Actual unknown</th>\n",
       "      <td>626</td>\n",
       "      <td>0</td>\n",
       "      <td>201</td>\n",
       "    </tr>\n",
       "    <tr>\n",
       "      <th>Actual yes</th>\n",
       "      <td>43</td>\n",
       "      <td>0</td>\n",
       "      <td>85</td>\n",
       "    </tr>\n",
       "    <tr>\n",
       "      <th>Actual no</th>\n",
       "      <td>178</td>\n",
       "      <td>0</td>\n",
       "      <td>642</td>\n",
       "    </tr>\n",
       "  </tbody>\n",
       "</table>\n",
       "</div>"
      ],
      "text/plain": [
       "                Predicted unknown  Predicted yes  Predicted no\n",
       "Actual unknown                626              0           201\n",
       "Actual yes                     43              0            85\n",
       "Actual no                     178              0           642"
      ]
     },
     "execution_count": 21,
     "metadata": {},
     "output_type": "execute_result"
    }
   ],
   "source": [
    "cm = confusion_matrix(Y_test[:, 2], Y_pred[:, 2])\n",
    "cm_df = pd.DataFrame(cm, index=['Actual unknown', 'Actual yes', 'Actual no'], columns=['Predicted unknown', 'Predicted yes', 'Predicted no'])\n",
    "cm_df"
   ]
  },
  {
   "cell_type": "code",
   "execution_count": 22,
   "metadata": {},
   "outputs": [
    {
     "data": {
      "text/html": [
       "<div>\n",
       "<style scoped>\n",
       "    .dataframe tbody tr th:only-of-type {\n",
       "        vertical-align: middle;\n",
       "    }\n",
       "\n",
       "    .dataframe tbody tr th {\n",
       "        vertical-align: top;\n",
       "    }\n",
       "\n",
       "    .dataframe thead th {\n",
       "        text-align: right;\n",
       "    }\n",
       "</style>\n",
       "<table border=\"1\" class=\"dataframe\">\n",
       "  <thead>\n",
       "    <tr style=\"text-align: right;\">\n",
       "      <th></th>\n",
       "      <th>Unknown</th>\n",
       "      <th>Yes</th>\n",
       "      <th>No</th>\n",
       "      <th>accuracy</th>\n",
       "      <th>macro avg</th>\n",
       "      <th>weighted avg</th>\n",
       "    </tr>\n",
       "  </thead>\n",
       "  <tbody>\n",
       "    <tr>\n",
       "      <th>precision</th>\n",
       "      <td>0.739079</td>\n",
       "      <td>0.0</td>\n",
       "      <td>0.691810</td>\n",
       "      <td>0.714366</td>\n",
       "      <td>0.476963</td>\n",
       "      <td>0.663945</td>\n",
       "    </tr>\n",
       "    <tr>\n",
       "      <th>recall</th>\n",
       "      <td>0.756953</td>\n",
       "      <td>0.0</td>\n",
       "      <td>0.782927</td>\n",
       "      <td>0.714366</td>\n",
       "      <td>0.513293</td>\n",
       "      <td>0.714366</td>\n",
       "    </tr>\n",
       "    <tr>\n",
       "      <th>f1-score</th>\n",
       "      <td>0.747909</td>\n",
       "      <td>0.0</td>\n",
       "      <td>0.734554</td>\n",
       "      <td>0.714366</td>\n",
       "      <td>0.494154</td>\n",
       "      <td>0.687806</td>\n",
       "    </tr>\n",
       "    <tr>\n",
       "      <th>support</th>\n",
       "      <td>827.000000</td>\n",
       "      <td>128.0</td>\n",
       "      <td>820.000000</td>\n",
       "      <td>0.714366</td>\n",
       "      <td>1775.000000</td>\n",
       "      <td>1775.000000</td>\n",
       "    </tr>\n",
       "  </tbody>\n",
       "</table>\n",
       "</div>"
      ],
      "text/plain": [
       "              Unknown    Yes          No  accuracy    macro avg  weighted avg\n",
       "precision    0.739079    0.0    0.691810  0.714366     0.476963      0.663945\n",
       "recall       0.756953    0.0    0.782927  0.714366     0.513293      0.714366\n",
       "f1-score     0.747909    0.0    0.734554  0.714366     0.494154      0.687806\n",
       "support    827.000000  128.0  820.000000  0.714366  1775.000000   1775.000000"
      ]
     },
     "execution_count": 22,
     "metadata": {},
     "output_type": "execute_result"
    }
   ],
   "source": [
    "clf = classification_report(Y_test[:, 2], Y_pred[:,2], output_dict = True, zero_division = 0)\n",
    "df = pd.DataFrame(clf)\n",
    "df.rename(columns={\"0\":\"Unknown\",\"1\":\"Yes\",\"2\":\"No\"})"
   ]
  }
 ],
 "metadata": {
  "interpreter": {
   "hash": "aee8b7b246df8f9039afb4144a1f6fd8d2ca17a180786b69acc140d282b71a49"
  },
  "kernelspec": {
   "display_name": "Python 3.9.9 64-bit",
   "language": "python",
   "name": "python3"
  },
  "language_info": {
   "codemirror_mode": {
    "name": "ipython",
    "version": 3
   },
   "file_extension": ".py",
   "mimetype": "text/x-python",
   "name": "python",
   "nbconvert_exporter": "python",
   "pygments_lexer": "ipython3",
   "version": "3.9.9"
  },
  "orig_nbformat": 4
 },
 "nbformat": 4,
 "nbformat_minor": 2
}
